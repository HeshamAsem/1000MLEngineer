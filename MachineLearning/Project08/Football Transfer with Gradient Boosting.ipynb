{
 "cells": [
  {
   "cell_type": "markdown",
   "id": "4416beb0",
   "metadata": {},
   "source": [
    "## Regression model for Summer 22_Football Transfers Dataset\n",
    "\n",
    "\n",
    "### Table of Contents\n",
    "<ul>\n",
    "<li><a href=\"#import\">1) Importing packages and Dataset</a></li>\n",
    "    \n",
    "    \n",
    "<li><a href=\"#d1\">2) Data Preprocessing: </a>\n",
    "      <ul>  \n",
    "<li><a href=\"#d1\">a) Checking our data</a></li> \n",
    "<li><a href=\"#d2\">b) Cleaning our data</a></li>\n",
    "<li><a href=\"#d3\">c) Encoding our data</a></li>\n",
    "     </ul>    </li> \n",
    "\n",
    "<li><a href=\"#knn1\">3) Regression</a>\n",
    "    <ul>    \n",
    "  \n",
    "<li><a href=\"#knn1\">a) Gradient Boosting using SKLearn</a></li>\n",
    "    </ul></li>\n",
    "<li><a href=\"#knn1\">b) Evaluation of the model</a></li>\n",
    "    </ul></li> "
   ]
  },
  {
   "cell_type": "markdown",
   "id": "bcb5cc6b",
   "metadata": {},
   "source": [
    "## Importing libraries"
   ]
  },
  {
   "cell_type": "code",
   "execution_count": 1,
   "id": "be3ad635",
   "metadata": {
    "ExecuteTime": {
     "end_time": "2022-09-19T20:12:37.664432Z",
     "start_time": "2022-09-19T20:12:37.654355Z"
    }
   },
   "outputs": [],
   "source": [
    "import pandas as pd\n",
    "import matplotlib.pyplot as plt\n",
    "from sklearn import metrics\n",
    "import seaborn as sns\n",
    "import numpy as np"
   ]
  },
  {
   "cell_type": "code",
   "execution_count": 1,
   "id": "8adf0de5",
   "metadata": {
    "ExecuteTime": {
     "end_time": "2022-09-19T20:14:59.528265Z",
     "start_time": "2022-09-19T20:14:59.457064Z"
    }
   },
   "outputs": [
    {
     "data": {
      "application/javascript": [
       "\n",
       "        if (window._pyforest_update_imports_cell) { window._pyforest_update_imports_cell('import numpy as np'); }\n",
       "    "
      ],
      "text/plain": [
       "<IPython.core.display.Javascript object>"
      ]
     },
     "metadata": {},
     "output_type": "display_data"
    }
   ],
   "source": [
    "np.random.seed(300) # To give constant result "
   ]
  },
  {
   "cell_type": "markdown",
   "id": "73a0f66f",
   "metadata": {},
   "source": [
    "## Reading File"
   ]
  },
  {
   "cell_type": "code",
   "execution_count": 2,
   "id": "692db541",
   "metadata": {
    "ExecuteTime": {
     "end_time": "2022-09-19T20:15:01.693030Z",
     "start_time": "2022-09-19T20:15:01.383858Z"
    }
   },
   "outputs": [
    {
     "data": {
      "application/javascript": [
       "\n",
       "        if (window._pyforest_update_imports_cell) { window._pyforest_update_imports_cell('import pandas as pd\\nimport numpy as np'); }\n",
       "    "
      ],
      "text/plain": [
       "<IPython.core.display.Javascript object>"
      ]
     },
     "metadata": {},
     "output_type": "display_data"
    }
   ],
   "source": [
    "df=pd.read_csv('Summer22_FootballTransfers.csv')"
   ]
  },
  {
   "cell_type": "markdown",
   "id": "cb7280f6",
   "metadata": {},
   "source": [
    "<a id='Data Wrangling1'></a>\n",
    "## Data Preprocessing\n",
    "#### 1) Checking our data"
   ]
  },
  {
   "cell_type": "code",
   "execution_count": 3,
   "id": "98aa3db7",
   "metadata": {
    "ExecuteTime": {
     "end_time": "2022-09-19T20:15:09.121620Z",
     "start_time": "2022-09-19T20:15:09.080834Z"
    },
    "scrolled": true
   },
   "outputs": [
    {
     "name": "stdout",
     "output_type": "stream",
     "text": [
      "<class 'pandas.core.frame.DataFrame'>\n",
      "RangeIndex: 33625 entries, 0 to 33624\n",
      "Data columns (total 11 columns):\n",
      " #   Column               Non-Null Count  Dtype  \n",
      "---  ------               --------------  -----  \n",
      " 0   name                 33620 non-null  object \n",
      " 1   position             33615 non-null  object \n",
      " 2   age                  33477 non-null  float64\n",
      " 3   origin_club          33620 non-null  object \n",
      " 4   league_origin_club   32685 non-null  object \n",
      " 5   country_origin_club  32690 non-null  object \n",
      " 6   new_club             33615 non-null  object \n",
      " 7   league_new_club      28047 non-null  object \n",
      " 8   country_new_club     28051 non-null  object \n",
      " 9   cost                 33621 non-null  object \n",
      " 10  date_of_transfer     33625 non-null  object \n",
      "dtypes: float64(1), object(10)\n",
      "memory usage: 2.8+ MB\n"
     ]
    }
   ],
   "source": [
    "df.info()"
   ]
  },
  {
   "cell_type": "code",
   "execution_count": 5,
   "id": "186452ac",
   "metadata": {
    "ExecuteTime": {
     "end_time": "2022-09-19T20:15:21.060186Z",
     "start_time": "2022-09-19T20:15:21.049216Z"
    }
   },
   "outputs": [
    {
     "name": "stdout",
     "output_type": "stream",
     "text": [
      "data shape is  (33625, 11)\n"
     ]
    }
   ],
   "source": [
    "print('data shape is ',df.shape)"
   ]
  },
  {
   "cell_type": "code",
   "execution_count": 6,
   "id": "be2d6725",
   "metadata": {
    "ExecuteTime": {
     "end_time": "2022-09-19T20:15:22.475237Z",
     "start_time": "2022-09-19T20:15:22.409355Z"
    }
   },
   "outputs": [
    {
     "name": "stdout",
     "output_type": "stream",
     "text": [
      "There is 0 duplicated rows\n",
      "4% of data is NuLL\n"
     ]
    }
   ],
   "source": [
    "# Cheching if there are duplicated rows\n",
    "print('There is {} duplicated rows'.format(df.duplicated().sum()))\n",
    "\n",
    "# Cheching if there are Nulvalues\n",
    "print('{} of data is NuLL'.format(\n",
    "    str(round(df.isna().sum().sum() / df.size * 100))+'%'))"
   ]
  },
  {
   "cell_type": "code",
   "execution_count": 7,
   "id": "8510fd6c",
   "metadata": {
    "ExecuteTime": {
     "end_time": "2022-09-19T20:15:23.738255Z",
     "start_time": "2022-09-19T20:15:23.687749Z"
    }
   },
   "outputs": [],
   "source": [
    "# drop NunValues.\n",
    "df = df.dropna()\n",
    "df = df.reset_index(drop=True)"
   ]
  },
  {
   "cell_type": "code",
   "execution_count": 8,
   "id": "0d83a9c7",
   "metadata": {
    "ExecuteTime": {
     "end_time": "2022-09-19T20:15:25.414219Z",
     "start_time": "2022-09-19T20:15:25.399222Z"
    },
    "scrolled": true
   },
   "outputs": [
    {
     "data": {
      "text/html": [
       "<div>\n",
       "<style scoped>\n",
       "    .dataframe tbody tr th:only-of-type {\n",
       "        vertical-align: middle;\n",
       "    }\n",
       "\n",
       "    .dataframe tbody tr th {\n",
       "        vertical-align: top;\n",
       "    }\n",
       "\n",
       "    .dataframe thead th {\n",
       "        text-align: right;\n",
       "    }\n",
       "</style>\n",
       "<table border=\"1\" class=\"dataframe\">\n",
       "  <thead>\n",
       "    <tr style=\"text-align: right;\">\n",
       "      <th></th>\n",
       "      <th>name</th>\n",
       "      <th>position</th>\n",
       "      <th>age</th>\n",
       "      <th>origin_club</th>\n",
       "      <th>league_origin_club</th>\n",
       "      <th>country_origin_club</th>\n",
       "      <th>new_club</th>\n",
       "      <th>league_new_club</th>\n",
       "      <th>country_new_club</th>\n",
       "      <th>cost</th>\n",
       "      <th>date_of_transfer</th>\n",
       "    </tr>\n",
       "  </thead>\n",
       "  <tbody>\n",
       "    <tr>\n",
       "      <th>0</th>\n",
       "      <td>Amine Gouiri</td>\n",
       "      <td>Centre-Forward</td>\n",
       "      <td>22.0</td>\n",
       "      <td>OGC Nice</td>\n",
       "      <td>Ligue 1</td>\n",
       "      <td>France</td>\n",
       "      <td>Stade Rennais FC</td>\n",
       "      <td>Ligue 1</td>\n",
       "      <td>France</td>\n",
       "      <td>€42.00m</td>\n",
       "      <td>9/1/2022</td>\n",
       "    </tr>\n",
       "    <tr>\n",
       "      <th>1</th>\n",
       "      <td>Umar Sadiq</td>\n",
       "      <td>Centre-Forward</td>\n",
       "      <td>25.0</td>\n",
       "      <td>UD Almería</td>\n",
       "      <td>LaLiga</td>\n",
       "      <td>Spain</td>\n",
       "      <td>Real Sociedad</td>\n",
       "      <td>LaLiga</td>\n",
       "      <td>Spain</td>\n",
       "      <td>€18.00m</td>\n",
       "      <td>9/1/2022</td>\n",
       "    </tr>\n",
       "  </tbody>\n",
       "</table>\n",
       "</div>"
      ],
      "text/plain": [
       "           name        position   age origin_club league_origin_club  \\\n",
       "0  Amine Gouiri  Centre-Forward  22.0    OGC Nice            Ligue 1   \n",
       "1    Umar Sadiq  Centre-Forward  25.0  UD Almería             LaLiga   \n",
       "\n",
       "  country_origin_club          new_club league_new_club country_new_club  \\\n",
       "0              France  Stade Rennais FC         Ligue 1           France   \n",
       "1               Spain     Real Sociedad          LaLiga            Spain   \n",
       "\n",
       "      cost date_of_transfer  \n",
       "0  €42.00m         9/1/2022  \n",
       "1  €18.00m         9/1/2022  "
      ]
     },
     "execution_count": 8,
     "metadata": {},
     "output_type": "execute_result"
    }
   ],
   "source": [
    "# Cheching our data\n",
    "df.head(2)"
   ]
  },
  {
   "cell_type": "markdown",
   "id": "6f6ee109",
   "metadata": {},
   "source": [
    "<a id='d2'></a>\n",
    "#### 2) Cleaning our data\n"
   ]
  },
  {
   "cell_type": "code",
   "execution_count": 9,
   "id": "dd0db03c",
   "metadata": {
    "ExecuteTime": {
     "end_time": "2022-09-19T20:15:28.194034Z",
     "start_time": "2022-09-19T20:15:26.470985Z"
    }
   },
   "outputs": [
    {
     "data": {
      "application/javascript": [
       "\n",
       "        if (window._pyforest_update_imports_cell) { window._pyforest_update_imports_cell('import pandas as pd\\nimport numpy as np'); }\n",
       "    "
      ],
      "text/plain": [
       "<IPython.core.display.Javascript object>"
      ]
     },
     "metadata": {},
     "output_type": "display_data"
    }
   ],
   "source": [
    "# Converting cost column from str to float\n",
    "# df[\"cost\"]\n",
    "\n",
    "df[\"cost\"] = df[\"cost\"].str.replace(\"Th.\", \"000\", regex=True)\n",
    "df[\"cost\"] = df[\"cost\"].str.replace(\"m\", \"000000\", regex=True)\n",
    "df[\"cost\"] = df[\"cost\"].str.replace(\".\", \"\", regex=True)\n",
    "df[\"cost\"] = df[\"cost\"].str.replace(\"€\", \"\", regex=True)\n",
    "df['cost'] = df['cost'].astype('float')\n",
    "\n",
    "df[\"cost\"] = df[\"cost\"]/1e+06 # scaling cost column\n",
    "\n",
    "# df['date_of_transfer']\n",
    "df['month'] = pd.DatetimeIndex(df['date_of_transfer']).month # Extracting Month from Date of transfer."
   ]
  },
  {
   "cell_type": "code",
   "execution_count": 10,
   "id": "58f5749e",
   "metadata": {
    "ExecuteTime": {
     "end_time": "2022-09-19T20:15:28.223957Z",
     "start_time": "2022-09-19T20:15:28.196024Z"
    },
    "scrolled": true
   },
   "outputs": [
    {
     "name": "stdout",
     "output_type": "stream",
     "text": [
      "age\n",
      "25.0    141518.915\n",
      "24.0    124610.405\n",
      "22.0    117016.830\n",
      "26.0    104478.110\n",
      "23.0     86524.190\n",
      "21.0     84872.125\n",
      "27.0     84299.690\n",
      "29.0     70316.045\n",
      "28.0     67759.450\n",
      "20.0     62707.015\n",
      "30.0     48348.735\n",
      "19.0     31471.985\n",
      "31.0     26862.635\n",
      "33.0     18616.070\n",
      "18.0     15435.460\n",
      "32.0     15054.160\n",
      "34.0      4853.865\n",
      "35.0      3290.925\n",
      "17.0      1184.460\n",
      "37.0       458.365\n",
      "36.0       168.680\n",
      "39.0       102.615\n",
      "38.0         4.290\n",
      "16.0         2.960\n",
      "40.0         1.180\n",
      "41.0         0.260\n",
      "42.0         0.260\n",
      "43.0         0.150\n",
      "15.0         0.055\n",
      "45.0         0.010\n",
      "Name: cost, dtype: float64\n",
      "position\n",
      "Centre-Forward        219638.365\n",
      "Centre-Back           189401.615\n",
      "Central Midfield      146054.295\n",
      "Left Winger           104577.655\n",
      "Defensive Midfield     93753.360\n",
      "Right Winger           85331.315\n",
      "Left-Back              75724.170\n",
      "Attacking Midfield     74613.460\n",
      "Right-Back             53624.610\n",
      "Goalkeeper             40027.160\n",
      "Second Striker         17133.080\n",
      "Left Midfield           5077.855\n",
      "Right Midfield          3613.545\n",
      "attack                  1063.870\n",
      "defence                  308.250\n",
      "midfield                  17.290\n",
      "Name: cost, dtype: float64\n"
     ]
    }
   ],
   "source": [
    "# show column age and new club with group by\n",
    "df_age = df.groupby('age')['cost'].sum()\n",
    "df_age = df_age.sort_values(ascending=False)\n",
    "print(df_age)\n",
    "\n",
    "df_new_club = df.groupby('new_club')['cost'].sum()\n",
    "df_new_club = df_new_club.sort_values(ascending=False)\n",
    "\n",
    "df_position = df.groupby('position')['cost'].sum()\n",
    "df_position = df_position.sort_values(ascending=False)\n",
    "print(df_position)"
   ]
  },
  {
   "cell_type": "code",
   "execution_count": 11,
   "id": "e745e678",
   "metadata": {
    "ExecuteTime": {
     "end_time": "2022-09-19T20:15:29.890611Z",
     "start_time": "2022-09-19T20:15:29.880273Z"
    }
   },
   "outputs": [],
   "source": [
    "# df['position']\n",
    "\n",
    "\"\"\"\n",
    "attack -> Centre-Forward\n",
    "defence -> Centre-Back\n",
    "midfield -> Central Midfield\n",
    "\"\"\"\n",
    "# Handling Position column \n",
    "df['position'].replace('attack', 'Centre-Forward', inplace=True)\n",
    "df['position'].replace('defence', 'Centre-Back', inplace=True)\n",
    "df['position'].replace('midfield', 'Central Midfield', inplace=True)"
   ]
  },
  {
   "cell_type": "code",
   "execution_count": 12,
   "id": "331127b7",
   "metadata": {
    "ExecuteTime": {
     "end_time": "2022-09-19T20:15:36.250260Z",
     "start_time": "2022-09-19T20:15:36.230304Z"
    }
   },
   "outputs": [
    {
     "data": {
      "text/html": [
       "<div>\n",
       "<style scoped>\n",
       "    .dataframe tbody tr th:only-of-type {\n",
       "        vertical-align: middle;\n",
       "    }\n",
       "\n",
       "    .dataframe tbody tr th {\n",
       "        vertical-align: top;\n",
       "    }\n",
       "\n",
       "    .dataframe thead th {\n",
       "        text-align: right;\n",
       "    }\n",
       "</style>\n",
       "<table border=\"1\" class=\"dataframe\">\n",
       "  <thead>\n",
       "    <tr style=\"text-align: right;\">\n",
       "      <th></th>\n",
       "      <th>name</th>\n",
       "      <th>position</th>\n",
       "      <th>age</th>\n",
       "      <th>origin_club</th>\n",
       "      <th>league_origin_club</th>\n",
       "      <th>country_origin_club</th>\n",
       "      <th>new_club</th>\n",
       "      <th>league_new_club</th>\n",
       "      <th>country_new_club</th>\n",
       "      <th>cost</th>\n",
       "      <th>date_of_transfer</th>\n",
       "      <th>month</th>\n",
       "    </tr>\n",
       "  </thead>\n",
       "  <tbody>\n",
       "    <tr>\n",
       "      <th>0</th>\n",
       "      <td>Amine Gouiri</td>\n",
       "      <td>Centre-Forward</td>\n",
       "      <td>22.0</td>\n",
       "      <td>OGC Nice</td>\n",
       "      <td>Ligue 1</td>\n",
       "      <td>France</td>\n",
       "      <td>Stade Rennais FC</td>\n",
       "      <td>Ligue 1</td>\n",
       "      <td>France</td>\n",
       "      <td>4200.0</td>\n",
       "      <td>9/1/2022</td>\n",
       "      <td>9</td>\n",
       "    </tr>\n",
       "    <tr>\n",
       "      <th>1</th>\n",
       "      <td>Umar Sadiq</td>\n",
       "      <td>Centre-Forward</td>\n",
       "      <td>25.0</td>\n",
       "      <td>UD Almería</td>\n",
       "      <td>LaLiga</td>\n",
       "      <td>Spain</td>\n",
       "      <td>Real Sociedad</td>\n",
       "      <td>LaLiga</td>\n",
       "      <td>Spain</td>\n",
       "      <td>1800.0</td>\n",
       "      <td>9/1/2022</td>\n",
       "      <td>9</td>\n",
       "    </tr>\n",
       "  </tbody>\n",
       "</table>\n",
       "</div>"
      ],
      "text/plain": [
       "           name        position   age origin_club league_origin_club  \\\n",
       "0  Amine Gouiri  Centre-Forward  22.0    OGC Nice            Ligue 1   \n",
       "1    Umar Sadiq  Centre-Forward  25.0  UD Almería             LaLiga   \n",
       "\n",
       "  country_origin_club          new_club league_new_club country_new_club  \\\n",
       "0              France  Stade Rennais FC         Ligue 1           France   \n",
       "1               Spain     Real Sociedad          LaLiga            Spain   \n",
       "\n",
       "     cost date_of_transfer  month  \n",
       "0  4200.0         9/1/2022      9  \n",
       "1  1800.0         9/1/2022      9  "
      ]
     },
     "execution_count": 12,
     "metadata": {},
     "output_type": "execute_result"
    }
   ],
   "source": [
    "df.head(2)"
   ]
  },
  {
   "cell_type": "code",
   "execution_count": 13,
   "id": "a64a0b8e",
   "metadata": {
    "ExecuteTime": {
     "end_time": "2022-09-19T20:15:37.317223Z",
     "start_time": "2022-09-19T20:15:37.311240Z"
    }
   },
   "outputs": [],
   "source": [
    "df = df.drop(columns=[\"name\", \"date_of_transfer\"], axis=1) # drop some columns"
   ]
  },
  {
   "cell_type": "code",
   "execution_count": 15,
   "id": "10dc0321",
   "metadata": {
    "ExecuteTime": {
     "end_time": "2022-09-19T20:15:46.161138Z",
     "start_time": "2022-09-19T20:15:45.983753Z"
    },
    "scrolled": true
   },
   "outputs": [
    {
     "data": {
      "image/png": "[encoded data removed]",
      "text/plain": [
       "<Figure size 864x864 with 1 Axes>"
      ]
     },
     "metadata": {
      "needs_background": "light"
     },
     "output_type": "display_data"
    }
   ],
   "source": [
    "# check outliers for each position \n",
    "import matplotlib.pyplot as plt\n",
    "import seaborn as sns\n",
    "plt.figure(figsize=(12,12))\n",
    "# use the scatterplot function to build the bubble map\n",
    "sns.scatterplot(data=df, y=\"position\", x=\"cost\", legend=False, sizes=(20, 2000))\n",
    "\n",
    "# show the graph\n",
    "plt.show();"
   ]
  },
  {
   "cell_type": "code",
   "execution_count": 16,
   "id": "58dca857",
   "metadata": {
    "ExecuteTime": {
     "end_time": "2022-09-19T20:15:48.919246Z",
     "start_time": "2022-09-19T20:15:48.785471Z"
    },
    "scrolled": false
   },
   "outputs": [
    {
     "data": {
      "application/javascript": [
       "\n",
       "        if (window._pyforest_update_imports_cell) { window._pyforest_update_imports_cell('import pandas as pd\\nimport numpy as np'); }\n",
       "    "
      ],
      "text/plain": [
       "<IPython.core.display.Javascript object>"
      ]
     },
     "metadata": {},
     "output_type": "display_data"
    },
    {
     "data": {
      "application/javascript": [
       "\n",
       "        if (window._pyforest_update_imports_cell) { window._pyforest_update_imports_cell('import pandas as pd\\nimport numpy as np'); }\n",
       "    "
      ],
      "text/plain": [
       "<IPython.core.display.Javascript object>"
      ]
     },
     "metadata": {},
     "output_type": "display_data"
    },
    {
     "data": {
      "application/javascript": [
       "\n",
       "        if (window._pyforest_update_imports_cell) { window._pyforest_update_imports_cell('import pandas as pd\\nimport numpy as np'); }\n",
       "    "
      ],
      "text/plain": [
       "<IPython.core.display.Javascript object>"
      ]
     },
     "metadata": {},
     "output_type": "display_data"
    },
    {
     "data": {
      "text/plain": [
       "Text(0.5, 1.0, 'Distribution of transfers by cost range')"
      ]
     },
     "execution_count": 16,
     "metadata": {},
     "output_type": "execute_result"
    },
    {
     "data": {
      "image/png": "[encoded data removed]",
      "text/plain": [
       "<Figure size 504x504 with 1 Axes>"
      ]
     },
     "metadata": {},
     "output_type": "display_data"
    }
   ],
   "source": [
    "#Creating cost categories\n",
    "bins = [-np.inf,0, 100000/1e+06, 250000/1e+06, 500000/1e+06, 750000/1e+06,1000000/1e+06,1500000/1e+06,3000000/1e+06,5000000/1e+06,10000000/1e+06 ,np.inf]\n",
    "names = ['0','0-100k', '100k-250k', '250k-500k', '500k-750k', '750k-1m','1m-1.5m','1.5m-3m','3m-5m','5m-10m','10m+']\n",
    "\n",
    "plt.figure(figsize=(7,7))\n",
    "v=pd.cut(df['cost'], bins, labels=names).value_counts()\n",
    "#print(v)\n",
    "\n",
    "plt.pie(v, labels=v.index, labeldistance=1.1,autopct='%1.0f%%',textprops={'fontsize': 13});\n",
    "plt.title(\"Distribution of transfers by cost range\",fontsize=15)"
   ]
  },
  {
   "cell_type": "code",
   "execution_count": 17,
   "id": "2c57e20f",
   "metadata": {
    "ExecuteTime": {
     "end_time": "2022-09-19T20:15:50.996161Z",
     "start_time": "2022-09-19T20:15:50.911128Z"
    }
   },
   "outputs": [
    {
     "data": {
      "text/plain": [
       "<AxesSubplot:xlabel='cost'>"
      ]
     },
     "execution_count": 17,
     "metadata": {},
     "output_type": "execute_result"
    },
    {
     "data": {
      "image/png": "[encoded data removed]",
      "text/plain": [
       "<Figure size 432x288 with 1 Axes>"
      ]
     },
     "metadata": {
      "needs_background": "light"
     },
     "output_type": "display_data"
    }
   ],
   "source": [
    "sns.boxplot(data=df,x='cost',palette='rainbow',orient='h') # check outliers of cost"
   ]
  },
  {
   "cell_type": "code",
   "execution_count": 18,
   "id": "b79c453f",
   "metadata": {
    "ExecuteTime": {
     "end_time": "2022-09-19T20:15:53.252219Z",
     "start_time": "2022-09-19T20:15:53.239719Z"
    }
   },
   "outputs": [
    {
     "data": {
      "text/plain": [
       "position               20\n",
       "age                    20\n",
       "origin_club            20\n",
       "league_origin_club     20\n",
       "country_origin_club    20\n",
       "new_club               20\n",
       "league_new_club        20\n",
       "country_new_club       20\n",
       "cost                   20\n",
       "month                  20\n",
       "dtype: int64"
      ]
     },
     "execution_count": 18,
     "metadata": {},
     "output_type": "execute_result"
    }
   ],
   "source": [
    "df[df['cost'] >4000].count() # show count of outliers above 4000"
   ]
  },
  {
   "cell_type": "code",
   "execution_count": 19,
   "id": "bd3bdff6",
   "metadata": {
    "ExecuteTime": {
     "end_time": "2022-09-19T20:15:54.979508Z",
     "start_time": "2022-09-19T20:15:54.855439Z"
    }
   },
   "outputs": [
    {
     "data": {
      "text/plain": [
       "<AxesSubplot:xlabel='age'>"
      ]
     },
     "execution_count": 19,
     "metadata": {},
     "output_type": "execute_result"
    },
    {
     "data": {
      "image/png": "[encoded data removed]",
      "text/plain": [
       "<Figure size 432x288 with 1 Axes>"
      ]
     },
     "metadata": {
      "needs_background": "light"
     },
     "output_type": "display_data"
    }
   ],
   "source": [
    "sns.boxplot(data=df,x='age',palette='rainbow',orient='h') # check outliers of age"
   ]
  },
  {
   "cell_type": "code",
   "execution_count": 21,
   "id": "21ee2497",
   "metadata": {
    "ExecuteTime": {
     "end_time": "2022-09-19T20:16:04.475108Z",
     "start_time": "2022-09-19T20:16:04.456156Z"
    }
   },
   "outputs": [
    {
     "data": {
      "text/html": [
       "<div>\n",
       "<style scoped>\n",
       "    .dataframe tbody tr th:only-of-type {\n",
       "        vertical-align: middle;\n",
       "    }\n",
       "\n",
       "    .dataframe tbody tr th {\n",
       "        vertical-align: top;\n",
       "    }\n",
       "\n",
       "    .dataframe thead th {\n",
       "        text-align: right;\n",
       "    }\n",
       "</style>\n",
       "<table border=\"1\" class=\"dataframe\">\n",
       "  <thead>\n",
       "    <tr style=\"text-align: right;\">\n",
       "      <th></th>\n",
       "      <th>position</th>\n",
       "      <th>age</th>\n",
       "      <th>origin_club</th>\n",
       "      <th>league_origin_club</th>\n",
       "      <th>country_origin_club</th>\n",
       "      <th>new_club</th>\n",
       "      <th>league_new_club</th>\n",
       "      <th>country_new_club</th>\n",
       "      <th>cost</th>\n",
       "      <th>month</th>\n",
       "    </tr>\n",
       "  </thead>\n",
       "  <tbody>\n",
       "    <tr>\n",
       "      <th>1</th>\n",
       "      <td>Centre-Forward</td>\n",
       "      <td>25.0</td>\n",
       "      <td>UD Almería</td>\n",
       "      <td>LaLiga</td>\n",
       "      <td>Spain</td>\n",
       "      <td>Real Sociedad</td>\n",
       "      <td>LaLiga</td>\n",
       "      <td>Spain</td>\n",
       "      <td>1800.0</td>\n",
       "      <td>9</td>\n",
       "    </tr>\n",
       "    <tr>\n",
       "      <th>3</th>\n",
       "      <td>Centre-Back</td>\n",
       "      <td>27.0</td>\n",
       "      <td>Borussia Dortmund</td>\n",
       "      <td>Bundesliga</td>\n",
       "      <td>Germany</td>\n",
       "      <td>Manchester City</td>\n",
       "      <td>Premier League</td>\n",
       "      <td>England</td>\n",
       "      <td>3000.0</td>\n",
       "      <td>9</td>\n",
       "    </tr>\n",
       "    <tr>\n",
       "      <th>4</th>\n",
       "      <td>Centre-Back</td>\n",
       "      <td>24.0</td>\n",
       "      <td>Stade Reims</td>\n",
       "      <td>Ligue 1</td>\n",
       "      <td>France</td>\n",
       "      <td>Leicester City</td>\n",
       "      <td>Premier League</td>\n",
       "      <td>England</td>\n",
       "      <td>1000.0</td>\n",
       "      <td>9</td>\n",
       "    </tr>\n",
       "    <tr>\n",
       "      <th>5</th>\n",
       "      <td>Defensive Midfield</td>\n",
       "      <td>27.0</td>\n",
       "      <td>Wolverhampton Wanderers</td>\n",
       "      <td>Premier League</td>\n",
       "      <td>England</td>\n",
       "      <td>Aston Villa</td>\n",
       "      <td>Premier League</td>\n",
       "      <td>England</td>\n",
       "      <td>2800.0</td>\n",
       "      <td>9</td>\n",
       "    </tr>\n",
       "    <tr>\n",
       "      <th>6</th>\n",
       "      <td>Centre-Forward</td>\n",
       "      <td>28.0</td>\n",
       "      <td>Stade Rennais FC</td>\n",
       "      <td>Ligue 1</td>\n",
       "      <td>France</td>\n",
       "      <td>OGC Nice</td>\n",
       "      <td>Ligue 1</td>\n",
       "      <td>France</td>\n",
       "      <td>1800.0</td>\n",
       "      <td>9</td>\n",
       "    </tr>\n",
       "  </tbody>\n",
       "</table>\n",
       "</div>"
      ],
      "text/plain": [
       "             position   age              origin_club league_origin_club  \\\n",
       "1      Centre-Forward  25.0               UD Almería             LaLiga   \n",
       "3         Centre-Back  27.0        Borussia Dortmund         Bundesliga   \n",
       "4         Centre-Back  24.0              Stade Reims            Ligue 1   \n",
       "5  Defensive Midfield  27.0  Wolverhampton Wanderers     Premier League   \n",
       "6      Centre-Forward  28.0         Stade Rennais FC            Ligue 1   \n",
       "\n",
       "  country_origin_club         new_club league_new_club country_new_club  \\\n",
       "1               Spain    Real Sociedad          LaLiga            Spain   \n",
       "3             Germany  Manchester City  Premier League          England   \n",
       "4              France   Leicester City  Premier League          England   \n",
       "5             England      Aston Villa  Premier League          England   \n",
       "6              France         OGC Nice         Ligue 1           France   \n",
       "\n",
       "     cost  month  \n",
       "1  1800.0      9  \n",
       "3  3000.0      9  \n",
       "4  1000.0      9  \n",
       "5  2800.0      9  \n",
       "6  1800.0      9  "
      ]
     },
     "execution_count": 21,
     "metadata": {},
     "output_type": "execute_result"
    }
   ],
   "source": [
    "# drop for cost and age outliers\n",
    "df.drop(df[df['cost'] >4000].index, inplace = True) \n",
    "df.drop(df[df['age'] >40].index, inplace = True)\n",
    "df.head()"
   ]
  },
  {
   "cell_type": "code",
   "execution_count": 21,
   "id": "b003e71b",
   "metadata": {
    "ExecuteTime": {
     "end_time": "2022-09-19T19:55:24.530529Z",
     "start_time": "2022-09-19T19:55:24.437401Z"
    },
    "scrolled": true
   },
   "outputs": [
    {
     "data": {
      "text/plain": [
       "<AxesSubplot:xlabel='cost'>"
      ]
     },
     "execution_count": 21,
     "metadata": {},
     "output_type": "execute_result"
    },
    {
     "data": {
      "image/png": "[encoded data removed]",
      "text/plain": [
       "<Figure size 432x288 with 1 Axes>"
      ]
     },
     "metadata": {
      "needs_background": "light"
     },
     "output_type": "display_data"
    }
   ],
   "source": [
    "sns.boxplot(data=df,x='cost',palette='rainbow',orient='h') # checking cost After dropping outliers"
   ]
  },
  {
   "cell_type": "code",
   "execution_count": 22,
   "id": "65e92e2a",
   "metadata": {
    "ExecuteTime": {
     "end_time": "2022-09-19T19:55:24.719559Z",
     "start_time": "2022-09-19T19:55:24.532217Z"
    }
   },
   "outputs": [
    {
     "data": {
      "image/png": "[encoded data removed]",
      "text/plain": [
       "<Figure size 864x864 with 1 Axes>"
      ]
     },
     "metadata": {
      "needs_background": "light"
     },
     "output_type": "display_data"
    }
   ],
   "source": [
    "# checking position After dropping outliers\n",
    "import matplotlib.pyplot as plt\n",
    "import seaborn as sns\n",
    "plt.figure(figsize=(12,12))\n",
    "# use the scatterplot function to build the bubble map\n",
    "sns.scatterplot(data=df, y=\"position\", x=\"cost\", legend=False, sizes=(20, 2000))\n",
    "\n",
    "# show the graph\n",
    "plt.show()"
   ]
  },
  {
   "cell_type": "code",
   "execution_count": 23,
   "id": "b50362ac",
   "metadata": {
    "ExecuteTime": {
     "end_time": "2022-09-19T19:55:24.797841Z",
     "start_time": "2022-09-19T19:55:24.720555Z"
    }
   },
   "outputs": [
    {
     "data": {
      "text/plain": [
       "<AxesSubplot:xlabel='age'>"
      ]
     },
     "execution_count": 23,
     "metadata": {},
     "output_type": "execute_result"
    },
    {
     "data": {
      "image/png": "[encoded data removed]",
      "text/plain": [
       "<Figure size 432x288 with 1 Axes>"
      ]
     },
     "metadata": {
      "needs_background": "light"
     },
     "output_type": "display_data"
    }
   ],
   "source": [
    "sns.boxplot(data=df,x='age',palette='rainbow',orient='h') # checking age After dropping outliers"
   ]
  },
  {
   "cell_type": "code",
   "execution_count": 22,
   "id": "ceb507ab",
   "metadata": {
    "ExecuteTime": {
     "end_time": "2022-09-19T20:16:12.713025Z",
     "start_time": "2022-09-19T20:16:12.696163Z"
    },
    "scrolled": true
   },
   "outputs": [
    {
     "data": {
      "text/plain": [
       "(26994, 10)"
      ]
     },
     "execution_count": 22,
     "metadata": {},
     "output_type": "execute_result"
    }
   ],
   "source": [
    "df.shape # shape of data after preprocessing"
   ]
  },
  {
   "cell_type": "markdown",
   "id": "f5a5e6ac",
   "metadata": {
    "ExecuteTime": {
     "end_time": "2022-09-13T17:37:08.225841Z",
     "start_time": "2022-09-13T17:37:08.219857Z"
    }
   },
   "source": [
    "<a id='d3'></a>\n",
    "#### 3) Encoding our data"
   ]
  },
  {
   "cell_type": "code",
   "execution_count": 23,
   "id": "952a19c3",
   "metadata": {
    "ExecuteTime": {
     "end_time": "2022-09-19T20:16:14.253025Z",
     "start_time": "2022-09-19T20:16:14.127125Z"
    },
    "scrolled": false
   },
   "outputs": [
    {
     "data": {
      "text/html": [
       "<div>\n",
       "<style scoped>\n",
       "    .dataframe tbody tr th:only-of-type {\n",
       "        vertical-align: middle;\n",
       "    }\n",
       "\n",
       "    .dataframe tbody tr th {\n",
       "        vertical-align: top;\n",
       "    }\n",
       "\n",
       "    .dataframe thead th {\n",
       "        text-align: right;\n",
       "    }\n",
       "</style>\n",
       "<table border=\"1\" class=\"dataframe\">\n",
       "  <thead>\n",
       "    <tr style=\"text-align: right;\">\n",
       "      <th></th>\n",
       "      <th>position</th>\n",
       "      <th>age</th>\n",
       "      <th>origin_club</th>\n",
       "      <th>league_origin_club</th>\n",
       "      <th>country_origin_club</th>\n",
       "      <th>new_club</th>\n",
       "      <th>league_new_club</th>\n",
       "      <th>country_new_club</th>\n",
       "      <th>cost</th>\n",
       "      <th>month</th>\n",
       "    </tr>\n",
       "  </thead>\n",
       "  <tbody>\n",
       "    <tr>\n",
       "      <th>1</th>\n",
       "      <td>3</td>\n",
       "      <td>25.0</td>\n",
       "      <td>5124</td>\n",
       "      <td>177</td>\n",
       "      <td>128</td>\n",
       "      <td>4578</td>\n",
       "      <td>191</td>\n",
       "      <td>117</td>\n",
       "      <td>1800.0</td>\n",
       "      <td>9</td>\n",
       "    </tr>\n",
       "    <tr>\n",
       "      <th>3</th>\n",
       "      <td>2</td>\n",
       "      <td>27.0</td>\n",
       "      <td>889</td>\n",
       "      <td>66</td>\n",
       "      <td>49</td>\n",
       "      <td>3656</td>\n",
       "      <td>302</td>\n",
       "      <td>39</td>\n",
       "      <td>3000.0</td>\n",
       "      <td>9</td>\n",
       "    </tr>\n",
       "    <tr>\n",
       "      <th>4</th>\n",
       "      <td>2</td>\n",
       "      <td>24.0</td>\n",
       "      <td>4921</td>\n",
       "      <td>206</td>\n",
       "      <td>46</td>\n",
       "      <td>3472</td>\n",
       "      <td>302</td>\n",
       "      <td>39</td>\n",
       "      <td>1000.0</td>\n",
       "      <td>9</td>\n",
       "    </tr>\n",
       "    <tr>\n",
       "      <th>5</th>\n",
       "      <td>4</td>\n",
       "      <td>27.0</td>\n",
       "      <td>5501</td>\n",
       "      <td>299</td>\n",
       "      <td>38</td>\n",
       "      <td>701</td>\n",
       "      <td>302</td>\n",
       "      <td>39</td>\n",
       "      <td>2800.0</td>\n",
       "      <td>9</td>\n",
       "    </tr>\n",
       "    <tr>\n",
       "      <th>6</th>\n",
       "      <td>3</td>\n",
       "      <td>28.0</td>\n",
       "      <td>4923</td>\n",
       "      <td>206</td>\n",
       "      <td>46</td>\n",
       "      <td>4108</td>\n",
       "      <td>221</td>\n",
       "      <td>45</td>\n",
       "      <td>1800.0</td>\n",
       "      <td>9</td>\n",
       "    </tr>\n",
       "  </tbody>\n",
       "</table>\n",
       "</div>"
      ],
      "text/plain": [
       "   position   age  origin_club  league_origin_club  country_origin_club  \\\n",
       "1         3  25.0         5124                 177                  128   \n",
       "3         2  27.0          889                  66                   49   \n",
       "4         2  24.0         4921                 206                   46   \n",
       "5         4  27.0         5501                 299                   38   \n",
       "6         3  28.0         4923                 206                   46   \n",
       "\n",
       "   new_club  league_new_club  country_new_club    cost  month  \n",
       "1      4578              191               117  1800.0      9  \n",
       "3      3656              302                39  3000.0      9  \n",
       "4      3472              302                39  1000.0      9  \n",
       "5       701              302                39  2800.0      9  \n",
       "6      4108              221                45  1800.0      9  "
      ]
     },
     "execution_count": 23,
     "metadata": {},
     "output_type": "execute_result"
    }
   ],
   "source": [
    "# Encoding categorical columns \n",
    "from sklearn.preprocessing import LabelEncoder\n",
    "encoder = LabelEncoder()\n",
    "\n",
    "\n",
    "to_encode = ['position', 'origin_club', 'new_club', 'league_origin_club','league_new_club', \"country_origin_club\", \"country_new_club\"]\n",
    "\n",
    "for col in to_encode:\n",
    "    df[col] = encoder.fit_transform(df[col])\n",
    "    col = {index: label for index, label in enumerate(encoder.classes_)}\n",
    "\n",
    "df.head()"
   ]
  },
  {
   "cell_type": "code",
   "execution_count": 24,
   "id": "159a689d",
   "metadata": {
    "ExecuteTime": {
     "end_time": "2022-09-19T20:16:18.700717Z",
     "start_time": "2022-09-19T20:16:18.511222Z"
    },
    "scrolled": true
   },
   "outputs": [
    {
     "data": {
      "image/png": "[encoded data removed]",
      "text/plain": [
       "<Figure size 432x288 with 2 Axes>"
      ]
     },
     "metadata": {
      "needs_background": "light"
     },
     "output_type": "display_data"
    }
   ],
   "source": [
    "# check of correlation\n",
    "sns.heatmap(df.corr().abs())\n",
    "plt.show()"
   ]
  },
  {
   "cell_type": "markdown",
   "id": "61ef0a42",
   "metadata": {},
   "source": [
    "<a id='d4'></a>\n",
    "#### 4) Scaling our data"
   ]
  },
  {
   "cell_type": "code",
   "execution_count": 25,
   "id": "73d0e9ff",
   "metadata": {
    "ExecuteTime": {
     "end_time": "2022-09-19T20:16:21.885071Z",
     "start_time": "2022-09-19T20:16:21.880081Z"
    }
   },
   "outputs": [],
   "source": [
    "df_3 = df.copy()"
   ]
  },
  {
   "cell_type": "code",
   "execution_count": 26,
   "id": "ac6f312c",
   "metadata": {
    "ExecuteTime": {
     "end_time": "2022-09-19T20:16:22.537365Z",
     "start_time": "2022-09-19T20:16:22.479988Z"
    },
    "scrolled": true
   },
   "outputs": [
    {
     "data": {
      "text/html": [
       "<div>\n",
       "<style scoped>\n",
       "    .dataframe tbody tr th:only-of-type {\n",
       "        vertical-align: middle;\n",
       "    }\n",
       "\n",
       "    .dataframe tbody tr th {\n",
       "        vertical-align: top;\n",
       "    }\n",
       "\n",
       "    .dataframe thead th {\n",
       "        text-align: right;\n",
       "    }\n",
       "</style>\n",
       "<table border=\"1\" class=\"dataframe\">\n",
       "  <thead>\n",
       "    <tr style=\"text-align: right;\">\n",
       "      <th></th>\n",
       "      <th>position</th>\n",
       "      <th>age</th>\n",
       "      <th>origin_club</th>\n",
       "      <th>league_origin_club</th>\n",
       "      <th>country_origin_club</th>\n",
       "      <th>new_club</th>\n",
       "      <th>league_new_club</th>\n",
       "      <th>country_new_club</th>\n",
       "      <th>cost</th>\n",
       "      <th>month</th>\n",
       "    </tr>\n",
       "  </thead>\n",
       "  <tbody>\n",
       "    <tr>\n",
       "      <th>1</th>\n",
       "      <td>0.250000</td>\n",
       "      <td>0.40</td>\n",
       "      <td>0.915327</td>\n",
       "      <td>0.389868</td>\n",
       "      <td>0.847682</td>\n",
       "      <td>0.745967</td>\n",
       "      <td>0.415217</td>\n",
       "      <td>0.847826</td>\n",
       "      <td>0.449999</td>\n",
       "      <td>1.0</td>\n",
       "    </tr>\n",
       "    <tr>\n",
       "      <th>3</th>\n",
       "      <td>0.166667</td>\n",
       "      <td>0.48</td>\n",
       "      <td>0.158807</td>\n",
       "      <td>0.145374</td>\n",
       "      <td>0.324503</td>\n",
       "      <td>0.595731</td>\n",
       "      <td>0.656522</td>\n",
       "      <td>0.282609</td>\n",
       "      <td>0.749999</td>\n",
       "      <td>1.0</td>\n",
       "    </tr>\n",
       "    <tr>\n",
       "      <th>4</th>\n",
       "      <td>0.166667</td>\n",
       "      <td>0.36</td>\n",
       "      <td>0.879064</td>\n",
       "      <td>0.453744</td>\n",
       "      <td>0.304636</td>\n",
       "      <td>0.565749</td>\n",
       "      <td>0.656522</td>\n",
       "      <td>0.282609</td>\n",
       "      <td>0.249998</td>\n",
       "      <td>1.0</td>\n",
       "    </tr>\n",
       "    <tr>\n",
       "      <th>5</th>\n",
       "      <td>0.333333</td>\n",
       "      <td>0.48</td>\n",
       "      <td>0.982672</td>\n",
       "      <td>0.658590</td>\n",
       "      <td>0.251656</td>\n",
       "      <td>0.114225</td>\n",
       "      <td>0.656522</td>\n",
       "      <td>0.282609</td>\n",
       "      <td>0.699999</td>\n",
       "      <td>1.0</td>\n",
       "    </tr>\n",
       "    <tr>\n",
       "      <th>6</th>\n",
       "      <td>0.250000</td>\n",
       "      <td>0.52</td>\n",
       "      <td>0.879421</td>\n",
       "      <td>0.453744</td>\n",
       "      <td>0.304636</td>\n",
       "      <td>0.669382</td>\n",
       "      <td>0.480435</td>\n",
       "      <td>0.326087</td>\n",
       "      <td>0.449999</td>\n",
       "      <td>1.0</td>\n",
       "    </tr>\n",
       "  </tbody>\n",
       "</table>\n",
       "</div>"
      ],
      "text/plain": [
       "   position   age  origin_club  league_origin_club  country_origin_club  \\\n",
       "1  0.250000  0.40     0.915327            0.389868             0.847682   \n",
       "3  0.166667  0.48     0.158807            0.145374             0.324503   \n",
       "4  0.166667  0.36     0.879064            0.453744             0.304636   \n",
       "5  0.333333  0.48     0.982672            0.658590             0.251656   \n",
       "6  0.250000  0.52     0.879421            0.453744             0.304636   \n",
       "\n",
       "   new_club  league_new_club  country_new_club      cost  month  \n",
       "1  0.745967         0.415217          0.847826  0.449999    1.0  \n",
       "3  0.595731         0.656522          0.282609  0.749999    1.0  \n",
       "4  0.565749         0.656522          0.282609  0.249998    1.0  \n",
       "5  0.114225         0.656522          0.282609  0.699999    1.0  \n",
       "6  0.669382         0.480435          0.326087  0.449999    1.0  "
      ]
     },
     "execution_count": 26,
     "metadata": {},
     "output_type": "execute_result"
    }
   ],
   "source": [
    "# Scaling the all data\n",
    "from sklearn.preprocessing import MinMaxScaler\n",
    "\n",
    "scaler = MinMaxScaler()\n",
    "scaled_values = scaler.fit_transform(df_3)\n",
    "df_3.loc[:, :] = scaled_values\n",
    "\n",
    "df_3.head()"
   ]
  },
  {
   "cell_type": "markdown",
   "id": "44604c95",
   "metadata": {},
   "source": [
    "## Splitting data into Training and Testing"
   ]
  },
  {
   "cell_type": "code",
   "execution_count": 27,
   "id": "95f8e4db",
   "metadata": {
    "ExecuteTime": {
     "end_time": "2022-09-19T20:16:25.774064Z",
     "start_time": "2022-09-19T20:16:25.614340Z"
    },
    "scrolled": true
   },
   "outputs": [
    {
     "name": "stdout",
     "output_type": "stream",
     "text": [
      "x_train shape is: (18895, 9)\n",
      "x_test shape is: (8099, 9)\n",
      "y_train shape is: (18895,)\n",
      "y_test shape is: (8099,)\n"
     ]
    }
   ],
   "source": [
    "from sklearn.model_selection import train_test_split\n",
    "X=df_3.drop(\"cost\",axis=1)\n",
    "y=df_3[\"cost\"]\n",
    "X_train,X_test,y_train,y_test=train_test_split(X,y,test_size=.30,random_state=0,shuffle=True)\n",
    "print(\"x_train shape is:\",X_train.shape)\n",
    "print(\"x_test shape is:\",X_test.shape)\n",
    "print(\"y_train shape is:\",y_train.shape)\n",
    "print(\"y_test shape is:\",y_test.shape)"
   ]
  },
  {
   "cell_type": "markdown",
   "id": "4790eb19",
   "metadata": {},
   "source": [
    "<a id='knn1'></a>\n",
    "## Regression\n",
    "### Gradient Boosting regression Using scikit-learn"
   ]
  },
  {
   "cell_type": "code",
   "execution_count": 29,
   "id": "95e60869",
   "metadata": {
    "ExecuteTime": {
     "end_time": "2022-09-19T20:16:49.511510Z",
     "start_time": "2022-09-19T20:16:44.392150Z"
    }
   },
   "outputs": [],
   "source": [
    "from sklearn.ensemble import GradientBoostingRegressor\n",
    "GBR = GradientBoostingRegressor(n_estimators=300,learning_rate=0.4,random_state=0)\n",
    "GBR.fit(X_train, y_train)  # Train the model\n",
    "y_pred = GBR.predict(X_test) # Test the model"
   ]
  },
  {
   "cell_type": "code",
   "execution_count": 33,
   "id": "3964fe52",
   "metadata": {
    "ExecuteTime": {
     "end_time": "2022-09-19T20:00:54.574556Z",
     "start_time": "2022-09-19T19:55:30.289358Z"
    }
   },
   "outputs": [
    {
     "data": {
      "text/plain": [
       "[<matplotlib.lines.Line2D at 0x24908094d30>]"
      ]
     },
     "execution_count": 33,
     "metadata": {},
     "output_type": "execute_result"
    },
    {
     "data": {
      "image/png": "[encoded data removed]",
      "text/plain": [
       "<Figure size 432x288 with 1 Axes>"
      ]
     },
     "metadata": {
      "needs_background": "light"
     },
     "output_type": "display_data"
    }
   ],
   "source": [
    "R2 = []\n",
    "\n",
    "myrange = np.arange(100,2000,100)\n",
    "for i in myrange:\n",
    "    GBR = GradientBoostingRegressor(n_estimators=i,learning_rate=0.4)\n",
    "    GBR.fit(X_train, y_train)\n",
    "    y_pred = GBR.predict(X_test)\n",
    "    R2.append(metrics.r2_score(y_test, y_pred ))\n",
    "\n",
    "#print('R2 score:' , metrics.r2_score(y_test, y_pred ))\n",
    "plt.figure(figsize=(6, 4))\n",
    "plt.plot(myrange,R2)"
   ]
  },
  {
   "cell_type": "code",
   "execution_count": 34,
   "id": "f891129d",
   "metadata": {
    "ExecuteTime": {
     "end_time": "2022-09-19T20:05:07.097098Z",
     "start_time": "2022-09-19T20:00:54.576510Z"
    }
   },
   "outputs": [
    {
     "data": {
      "text/plain": [
       "[<matplotlib.lines.Line2D at 0x249037b5910>]"
      ]
     },
     "execution_count": 34,
     "metadata": {},
     "output_type": "execute_result"
    },
    {
     "data": {
      "image/png": "[encoded data removed]",
      "text/plain": [
       "<Figure size 432x288 with 1 Axes>"
      ]
     },
     "metadata": {
      "needs_background": "light"
     },
     "output_type": "display_data"
    }
   ],
   "source": [
    "R2 = []\n",
    "\n",
    "myrange = np.arange(0.5,1,0.01)\n",
    "for i in myrange:\n",
    "    GBR = GradientBoostingRegressor(n_estimators=300,learning_rate=i)\n",
    "    GBR.fit(X_train, y_train)\n",
    "    y_pred = GBR.predict(X_test)\n",
    "    R2.append(metrics.r2_score(y_test, y_pred ))\n",
    "\n",
    "#print('R2 score:' , metrics.r2_score(y_test, y_pred ))\n",
    "plt.figure(figsize=(6, 4))\n",
    "plt.plot(myrange,R2)"
   ]
  },
  {
   "cell_type": "markdown",
   "id": "3f196a55",
   "metadata": {},
   "source": [
    "## Evaluation with R2 score"
   ]
  },
  {
   "cell_type": "code",
   "execution_count": 30,
   "id": "1032ed10",
   "metadata": {
    "ExecuteTime": {
     "end_time": "2022-09-19T20:16:54.191506Z",
     "start_time": "2022-09-19T20:16:54.182525Z"
    }
   },
   "outputs": [
    {
     "data": {
      "application/javascript": [
       "\n",
       "        if (window._pyforest_update_imports_cell) { window._pyforest_update_imports_cell('import pandas as pd\\nfrom sklearn import metrics\\nimport numpy as np'); }\n",
       "    "
      ],
      "text/plain": [
       "<IPython.core.display.Javascript object>"
      ]
     },
     "metadata": {},
     "output_type": "display_data"
    },
    {
     "name": "stdout",
     "output_type": "stream",
     "text": [
      "R2 score: 0.539110928794966\n"
     ]
    }
   ],
   "source": [
    "# Evaluation of the model\n",
    "print('R2 score:' , metrics.r2_score(y_test, y_pred ))"
   ]
  }
 ],
 "metadata": {
  "kernelspec": {
   "display_name": "Python 3",
   "language": "python",
   "name": "python3"
  },
  "language_info": {
   "codemirror_mode": {
    "name": "ipython",
    "version": 3
   },
   "file_extension": ".py",
   "mimetype": "text/x-python",
   "name": "python",
   "nbconvert_exporter": "python",
   "pygments_lexer": "ipython3",
   "version": "3.8.12"
  }
 },
 "nbformat": 4,
 "nbformat_minor": 5
}
