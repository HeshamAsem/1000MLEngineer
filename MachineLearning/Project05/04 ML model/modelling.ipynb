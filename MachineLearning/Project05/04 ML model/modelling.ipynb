{
 "cells": [
  {
   "cell_type": "markdown",
   "id": "41f84f19",
   "metadata": {},
   "source": [
    "# Regression model on cost feature"
   ]
  },
  {
   "cell_type": "code",
   "execution_count": 7,
   "id": "327688a2",
   "metadata": {
    "ExecuteTime": {
     "end_time": "2022-09-20T06:18:36.470465Z",
     "start_time": "2022-09-20T06:18:36.466476Z"
    }
   },
   "outputs": [],
   "source": [
    "import pandas as pd\n",
    "import numpy as np\n",
    "import requests, io\n",
    "import seaborn as sns\n",
    "import matplotlib.pyplot as plt\n",
    "from sklearn.preprocessing import OneHotEncoder\n",
    "from sklearn.preprocessing import StandardScaler, normalize"
   ]
  },
  {
   "cell_type": "code",
   "execution_count": 8,
   "id": "bd8b1406",
   "metadata": {
    "ExecuteTime": {
     "end_time": "2022-09-20T06:18:36.539282Z",
     "start_time": "2022-09-20T06:18:36.471463Z"
    }
   },
   "outputs": [],
   "source": [
    "data = pd.read_csv('data')\n",
    "data.drop('Unnamed: 0', axis = 1 , inplace= True)"
   ]
  },
  {
   "cell_type": "code",
   "execution_count": 9,
   "id": "4493155d",
   "metadata": {
    "ExecuteTime": {
     "end_time": "2022-09-20T06:18:36.548258Z",
     "start_time": "2022-09-20T06:18:36.541276Z"
    }
   },
   "outputs": [],
   "source": [
    "data.drop(data.columns[0], axis = 1 , inplace= True)"
   ]
  },
  {
   "cell_type": "code",
   "execution_count": 10,
   "id": "5a5769f0",
   "metadata": {
    "ExecuteTime": {
     "end_time": "2022-09-20T06:18:36.569202Z",
     "start_time": "2022-09-20T06:18:36.549256Z"
    }
   },
   "outputs": [
    {
     "data": {
      "text/html": [
       "<div>\n",
       "<style scoped>\n",
       "    .dataframe tbody tr th:only-of-type {\n",
       "        vertical-align: middle;\n",
       "    }\n",
       "\n",
       "    .dataframe tbody tr th {\n",
       "        vertical-align: top;\n",
       "    }\n",
       "\n",
       "    .dataframe thead th {\n",
       "        text-align: right;\n",
       "    }\n",
       "</style>\n",
       "<table border=\"1\" class=\"dataframe\">\n",
       "  <thead>\n",
       "    <tr style=\"text-align: right;\">\n",
       "      <th></th>\n",
       "      <th>apperance</th>\n",
       "      <th>goals</th>\n",
       "      <th>assists</th>\n",
       "      <th>yellow_card</th>\n",
       "      <th>2nd_ycard</th>\n",
       "      <th>red_card</th>\n",
       "      <th>min</th>\n",
       "      <th>apperance_NT</th>\n",
       "      <th>goals_NT</th>\n",
       "      <th>assists_NT</th>\n",
       "      <th>yellow_card_NT</th>\n",
       "      <th>2nd_ycard_NT</th>\n",
       "      <th>red_card_NT</th>\n",
       "      <th>min_NT</th>\n",
       "      <th>age</th>\n",
       "      <th>position</th>\n",
       "      <th>country</th>\n",
       "      <th>cost</th>\n",
       "      <th>National_Team</th>\n",
       "    </tr>\n",
       "  </thead>\n",
       "  <tbody>\n",
       "    <tr>\n",
       "      <th>0</th>\n",
       "      <td>37</td>\n",
       "      <td>0</td>\n",
       "      <td>3</td>\n",
       "      <td>8</td>\n",
       "      <td>0</td>\n",
       "      <td>0</td>\n",
       "      <td>2947.0</td>\n",
       "      <td>6</td>\n",
       "      <td>0</td>\n",
       "      <td>1</td>\n",
       "      <td>0</td>\n",
       "      <td>0</td>\n",
       "      <td>0</td>\n",
       "      <td>152.0</td>\n",
       "      <td>Goalkeeper</td>\n",
       "      <td>23.0</td>\n",
       "      <td>Egypt</td>\n",
       "      <td>500000.0</td>\n",
       "      <td>1</td>\n",
       "    </tr>\n",
       "    <tr>\n",
       "      <th>1</th>\n",
       "      <td>130</td>\n",
       "      <td>5</td>\n",
       "      <td>5</td>\n",
       "      <td>15</td>\n",
       "      <td>1</td>\n",
       "      <td>0</td>\n",
       "      <td>10770.0</td>\n",
       "      <td>5</td>\n",
       "      <td>0</td>\n",
       "      <td>0</td>\n",
       "      <td>1</td>\n",
       "      <td>0</td>\n",
       "      <td>0</td>\n",
       "      <td>207.0</td>\n",
       "      <td>midfield</td>\n",
       "      <td>26.0</td>\n",
       "      <td>Egypt</td>\n",
       "      <td>500000.0</td>\n",
       "      <td>1</td>\n",
       "    </tr>\n",
       "    <tr>\n",
       "      <th>2</th>\n",
       "      <td>167</td>\n",
       "      <td>1</td>\n",
       "      <td>15</td>\n",
       "      <td>16</td>\n",
       "      <td>0</td>\n",
       "      <td>0</td>\n",
       "      <td>13304.0</td>\n",
       "      <td>6</td>\n",
       "      <td>0</td>\n",
       "      <td>1</td>\n",
       "      <td>1</td>\n",
       "      <td>0</td>\n",
       "      <td>0</td>\n",
       "      <td>424.0</td>\n",
       "      <td>midfield</td>\n",
       "      <td>21.0</td>\n",
       "      <td>Egypt</td>\n",
       "      <td>150000.0</td>\n",
       "      <td>1</td>\n",
       "    </tr>\n",
       "    <tr>\n",
       "      <th>3</th>\n",
       "      <td>15</td>\n",
       "      <td>3</td>\n",
       "      <td>0</td>\n",
       "      <td>2</td>\n",
       "      <td>0</td>\n",
       "      <td>0</td>\n",
       "      <td>341.0</td>\n",
       "      <td>0</td>\n",
       "      <td>0</td>\n",
       "      <td>0</td>\n",
       "      <td>0</td>\n",
       "      <td>0</td>\n",
       "      <td>0</td>\n",
       "      <td>0.0</td>\n",
       "      <td>attack</td>\n",
       "      <td>24.0</td>\n",
       "      <td>Egypt</td>\n",
       "      <td>200000.0</td>\n",
       "      <td>0</td>\n",
       "    </tr>\n",
       "    <tr>\n",
       "      <th>4</th>\n",
       "      <td>40</td>\n",
       "      <td>4</td>\n",
       "      <td>3</td>\n",
       "      <td>9</td>\n",
       "      <td>0</td>\n",
       "      <td>0</td>\n",
       "      <td>2478.0</td>\n",
       "      <td>9</td>\n",
       "      <td>1</td>\n",
       "      <td>1</td>\n",
       "      <td>1</td>\n",
       "      <td>0</td>\n",
       "      <td>0</td>\n",
       "      <td>487.0</td>\n",
       "      <td>midfield</td>\n",
       "      <td>19.0</td>\n",
       "      <td>Russia</td>\n",
       "      <td>250000.0</td>\n",
       "      <td>1</td>\n",
       "    </tr>\n",
       "    <tr>\n",
       "      <th>5</th>\n",
       "      <td>60</td>\n",
       "      <td>4</td>\n",
       "      <td>1</td>\n",
       "      <td>6</td>\n",
       "      <td>0</td>\n",
       "      <td>1</td>\n",
       "      <td>4788.0</td>\n",
       "      <td>0</td>\n",
       "      <td>0</td>\n",
       "      <td>0</td>\n",
       "      <td>0</td>\n",
       "      <td>0</td>\n",
       "      <td>0</td>\n",
       "      <td>0.0</td>\n",
       "      <td>defence</td>\n",
       "      <td>19.0</td>\n",
       "      <td>Italy</td>\n",
       "      <td>200000.0</td>\n",
       "      <td>0</td>\n",
       "    </tr>\n",
       "    <tr>\n",
       "      <th>6</th>\n",
       "      <td>213</td>\n",
       "      <td>17</td>\n",
       "      <td>21</td>\n",
       "      <td>20</td>\n",
       "      <td>1</td>\n",
       "      <td>0</td>\n",
       "      <td>14912.0</td>\n",
       "      <td>4</td>\n",
       "      <td>1</td>\n",
       "      <td>0</td>\n",
       "      <td>0</td>\n",
       "      <td>0</td>\n",
       "      <td>0</td>\n",
       "      <td>193.0</td>\n",
       "      <td>midfield</td>\n",
       "      <td>25.0</td>\n",
       "      <td>England</td>\n",
       "      <td>450000.0</td>\n",
       "      <td>1</td>\n",
       "    </tr>\n",
       "    <tr>\n",
       "      <th>7</th>\n",
       "      <td>68</td>\n",
       "      <td>5</td>\n",
       "      <td>4</td>\n",
       "      <td>6</td>\n",
       "      <td>2</td>\n",
       "      <td>0</td>\n",
       "      <td>4787.0</td>\n",
       "      <td>9</td>\n",
       "      <td>1</td>\n",
       "      <td>3</td>\n",
       "      <td>1</td>\n",
       "      <td>0</td>\n",
       "      <td>0</td>\n",
       "      <td>626.0</td>\n",
       "      <td>defence</td>\n",
       "      <td>24.0</td>\n",
       "      <td>Ukraine</td>\n",
       "      <td>400000.0</td>\n",
       "      <td>1</td>\n",
       "    </tr>\n",
       "    <tr>\n",
       "      <th>8</th>\n",
       "      <td>117</td>\n",
       "      <td>8</td>\n",
       "      <td>10</td>\n",
       "      <td>14</td>\n",
       "      <td>0</td>\n",
       "      <td>0</td>\n",
       "      <td>5788.0</td>\n",
       "      <td>0</td>\n",
       "      <td>0</td>\n",
       "      <td>0</td>\n",
       "      <td>0</td>\n",
       "      <td>0</td>\n",
       "      <td>0</td>\n",
       "      <td>0.0</td>\n",
       "      <td>attack</td>\n",
       "      <td>25.0</td>\n",
       "      <td>Ukraine</td>\n",
       "      <td>500000.0</td>\n",
       "      <td>0</td>\n",
       "    </tr>\n",
       "    <tr>\n",
       "      <th>9</th>\n",
       "      <td>49</td>\n",
       "      <td>14</td>\n",
       "      <td>3</td>\n",
       "      <td>12</td>\n",
       "      <td>0</td>\n",
       "      <td>1</td>\n",
       "      <td>3082.0</td>\n",
       "      <td>0</td>\n",
       "      <td>0</td>\n",
       "      <td>0</td>\n",
       "      <td>0</td>\n",
       "      <td>0</td>\n",
       "      <td>0</td>\n",
       "      <td>0.0</td>\n",
       "      <td>attack</td>\n",
       "      <td>25.0</td>\n",
       "      <td>Spain</td>\n",
       "      <td>400000.0</td>\n",
       "      <td>0</td>\n",
       "    </tr>\n",
       "  </tbody>\n",
       "</table>\n",
       "</div>"
      ],
      "text/plain": [
       "   apperance  goals  assists  yellow_card  2nd_ycard  red_card      min  \\\n",
       "0         37      0        3            8          0         0   2947.0   \n",
       "1        130      5        5           15          1         0  10770.0   \n",
       "2        167      1       15           16          0         0  13304.0   \n",
       "3         15      3        0            2          0         0    341.0   \n",
       "4         40      4        3            9          0         0   2478.0   \n",
       "5         60      4        1            6          0         1   4788.0   \n",
       "6        213     17       21           20          1         0  14912.0   \n",
       "7         68      5        4            6          2         0   4787.0   \n",
       "8        117      8       10           14          0         0   5788.0   \n",
       "9         49     14        3           12          0         1   3082.0   \n",
       "\n",
       "   apperance_NT  goals_NT  assists_NT  yellow_card_NT  2nd_ycard_NT  \\\n",
       "0             6         0           1               0             0   \n",
       "1             5         0           0               1             0   \n",
       "2             6         0           1               1             0   \n",
       "3             0         0           0               0             0   \n",
       "4             9         1           1               1             0   \n",
       "5             0         0           0               0             0   \n",
       "6             4         1           0               0             0   \n",
       "7             9         1           3               1             0   \n",
       "8             0         0           0               0             0   \n",
       "9             0         0           0               0             0   \n",
       "\n",
       "   red_card_NT  min_NT         age  position  country      cost  National_Team  \n",
       "0            0   152.0  Goalkeeper      23.0    Egypt  500000.0              1  \n",
       "1            0   207.0    midfield      26.0    Egypt  500000.0              1  \n",
       "2            0   424.0    midfield      21.0    Egypt  150000.0              1  \n",
       "3            0     0.0      attack      24.0    Egypt  200000.0              0  \n",
       "4            0   487.0    midfield      19.0   Russia  250000.0              1  \n",
       "5            0     0.0     defence      19.0    Italy  200000.0              0  \n",
       "6            0   193.0    midfield      25.0  England  450000.0              1  \n",
       "7            0   626.0     defence      24.0  Ukraine  400000.0              1  \n",
       "8            0     0.0      attack      25.0  Ukraine  500000.0              0  \n",
       "9            0     0.0      attack      25.0    Spain  400000.0              0  "
      ]
     },
     "execution_count": 10,
     "metadata": {},
     "output_type": "execute_result"
    }
   ],
   "source": [
    "data.head(10)"
   ]
  },
  {
   "cell_type": "code",
   "execution_count": 11,
   "id": "3dac5b4e",
   "metadata": {
    "ExecuteTime": {
     "end_time": "2022-09-20T06:18:36.577181Z",
     "start_time": "2022-09-20T06:18:36.569202Z"
    },
    "scrolled": false
   },
   "outputs": [
    {
     "data": {
      "text/plain": [
       "apperance           0\n",
       "goals               0\n",
       "assists             0\n",
       "yellow_card         0\n",
       "2nd_ycard           0\n",
       "red_card            0\n",
       "min                 0\n",
       "apperance_NT        0\n",
       "goals_NT            0\n",
       "assists_NT          0\n",
       "yellow_card_NT      0\n",
       "2nd_ycard_NT        0\n",
       "red_card_NT         0\n",
       "min_NT              0\n",
       "age                 0\n",
       "position            0\n",
       "country           925\n",
       "cost                0\n",
       "National_Team       0\n",
       "dtype: int64"
      ]
     },
     "execution_count": 11,
     "metadata": {},
     "output_type": "execute_result"
    }
   ],
   "source": [
    "data.isna().sum()"
   ]
  },
  {
   "cell_type": "markdown",
   "id": "f47a0789",
   "metadata": {},
   "source": [
    "# "
   ]
  },
  {
   "cell_type": "markdown",
   "id": "8feb507c",
   "metadata": {},
   "source": [
    "### data preprocessing"
   ]
  },
  {
   "cell_type": "code",
   "execution_count": 12,
   "id": "7db883d4",
   "metadata": {
    "ExecuteTime": {
     "end_time": "2022-09-20T06:18:36.583164Z",
     "start_time": "2022-09-20T06:18:36.578177Z"
    }
   },
   "outputs": [],
   "source": [
    "data.rename(columns={'position':'Age'}, inplace= True)\n",
    "data.rename(columns={'age':'position'}, inplace= True)\n",
    "data.rename(columns={'Age':'age'}, inplace= True)"
   ]
  },
  {
   "cell_type": "code",
   "execution_count": 13,
   "id": "f3def153",
   "metadata": {
    "ExecuteTime": {
     "end_time": "2022-09-20T06:18:36.592141Z",
     "start_time": "2022-09-20T06:18:36.584162Z"
    }
   },
   "outputs": [
    {
     "data": {
      "text/plain": [
       "defence       8866\n",
       "midfield      8422\n",
       "attack        8400\n",
       "Goalkeeper    2958\n",
       "GoalKeeper       1\n",
       "Name: position, dtype: int64"
      ]
     },
     "execution_count": 13,
     "metadata": {},
     "output_type": "execute_result"
    }
   ],
   "source": [
    "data.position.value_counts()"
   ]
  },
  {
   "cell_type": "code",
   "execution_count": 14,
   "id": "49382340",
   "metadata": {
    "ExecuteTime": {
     "end_time": "2022-09-20T06:18:36.602118Z",
     "start_time": "2022-09-20T06:18:36.593137Z"
    }
   },
   "outputs": [],
   "source": [
    "data.replace({'position':{'GoalKeeper':'Goalkeeper'}}, inplace= True)"
   ]
  },
  {
   "cell_type": "code",
   "execution_count": 15,
   "id": "da3991e6",
   "metadata": {
    "ExecuteTime": {
     "end_time": "2022-09-20T06:18:36.608098Z",
     "start_time": "2022-09-20T06:18:36.603111Z"
    }
   },
   "outputs": [
    {
     "data": {
      "text/plain": [
       "(28647, 19)"
      ]
     },
     "execution_count": 15,
     "metadata": {},
     "output_type": "execute_result"
    }
   ],
   "source": [
    "data.shape"
   ]
  },
  {
   "cell_type": "code",
   "execution_count": 16,
   "id": "9d1dc103",
   "metadata": {
    "ExecuteTime": {
     "end_time": "2022-09-20T06:18:36.618071Z",
     "start_time": "2022-09-20T06:18:36.610092Z"
    }
   },
   "outputs": [],
   "source": [
    "dummie = pd.get_dummies(data.position)"
   ]
  },
  {
   "cell_type": "code",
   "execution_count": 17,
   "id": "bd55aaca",
   "metadata": {
    "ExecuteTime": {
     "end_time": "2022-09-20T06:18:36.625057Z",
     "start_time": "2022-09-20T06:18:36.619068Z"
    }
   },
   "outputs": [],
   "source": [
    "data = pd.concat([data, dummie], axis = 1)"
   ]
  },
  {
   "cell_type": "code",
   "execution_count": 18,
   "id": "8045a56f",
   "metadata": {
    "ExecuteTime": {
     "end_time": "2022-09-20T06:18:36.637024Z",
     "start_time": "2022-09-20T06:18:36.626049Z"
    }
   },
   "outputs": [],
   "source": [
    "data.drop(['country', 'position','red_card_NT','2nd_ycard_NT','yellow_card_NT','red_card','2nd_ycard','yellow_card'], axis= 1 , inplace= True)"
   ]
  },
  {
   "cell_type": "code",
   "execution_count": 19,
   "id": "9b178fbf",
   "metadata": {
    "ExecuteTime": {
     "end_time": "2022-09-20T06:18:36.647992Z",
     "start_time": "2022-09-20T06:18:36.638018Z"
    },
    "scrolled": false
   },
   "outputs": [
    {
     "data": {
      "text/html": [
       "<div>\n",
       "<style scoped>\n",
       "    .dataframe tbody tr th:only-of-type {\n",
       "        vertical-align: middle;\n",
       "    }\n",
       "\n",
       "    .dataframe tbody tr th {\n",
       "        vertical-align: top;\n",
       "    }\n",
       "\n",
       "    .dataframe thead th {\n",
       "        text-align: right;\n",
       "    }\n",
       "</style>\n",
       "<table border=\"1\" class=\"dataframe\">\n",
       "  <thead>\n",
       "    <tr style=\"text-align: right;\">\n",
       "      <th></th>\n",
       "      <th>apperance</th>\n",
       "      <th>goals</th>\n",
       "      <th>assists</th>\n",
       "      <th>min</th>\n",
       "      <th>apperance_NT</th>\n",
       "      <th>goals_NT</th>\n",
       "      <th>assists_NT</th>\n",
       "      <th>min_NT</th>\n",
       "      <th>age</th>\n",
       "      <th>cost</th>\n",
       "      <th>National_Team</th>\n",
       "      <th>Goalkeeper</th>\n",
       "      <th>attack</th>\n",
       "      <th>defence</th>\n",
       "      <th>midfield</th>\n",
       "    </tr>\n",
       "  </thead>\n",
       "  <tbody>\n",
       "    <tr>\n",
       "      <th>0</th>\n",
       "      <td>37</td>\n",
       "      <td>0</td>\n",
       "      <td>3</td>\n",
       "      <td>2947.0</td>\n",
       "      <td>6</td>\n",
       "      <td>0</td>\n",
       "      <td>1</td>\n",
       "      <td>152.0</td>\n",
       "      <td>23.0</td>\n",
       "      <td>500000.0</td>\n",
       "      <td>1</td>\n",
       "      <td>1</td>\n",
       "      <td>0</td>\n",
       "      <td>0</td>\n",
       "      <td>0</td>\n",
       "    </tr>\n",
       "    <tr>\n",
       "      <th>1</th>\n",
       "      <td>130</td>\n",
       "      <td>5</td>\n",
       "      <td>5</td>\n",
       "      <td>10770.0</td>\n",
       "      <td>5</td>\n",
       "      <td>0</td>\n",
       "      <td>0</td>\n",
       "      <td>207.0</td>\n",
       "      <td>26.0</td>\n",
       "      <td>500000.0</td>\n",
       "      <td>1</td>\n",
       "      <td>0</td>\n",
       "      <td>0</td>\n",
       "      <td>0</td>\n",
       "      <td>1</td>\n",
       "    </tr>\n",
       "  </tbody>\n",
       "</table>\n",
       "</div>"
      ],
      "text/plain": [
       "   apperance  goals  assists      min  apperance_NT  goals_NT  assists_NT  \\\n",
       "0         37      0        3   2947.0             6         0           1   \n",
       "1        130      5        5  10770.0             5         0           0   \n",
       "\n",
       "   min_NT   age      cost  National_Team  Goalkeeper  attack  defence  \\\n",
       "0   152.0  23.0  500000.0              1           1       0        0   \n",
       "1   207.0  26.0  500000.0              1           0       0        0   \n",
       "\n",
       "   midfield  \n",
       "0         0  \n",
       "1         1  "
      ]
     },
     "execution_count": 19,
     "metadata": {},
     "output_type": "execute_result"
    }
   ],
   "source": [
    "data.head(2)"
   ]
  },
  {
   "cell_type": "code",
   "execution_count": 20,
   "id": "7d5d5e90",
   "metadata": {
    "ExecuteTime": {
     "end_time": "2022-09-20T06:18:36.662951Z",
     "start_time": "2022-09-20T06:18:36.648988Z"
    },
    "scrolled": false
   },
   "outputs": [
    {
     "data": {
      "text/plain": [
       "goals_NT         24.332324\n",
       "assists_NT       19.598220\n",
       "apperance_NT      7.668328\n",
       "goals             6.867819\n",
       "assists           5.193607\n",
       "Goalkeeper        2.607147\n",
       "apperance         1.550298\n",
       "min               1.525228\n",
       "cost              1.340561\n",
       "attack            0.908471\n",
       "midfield          0.904406\n",
       "National_Team     0.841109\n",
       "defence           0.824249\n",
       "min_NT          -19.687122\n",
       "age                    NaN\n",
       "dtype: float64"
      ]
     },
     "execution_count": 20,
     "metadata": {},
     "output_type": "execute_result"
    }
   ],
   "source": [
    "data.skew().sort_values(ascending= False)"
   ]
  },
  {
   "cell_type": "markdown",
   "id": "e60e4cba",
   "metadata": {},
   "source": [
    "### outliers "
   ]
  },
  {
   "cell_type": "code",
   "execution_count": 21,
   "id": "abc637bd",
   "metadata": {
    "ExecuteTime": {
     "end_time": "2022-09-20T06:18:36.760717Z",
     "start_time": "2022-09-20T06:18:36.662951Z"
    },
    "scrolled": false
   },
   "outputs": [
    {
     "name": "stderr",
     "output_type": "stream",
     "text": [
      "C:\\Users\\10\\anaconda3\\lib\\site-packages\\seaborn\\_decorators.py:36: FutureWarning: Pass the following variable as a keyword arg: x. From version 0.12, the only valid positional argument will be `data`, and passing other arguments without an explicit keyword will result in an error or misinterpretation.\n",
      "  warnings.warn(\n"
     ]
    },
    {
     "data": {
      "image/png": "[encoded data removed]",
      "text/plain": [
       "<Figure size 432x288 with 1 Axes>"
      ]
     },
     "metadata": {
      "needs_background": "light"
     },
     "output_type": "display_data"
    }
   ],
   "source": [
    "%matplotlib inline\n",
    "s = sns.boxplot(data['age'])\n",
    "plt.show()"
   ]
  },
  {
   "cell_type": "code",
   "execution_count": 22,
   "id": "5ed457e8",
   "metadata": {
    "ExecuteTime": {
     "end_time": "2022-09-20T06:18:36.765676Z",
     "start_time": "2022-09-20T06:18:36.761686Z"
    },
    "scrolled": true
   },
   "outputs": [],
   "source": [
    "ageOutliers = data[data.age > 38].index.tolist()"
   ]
  },
  {
   "cell_type": "code",
   "execution_count": 23,
   "id": "25c05980",
   "metadata": {
    "ExecuteTime": {
     "end_time": "2022-09-20T06:18:36.774656Z",
     "start_time": "2022-09-20T06:18:36.765676Z"
    },
    "scrolled": true
   },
   "outputs": [],
   "source": [
    "data.drop(ageOutliers, inplace= True)"
   ]
  },
  {
   "cell_type": "code",
   "execution_count": 24,
   "id": "c4930281",
   "metadata": {
    "ExecuteTime": {
     "end_time": "2022-09-20T06:18:36.843498Z",
     "start_time": "2022-09-20T06:18:36.775649Z"
    },
    "scrolled": false
   },
   "outputs": [
    {
     "name": "stderr",
     "output_type": "stream",
     "text": [
      "C:\\Users\\10\\anaconda3\\lib\\site-packages\\seaborn\\_decorators.py:36: FutureWarning: Pass the following variable as a keyword arg: x. From version 0.12, the only valid positional argument will be `data`, and passing other arguments without an explicit keyword will result in an error or misinterpretation.\n",
      "  warnings.warn(\n"
     ]
    },
    {
     "data": {
      "image/png": "[encoded data removed]",
      "text/plain": [
       "<Figure size 432x288 with 1 Axes>"
      ]
     },
     "metadata": {
      "needs_background": "light"
     },
     "output_type": "display_data"
    }
   ],
   "source": [
    "sns.boxplot(data.age)\n",
    "plt.show()"
   ]
  },
  {
   "cell_type": "code",
   "execution_count": 25,
   "id": "9216e215",
   "metadata": {
    "ExecuteTime": {
     "end_time": "2022-09-20T06:18:36.857463Z",
     "start_time": "2022-09-20T06:18:36.844497Z"
    },
    "scrolled": false
   },
   "outputs": [
    {
     "data": {
      "text/plain": [
       "goals_NT         24.602625\n",
       "assists_NT       19.799267\n",
       "apperance_NT      7.764581\n",
       "goals             6.965683\n",
       "assists           5.248064\n",
       "Goalkeeper        2.625486\n",
       "apperance         1.531736\n",
       "min               1.496178\n",
       "cost              1.336699\n",
       "attack            0.908087\n",
       "midfield          0.901783\n",
       "National_Team     0.842782\n",
       "defence           0.821932\n",
       "age               0.532033\n",
       "min_NT          -20.458556\n",
       "dtype: float64"
      ]
     },
     "execution_count": 25,
     "metadata": {},
     "output_type": "execute_result"
    }
   ],
   "source": [
    "data.skew().sort_values(ascending= False)"
   ]
  },
  {
   "cell_type": "markdown",
   "id": "db360dab",
   "metadata": {},
   "source": [
    "# "
   ]
  },
  {
   "cell_type": "markdown",
   "id": "2f06b479",
   "metadata": {},
   "source": [
    "## appling log transformatioin to high values 'skewed columns'"
   ]
  },
  {
   "cell_type": "code",
   "execution_count": 26,
   "id": "dabf92f1",
   "metadata": {
    "ExecuteTime": {
     "end_time": "2022-09-20T06:18:36.866441Z",
     "start_time": "2022-09-20T06:18:36.858460Z"
    }
   },
   "outputs": [],
   "source": [
    "for i in ['goals_NT', 'assists_NT', 'apperance_NT']:\n",
    "    data[i] += 10\n",
    "    data[i] = np.log(data[i])"
   ]
  },
  {
   "cell_type": "markdown",
   "id": "b6f50bc5",
   "metadata": {},
   "source": [
    "# "
   ]
  },
  {
   "cell_type": "markdown",
   "id": "9d87c749",
   "metadata": {},
   "source": [
    "## Normailzing data"
   ]
  },
  {
   "cell_type": "code",
   "execution_count": 27,
   "id": "f1b32b3f",
   "metadata": {
    "ExecuteTime": {
     "end_time": "2022-09-20T06:18:36.875419Z",
     "start_time": "2022-09-20T06:18:36.867438Z"
    }
   },
   "outputs": [],
   "source": [
    "nordata = normalize(data[['cost','min','min_NT','apperance','age', 'goals','assists']])"
   ]
  },
  {
   "cell_type": "code",
   "execution_count": 28,
   "id": "5449aae7",
   "metadata": {
    "ExecuteTime": {
     "end_time": "2022-09-20T06:18:36.879407Z",
     "start_time": "2022-09-20T06:18:36.876412Z"
    }
   },
   "outputs": [],
   "source": [
    "xdata = pd.DataFrame(nordata,columns=['cost_','min_','min_NT_','apperance_','age_','goals_','assists_'])"
   ]
  },
  {
   "cell_type": "code",
   "execution_count": 29,
   "id": "f3512a37",
   "metadata": {
    "ExecuteTime": {
     "end_time": "2022-09-20T06:18:36.892374Z",
     "start_time": "2022-09-20T06:18:36.880402Z"
    }
   },
   "outputs": [],
   "source": [
    "data = pd.concat([data, xdata], axis=1)"
   ]
  },
  {
   "cell_type": "code",
   "execution_count": 30,
   "id": "aa162849",
   "metadata": {
    "ExecuteTime": {
     "end_time": "2022-09-20T06:18:36.902372Z",
     "start_time": "2022-09-20T06:18:36.893366Z"
    }
   },
   "outputs": [],
   "source": [
    "data.drop(['cost','min','min_NT','apperance','age','goals','assists'], axis=1, inplace= True)"
   ]
  },
  {
   "cell_type": "code",
   "execution_count": 31,
   "id": "aa50b231",
   "metadata": {
    "ExecuteTime": {
     "end_time": "2022-09-20T06:18:36.915337Z",
     "start_time": "2022-09-20T06:18:36.903340Z"
    },
    "scrolled": false
   },
   "outputs": [
    {
     "data": {
      "text/html": [
       "<div>\n",
       "<style scoped>\n",
       "    .dataframe tbody tr th:only-of-type {\n",
       "        vertical-align: middle;\n",
       "    }\n",
       "\n",
       "    .dataframe tbody tr th {\n",
       "        vertical-align: top;\n",
       "    }\n",
       "\n",
       "    .dataframe thead th {\n",
       "        text-align: right;\n",
       "    }\n",
       "</style>\n",
       "<table border=\"1\" class=\"dataframe\">\n",
       "  <thead>\n",
       "    <tr style=\"text-align: right;\">\n",
       "      <th></th>\n",
       "      <th>apperance_NT</th>\n",
       "      <th>goals_NT</th>\n",
       "      <th>assists_NT</th>\n",
       "      <th>National_Team</th>\n",
       "      <th>Goalkeeper</th>\n",
       "      <th>attack</th>\n",
       "      <th>defence</th>\n",
       "      <th>midfield</th>\n",
       "      <th>cost_</th>\n",
       "      <th>min_</th>\n",
       "      <th>min_NT_</th>\n",
       "      <th>apperance_</th>\n",
       "      <th>age_</th>\n",
       "      <th>goals_</th>\n",
       "      <th>assists_</th>\n",
       "    </tr>\n",
       "  </thead>\n",
       "  <tbody>\n",
       "    <tr>\n",
       "      <th>0</th>\n",
       "      <td>2.772589</td>\n",
       "      <td>2.302585</td>\n",
       "      <td>2.397895</td>\n",
       "      <td>1.0</td>\n",
       "      <td>1.0</td>\n",
       "      <td>0.0</td>\n",
       "      <td>0.0</td>\n",
       "      <td>0.0</td>\n",
       "      <td>0.999983</td>\n",
       "      <td>0.005894</td>\n",
       "      <td>0.000304</td>\n",
       "      <td>0.000074</td>\n",
       "      <td>0.000046</td>\n",
       "      <td>0.00000</td>\n",
       "      <td>0.000006</td>\n",
       "    </tr>\n",
       "    <tr>\n",
       "      <th>1</th>\n",
       "      <td>2.708050</td>\n",
       "      <td>2.302585</td>\n",
       "      <td>2.302585</td>\n",
       "      <td>1.0</td>\n",
       "      <td>0.0</td>\n",
       "      <td>0.0</td>\n",
       "      <td>0.0</td>\n",
       "      <td>1.0</td>\n",
       "      <td>0.999768</td>\n",
       "      <td>0.021535</td>\n",
       "      <td>0.000414</td>\n",
       "      <td>0.000260</td>\n",
       "      <td>0.000052</td>\n",
       "      <td>0.00001</td>\n",
       "      <td>0.000010</td>\n",
       "    </tr>\n",
       "  </tbody>\n",
       "</table>\n",
       "</div>"
      ],
      "text/plain": [
       "   apperance_NT  goals_NT  assists_NT  National_Team  Goalkeeper  attack  \\\n",
       "0      2.772589  2.302585    2.397895            1.0         1.0     0.0   \n",
       "1      2.708050  2.302585    2.302585            1.0         0.0     0.0   \n",
       "\n",
       "   defence  midfield     cost_      min_   min_NT_  apperance_      age_  \\\n",
       "0      0.0       0.0  0.999983  0.005894  0.000304    0.000074  0.000046   \n",
       "1      0.0       1.0  0.999768  0.021535  0.000414    0.000260  0.000052   \n",
       "\n",
       "    goals_  assists_  \n",
       "0  0.00000  0.000006  \n",
       "1  0.00001  0.000010  "
      ]
     },
     "execution_count": 31,
     "metadata": {},
     "output_type": "execute_result"
    }
   ],
   "source": [
    "data.head(2)"
   ]
  },
  {
   "cell_type": "code",
   "execution_count": 32,
   "id": "b70413c0",
   "metadata": {
    "ExecuteTime": {
     "end_time": "2022-09-20T06:18:36.926283Z",
     "start_time": "2022-09-20T06:18:36.916306Z"
    }
   },
   "outputs": [],
   "source": [
    "data.dropna(inplace= True)"
   ]
  },
  {
   "cell_type": "code",
   "execution_count": 33,
   "id": "ea081289",
   "metadata": {
    "ExecuteTime": {
     "end_time": "2022-09-20T06:18:36.931266Z",
     "start_time": "2022-09-20T06:18:36.927277Z"
    },
    "scrolled": true
   },
   "outputs": [
    {
     "data": {
      "text/plain": [
       "(28401, 15)"
      ]
     },
     "execution_count": 33,
     "metadata": {},
     "output_type": "execute_result"
    }
   ],
   "source": [
    "data.shape"
   ]
  },
  {
   "cell_type": "markdown",
   "id": "aa98f21f",
   "metadata": {},
   "source": [
    "# "
   ]
  },
  {
   "cell_type": "code",
   "execution_count": 34,
   "id": "a3061116",
   "metadata": {
    "ExecuteTime": {
     "end_time": "2022-09-20T06:18:36.940244Z",
     "start_time": "2022-09-20T06:18:36.934258Z"
    }
   },
   "outputs": [],
   "source": [
    "X = data.drop('cost_', axis=1)\n",
    "y = data.cost_"
   ]
  },
  {
   "cell_type": "code",
   "execution_count": 35,
   "id": "230e6c75",
   "metadata": {
    "ExecuteTime": {
     "end_time": "2022-09-20T06:18:36.952210Z",
     "start_time": "2022-09-20T06:18:36.941239Z"
    }
   },
   "outputs": [],
   "source": [
    "from sklearn.model_selection import train_test_split\n",
    "X_train, X_test, y_train, y_test = train_test_split(X, y, test_size = 0.2, random_state= 75)"
   ]
  },
  {
   "cell_type": "code",
   "execution_count": 36,
   "id": "3d6d2268",
   "metadata": {
    "ExecuteTime": {
     "end_time": "2022-09-20T06:18:36.984145Z",
     "start_time": "2022-09-20T06:18:36.953207Z"
    }
   },
   "outputs": [],
   "source": [
    "from sklearn.linear_model import LinearRegression\n",
    "regressor = LinearRegression()"
   ]
  },
  {
   "cell_type": "code",
   "execution_count": 37,
   "id": "544a6692",
   "metadata": {
    "ExecuteTime": {
     "end_time": "2022-09-20T06:18:36.995153Z",
     "start_time": "2022-09-20T06:18:36.985148Z"
    }
   },
   "outputs": [
    {
     "data": {
      "text/plain": [
       "LinearRegression()"
      ]
     },
     "execution_count": 37,
     "metadata": {},
     "output_type": "execute_result"
    }
   ],
   "source": [
    "regressor.fit(X_train, y_train)"
   ]
  },
  {
   "cell_type": "code",
   "execution_count": 38,
   "id": "f7623f4f",
   "metadata": {
    "ExecuteTime": {
     "end_time": "2022-09-20T06:18:37.000107Z",
     "start_time": "2022-09-20T06:18:36.996118Z"
    }
   },
   "outputs": [
    {
     "name": "stdout",
     "output_type": "stream",
     "text": [
      "45685815829.10036\n"
     ]
    }
   ],
   "source": [
    "print(regressor.intercept_)"
   ]
  },
  {
   "cell_type": "code",
   "execution_count": 39,
   "id": "f73e0ddc",
   "metadata": {
    "ExecuteTime": {
     "end_time": "2022-09-20T06:18:37.010080Z",
     "start_time": "2022-09-20T06:18:37.001105Z"
    }
   },
   "outputs": [],
   "source": [
    "y_pred = regressor.predict(X_test)"
   ]
  },
  {
   "cell_type": "code",
   "execution_count": 40,
   "id": "ada9abc1",
   "metadata": {
    "ExecuteTime": {
     "end_time": "2022-09-20T06:18:37.020054Z",
     "start_time": "2022-09-20T06:18:37.011079Z"
    }
   },
   "outputs": [
    {
     "data": {
      "text/plain": [
       "0.7507173553328816"
      ]
     },
     "execution_count": 40,
     "metadata": {},
     "output_type": "execute_result"
    }
   ],
   "source": [
    "regressor.score(X_test, y_test)"
   ]
  },
  {
   "cell_type": "code",
   "execution_count": 41,
   "id": "39e97805",
   "metadata": {
    "ExecuteTime": {
     "end_time": "2022-09-20T06:18:37.029030Z",
     "start_time": "2022-09-20T06:18:37.021051Z"
    }
   },
   "outputs": [
    {
     "data": {
      "text/plain": [
       "0.7197762961675397"
      ]
     },
     "execution_count": 41,
     "metadata": {},
     "output_type": "execute_result"
    }
   ],
   "source": [
    "regressor.score(X_train, y_train)"
   ]
  },
  {
   "cell_type": "markdown",
   "id": "44f28559",
   "metadata": {},
   "source": [
    "# "
   ]
  },
  {
   "cell_type": "markdown",
   "id": "cc260a87",
   "metadata": {},
   "source": [
    "### Using Ridge (L2 Regularized) Regression Model"
   ]
  },
  {
   "cell_type": "code",
   "execution_count": 42,
   "id": "3bba971b",
   "metadata": {
    "ExecuteTime": {
     "end_time": "2022-09-20T06:18:37.040001Z",
     "start_time": "2022-09-20T06:18:37.030027Z"
    }
   },
   "outputs": [
    {
     "data": {
      "text/plain": [
       "Ridge(alpha=1, max_iter=1000, tol=0.1)"
      ]
     },
     "execution_count": 42,
     "metadata": {},
     "output_type": "execute_result"
    }
   ],
   "source": [
    "from sklearn.linear_model import Ridge\n",
    "ridge_reg= Ridge(alpha=1, max_iter=1000, tol=0.1)\n",
    "ridge_reg.fit(X_train, y_train)"
   ]
  },
  {
   "cell_type": "code",
   "execution_count": 43,
   "id": "d2de394a",
   "metadata": {
    "ExecuteTime": {
     "end_time": "2022-09-20T06:18:37.047979Z",
     "start_time": "2022-09-20T06:18:37.040998Z"
    }
   },
   "outputs": [
    {
     "data": {
      "text/plain": [
       "0.7582557133012059"
      ]
     },
     "execution_count": 43,
     "metadata": {},
     "output_type": "execute_result"
    }
   ],
   "source": [
    "ridge_reg.score(X_test, y_test)"
   ]
  },
  {
   "cell_type": "code",
   "execution_count": 44,
   "id": "271b26d9",
   "metadata": {
    "ExecuteTime": {
     "end_time": "2022-09-20T06:18:37.057953Z",
     "start_time": "2022-09-20T06:18:37.048977Z"
    },
    "scrolled": true
   },
   "outputs": [
    {
     "data": {
      "text/plain": [
       "0.7163965947911732"
      ]
     },
     "execution_count": 44,
     "metadata": {},
     "output_type": "execute_result"
    }
   ],
   "source": [
    "ridge_reg.score(X_train, y_train)"
   ]
  },
  {
   "cell_type": "markdown",
   "id": "e117f441",
   "metadata": {},
   "source": [
    "# "
   ]
  },
  {
   "cell_type": "markdown",
   "id": "ac850692",
   "metadata": {},
   "source": [
    "# XGBOOST ALGORITHMS"
   ]
  },
  {
   "cell_type": "code",
   "execution_count": 52,
   "id": "426d08d3",
   "metadata": {
    "ExecuteTime": {
     "end_time": "2022-09-20T06:20:13.923054Z",
     "start_time": "2022-09-20T06:20:13.920063Z"
    },
    "scrolled": true
   },
   "outputs": [],
   "source": [
    "import xgboost as xg\n",
    "from sklearn.metrics import mean_squared_error as MSE"
   ]
  },
  {
   "cell_type": "code",
   "execution_count": 53,
   "id": "0ca67bb8",
   "metadata": {
    "ExecuteTime": {
     "end_time": "2022-09-20T06:20:14.270460Z",
     "start_time": "2022-09-20T06:20:14.166738Z"
    }
   },
   "outputs": [
    {
     "name": "stdout",
     "output_type": "stream",
     "text": [
      "[08:20:14] WARNING: C:/Users/administrator/workspace/xgboost-win64_release_1.6.0/src/objective/regression_obj.cu:203: reg:linear is now deprecated in favor of reg:squarederror.\n"
     ]
    },
    {
     "data": {
      "text/plain": [
       "XGBRegressor(base_score=0.5, booster='gbtree', callbacks=None,\n",
       "             colsample_bylevel=1, colsample_bynode=1, colsample_bytree=1,\n",
       "             early_stopping_rounds=None, enable_categorical=False,\n",
       "             eval_metric=None, gamma=0, gpu_id=-1, grow_policy='depthwise',\n",
       "             importance_type=None, interaction_constraints='',\n",
       "             learning_rate=0.300000012, max_bin=256, max_cat_to_onehot=4,\n",
       "             max_delta_step=0, max_depth=6, max_leaves=0, min_child_weight=1,\n",
       "             missing=nan, monotone_constraints='()', n_estimators=10, n_jobs=0,\n",
       "             num_parallel_tree=1, objective='reg:linear', predictor='auto',\n",
       "             random_state=123, reg_alpha=0, ...)"
      ]
     },
     "execution_count": 53,
     "metadata": {},
     "output_type": "execute_result"
    }
   ],
   "source": [
    "reg = xg.XGBRegressor(objective ='reg:linear', n_estimators = 10, seed = 123)\n",
    "reg.fit(X_train, y_train)"
   ]
  },
  {
   "cell_type": "code",
   "execution_count": 54,
   "id": "ea90662e",
   "metadata": {
    "ExecuteTime": {
     "end_time": "2022-09-20T06:20:14.389976Z",
     "start_time": "2022-09-20T06:20:14.383025Z"
    }
   },
   "outputs": [],
   "source": [
    "pred = reg.predict(X_test)"
   ]
  },
  {
   "cell_type": "code",
   "execution_count": 55,
   "id": "03911e58",
   "metadata": {
    "ExecuteTime": {
     "end_time": "2022-09-20T06:20:14.583322Z",
     "start_time": "2022-09-20T06:20:14.575344Z"
    }
   },
   "outputs": [
    {
     "data": {
      "text/plain": [
       "0.9340914820780446"
      ]
     },
     "execution_count": 55,
     "metadata": {},
     "output_type": "execute_result"
    }
   ],
   "source": [
    "reg.score(X_test, y_test)"
   ]
  },
  {
   "cell_type": "code",
   "execution_count": 56,
   "id": "86394739",
   "metadata": {
    "ExecuteTime": {
     "end_time": "2022-09-20T06:20:14.945785Z",
     "start_time": "2022-09-20T06:20:14.934816Z"
    }
   },
   "outputs": [
    {
     "data": {
      "text/plain": [
       "0.9445375895427852"
      ]
     },
     "execution_count": 56,
     "metadata": {},
     "output_type": "execute_result"
    }
   ],
   "source": [
    "reg.score(X_train, y_train)"
   ]
  },
  {
   "cell_type": "code",
   "execution_count": 57,
   "id": "67879266",
   "metadata": {
    "ExecuteTime": {
     "end_time": "2022-09-20T06:20:17.309377Z",
     "start_time": "2022-09-20T06:20:17.304390Z"
    }
   },
   "outputs": [
    {
     "data": {
      "text/plain": [
       "0.013880727812687203"
      ]
     },
     "execution_count": 57,
     "metadata": {},
     "output_type": "execute_result"
    }
   ],
   "source": [
    "rmse = np.sqrt(MSE(y_test, pred))\n",
    "rmse"
   ]
  },
  {
   "cell_type": "code",
   "execution_count": null,
   "id": "a1597296",
   "metadata": {},
   "outputs": [],
   "source": []
  }
 ],
 "metadata": {
  "kernelspec": {
   "display_name": "Python 3 (ipykernel)",
   "language": "python",
   "name": "python3"
  },
  "language_info": {
   "codemirror_mode": {
    "name": "ipython",
    "version": 3
   },
   "file_extension": ".py",
   "mimetype": "text/x-python",
   "name": "python",
   "nbconvert_exporter": "python",
   "pygments_lexer": "ipython3",
   "version": "3.9.7"
  }
 },
 "nbformat": 4,
 "nbformat_minor": 5
}
