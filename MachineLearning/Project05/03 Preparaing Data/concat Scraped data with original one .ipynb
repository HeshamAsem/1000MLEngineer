{
 "cells": [
  {
   "cell_type": "code",
   "execution_count": 1,
   "id": "39c860c8",
   "metadata": {
    "ExecuteTime": {
     "end_time": "2022-09-19T17:53:50.945019Z",
     "start_time": "2022-09-19T17:53:49.995635Z"
    }
   },
   "outputs": [],
   "source": [
    "import pandas as pd "
   ]
  },
  {
   "cell_type": "code",
   "execution_count": 2,
   "id": "7929a321",
   "metadata": {
    "ExecuteTime": {
     "end_time": "2022-09-19T17:53:51.407661Z",
     "start_time": "2022-09-19T17:53:51.370584Z"
    }
   },
   "outputs": [],
   "source": [
    "df = pd.read_csv('4thscraped_data')"
   ]
  },
  {
   "cell_type": "code",
   "execution_count": 3,
   "id": "24df0ab7",
   "metadata": {
    "ExecuteTime": {
     "end_time": "2022-09-19T17:53:53.284434Z",
     "start_time": "2022-09-19T17:53:53.218517Z"
    }
   },
   "outputs": [],
   "source": [
    "data = pd.read_csv('Cleaned Data')"
   ]
  },
  {
   "cell_type": "code",
   "execution_count": 4,
   "id": "d282d97c",
   "metadata": {
    "ExecuteTime": {
     "end_time": "2022-09-19T17:53:55.475901Z",
     "start_time": "2022-09-19T17:53:55.465926Z"
    }
   },
   "outputs": [
    {
     "data": {
      "text/plain": [
       "(6132, 21)"
      ]
     },
     "execution_count": 4,
     "metadata": {},
     "output_type": "execute_result"
    }
   ],
   "source": [
    "df.shape"
   ]
  },
  {
   "cell_type": "code",
   "execution_count": 5,
   "id": "4f8ce9d8",
   "metadata": {
    "ExecuteTime": {
     "end_time": "2022-09-19T17:53:57.127441Z",
     "start_time": "2022-09-19T17:53:57.105852Z"
    }
   },
   "outputs": [],
   "source": [
    "c = 0 \n",
    "li = []\n",
    "for i in data.name.isna():\n",
    "    if i == True:\n",
    "        li.append(c)\n",
    "    c+=1 \n",
    "data.drop(li, axis=0 , inplace= True)"
   ]
  },
  {
   "cell_type": "code",
   "execution_count": 6,
   "id": "e0fbb467",
   "metadata": {
    "ExecuteTime": {
     "end_time": "2022-09-19T09:17:18.656007Z",
     "start_time": "2022-09-19T09:17:18.474457Z"
    },
    "scrolled": true
   },
   "outputs": [
    {
     "ename": "NameError",
     "evalue": "name 'j' is not defined",
     "output_type": "error",
     "traceback": [
      "\u001b[1;31m---------------------------------------------------------------------------\u001b[0m",
      "\u001b[1;31mNameError\u001b[0m                                 Traceback (most recent call last)",
      "\u001b[1;32m~\\AppData\\Local\\Temp/ipykernel_16380/4477141.py\u001b[0m in \u001b[0;36m<module>\u001b[1;34m\u001b[0m\n\u001b[1;32m----> 1\u001b[1;33m \u001b[0mdata\u001b[0m\u001b[1;33m[\u001b[0m\u001b[0mdata\u001b[0m\u001b[1;33m.\u001b[0m\u001b[0mname\u001b[0m \u001b[1;33m==\u001b[0m \u001b[0mj\u001b[0m\u001b[1;33m]\u001b[0m\u001b[1;33m\u001b[0m\u001b[1;33m\u001b[0m\u001b[0m\n\u001b[0m",
      "\u001b[1;31mNameError\u001b[0m: name 'j' is not defined"
     ]
    }
   ],
   "source": [
    "data[data.name == j]"
   ]
  },
  {
   "cell_type": "code",
   "execution_count": 6,
   "id": "4ed6b9e6",
   "metadata": {
    "ExecuteTime": {
     "end_time": "2022-09-19T17:54:52.138624Z",
     "start_time": "2022-09-19T17:54:00.753883Z"
    }
   },
   "outputs": [],
   "source": [
    "bigli = list()\n",
    "items = ['position', 'age', 'country_origin_club','cost']\n",
    "for i in df.names:\n",
    "    li = []\n",
    "    for j in data.name:\n",
    "        if i == j:\n",
    "            for x in items:\n",
    "                li.append(data[x][data.name == i].values[0])\n",
    "            break  \n",
    "    bigli.append(li)"
   ]
  },
  {
   "cell_type": "code",
   "execution_count": 7,
   "id": "eec460a7",
   "metadata": {
    "ExecuteTime": {
     "end_time": "2022-09-19T17:54:52.145513Z",
     "start_time": "2022-09-19T17:54:52.139529Z"
    }
   },
   "outputs": [],
   "source": [
    "dataframe = pd.DataFrame(bigli, columns=['age', 'position', 'country', 'cost'])"
   ]
  },
  {
   "cell_type": "code",
   "execution_count": 8,
   "id": "f1e447da",
   "metadata": {
    "ExecuteTime": {
     "end_time": "2022-09-19T17:54:52.323521Z",
     "start_time": "2022-09-19T17:54:52.146510Z"
    }
   },
   "outputs": [
    {
     "data": {
      "text/plain": [
       "(6132, 4)"
      ]
     },
     "execution_count": 8,
     "metadata": {},
     "output_type": "execute_result"
    }
   ],
   "source": [
    "dataframe.shape"
   ]
  },
  {
   "cell_type": "code",
   "execution_count": 9,
   "id": "dcb9f626",
   "metadata": {
    "ExecuteTime": {
     "end_time": "2022-09-19T17:54:52.432562Z",
     "start_time": "2022-09-19T17:54:52.324520Z"
    }
   },
   "outputs": [
    {
     "data": {
      "text/plain": [
       "(6132, 21)"
      ]
     },
     "execution_count": 9,
     "metadata": {},
     "output_type": "execute_result"
    }
   ],
   "source": [
    "df.shape"
   ]
  },
  {
   "cell_type": "code",
   "execution_count": 10,
   "id": "d5b6c1e5",
   "metadata": {
    "ExecuteTime": {
     "end_time": "2022-09-19T17:54:52.555472Z",
     "start_time": "2022-09-19T17:54:52.433478Z"
    }
   },
   "outputs": [],
   "source": [
    "df2 = pd.concat([df,dataframe], axis=1)"
   ]
  },
  {
   "cell_type": "code",
   "execution_count": 11,
   "id": "d1a26dae",
   "metadata": {
    "ExecuteTime": {
     "end_time": "2022-09-19T17:54:52.838387Z",
     "start_time": "2022-09-19T17:54:52.560427Z"
    }
   },
   "outputs": [],
   "source": [
    "df2.to_csv('04_full_info')"
   ]
  },
  {
   "cell_type": "code",
   "execution_count": null,
   "id": "16a07fdd",
   "metadata": {},
   "outputs": [],
   "source": []
  },
  {
   "cell_type": "code",
   "execution_count": null,
   "id": "9fb516d9",
   "metadata": {},
   "outputs": [],
   "source": []
  }
 ],
 "metadata": {
  "kernelspec": {
   "display_name": "Python 3 (ipykernel)",
   "language": "python",
   "name": "python3"
  },
  "language_info": {
   "codemirror_mode": {
    "name": "ipython",
    "version": 3
   },
   "file_extension": ".py",
   "mimetype": "text/x-python",
   "name": "python",
   "nbconvert_exporter": "python",
   "pygments_lexer": "ipython3",
   "version": "3.9.7"
  }
 },
 "nbformat": 4,
 "nbformat_minor": 5
}
