{
 "cells": [
  {
   "cell_type": "code",
   "execution_count": 20,
   "id": "2d95f16c",
   "metadata": {
    "ExecuteTime": {
     "end_time": "2022-09-19T13:25:33.674265Z",
     "start_time": "2022-09-19T13:25:33.670262Z"
    }
   },
   "outputs": [],
   "source": [
    "import numpy as np\n",
    "import pandas as pd\n",
    "import io, requests\n",
    "from selenium import webdriver\n",
    "from selenium.webdriver.common.keys import Keys\n",
    "from selenium.webdriver.common.by import By\n",
    "from selenium.webdriver.support.relative_locator import locate_with\n",
    "import time"
   ]
  },
  {
   "cell_type": "code",
   "execution_count": 21,
   "id": "724fbb11",
   "metadata": {
    "ExecuteTime": {
     "end_time": "2022-09-19T13:25:33.737081Z",
     "start_time": "2022-09-19T13:25:33.675220Z"
    }
   },
   "outputs": [],
   "source": [
    "cdata = pd.read_csv('Cleaned Data')"
   ]
  },
  {
   "cell_type": "code",
   "execution_count": 22,
   "id": "360c939a",
   "metadata": {
    "ExecuteTime": {
     "end_time": "2022-09-19T13:25:33.742707Z",
     "start_time": "2022-09-19T13:25:33.737689Z"
    }
   },
   "outputs": [
    {
     "data": {
      "text/plain": [
       "(30171, 10)"
      ]
     },
     "execution_count": 22,
     "metadata": {},
     "output_type": "execute_result"
    }
   ],
   "source": [
    "cdata.shape"
   ]
  },
  {
   "cell_type": "code",
   "execution_count": 23,
   "id": "7d5c2e7c",
   "metadata": {
    "ExecuteTime": {
     "end_time": "2022-09-19T13:25:33.758635Z",
     "start_time": "2022-09-19T13:25:33.743676Z"
    },
    "scrolled": true
   },
   "outputs": [
    {
     "data": {
      "text/plain": [
       "Unnamed: 0                0\n",
       "Unnamed: 0.1              0\n",
       "name                      3\n",
       "position                  0\n",
       "age                       0\n",
       "origin_club               0\n",
       "country_origin_club     889\n",
       "new_club                  0\n",
       "country_new_club       5387\n",
       "cost                      0\n",
       "dtype: int64"
      ]
     },
     "execution_count": 23,
     "metadata": {},
     "output_type": "execute_result"
    }
   ],
   "source": [
    "cdata.isna().sum()"
   ]
  },
  {
   "cell_type": "code",
   "execution_count": 24,
   "id": "23d92389",
   "metadata": {
    "ExecuteTime": {
     "end_time": "2022-09-19T13:25:33.770631Z",
     "start_time": "2022-09-19T13:25:33.760630Z"
    }
   },
   "outputs": [],
   "source": [
    "c = 0\n",
    "l = []\n",
    "for u in cdata.name.isna():\n",
    "    if u == True:\n",
    "        l.append(c)\n",
    "    c+=1"
   ]
  },
  {
   "cell_type": "code",
   "execution_count": 25,
   "id": "eda03f17",
   "metadata": {
    "ExecuteTime": {
     "end_time": "2022-09-19T13:25:33.780605Z",
     "start_time": "2022-09-19T13:25:33.771600Z"
    }
   },
   "outputs": [],
   "source": [
    "cdata.drop(l,axis=0,inplace=True)"
   ]
  },
  {
   "cell_type": "code",
   "execution_count": 26,
   "id": "4214b678",
   "metadata": {
    "ExecuteTime": {
     "end_time": "2022-09-19T13:25:33.784567Z",
     "start_time": "2022-09-19T13:25:33.781574Z"
    }
   },
   "outputs": [],
   "source": [
    "counter = 24000"
   ]
  },
  {
   "cell_type": "code",
   "execution_count": 27,
   "id": "5e4605ae",
   "metadata": {
    "ExecuteTime": {
     "end_time": "2022-09-19T15:49:47.247002Z",
     "start_time": "2022-09-19T13:25:33.785563Z"
    },
    "scrolled": false
   },
   "outputs": [],
   "source": [
    "name = cdata.name[counter+1:counter + 2000]\n",
    "ffx = webdriver.Chrome()\n",
    "\n",
    "ffx.get(\"https://www.transfermarkt.com\")\n",
    "\n",
    "bigLi = []\n",
    "notfound = []\n",
    "\n",
    "for e in name:\n",
    "\n",
    "    li = []\n",
    "    li.append(e) \n",
    "    counter +=1\n",
    "    try:\n",
    "        # Search with player name\n",
    "        ffx.find_element(By.CSS_SELECTOR, '[class=\"tm-header__input--search-field\"]').send_keys(e) \n",
    "\n",
    "\n",
    "        # press Enter Key\n",
    "        ffx.find_element(By.CSS_SELECTOR,'[class=\"tm-header__input--search-send\"]').send_keys(Keys.ENTER) \n",
    "\n",
    "        \n",
    "        # get player profile link like :   \" https://www.transfermarkt.com/james-rodriguez/profile/spieler/88103 \"\n",
    "        url = ffx.find_element(By.CSS_SELECTOR,'td[class= \"hauptlink\"]').find_element(By.TAG_NAME,'a').get_attribute('href')\n",
    "        \n",
    "    except:\n",
    "        ffx.find_element(By.CSS_SELECTOR, '[class=\"tm-header__input--search-field\"]').clear()\n",
    "        notfound.append(counter)\n",
    "        continue\n",
    "\n",
    "    pages = ['leistungsdatenverein', 'nationalmannschaft']\n",
    "\n",
    "                #leistungsdatenverein --->  stat page\n",
    "                #nationalmannschaft  --->  natoinal team stat page\n",
    "                #marktwertverlauf   ---> markert value rank\n",
    "\n",
    "    for page in pages:                    # switching betweem website pages from change this part  ----/profile/----\n",
    "        x = url.split('/')\n",
    "        x[4] = page\n",
    "        for i in range(len(x)):\n",
    "            x[i] = x[i] + \"/\"\n",
    "        url = ''.join(str(u) for u in x)\n",
    "\n",
    "        ffx.get(url)\n",
    "\n",
    "\n",
    "\n",
    "        if page == 'leistungsdatenverein':  \n",
    "            try:\n",
    "                stat = ffx.find_element(By.CSS_SELECTOR, 'div[id=\"yw1\"]').find_element(By.TAG_NAME,'tfoot')  \n",
    "                \n",
    "                for i, j in zip(stat.find_elements(By.CSS_SELECTOR, 'td[class=\"zentriert\"]'), range(1,7)):\n",
    "                    li.append(i.get_attribute(\"innerHTML\"))\n",
    "\n",
    "                for x, j in zip(stat.find_elements(By.CSS_SELECTOR, 'td[class=\"rechts\"]'), range(7,9)):\n",
    "                    li.insert(j, x.get_attribute(\"innerHTML\"))\n",
    "            except:\n",
    "                while len(li) < 9 :\n",
    "                    li.append('none')\n",
    "\n",
    "\n",
    "        elif page == 'nationalmannschaft':  \n",
    "            try:\n",
    "                stat = ffx.find_element(By.CSS_SELECTOR, 'div[id=\"yw1\"]').find_element(By.TAG_NAME,'tfoot')\n",
    "                \n",
    "                for i, j in zip(stat.find_elements(By.CSS_SELECTOR, 'td[class=\"zentriert\"]'), range(9,15)):\n",
    "                    li.insert(j, i.get_attribute(\"innerHTML\"))\n",
    "\n",
    "                for x, j in zip(stat.find_elements(By.CSS_SELECTOR, 'td[class=\"rechts\"]'), range(15,17)):\n",
    "                    li.insert(j, x.get_attribute(\"innerHTML\"))\n",
    "            except:\n",
    "                while len(li) < 17 :\n",
    "                    li.append('none')\n",
    "\n",
    "\n",
    "    ffx.find_element(By.CSS_SELECTOR, '[class=\"tm-header__input--search-field\"]').clear()\n",
    "    bigLi.append(li)\n",
    "\n",
    "\n",
    "ffx.quit()"
   ]
  },
  {
   "cell_type": "code",
   "execution_count": 39,
   "id": "6b444bdd",
   "metadata": {
    "ExecuteTime": {
     "end_time": "2022-09-19T16:03:26.984136Z",
     "start_time": "2022-09-19T16:03:26.980146Z"
    }
   },
   "outputs": [
    {
     "data": {
      "text/plain": [
       "25999"
      ]
     },
     "execution_count": 39,
     "metadata": {},
     "output_type": "execute_result"
    }
   ],
   "source": [
    "counter"
   ]
  },
  {
   "cell_type": "code",
   "execution_count": 40,
   "id": "e7c49bfc",
   "metadata": {
    "ExecuteTime": {
     "end_time": "2022-09-19T16:03:27.383257Z",
     "start_time": "2022-09-19T16:03:27.379267Z"
    }
   },
   "outputs": [
    {
     "data": {
      "text/plain": [
       "[24031, 24074, 24525, 24591, 24596, 25076, 25601, 25885]"
      ]
     },
     "execution_count": 40,
     "metadata": {},
     "output_type": "execute_result"
    }
   ],
   "source": [
    "notfound"
   ]
  },
  {
   "cell_type": "code",
   "execution_count": 41,
   "id": "ef27ecf8",
   "metadata": {
    "ExecuteTime": {
     "end_time": "2022-09-19T16:03:27.824103Z",
     "start_time": "2022-09-19T16:03:27.819115Z"
    }
   },
   "outputs": [],
   "source": [
    "q = 0\n",
    "for z, i  in zip(bigLi, range(len(bigLi))):\n",
    "    while len(z) < 22 :\n",
    "        z.append('none')\n",
    "    else :\n",
    "        bigLi[i] = bigLi[i][:22]\n",
    "    q+=1"
   ]
  },
  {
   "cell_type": "code",
   "execution_count": 44,
   "id": "fe4229c7",
   "metadata": {
    "ExecuteTime": {
     "end_time": "2022-09-19T16:03:52.137925Z",
     "start_time": "2022-09-19T16:03:52.131941Z"
    }
   },
   "outputs": [],
   "source": [
    "df = pd.DataFrame(bigLi, columns=['names', 'apperance', 'goals', 'assists', 'yellow_card', '2nd_ycard', 'red_card', 'drop','min', 'apperance_NT', 'goals_NT', 'assists_NT', 'yellow_card_NT', '2nd_ycard_NT', 'red_card_NT', 'drop NT','min_NT','world_rank', 'league_rank', 'club_rank', 'National_rank', 'position_rank'])                                     "
   ]
  },
  {
   "cell_type": "code",
   "execution_count": 45,
   "id": "9c817ddb",
   "metadata": {
    "ExecuteTime": {
     "end_time": "2022-09-19T16:03:52.847629Z",
     "start_time": "2022-09-19T16:03:52.826684Z"
    }
   },
   "outputs": [
    {
     "data": {
      "text/html": [
       "<div>\n",
       "<style scoped>\n",
       "    .dataframe tbody tr th:only-of-type {\n",
       "        vertical-align: middle;\n",
       "    }\n",
       "\n",
       "    .dataframe tbody tr th {\n",
       "        vertical-align: top;\n",
       "    }\n",
       "\n",
       "    .dataframe thead th {\n",
       "        text-align: right;\n",
       "    }\n",
       "</style>\n",
       "<table border=\"1\" class=\"dataframe\">\n",
       "  <thead>\n",
       "    <tr style=\"text-align: right;\">\n",
       "      <th></th>\n",
       "      <th>names</th>\n",
       "      <th>apperance</th>\n",
       "      <th>goals</th>\n",
       "      <th>assists</th>\n",
       "      <th>yellow_card</th>\n",
       "      <th>2nd_ycard</th>\n",
       "      <th>red_card</th>\n",
       "      <th>drop</th>\n",
       "      <th>min</th>\n",
       "      <th>apperance_NT</th>\n",
       "      <th>...</th>\n",
       "      <th>yellow_card_NT</th>\n",
       "      <th>2nd_ycard_NT</th>\n",
       "      <th>red_card_NT</th>\n",
       "      <th>drop NT</th>\n",
       "      <th>min_NT</th>\n",
       "      <th>world_rank</th>\n",
       "      <th>league_rank</th>\n",
       "      <th>club_rank</th>\n",
       "      <th>National_rank</th>\n",
       "      <th>position_rank</th>\n",
       "    </tr>\n",
       "  </thead>\n",
       "  <tbody>\n",
       "    <tr>\n",
       "      <th>0</th>\n",
       "      <td>Ildian Shyti</td>\n",
       "      <td>38</td>\n",
       "      <td>3</td>\n",
       "      <td>-</td>\n",
       "      <td>4</td>\n",
       "      <td>-</td>\n",
       "      <td>-</td>\n",
       "      <td>Total :</td>\n",
       "      <td>2.284'</td>\n",
       "      <td>none</td>\n",
       "      <td>...</td>\n",
       "      <td>none</td>\n",
       "      <td>none</td>\n",
       "      <td>none</td>\n",
       "      <td>none</td>\n",
       "      <td>none</td>\n",
       "      <td>none</td>\n",
       "      <td>none</td>\n",
       "      <td>none</td>\n",
       "      <td>none</td>\n",
       "      <td>none</td>\n",
       "    </tr>\n",
       "    <tr>\n",
       "      <th>1</th>\n",
       "      <td>Gresild Lika</td>\n",
       "      <td>63</td>\n",
       "      <td>9</td>\n",
       "      <td>4</td>\n",
       "      <td>6</td>\n",
       "      <td>-</td>\n",
       "      <td>1</td>\n",
       "      <td>Total :</td>\n",
       "      <td>4.176'</td>\n",
       "      <td>none</td>\n",
       "      <td>...</td>\n",
       "      <td>none</td>\n",
       "      <td>none</td>\n",
       "      <td>none</td>\n",
       "      <td>none</td>\n",
       "      <td>none</td>\n",
       "      <td>none</td>\n",
       "      <td>none</td>\n",
       "      <td>none</td>\n",
       "      <td>none</td>\n",
       "      <td>none</td>\n",
       "    </tr>\n",
       "    <tr>\n",
       "      <th>2</th>\n",
       "      <td>Andrea Bianco</td>\n",
       "      <td>4</td>\n",
       "      <td>-</td>\n",
       "      <td>-</td>\n",
       "      <td>-</td>\n",
       "      <td>-</td>\n",
       "      <td>-</td>\n",
       "      <td>Total :</td>\n",
       "      <td>72'</td>\n",
       "      <td>none</td>\n",
       "      <td>...</td>\n",
       "      <td>none</td>\n",
       "      <td>none</td>\n",
       "      <td>none</td>\n",
       "      <td>none</td>\n",
       "      <td>none</td>\n",
       "      <td>none</td>\n",
       "      <td>none</td>\n",
       "      <td>none</td>\n",
       "      <td>none</td>\n",
       "      <td>none</td>\n",
       "    </tr>\n",
       "    <tr>\n",
       "      <th>3</th>\n",
       "      <td>Amadou Sagna</td>\n",
       "      <td>49</td>\n",
       "      <td>6</td>\n",
       "      <td>10</td>\n",
       "      <td>2</td>\n",
       "      <td>-</td>\n",
       "      <td>-</td>\n",
       "      <td>Total :</td>\n",
       "      <td>3.391'</td>\n",
       "      <td>9</td>\n",
       "      <td>...</td>\n",
       "      <td>-</td>\n",
       "      <td>-</td>\n",
       "      <td>-</td>\n",
       "      <td>Total :</td>\n",
       "      <td>640'</td>\n",
       "      <td>none</td>\n",
       "      <td>none</td>\n",
       "      <td>none</td>\n",
       "      <td>none</td>\n",
       "      <td>none</td>\n",
       "    </tr>\n",
       "    <tr>\n",
       "      <th>4</th>\n",
       "      <td>George Buliga</td>\n",
       "      <td>17</td>\n",
       "      <td>-</td>\n",
       "      <td>-</td>\n",
       "      <td>3</td>\n",
       "      <td>-</td>\n",
       "      <td>-</td>\n",
       "      <td>Total :</td>\n",
       "      <td>1.145'</td>\n",
       "      <td>none</td>\n",
       "      <td>...</td>\n",
       "      <td>none</td>\n",
       "      <td>none</td>\n",
       "      <td>none</td>\n",
       "      <td>none</td>\n",
       "      <td>none</td>\n",
       "      <td>none</td>\n",
       "      <td>none</td>\n",
       "      <td>none</td>\n",
       "      <td>none</td>\n",
       "      <td>none</td>\n",
       "    </tr>\n",
       "    <tr>\n",
       "      <th>...</th>\n",
       "      <td>...</td>\n",
       "      <td>...</td>\n",
       "      <td>...</td>\n",
       "      <td>...</td>\n",
       "      <td>...</td>\n",
       "      <td>...</td>\n",
       "      <td>...</td>\n",
       "      <td>...</td>\n",
       "      <td>...</td>\n",
       "      <td>...</td>\n",
       "      <td>...</td>\n",
       "      <td>...</td>\n",
       "      <td>...</td>\n",
       "      <td>...</td>\n",
       "      <td>...</td>\n",
       "      <td>...</td>\n",
       "      <td>...</td>\n",
       "      <td>...</td>\n",
       "      <td>...</td>\n",
       "      <td>...</td>\n",
       "      <td>...</td>\n",
       "    </tr>\n",
       "    <tr>\n",
       "      <th>1986</th>\n",
       "      <td>Aleksey Rodionov</td>\n",
       "      <td>87</td>\n",
       "      <td>6</td>\n",
       "      <td>3</td>\n",
       "      <td>11</td>\n",
       "      <td>-</td>\n",
       "      <td>-</td>\n",
       "      <td>Total :</td>\n",
       "      <td>3.322'</td>\n",
       "      <td>7</td>\n",
       "      <td>...</td>\n",
       "      <td>-</td>\n",
       "      <td>-</td>\n",
       "      <td>-</td>\n",
       "      <td>Total :</td>\n",
       "      <td>271'</td>\n",
       "      <td>none</td>\n",
       "      <td>none</td>\n",
       "      <td>none</td>\n",
       "      <td>none</td>\n",
       "      <td>none</td>\n",
       "    </tr>\n",
       "    <tr>\n",
       "      <th>1987</th>\n",
       "      <td>Batradz Kokoev</td>\n",
       "      <td>208</td>\n",
       "      <td>5</td>\n",
       "      <td>-</td>\n",
       "      <td>33</td>\n",
       "      <td>1</td>\n",
       "      <td>1</td>\n",
       "      <td>Total :</td>\n",
       "      <td>12.304'</td>\n",
       "      <td>none</td>\n",
       "      <td>...</td>\n",
       "      <td>none</td>\n",
       "      <td>none</td>\n",
       "      <td>none</td>\n",
       "      <td>none</td>\n",
       "      <td>none</td>\n",
       "      <td>none</td>\n",
       "      <td>none</td>\n",
       "      <td>none</td>\n",
       "      <td>none</td>\n",
       "      <td>none</td>\n",
       "    </tr>\n",
       "    <tr>\n",
       "      <th>1988</th>\n",
       "      <td>Suren Aloyan</td>\n",
       "      <td>98</td>\n",
       "      <td>-</td>\n",
       "      <td>2</td>\n",
       "      <td>-</td>\n",
       "      <td>-</td>\n",
       "      <td>158</td>\n",
       "      <td>Total :</td>\n",
       "      <td>6.911'</td>\n",
       "      <td>4</td>\n",
       "      <td>...</td>\n",
       "      <td>-</td>\n",
       "      <td>-</td>\n",
       "      <td>8</td>\n",
       "      <td>Total :</td>\n",
       "      <td>360'</td>\n",
       "      <td>none</td>\n",
       "      <td>none</td>\n",
       "      <td>none</td>\n",
       "      <td>none</td>\n",
       "      <td>none</td>\n",
       "    </tr>\n",
       "    <tr>\n",
       "      <th>1989</th>\n",
       "      <td>Vahagn Hayrapetyan</td>\n",
       "      <td>151</td>\n",
       "      <td>3</td>\n",
       "      <td>5</td>\n",
       "      <td>22</td>\n",
       "      <td>1</td>\n",
       "      <td>1</td>\n",
       "      <td>Total :</td>\n",
       "      <td>9.299'</td>\n",
       "      <td>9</td>\n",
       "      <td>...</td>\n",
       "      <td>2</td>\n",
       "      <td>-</td>\n",
       "      <td>-</td>\n",
       "      <td>Total :</td>\n",
       "      <td>610'</td>\n",
       "      <td>none</td>\n",
       "      <td>none</td>\n",
       "      <td>none</td>\n",
       "      <td>none</td>\n",
       "      <td>none</td>\n",
       "    </tr>\n",
       "    <tr>\n",
       "      <th>1990</th>\n",
       "      <td>Manu Miquel</td>\n",
       "      <td>126</td>\n",
       "      <td>7</td>\n",
       "      <td>2</td>\n",
       "      <td>40</td>\n",
       "      <td>-</td>\n",
       "      <td>3</td>\n",
       "      <td>Total :</td>\n",
       "      <td>8.360'</td>\n",
       "      <td>none</td>\n",
       "      <td>...</td>\n",
       "      <td>none</td>\n",
       "      <td>none</td>\n",
       "      <td>none</td>\n",
       "      <td>none</td>\n",
       "      <td>none</td>\n",
       "      <td>none</td>\n",
       "      <td>none</td>\n",
       "      <td>none</td>\n",
       "      <td>none</td>\n",
       "      <td>none</td>\n",
       "    </tr>\n",
       "  </tbody>\n",
       "</table>\n",
       "<p>1991 rows × 22 columns</p>\n",
       "</div>"
      ],
      "text/plain": [
       "                   names apperance goals assists yellow_card 2nd_ycard  \\\n",
       "0           Ildian Shyti        38     3       -           4         -   \n",
       "1           Gresild Lika        63     9       4           6         -   \n",
       "2          Andrea Bianco         4     -       -           -         -   \n",
       "3           Amadou Sagna        49     6      10           2         -   \n",
       "4          George Buliga        17     -       -           3         -   \n",
       "...                  ...       ...   ...     ...         ...       ...   \n",
       "1986    Aleksey Rodionov        87     6       3          11         -   \n",
       "1987      Batradz Kokoev       208     5       -          33         1   \n",
       "1988        Suren Aloyan        98     -       2           -         -   \n",
       "1989  Vahagn Hayrapetyan       151     3       5          22         1   \n",
       "1990         Manu Miquel       126     7       2          40         -   \n",
       "\n",
       "     red_card     drop      min apperance_NT  ... yellow_card_NT 2nd_ycard_NT  \\\n",
       "0           -  Total :   2.284'         none  ...           none         none   \n",
       "1           1  Total :   4.176'         none  ...           none         none   \n",
       "2           -  Total :      72'         none  ...           none         none   \n",
       "3           -  Total :   3.391'            9  ...              -            -   \n",
       "4           -  Total :   1.145'         none  ...           none         none   \n",
       "...       ...      ...      ...          ...  ...            ...          ...   \n",
       "1986        -  Total :   3.322'            7  ...              -            -   \n",
       "1987        1  Total :  12.304'         none  ...           none         none   \n",
       "1988      158  Total :   6.911'            4  ...              -            -   \n",
       "1989        1  Total :   9.299'            9  ...              2            -   \n",
       "1990        3  Total :   8.360'         none  ...           none         none   \n",
       "\n",
       "     red_card_NT   drop NT min_NT world_rank league_rank club_rank  \\\n",
       "0           none      none   none       none        none      none   \n",
       "1           none      none   none       none        none      none   \n",
       "2           none      none   none       none        none      none   \n",
       "3              -  Total :    640'       none        none      none   \n",
       "4           none      none   none       none        none      none   \n",
       "...          ...       ...    ...        ...         ...       ...   \n",
       "1986           -  Total :    271'       none        none      none   \n",
       "1987        none      none   none       none        none      none   \n",
       "1988           8  Total :    360'       none        none      none   \n",
       "1989           -  Total :    610'       none        none      none   \n",
       "1990        none      none   none       none        none      none   \n",
       "\n",
       "     National_rank position_rank  \n",
       "0             none          none  \n",
       "1             none          none  \n",
       "2             none          none  \n",
       "3             none          none  \n",
       "4             none          none  \n",
       "...            ...           ...  \n",
       "1986          none          none  \n",
       "1987          none          none  \n",
       "1988          none          none  \n",
       "1989          none          none  \n",
       "1990          none          none  \n",
       "\n",
       "[1991 rows x 22 columns]"
      ]
     },
     "execution_count": 45,
     "metadata": {},
     "output_type": "execute_result"
    }
   ],
   "source": [
    "df"
   ]
  },
  {
   "cell_type": "code",
   "execution_count": 32,
   "id": "f0c244e7",
   "metadata": {
    "ExecuteTime": {
     "end_time": "2022-09-19T15:49:47.317513Z",
     "start_time": "2022-09-19T15:49:47.298319Z"
    }
   },
   "outputs": [],
   "source": [
    "df.drop(['drop', 'drop NT'], axis= 1, inplace=True)"
   ]
  },
  {
   "cell_type": "code",
   "execution_count": 33,
   "id": "a9b34d21",
   "metadata": {
    "ExecuteTime": {
     "end_time": "2022-09-19T15:49:47.324498Z",
     "start_time": "2022-09-19T15:49:47.318510Z"
    }
   },
   "outputs": [],
   "source": [
    "df.replace('-',0, inplace=True)"
   ]
  },
  {
   "cell_type": "code",
   "execution_count": 34,
   "id": "ca98ad98",
   "metadata": {
    "ExecuteTime": {
     "end_time": "2022-09-19T15:49:47.355869Z",
     "start_time": "2022-09-19T15:49:47.325491Z"
    }
   },
   "outputs": [],
   "source": [
    "data = pd.read_csv('4thscraped_data')"
   ]
  },
  {
   "cell_type": "code",
   "execution_count": 35,
   "id": "97bb0933",
   "metadata": {
    "ExecuteTime": {
     "end_time": "2022-09-19T15:49:47.361818Z",
     "start_time": "2022-09-19T15:49:47.356831Z"
    }
   },
   "outputs": [],
   "source": [
    "data.drop(data.columns[0], axis =1 , inplace = True)"
   ]
  },
  {
   "cell_type": "code",
   "execution_count": 36,
   "id": "dd5e0a5d",
   "metadata": {
    "ExecuteTime": {
     "end_time": "2022-09-19T15:49:47.369796Z",
     "start_time": "2022-09-19T15:49:47.362815Z"
    }
   },
   "outputs": [],
   "source": [
    "data = data.append(df, ignore_index = True)"
   ]
  },
  {
   "cell_type": "code",
   "execution_count": 37,
   "id": "667b05ac",
   "metadata": {
    "ExecuteTime": {
     "end_time": "2022-09-19T15:49:47.402858Z",
     "start_time": "2022-09-19T15:49:47.370793Z"
    }
   },
   "outputs": [],
   "source": [
    "data.to_csv('4thscraped_data')"
   ]
  }
 ],
 "metadata": {
  "kernelspec": {
   "display_name": "Python 3 (ipykernel)",
   "language": "python",
   "name": "python3"
  },
  "language_info": {
   "codemirror_mode": {
    "name": "ipython",
    "version": 3
   },
   "file_extension": ".py",
   "mimetype": "text/x-python",
   "name": "python",
   "nbconvert_exporter": "python",
   "pygments_lexer": "ipython3",
   "version": "3.9.7"
  }
 },
 "nbformat": 4,
 "nbformat_minor": 5
}
