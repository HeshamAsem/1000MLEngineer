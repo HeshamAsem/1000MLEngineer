{
 "cells": [
  {
   "cell_type": "markdown",
   "id": "48846678",
   "metadata": {},
   "source": [
    "#                                  Summer football transfer 2022"
   ]
  },
  {
   "cell_type": "markdown",
   "id": "1089c72a",
   "metadata": {},
   "source": [
    "# Agenda\n",
    "\n",
    "    - Introduce the Data\n",
    "    - Basic Data Cleaning\n",
    "        Dealing with data types\n",
    "        Handling missing data\n",
    "        \n",
    "    - More Data Exploration\n",
    "        Outlier detection\n",
    "        Plotting distributions\n",
    "        \n",
    "    - Feature Engineering\n",
    "        Interactions between features\n",
    "        \n",
    "    - Feature Selection and Model Building"
   ]
  },
  {
   "cell_type": "markdown",
   "id": "e14c440e",
   "metadata": {},
   "source": [
    "# "
   ]
  },
  {
   "cell_type": "code",
   "execution_count": 1,
   "id": "8b29964a",
   "metadata": {
    "ExecuteTime": {
     "end_time": "2022-09-19T19:52:57.280640Z",
     "start_time": "2022-09-19T19:52:56.061173Z"
    }
   },
   "outputs": [
    {
     "name": "stderr",
     "output_type": "stream",
     "text": [
      "C:\\Users\\10\\anaconda3\\lib\\site-packages\\requests\\__init__.py:89: RequestsDependencyWarning: urllib3 (1.26.12) or chardet (3.0.4) doesn't match a supported version!\n",
      "  warnings.warn(\"urllib3 ({}) or chardet ({}) doesn't match a supported \"\n"
     ]
    }
   ],
   "source": [
    "import numpy as np\n",
    "import pandas as pd\n",
    "import matplotlib.pyplot as plt\n",
    "import seaborn as sns\n",
    "import io, requests\n",
    "from selenium import webdriver\n",
    "from selenium.webdriver.common.keys import Keys\n",
    "from selenium.webdriver.common.by import By\n",
    "from selenium.webdriver.support.relative_locator import locate_with\n",
    "import time"
   ]
  },
  {
   "cell_type": "markdown",
   "id": "f4679e21",
   "metadata": {},
   "source": [
    "# "
   ]
  },
  {
   "cell_type": "markdown",
   "id": "c1dae455",
   "metadata": {},
   "source": [
    " <h2 style=\"color:blue;\">Read data and display it</h2>"
   ]
  },
  {
   "cell_type": "code",
   "execution_count": 2,
   "id": "191366b8",
   "metadata": {
    "ExecuteTime": {
     "end_time": "2022-09-19T19:52:57.386451Z",
     "start_time": "2022-09-19T19:52:57.281638Z"
    }
   },
   "outputs": [],
   "source": [
    "data = pd.read_csv('Summer22_FootballTransfers.csv')"
   ]
  },
  {
   "cell_type": "code",
   "execution_count": 3,
   "id": "70f1dc06",
   "metadata": {
    "ExecuteTime": {
     "end_time": "2022-09-19T19:52:57.402315Z",
     "start_time": "2022-09-19T19:52:57.387355Z"
    }
   },
   "outputs": [
    {
     "data": {
      "text/html": [
       "<div>\n",
       "<style scoped>\n",
       "    .dataframe tbody tr th:only-of-type {\n",
       "        vertical-align: middle;\n",
       "    }\n",
       "\n",
       "    .dataframe tbody tr th {\n",
       "        vertical-align: top;\n",
       "    }\n",
       "\n",
       "    .dataframe thead th {\n",
       "        text-align: right;\n",
       "    }\n",
       "</style>\n",
       "<table border=\"1\" class=\"dataframe\">\n",
       "  <thead>\n",
       "    <tr style=\"text-align: right;\">\n",
       "      <th></th>\n",
       "      <th>name</th>\n",
       "      <th>position</th>\n",
       "      <th>age</th>\n",
       "      <th>origin_club</th>\n",
       "      <th>league_origin_club</th>\n",
       "      <th>country_origin_club</th>\n",
       "      <th>new_club</th>\n",
       "      <th>league_new_club</th>\n",
       "      <th>country_new_club</th>\n",
       "      <th>cost</th>\n",
       "      <th>date_of_transfer</th>\n",
       "    </tr>\n",
       "  </thead>\n",
       "  <tbody>\n",
       "    <tr>\n",
       "      <th>0</th>\n",
       "      <td>Amine Gouiri</td>\n",
       "      <td>Centre-Forward</td>\n",
       "      <td>22.0</td>\n",
       "      <td>OGC Nice</td>\n",
       "      <td>Ligue 1</td>\n",
       "      <td>France</td>\n",
       "      <td>Stade Rennais FC</td>\n",
       "      <td>Ligue 1</td>\n",
       "      <td>France</td>\n",
       "      <td>€42.00m</td>\n",
       "      <td>9/1/2022</td>\n",
       "    </tr>\n",
       "    <tr>\n",
       "      <th>1</th>\n",
       "      <td>Umar Sadiq</td>\n",
       "      <td>Centre-Forward</td>\n",
       "      <td>25.0</td>\n",
       "      <td>UD Almería</td>\n",
       "      <td>LaLiga</td>\n",
       "      <td>Spain</td>\n",
       "      <td>Real Sociedad</td>\n",
       "      <td>LaLiga</td>\n",
       "      <td>Spain</td>\n",
       "      <td>€18.00m</td>\n",
       "      <td>9/1/2022</td>\n",
       "    </tr>\n",
       "    <tr>\n",
       "      <th>2</th>\n",
       "      <td>Carlos Soler</td>\n",
       "      <td>Central Midfield</td>\n",
       "      <td>25.0</td>\n",
       "      <td>Valencia CF</td>\n",
       "      <td>LaLiga</td>\n",
       "      <td>Spain</td>\n",
       "      <td>Paris Saint-Germain</td>\n",
       "      <td>Ligue 1</td>\n",
       "      <td>France</td>\n",
       "      <td>€50.00m</td>\n",
       "      <td>9/1/2022</td>\n",
       "    </tr>\n",
       "    <tr>\n",
       "      <th>3</th>\n",
       "      <td>Manuel Akanji</td>\n",
       "      <td>Centre-Back</td>\n",
       "      <td>27.0</td>\n",
       "      <td>Borussia Dortmund</td>\n",
       "      <td>Bundesliga</td>\n",
       "      <td>Germany</td>\n",
       "      <td>Manchester City</td>\n",
       "      <td>Premier League</td>\n",
       "      <td>England</td>\n",
       "      <td>€30.00m</td>\n",
       "      <td>9/1/2022</td>\n",
       "    </tr>\n",
       "    <tr>\n",
       "      <th>4</th>\n",
       "      <td>Wout Faes</td>\n",
       "      <td>Centre-Back</td>\n",
       "      <td>24.0</td>\n",
       "      <td>Stade Reims</td>\n",
       "      <td>Ligue 1</td>\n",
       "      <td>France</td>\n",
       "      <td>Leicester City</td>\n",
       "      <td>Premier League</td>\n",
       "      <td>England</td>\n",
       "      <td>€10.00m</td>\n",
       "      <td>9/1/2022</td>\n",
       "    </tr>\n",
       "  </tbody>\n",
       "</table>\n",
       "</div>"
      ],
      "text/plain": [
       "            name          position   age        origin_club  \\\n",
       "0   Amine Gouiri    Centre-Forward  22.0           OGC Nice   \n",
       "1     Umar Sadiq    Centre-Forward  25.0         UD Almería   \n",
       "2   Carlos Soler  Central Midfield  25.0        Valencia CF   \n",
       "3  Manuel Akanji       Centre-Back  27.0  Borussia Dortmund   \n",
       "4      Wout Faes       Centre-Back  24.0        Stade Reims   \n",
       "\n",
       "  league_origin_club country_origin_club             new_club league_new_club  \\\n",
       "0            Ligue 1              France     Stade Rennais FC         Ligue 1   \n",
       "1             LaLiga               Spain        Real Sociedad          LaLiga   \n",
       "2             LaLiga               Spain  Paris Saint-Germain         Ligue 1   \n",
       "3         Bundesliga             Germany      Manchester City  Premier League   \n",
       "4            Ligue 1              France       Leicester City  Premier League   \n",
       "\n",
       "  country_new_club     cost date_of_transfer  \n",
       "0           France  €42.00m         9/1/2022  \n",
       "1            Spain  €18.00m         9/1/2022  \n",
       "2           France  €50.00m         9/1/2022  \n",
       "3          England  €30.00m         9/1/2022  \n",
       "4          England  €10.00m         9/1/2022  "
      ]
     },
     "execution_count": 3,
     "metadata": {},
     "output_type": "execute_result"
    }
   ],
   "source": [
    "data.head(5)"
   ]
  },
  {
   "cell_type": "markdown",
   "id": "50867d42",
   "metadata": {},
   "source": [
    "# "
   ]
  },
  {
   "cell_type": "markdown",
   "id": "fb7e62c2",
   "metadata": {},
   "source": [
    "<h2 style=\"color:blue;\">Data insigths</h2>"
   ]
  },
  {
   "cell_type": "code",
   "execution_count": 4,
   "id": "6761734e",
   "metadata": {
    "ExecuteTime": {
     "end_time": "2022-09-19T19:52:57.536501Z",
     "start_time": "2022-09-19T19:52:57.531516Z"
    },
    "scrolled": true
   },
   "outputs": [
    {
     "name": "stdout",
     "output_type": "stream",
     "text": [
      "Data has  33625  records and  11  features\n"
     ]
    }
   ],
   "source": [
    "print(\"Data has  \" + str(data.shape[0]) + \"  records and  \" + str(data.shape[1]) + \"  features\")"
   ]
  },
  {
   "cell_type": "code",
   "execution_count": 5,
   "id": "dfaa27c0",
   "metadata": {
    "ExecuteTime": {
     "end_time": "2022-09-19T19:52:57.778213Z",
     "start_time": "2022-09-19T19:52:57.756272Z"
    },
    "scrolled": true
   },
   "outputs": [
    {
     "name": "stdout",
     "output_type": "stream",
     "text": [
      "<class 'pandas.core.frame.DataFrame'>\n",
      "RangeIndex: 33625 entries, 0 to 33624\n",
      "Data columns (total 11 columns):\n",
      " #   Column               Non-Null Count  Dtype  \n",
      "---  ------               --------------  -----  \n",
      " 0   name                 33620 non-null  object \n",
      " 1   position             33615 non-null  object \n",
      " 2   age                  33477 non-null  float64\n",
      " 3   origin_club          33620 non-null  object \n",
      " 4   league_origin_club   32685 non-null  object \n",
      " 5   country_origin_club  32690 non-null  object \n",
      " 6   new_club             33615 non-null  object \n",
      " 7   league_new_club      28047 non-null  object \n",
      " 8   country_new_club     28051 non-null  object \n",
      " 9   cost                 33621 non-null  object \n",
      " 10  date_of_transfer     33625 non-null  object \n",
      "dtypes: float64(1), object(10)\n",
      "memory usage: 2.8+ MB\n"
     ]
    }
   ],
   "source": [
    "data.info()"
   ]
  },
  {
   "cell_type": "code",
   "execution_count": 6,
   "id": "f9dcdf5a",
   "metadata": {
    "ExecuteTime": {
     "end_time": "2022-09-19T19:52:58.004476Z",
     "start_time": "2022-09-19T19:52:57.988520Z"
    },
    "scrolled": true
   },
   "outputs": [
    {
     "data": {
      "text/plain": [
       "name                      5\n",
       "position                 10\n",
       "age                     148\n",
       "origin_club               5\n",
       "league_origin_club      940\n",
       "country_origin_club     935\n",
       "new_club                 10\n",
       "league_new_club        5578\n",
       "country_new_club       5574\n",
       "cost                      4\n",
       "date_of_transfer          0\n",
       "dtype: int64"
      ]
     },
     "execution_count": 6,
     "metadata": {},
     "output_type": "execute_result"
    }
   ],
   "source": [
    "data.isna().sum()         # na values"
   ]
  },
  {
   "cell_type": "markdown",
   "id": "c90c2055",
   "metadata": {},
   "source": [
    "# "
   ]
  },
  {
   "cell_type": "markdown",
   "id": "a0909077",
   "metadata": {},
   "source": [
    "# "
   ]
  },
  {
   "cell_type": "markdown",
   "id": "ac573d74",
   "metadata": {},
   "source": [
    "<h2 style=\"color:blue;\">Data cleaning</h2>\n",
    "<div>\n",
    "    \n",
    "    1 data in wrong format --> 'cost' column data type\n",
    "    2 data missing at ['age', 'postiton', 'origin_club', 'new_club']\n",
    "    3 wrong Data\n",
    "</div>"
   ]
  },
  {
   "cell_type": "markdown",
   "id": "803e4a7f",
   "metadata": {},
   "source": [
    "## 1 Customize datatype of   ' cost '   column as integer value"
   ]
  },
  {
   "cell_type": "code",
   "execution_count": 7,
   "id": "1e02b42a",
   "metadata": {
    "ExecuteTime": {
     "end_time": "2022-09-19T19:53:02.688825Z",
     "start_time": "2022-09-19T19:53:02.683869Z"
    }
   },
   "outputs": [
    {
     "data": {
      "text/plain": [
       "0    €42.00m\n",
       "1    €18.00m\n",
       "Name: cost, dtype: object"
      ]
     },
     "execution_count": 7,
     "metadata": {},
     "output_type": "execute_result"
    }
   ],
   "source": [
    "data.cost.head(2)"
   ]
  },
  {
   "cell_type": "code",
   "execution_count": 8,
   "id": "577ddecc",
   "metadata": {
    "ExecuteTime": {
     "end_time": "2022-09-19T19:53:03.080067Z",
     "start_time": "2022-09-19T19:53:03.076077Z"
    },
    "scrolled": true
   },
   "outputs": [
    {
     "data": {
      "text/plain": [
       "dtype('O')"
      ]
     },
     "execution_count": 8,
     "metadata": {},
     "output_type": "execute_result"
    }
   ],
   "source": [
    "data.cost.dtype"
   ]
  },
  {
   "cell_type": "code",
   "execution_count": 9,
   "id": "dbe90658",
   "metadata": {
    "ExecuteTime": {
     "end_time": "2022-09-19T19:53:03.280312Z",
     "start_time": "2022-09-19T19:53:03.276322Z"
    }
   },
   "outputs": [],
   "source": [
    "def customizer(val):\n",
    "    str(val)          # we used str() because float-point number not accessable ---> 'float value is not subscriptable object'\n",
    "    if (val[-1] == 'm'): \n",
    "        val = pd.to_numeric(val[1:-1])  \n",
    "        return val*10**6\n",
    "    \n",
    "    else:\n",
    "        val = pd.to_numeric(val[1:-3])\n",
    "        return val*10**3"
   ]
  },
  {
   "cell_type": "code",
   "execution_count": 10,
   "id": "475d521f",
   "metadata": {
    "ExecuteTime": {
     "end_time": "2022-09-19T19:53:03.489112Z",
     "start_time": "2022-09-19T19:53:03.485122Z"
    },
    "scrolled": true
   },
   "outputs": [
    {
     "data": {
      "text/plain": [
       "1000"
      ]
     },
     "execution_count": 10,
     "metadata": {},
     "output_type": "execute_result"
    }
   ],
   "source": [
    "customizer(\"€1th.\")"
   ]
  },
  {
   "cell_type": "code",
   "execution_count": 11,
   "id": "062b1087",
   "metadata": {
    "ExecuteTime": {
     "end_time": "2022-09-19T19:53:04.630216Z",
     "start_time": "2022-09-19T19:53:04.164479Z"
    }
   },
   "outputs": [],
   "source": [
    "data.cost = data.cost.apply(lambda val : pd.to_numeric(str(val)[1:-1])*10**6 if(str(val)[-1] == 'm') else pd.to_numeric(str(val)[1:-3])*10**3)"
   ]
  },
  {
   "cell_type": "code",
   "execution_count": 103,
   "id": "2ef7e907",
   "metadata": {
    "ExecuteTime": {
     "end_time": "2022-09-16T20:46:47.518261Z",
     "start_time": "2022-09-16T20:46:47.509243Z"
    },
    "scrolled": true
   },
   "outputs": [
    {
     "data": {
      "text/html": [
       "<div>\n",
       "<style scoped>\n",
       "    .dataframe tbody tr th:only-of-type {\n",
       "        vertical-align: middle;\n",
       "    }\n",
       "\n",
       "    .dataframe tbody tr th {\n",
       "        vertical-align: top;\n",
       "    }\n",
       "\n",
       "    .dataframe thead th {\n",
       "        text-align: right;\n",
       "    }\n",
       "</style>\n",
       "<table border=\"1\" class=\"dataframe\">\n",
       "  <thead>\n",
       "    <tr style=\"text-align: right;\">\n",
       "      <th></th>\n",
       "      <th>name</th>\n",
       "      <th>position</th>\n",
       "      <th>age</th>\n",
       "      <th>origin_club</th>\n",
       "      <th>league_origin_club</th>\n",
       "      <th>country_origin_club</th>\n",
       "      <th>new_club</th>\n",
       "      <th>league_new_club</th>\n",
       "      <th>country_new_club</th>\n",
       "      <th>cost</th>\n",
       "      <th>date_of_transfer</th>\n",
       "    </tr>\n",
       "  </thead>\n",
       "  <tbody>\n",
       "    <tr>\n",
       "      <th>0</th>\n",
       "      <td>Amine Gouiri</td>\n",
       "      <td>Centre-Forward</td>\n",
       "      <td>22.0</td>\n",
       "      <td>OGC Nice</td>\n",
       "      <td>Ligue 1</td>\n",
       "      <td>France</td>\n",
       "      <td>Stade Rennais FC</td>\n",
       "      <td>Ligue 1</td>\n",
       "      <td>France</td>\n",
       "      <td>42000000.0</td>\n",
       "      <td>9/1/2022</td>\n",
       "    </tr>\n",
       "    <tr>\n",
       "      <th>1</th>\n",
       "      <td>Umar Sadiq</td>\n",
       "      <td>Centre-Forward</td>\n",
       "      <td>25.0</td>\n",
       "      <td>UD Almería</td>\n",
       "      <td>LaLiga</td>\n",
       "      <td>Spain</td>\n",
       "      <td>Real Sociedad</td>\n",
       "      <td>LaLiga</td>\n",
       "      <td>Spain</td>\n",
       "      <td>18000000.0</td>\n",
       "      <td>9/1/2022</td>\n",
       "    </tr>\n",
       "  </tbody>\n",
       "</table>\n",
       "</div>"
      ],
      "text/plain": [
       "           name        position   age origin_club league_origin_club  \\\n",
       "0  Amine Gouiri  Centre-Forward  22.0    OGC Nice            Ligue 1   \n",
       "1    Umar Sadiq  Centre-Forward  25.0  UD Almería             LaLiga   \n",
       "\n",
       "  country_origin_club          new_club league_new_club country_new_club  \\\n",
       "0              France  Stade Rennais FC         Ligue 1           France   \n",
       "1               Spain     Real Sociedad          LaLiga            Spain   \n",
       "\n",
       "         cost date_of_transfer  \n",
       "0  42000000.0         9/1/2022  \n",
       "1  18000000.0         9/1/2022  "
      ]
     },
     "execution_count": 103,
     "metadata": {},
     "output_type": "execute_result"
    }
   ],
   "source": [
    "data.head(2)"
   ]
  },
  {
   "cell_type": "markdown",
   "id": "c70463fa",
   "metadata": {},
   "source": [
    "# "
   ]
  },
  {
   "cell_type": "code",
   "execution_count": 104,
   "id": "6cd4feaa",
   "metadata": {
    "ExecuteTime": {
     "end_time": "2022-09-16T20:46:48.587078Z",
     "start_time": "2022-09-16T20:46:48.582092Z"
    },
    "scrolled": true
   },
   "outputs": [
    {
     "data": {
      "text/plain": [
       "name                    object\n",
       "position                object\n",
       "age                    float64\n",
       "origin_club             object\n",
       "league_origin_club      object\n",
       "country_origin_club     object\n",
       "new_club                object\n",
       "league_new_club         object\n",
       "country_new_club        object\n",
       "cost                   float64\n",
       "date_of_transfer        object\n",
       "dtype: object"
      ]
     },
     "execution_count": 104,
     "metadata": {},
     "output_type": "execute_result"
    }
   ],
   "source": [
    "data.dtypes"
   ]
  },
  {
   "cell_type": "code",
   "execution_count": 105,
   "id": "da5f5953",
   "metadata": {
    "ExecuteTime": {
     "end_time": "2022-09-16T20:46:48.860627Z",
     "start_time": "2022-09-16T20:46:48.853646Z"
    },
    "scrolled": true
   },
   "outputs": [
    {
     "data": {
      "text/plain": [
       "count    33477.000000\n",
       "mean        25.020432\n",
       "std          4.784488\n",
       "min         15.000000\n",
       "25%         21.000000\n",
       "50%         24.000000\n",
       "75%         28.000000\n",
       "max         46.000000\n",
       "Name: age, dtype: float64"
      ]
     },
     "execution_count": 105,
     "metadata": {},
     "output_type": "execute_result"
    }
   ],
   "source": [
    "data.age.describe()"
   ]
  },
  {
   "cell_type": "code",
   "execution_count": 106,
   "id": "f3770c0b",
   "metadata": {
    "ExecuteTime": {
     "end_time": "2022-09-16T20:46:49.233644Z",
     "start_time": "2022-09-16T20:46:49.229654Z"
    }
   },
   "outputs": [],
   "source": [
    "data.age = data.age.astype('f2')"
   ]
  },
  {
   "cell_type": "code",
   "execution_count": 107,
   "id": "3d5aebfb",
   "metadata": {
    "ExecuteTime": {
     "end_time": "2022-09-16T20:46:49.692708Z",
     "start_time": "2022-09-16T20:46:49.685727Z"
    }
   },
   "outputs": [
    {
     "data": {
      "text/plain": [
       "count    3.362100e+04\n",
       "mean     4.783108e+05\n",
       "std      2.429271e+06\n",
       "min      8.000000e+03\n",
       "25%      5.000000e+04\n",
       "50%      1.000000e+05\n",
       "75%      2.500000e+05\n",
       "max      1.500000e+08\n",
       "Name: cost, dtype: float64"
      ]
     },
     "execution_count": 107,
     "metadata": {},
     "output_type": "execute_result"
    }
   ],
   "source": [
    "data.cost.describe()"
   ]
  },
  {
   "cell_type": "code",
   "execution_count": 108,
   "id": "ab012879",
   "metadata": {
    "ExecuteTime": {
     "end_time": "2022-09-16T20:46:50.080881Z",
     "start_time": "2022-09-16T20:46:50.077889Z"
    }
   },
   "outputs": [],
   "source": [
    "data.cost = data.cost.astype('f4')"
   ]
  },
  {
   "cell_type": "code",
   "execution_count": 109,
   "id": "1b59e253",
   "metadata": {
    "ExecuteTime": {
     "end_time": "2022-09-16T20:46:50.471076Z",
     "start_time": "2022-09-16T20:46:50.454121Z"
    },
    "scrolled": true
   },
   "outputs": [
    {
     "name": "stdout",
     "output_type": "stream",
     "text": [
      "<class 'pandas.core.frame.DataFrame'>\n",
      "RangeIndex: 33625 entries, 0 to 33624\n",
      "Data columns (total 11 columns):\n",
      " #   Column               Non-Null Count  Dtype  \n",
      "---  ------               --------------  -----  \n",
      " 0   name                 33620 non-null  object \n",
      " 1   position             33615 non-null  object \n",
      " 2   age                  33477 non-null  float16\n",
      " 3   origin_club          33620 non-null  object \n",
      " 4   league_origin_club   32685 non-null  object \n",
      " 5   country_origin_club  32690 non-null  object \n",
      " 6   new_club             33615 non-null  object \n",
      " 7   league_new_club      28047 non-null  object \n",
      " 8   country_new_club     28051 non-null  object \n",
      " 9   cost                 33621 non-null  float32\n",
      " 10  date_of_transfer     33625 non-null  object \n",
      "dtypes: float16(1), float32(1), object(9)\n",
      "memory usage: 2.5+ MB\n"
     ]
    }
   ],
   "source": [
    "data.info()"
   ]
  },
  {
   "cell_type": "markdown",
   "id": "cf9e315b",
   "metadata": {},
   "source": [
    "# "
   ]
  },
  {
   "cell_type": "markdown",
   "id": "5a2cdb91",
   "metadata": {},
   "source": [
    "## 2 Wrong Data"
   ]
  },
  {
   "cell_type": "code",
   "execution_count": 13,
   "id": "06e664ea",
   "metadata": {
    "ExecuteTime": {
     "end_time": "2022-09-19T05:55:38.354018Z",
     "start_time": "2022-09-19T05:55:38.338080Z"
    }
   },
   "outputs": [
    {
     "data": {
      "text/html": [
       "<div>\n",
       "<style scoped>\n",
       "    .dataframe tbody tr th:only-of-type {\n",
       "        vertical-align: middle;\n",
       "    }\n",
       "\n",
       "    .dataframe tbody tr th {\n",
       "        vertical-align: top;\n",
       "    }\n",
       "\n",
       "    .dataframe thead th {\n",
       "        text-align: right;\n",
       "    }\n",
       "</style>\n",
       "<table border=\"1\" class=\"dataframe\">\n",
       "  <thead>\n",
       "    <tr style=\"text-align: right;\">\n",
       "      <th></th>\n",
       "      <th>name</th>\n",
       "      <th>position</th>\n",
       "      <th>age</th>\n",
       "      <th>origin_club</th>\n",
       "      <th>league_origin_club</th>\n",
       "      <th>country_origin_club</th>\n",
       "      <th>new_club</th>\n",
       "      <th>league_new_club</th>\n",
       "      <th>country_new_club</th>\n",
       "      <th>cost</th>\n",
       "      <th>date_of_transfer</th>\n",
       "    </tr>\n",
       "  </thead>\n",
       "  <tbody>\n",
       "    <tr>\n",
       "      <th>36</th>\n",
       "      <td>Mohamed Sobhi</td>\n",
       "      <td>Goalkeeper</td>\n",
       "      <td>23.0</td>\n",
       "      <td>Zamalek SC</td>\n",
       "      <td>Premier League</td>\n",
       "      <td>Egypt</td>\n",
       "      <td>Pharco FC</td>\n",
       "      <td>Premier League</td>\n",
       "      <td>Egypt</td>\n",
       "      <td>€500Th.</td>\n",
       "      <td>9/1/2022</td>\n",
       "    </tr>\n",
       "    <tr>\n",
       "      <th>41</th>\n",
       "      <td>Mohanad Lasheen</td>\n",
       "      <td>Central Midfield</td>\n",
       "      <td>26.0</td>\n",
       "      <td>Tala'ea El Gaish</td>\n",
       "      <td>Premier League</td>\n",
       "      <td>Egypt</td>\n",
       "      <td>Future FC</td>\n",
       "      <td>Premier League</td>\n",
       "      <td>Egypt</td>\n",
       "      <td>€500Th.</td>\n",
       "      <td>9/1/2022</td>\n",
       "    </tr>\n",
       "    <tr>\n",
       "      <th>42</th>\n",
       "      <td>Mohamed Reda</td>\n",
       "      <td>Central Midfield</td>\n",
       "      <td>21.0</td>\n",
       "      <td>Wadi Degla FC</td>\n",
       "      <td>Egypt</td>\n",
       "      <td>Egypt</td>\n",
       "      <td>Future FC</td>\n",
       "      <td>Premier League</td>\n",
       "      <td>Egypt</td>\n",
       "      <td>€150Th.</td>\n",
       "      <td>9/1/2022</td>\n",
       "    </tr>\n",
       "    <tr>\n",
       "      <th>43</th>\n",
       "      <td>Ahmed Atef</td>\n",
       "      <td>Centre-Forward</td>\n",
       "      <td>24.0</td>\n",
       "      <td>Wadi Degla FC</td>\n",
       "      <td>Egypt</td>\n",
       "      <td>Egypt</td>\n",
       "      <td>Future FC</td>\n",
       "      <td>Premier League</td>\n",
       "      <td>Egypt</td>\n",
       "      <td>€200Th.</td>\n",
       "      <td>9/1/2022</td>\n",
       "    </tr>\n",
       "    <tr>\n",
       "      <th>56</th>\n",
       "      <td>Yassin Marei</td>\n",
       "      <td>Centre-Back</td>\n",
       "      <td>20.0</td>\n",
       "      <td>Zamalek SC U21</td>\n",
       "      <td>Egypt</td>\n",
       "      <td>Egypt</td>\n",
       "      <td>Pharco FC</td>\n",
       "      <td>Premier League</td>\n",
       "      <td>Egypt</td>\n",
       "      <td>€50Th.</td>\n",
       "      <td>9/1/2022</td>\n",
       "    </tr>\n",
       "    <tr>\n",
       "      <th>...</th>\n",
       "      <td>...</td>\n",
       "      <td>...</td>\n",
       "      <td>...</td>\n",
       "      <td>...</td>\n",
       "      <td>...</td>\n",
       "      <td>...</td>\n",
       "      <td>...</td>\n",
       "      <td>...</td>\n",
       "      <td>...</td>\n",
       "      <td>...</td>\n",
       "      <td>...</td>\n",
       "    </tr>\n",
       "    <tr>\n",
       "      <th>32786</th>\n",
       "      <td>Mostafa El Rouby</td>\n",
       "      <td>Goalkeeper</td>\n",
       "      <td>21.0</td>\n",
       "      <td>Wadi Degla FC U23</td>\n",
       "      <td>Egypt</td>\n",
       "      <td>Egypt</td>\n",
       "      <td>Without Club</td>\n",
       "      <td>NaN</td>\n",
       "      <td>NaN</td>\n",
       "      <td>€25Th.</td>\n",
       "      <td>7/1/2022</td>\n",
       "    </tr>\n",
       "    <tr>\n",
       "      <th>32807</th>\n",
       "      <td>Moaz Ahmed</td>\n",
       "      <td>Centre-Back</td>\n",
       "      <td>19.0</td>\n",
       "      <td>Wadi Degla FC U23</td>\n",
       "      <td>Egypt</td>\n",
       "      <td>Egypt</td>\n",
       "      <td>Without Club</td>\n",
       "      <td>NaN</td>\n",
       "      <td>NaN</td>\n",
       "      <td>€25Th.</td>\n",
       "      <td>7/1/2022</td>\n",
       "    </tr>\n",
       "    <tr>\n",
       "      <th>33287</th>\n",
       "      <td>Marwan Shawky</td>\n",
       "      <td>Centre-Forward</td>\n",
       "      <td>22.0</td>\n",
       "      <td>Wadi Degla FC</td>\n",
       "      <td>Egypt</td>\n",
       "      <td>Egypt</td>\n",
       "      <td>Without Club</td>\n",
       "      <td>NaN</td>\n",
       "      <td>NaN</td>\n",
       "      <td>€25Th.</td>\n",
       "      <td>7/1/2022</td>\n",
       "    </tr>\n",
       "    <tr>\n",
       "      <th>33351</th>\n",
       "      <td>Alaa Abbas</td>\n",
       "      <td>Left Winger</td>\n",
       "      <td>31.0</td>\n",
       "      <td>Harras El Hodoud</td>\n",
       "      <td>Premier League</td>\n",
       "      <td>Egypt</td>\n",
       "      <td>Without Club</td>\n",
       "      <td>NaN</td>\n",
       "      <td>NaN</td>\n",
       "      <td>€50Th.</td>\n",
       "      <td>7/1/2022</td>\n",
       "    </tr>\n",
       "    <tr>\n",
       "      <th>33441</th>\n",
       "      <td>Ahmed Farag</td>\n",
       "      <td>Centre-Forward</td>\n",
       "      <td>21.0</td>\n",
       "      <td>Wadi Degla FC U23</td>\n",
       "      <td>Egypt</td>\n",
       "      <td>Egypt</td>\n",
       "      <td>Without Club</td>\n",
       "      <td>NaN</td>\n",
       "      <td>NaN</td>\n",
       "      <td>€50Th.</td>\n",
       "      <td>7/1/2022</td>\n",
       "    </tr>\n",
       "  </tbody>\n",
       "</table>\n",
       "<p>118 rows × 11 columns</p>\n",
       "</div>"
      ],
      "text/plain": [
       "                   name          position   age        origin_club  \\\n",
       "36        Mohamed Sobhi        Goalkeeper  23.0         Zamalek SC   \n",
       "41      Mohanad Lasheen  Central Midfield  26.0   Tala'ea El Gaish   \n",
       "42         Mohamed Reda  Central Midfield  21.0      Wadi Degla FC   \n",
       "43           Ahmed Atef    Centre-Forward  24.0      Wadi Degla FC   \n",
       "56         Yassin Marei       Centre-Back  20.0     Zamalek SC U21   \n",
       "...                 ...               ...   ...                ...   \n",
       "32786  Mostafa El Rouby        Goalkeeper  21.0  Wadi Degla FC U23   \n",
       "32807        Moaz Ahmed       Centre-Back  19.0  Wadi Degla FC U23   \n",
       "33287     Marwan Shawky    Centre-Forward  22.0      Wadi Degla FC   \n",
       "33351        Alaa Abbas       Left Winger  31.0   Harras El Hodoud   \n",
       "33441       Ahmed Farag    Centre-Forward  21.0  Wadi Degla FC U23   \n",
       "\n",
       "      league_origin_club country_origin_club      new_club league_new_club  \\\n",
       "36        Premier League               Egypt     Pharco FC  Premier League   \n",
       "41        Premier League               Egypt     Future FC  Premier League   \n",
       "42                 Egypt               Egypt     Future FC  Premier League   \n",
       "43                 Egypt               Egypt     Future FC  Premier League   \n",
       "56                 Egypt               Egypt     Pharco FC  Premier League   \n",
       "...                  ...                 ...           ...             ...   \n",
       "32786              Egypt               Egypt  Without Club             NaN   \n",
       "32807              Egypt               Egypt  Without Club             NaN   \n",
       "33287              Egypt               Egypt  Without Club             NaN   \n",
       "33351     Premier League               Egypt  Without Club             NaN   \n",
       "33441              Egypt               Egypt  Without Club             NaN   \n",
       "\n",
       "      country_new_club     cost date_of_transfer  \n",
       "36               Egypt  €500Th.         9/1/2022  \n",
       "41               Egypt  €500Th.         9/1/2022  \n",
       "42               Egypt  €150Th.         9/1/2022  \n",
       "43               Egypt  €200Th.         9/1/2022  \n",
       "56               Egypt   €50Th.         9/1/2022  \n",
       "...                ...      ...              ...  \n",
       "32786              NaN   €25Th.         7/1/2022  \n",
       "32807              NaN   €25Th.         7/1/2022  \n",
       "33287              NaN   €25Th.         7/1/2022  \n",
       "33351              NaN   €50Th.         7/1/2022  \n",
       "33441              NaN   €50Th.         7/1/2022  \n",
       "\n",
       "[118 rows x 11 columns]"
      ]
     },
     "execution_count": 13,
     "metadata": {},
     "output_type": "execute_result"
    }
   ],
   "source": [
    "data[ data['country_origin_club'] == 'Egypt' ]"
   ]
  },
  {
   "cell_type": "code",
   "execution_count": 111,
   "id": "0c89ed9f",
   "metadata": {
    "ExecuteTime": {
     "end_time": "2022-09-16T20:46:52.228133Z",
     "start_time": "2022-09-16T20:46:52.222149Z"
    },
    "scrolled": true
   },
   "outputs": [],
   "source": [
    "#drop unuseful features\n",
    "data.drop([ 'league_origin_club' , 'league_new_club' , 'date_of_transfer' ], axis=1, inplace= True)"
   ]
  },
  {
   "cell_type": "markdown",
   "id": "da8afadf",
   "metadata": {},
   "source": [
    "# "
   ]
  },
  {
   "cell_type": "markdown",
   "id": "a34791e5",
   "metadata": {},
   "source": [
    "## 3 Missing Data in ' position ' Column"
   ]
  },
  {
   "cell_type": "code",
   "execution_count": 112,
   "id": "623cecef",
   "metadata": {
    "ExecuteTime": {
     "end_time": "2022-09-16T20:46:54.170542Z",
     "start_time": "2022-09-16T20:46:54.165528Z"
    }
   },
   "outputs": [
    {
     "data": {
      "text/plain": [
       "10"
      ]
     },
     "execution_count": 112,
     "metadata": {},
     "output_type": "execute_result"
    }
   ],
   "source": [
    "data.position.isna().sum()"
   ]
  },
  {
   "cell_type": "code",
   "execution_count": 113,
   "id": "0233c1dc",
   "metadata": {
    "ExecuteTime": {
     "end_time": "2022-09-16T20:46:55.425096Z",
     "start_time": "2022-09-16T20:46:55.413129Z"
    }
   },
   "outputs": [
    {
     "name": "stdout",
     "output_type": "stream",
     "text": [
      "2753\n",
      "2754\n",
      "2755\n",
      "2756\n",
      "2757\n",
      "25188\n",
      "25189\n",
      "25190\n",
      "25191\n",
      "25192\n"
     ]
    }
   ],
   "source": [
    "c = 0\n",
    "for i in data.position.isna():\n",
    "    if i == True: \n",
    "        print(c)\n",
    "    c+=1"
   ]
  },
  {
   "cell_type": "code",
   "execution_count": 114,
   "id": "6f1df375",
   "metadata": {
    "ExecuteTime": {
     "end_time": "2022-09-16T20:46:56.616611Z",
     "start_time": "2022-09-16T20:46:56.607607Z"
    },
    "scrolled": false
   },
   "outputs": [
    {
     "data": {
      "text/html": [
       "<div>\n",
       "<style scoped>\n",
       "    .dataframe tbody tr th:only-of-type {\n",
       "        vertical-align: middle;\n",
       "    }\n",
       "\n",
       "    .dataframe tbody tr th {\n",
       "        vertical-align: top;\n",
       "    }\n",
       "\n",
       "    .dataframe thead th {\n",
       "        text-align: right;\n",
       "    }\n",
       "</style>\n",
       "<table border=\"1\" class=\"dataframe\">\n",
       "  <thead>\n",
       "    <tr style=\"text-align: right;\">\n",
       "      <th></th>\n",
       "      <th>name</th>\n",
       "      <th>position</th>\n",
       "      <th>age</th>\n",
       "      <th>origin_club</th>\n",
       "      <th>country_origin_club</th>\n",
       "      <th>new_club</th>\n",
       "      <th>country_new_club</th>\n",
       "      <th>cost</th>\n",
       "    </tr>\n",
       "  </thead>\n",
       "  <tbody>\n",
       "    <tr>\n",
       "      <th>25188</th>\n",
       "      <td>Eljo Iba</td>\n",
       "      <td>NaN</td>\n",
       "      <td>NaN</td>\n",
       "      <td>NaN</td>\n",
       "      <td>Indonesia</td>\n",
       "      <td>Persipura Jayapura</td>\n",
       "      <td>Indonesia</td>\n",
       "      <td>100000.0</td>\n",
       "    </tr>\n",
       "    <tr>\n",
       "      <th>25189</th>\n",
       "      <td>Ángel Robles</td>\n",
       "      <td>NaN</td>\n",
       "      <td>NaN</td>\n",
       "      <td>NaN</td>\n",
       "      <td>Mexico</td>\n",
       "      <td>Club Atlético Morelia</td>\n",
       "      <td>Mexico</td>\n",
       "      <td>200000.0</td>\n",
       "    </tr>\n",
       "    <tr>\n",
       "      <th>25190</th>\n",
       "      <td>Gian-Luca Reck</td>\n",
       "      <td>NaN</td>\n",
       "      <td>NaN</td>\n",
       "      <td>NaN</td>\n",
       "      <td>Germany</td>\n",
       "      <td>1.FC Bocholt</td>\n",
       "      <td>Germany</td>\n",
       "      <td>10000.0</td>\n",
       "    </tr>\n",
       "    <tr>\n",
       "      <th>25191</th>\n",
       "      <td>Kian Harratt</td>\n",
       "      <td>NaN</td>\n",
       "      <td>NaN</td>\n",
       "      <td>NaN</td>\n",
       "      <td>England</td>\n",
       "      <td>Bradford City</td>\n",
       "      <td>England</td>\n",
       "      <td>50000.0</td>\n",
       "    </tr>\n",
       "    <tr>\n",
       "      <th>25192</th>\n",
       "      <td>Michael Pavlovic</td>\n",
       "      <td>NaN</td>\n",
       "      <td>NaN</td>\n",
       "      <td>NaN</td>\n",
       "      <td>Slovenia</td>\n",
       "      <td>FC Koper</td>\n",
       "      <td>Slovenia</td>\n",
       "      <td>300000.0</td>\n",
       "    </tr>\n",
       "  </tbody>\n",
       "</table>\n",
       "</div>"
      ],
      "text/plain": [
       "                   name position  age origin_club country_origin_club  \\\n",
       "25188          Eljo Iba      NaN  NaN         NaN           Indonesia   \n",
       "25189      Ángel Robles      NaN  NaN         NaN              Mexico   \n",
       "25190    Gian-Luca Reck      NaN  NaN         NaN             Germany   \n",
       "25191      Kian Harratt      NaN  NaN         NaN             England   \n",
       "25192  Michael Pavlovic      NaN  NaN         NaN            Slovenia   \n",
       "\n",
       "                    new_club country_new_club      cost  \n",
       "25188     Persipura Jayapura        Indonesia  100000.0  \n",
       "25189  Club Atlético Morelia           Mexico  200000.0  \n",
       "25190           1.FC Bocholt          Germany   10000.0  \n",
       "25191          Bradford City          England   50000.0  \n",
       "25192               FC Koper         Slovenia  300000.0  "
      ]
     },
     "execution_count": 114,
     "metadata": {},
     "output_type": "execute_result"
    }
   ],
   "source": [
    "data[ 25188:25193 ]"
   ]
  },
  {
   "cell_type": "code",
   "execution_count": 115,
   "id": "b26c650d",
   "metadata": {
    "ExecuteTime": {
     "end_time": "2022-09-16T20:46:58.057683Z",
     "start_time": "2022-09-16T20:46:58.053707Z"
    }
   },
   "outputs": [
    {
     "data": {
      "text/plain": [
       "['Eljo Iba',\n",
       " 'Ángel Robles',\n",
       " 'Gian-Luca Reck',\n",
       " 'Kian Harratt',\n",
       " 'Michael Pavlovic']"
      ]
     },
     "execution_count": 115,
     "metadata": {},
     "output_type": "execute_result"
    }
   ],
   "source": [
    "playersNames = data.name[25188:25193].tolist()\n",
    "playersNames"
   ]
  },
  {
   "cell_type": "code",
   "execution_count": null,
   "id": "6d1ac7be",
   "metadata": {
    "ExecuteTime": {
     "end_time": "2022-09-15T00:04:13.349985Z",
     "start_time": "2022-09-15T00:04:06.625744Z"
    },
    "scrolled": true
   },
   "outputs": [],
   "source": [
    "ffx = webdriver.Chrome()\n",
    "\n",
    "ffx.get(\"https://www.transfermarkt.com\")\n",
    "\n",
    "print('position    age')\n",
    "\n",
    "li7 = []\n",
    "\n",
    "for i in playersNames:\n",
    "    ffx.find_element(By.CSS_SELECTOR, '[class=\"tm-header__input--search-field\"]').send_keys(i) # Search with player name\n",
    "    ffx.find_element(By.CSS_SELECTOR,'[class=\"tm-header__input--search-send\"]').send_keys(Keys.ENTER) # press Enter Key\n",
    "    \n",
    "    for player in ffx.find_elements(By.CSS_SELECTOR,'td[class= \"zentriert\"]'):\n",
    "        li7.append(player.text)\n",
    "    ffx.find_element(By.CSS_SELECTOR, '[class=\"tm-header__input--search-field\"]').clear()\n",
    "ffx.quit()\n",
    "print(li7)"
   ]
  },
  {
   "cell_type": "code",
   "execution_count": 116,
   "id": "532c52c9",
   "metadata": {
    "ExecuteTime": {
     "end_time": "2022-09-16T20:47:00.335692Z",
     "start_time": "2022-09-16T20:47:00.325745Z"
    }
   },
   "outputs": [],
   "source": [
    "data.fillna({'position': {25188: 'Right-Back' , 25189: 'Centre-Forward', 25190: 'GoalKeeper', 25191: 'attack', 25192: 'Left-Back'} \n",
    "              , 'age': {25188: 29 , 25189: 21, 25190: 20, 25191: 20, 25192: 21}\n",
    "              , 'origin_club': {25188: 'Persiba' , 25189: 'Puebla', 25190: 'Lippstadt', 25191: 'Huddersfield Town', 25192: 'Olimpija'}}\n",
    "             ,inplace=True)"
   ]
  },
  {
   "cell_type": "code",
   "execution_count": 117,
   "id": "12390806",
   "metadata": {
    "ExecuteTime": {
     "end_time": "2022-09-16T20:47:00.815569Z",
     "start_time": "2022-09-16T20:47:00.805596Z"
    },
    "scrolled": true
   },
   "outputs": [
    {
     "data": {
      "text/html": [
       "<div>\n",
       "<style scoped>\n",
       "    .dataframe tbody tr th:only-of-type {\n",
       "        vertical-align: middle;\n",
       "    }\n",
       "\n",
       "    .dataframe tbody tr th {\n",
       "        vertical-align: top;\n",
       "    }\n",
       "\n",
       "    .dataframe thead th {\n",
       "        text-align: right;\n",
       "    }\n",
       "</style>\n",
       "<table border=\"1\" class=\"dataframe\">\n",
       "  <thead>\n",
       "    <tr style=\"text-align: right;\">\n",
       "      <th></th>\n",
       "      <th>name</th>\n",
       "      <th>position</th>\n",
       "      <th>age</th>\n",
       "      <th>origin_club</th>\n",
       "      <th>country_origin_club</th>\n",
       "      <th>new_club</th>\n",
       "      <th>country_new_club</th>\n",
       "      <th>cost</th>\n",
       "    </tr>\n",
       "  </thead>\n",
       "  <tbody>\n",
       "    <tr>\n",
       "      <th>2753</th>\n",
       "      <td>NaN</td>\n",
       "      <td>NaN</td>\n",
       "      <td>25.0</td>\n",
       "      <td>Without Club</td>\n",
       "      <td>NaN</td>\n",
       "      <td>University of Pretoria FC</td>\n",
       "      <td>South Africa</td>\n",
       "      <td>25000.0</td>\n",
       "    </tr>\n",
       "    <tr>\n",
       "      <th>2754</th>\n",
       "      <td>NaN</td>\n",
       "      <td>NaN</td>\n",
       "      <td>30.0</td>\n",
       "      <td>Difaâ El Jadida</td>\n",
       "      <td>Morocco</td>\n",
       "      <td>Olympique Khouribga</td>\n",
       "      <td>Morocco</td>\n",
       "      <td>325000.0</td>\n",
       "    </tr>\n",
       "    <tr>\n",
       "      <th>2755</th>\n",
       "      <td>NaN</td>\n",
       "      <td>NaN</td>\n",
       "      <td>22.0</td>\n",
       "      <td>HNK Cibalia Vinkovci</td>\n",
       "      <td>Croatia</td>\n",
       "      <td>NK Lucko</td>\n",
       "      <td>Croatia</td>\n",
       "      <td>100000.0</td>\n",
       "    </tr>\n",
       "    <tr>\n",
       "      <th>2756</th>\n",
       "      <td>NaN</td>\n",
       "      <td>NaN</td>\n",
       "      <td>25.0</td>\n",
       "      <td>Torino FC</td>\n",
       "      <td>Italy</td>\n",
       "      <td>Palermo FC</td>\n",
       "      <td>Italy</td>\n",
       "      <td>1600000.0</td>\n",
       "    </tr>\n",
       "    <tr>\n",
       "      <th>2757</th>\n",
       "      <td>NaN</td>\n",
       "      <td>NaN</td>\n",
       "      <td>22.0</td>\n",
       "      <td>FC Porto</td>\n",
       "      <td>Portugal</td>\n",
       "      <td>Casa Pia AC</td>\n",
       "      <td>Portugal</td>\n",
       "      <td>3000000.0</td>\n",
       "    </tr>\n",
       "  </tbody>\n",
       "</table>\n",
       "</div>"
      ],
      "text/plain": [
       "     name position   age           origin_club country_origin_club  \\\n",
       "2753  NaN      NaN  25.0          Without Club                 NaN   \n",
       "2754  NaN      NaN  30.0       Difaâ El Jadida             Morocco   \n",
       "2755  NaN      NaN  22.0  HNK Cibalia Vinkovci             Croatia   \n",
       "2756  NaN      NaN  25.0             Torino FC               Italy   \n",
       "2757  NaN      NaN  22.0              FC Porto            Portugal   \n",
       "\n",
       "                       new_club country_new_club       cost  \n",
       "2753  University of Pretoria FC     South Africa    25000.0  \n",
       "2754        Olympique Khouribga          Morocco   325000.0  \n",
       "2755                   NK Lucko          Croatia   100000.0  \n",
       "2756                 Palermo FC            Italy  1600000.0  \n",
       "2757                Casa Pia AC         Portugal  3000000.0  "
      ]
     },
     "execution_count": 117,
     "metadata": {},
     "output_type": "execute_result"
    }
   ],
   "source": [
    "data[ 2753:2758 ]"
   ]
  },
  {
   "cell_type": "code",
   "execution_count": 118,
   "id": "5c8e1cf6",
   "metadata": {
    "ExecuteTime": {
     "end_time": "2022-09-16T20:47:01.139354Z",
     "start_time": "2022-09-16T20:47:01.133398Z"
    }
   },
   "outputs": [],
   "source": [
    "data.fillna({'position': {2753: 'Right-Back' , 2754: 'Centre-Forward', 2755: 'Centre-Back', 2756: 'midfield', 2757: 'midfield'}},inplace=True)"
   ]
  },
  {
   "cell_type": "markdown",
   "id": "0a5f34f0",
   "metadata": {},
   "source": [
    "# "
   ]
  },
  {
   "cell_type": "markdown",
   "id": "51ea2e36",
   "metadata": {},
   "source": [
    "## data missing in ' new_club ' column"
   ]
  },
  {
   "cell_type": "code",
   "execution_count": 119,
   "id": "45d5f2c9",
   "metadata": {
    "ExecuteTime": {
     "end_time": "2022-09-16T20:47:02.418527Z",
     "start_time": "2022-09-16T20:47:02.405563Z"
    }
   },
   "outputs": [
    {
     "data": {
      "text/plain": [
       "name                      5\n",
       "position                  0\n",
       "age                     143\n",
       "origin_club               0\n",
       "country_origin_club     935\n",
       "new_club                 10\n",
       "country_new_club       5574\n",
       "cost                      4\n",
       "dtype: int64"
      ]
     },
     "execution_count": 119,
     "metadata": {},
     "output_type": "execute_result"
    }
   ],
   "source": [
    "data.isna().sum()         # na values"
   ]
  },
  {
   "cell_type": "code",
   "execution_count": 120,
   "id": "682771dd",
   "metadata": {
    "ExecuteTime": {
     "end_time": "2022-09-16T20:47:02.831818Z",
     "start_time": "2022-09-16T20:47:02.821844Z"
    }
   },
   "outputs": [
    {
     "name": "stdout",
     "output_type": "stream",
     "text": [
      "5420\n",
      "5421\n",
      "5422\n",
      "5423\n",
      "9278\n",
      "9279\n",
      "31461\n",
      "31462\n",
      "31463\n",
      "31464\n"
     ]
    }
   ],
   "source": [
    "c = 0\n",
    "for i in data.new_club.isna():\n",
    "    if i == True: \n",
    "        print(c)\n",
    "    c+=1"
   ]
  },
  {
   "cell_type": "markdown",
   "id": "ec531621",
   "metadata": {},
   "source": [
    "position \n",
    "age\n",
    "apperance', 'goals', 'assists', 'yellow_card', '2nd_ycard', 'red_card', ,'min', 'apperance_NT', 'goals_NT', 'assists_NT', 'yellow_card_NT', '2nd_ycard_NT', 'red_card_NT', ,'min_NT'\n",
    ",'world_rank', 'league_rank', 'club_rank', 'National_rank', 'position_rank'\n",
    "cost"
   ]
  },
  {
   "cell_type": "code",
   "execution_count": 121,
   "id": "f62eed8f",
   "metadata": {
    "ExecuteTime": {
     "end_time": "2022-09-16T20:47:03.391248Z",
     "start_time": "2022-09-16T20:47:03.382245Z"
    },
    "scrolled": true
   },
   "outputs": [
    {
     "data": {
      "text/html": [
       "<div>\n",
       "<style scoped>\n",
       "    .dataframe tbody tr th:only-of-type {\n",
       "        vertical-align: middle;\n",
       "    }\n",
       "\n",
       "    .dataframe tbody tr th {\n",
       "        vertical-align: top;\n",
       "    }\n",
       "\n",
       "    .dataframe thead th {\n",
       "        text-align: right;\n",
       "    }\n",
       "</style>\n",
       "<table border=\"1\" class=\"dataframe\">\n",
       "  <thead>\n",
       "    <tr style=\"text-align: right;\">\n",
       "      <th></th>\n",
       "      <th>name</th>\n",
       "      <th>position</th>\n",
       "      <th>age</th>\n",
       "      <th>origin_club</th>\n",
       "      <th>country_origin_club</th>\n",
       "      <th>new_club</th>\n",
       "      <th>country_new_club</th>\n",
       "      <th>cost</th>\n",
       "    </tr>\n",
       "  </thead>\n",
       "  <tbody>\n",
       "    <tr>\n",
       "      <th>5420</th>\n",
       "      <td>Matteo Gullo</td>\n",
       "      <td>attack</td>\n",
       "      <td>22.0</td>\n",
       "      <td>Rende Calcio 1968</td>\n",
       "      <td>Italy</td>\n",
       "      <td>NaN</td>\n",
       "      <td>Italy</td>\n",
       "      <td>10000.0</td>\n",
       "    </tr>\n",
       "    <tr>\n",
       "      <th>5421</th>\n",
       "      <td>Hamed Alizadeh</td>\n",
       "      <td>Attacking Midfield</td>\n",
       "      <td>22.0</td>\n",
       "      <td>Rayka Babol</td>\n",
       "      <td>Iran</td>\n",
       "      <td>NaN</td>\n",
       "      <td>Iran</td>\n",
       "      <td>50000.0</td>\n",
       "    </tr>\n",
       "    <tr>\n",
       "      <th>5422</th>\n",
       "      <td>Thanachach Phocha</td>\n",
       "      <td>Centre-Back</td>\n",
       "      <td>21.0</td>\n",
       "      <td>Muangkan United</td>\n",
       "      <td>Thailand</td>\n",
       "      <td>NaN</td>\n",
       "      <td>Thailand</td>\n",
       "      <td>50000.0</td>\n",
       "    </tr>\n",
       "    <tr>\n",
       "      <th>5423</th>\n",
       "      <td>Richard Keogh</td>\n",
       "      <td>Centre-Back</td>\n",
       "      <td>35.0</td>\n",
       "      <td>Blackpool FC</td>\n",
       "      <td>England</td>\n",
       "      <td>NaN</td>\n",
       "      <td>England</td>\n",
       "      <td>250000.0</td>\n",
       "    </tr>\n",
       "  </tbody>\n",
       "</table>\n",
       "</div>"
      ],
      "text/plain": [
       "                   name            position   age        origin_club  \\\n",
       "5420       Matteo Gullo              attack  22.0  Rende Calcio 1968   \n",
       "5421     Hamed Alizadeh  Attacking Midfield  22.0        Rayka Babol   \n",
       "5422  Thanachach Phocha         Centre-Back  21.0    Muangkan United   \n",
       "5423      Richard Keogh         Centre-Back  35.0       Blackpool FC   \n",
       "\n",
       "     country_origin_club new_club country_new_club      cost  \n",
       "5420               Italy      NaN            Italy   10000.0  \n",
       "5421                Iran      NaN             Iran   50000.0  \n",
       "5422            Thailand      NaN         Thailand   50000.0  \n",
       "5423             England      NaN          England  250000.0  "
      ]
     },
     "execution_count": 121,
     "metadata": {},
     "output_type": "execute_result"
    }
   ],
   "source": [
    "data[5420:5424]  "
   ]
  },
  {
   "cell_type": "code",
   "execution_count": 122,
   "id": "a44d8c3e",
   "metadata": {
    "ExecuteTime": {
     "end_time": "2022-09-16T20:47:04.124020Z",
     "start_time": "2022-09-16T20:47:04.119036Z"
    }
   },
   "outputs": [
    {
     "name": "stdout",
     "output_type": "stream",
     "text": [
      "['Matteo Gullo', 'Hamed Alizadeh', 'Thanachach Phocha', 'Richard Keogh']\n"
     ]
    }
   ],
   "source": [
    "names = data.name[5420:5424].tolist()\n",
    "print(names)"
   ]
  },
  {
   "cell_type": "code",
   "execution_count": null,
   "id": "f7574439",
   "metadata": {
    "ExecuteTime": {
     "end_time": "2022-09-15T00:03:13.205110Z",
     "start_time": "2022-09-15T00:03:13.205110Z"
    },
    "scrolled": true
   },
   "outputs": [],
   "source": [
    "ffx = webdriver.Chrome()\n",
    "\n",
    "ffx.get(\"https://www.transfermarkt.com\")\n",
    "li8 = []\n",
    "for i in names:\n",
    "    ffx.find_element(By.CSS_SELECTOR, '[class=\"tm-header__input--search-field\"]').send_keys(i) # Search with player name\n",
    "    ffx.find_element(By.CSS_SELECTOR,'[class=\"tm-header__input--search-send\"]').send_keys(Keys.ENTER) # press Enter Key\n",
    "    player = ffx.find_element(By.CSS_SELECTOR,'td[class= \"hauptlink\"]')\n",
    "    url = player.find_element(By.TAG_NAME,'a').get_attribute('href')\n",
    "    ffx.get(url)\n",
    "    li8.append(ffx.find_element(By.CSS_SELECTOR,'[class=\"data-header__club\"]').find_element(By.TAG_NAME,'a').text)\n",
    "    ffx.find_element(By.CSS_SELECTOR, '[class=\"tm-header__input--search-field\"]').clear()\n",
    "ffx.quit()\n",
    "print(li8)"
   ]
  },
  {
   "cell_type": "code",
   "execution_count": 123,
   "id": "96ff3bca",
   "metadata": {
    "ExecuteTime": {
     "end_time": "2022-09-16T20:47:05.753213Z",
     "start_time": "2022-09-16T20:47:05.750213Z"
    }
   },
   "outputs": [],
   "source": [
    "li8 = ['Vigor Lamezia', 'Darya Caspian', 'Banbueng FC', 'Ipswich']"
   ]
  },
  {
   "cell_type": "code",
   "execution_count": 124,
   "id": "41f88901",
   "metadata": {
    "ExecuteTime": {
     "end_time": "2022-09-16T20:47:06.097605Z",
     "start_time": "2022-09-16T20:47:06.093616Z"
    }
   },
   "outputs": [
    {
     "data": {
      "text/plain": [
       "{5420: 'Vigor Lamezia',\n",
       " 5421: 'Darya Caspian',\n",
       " 5422: 'Banbueng FC',\n",
       " 5423: 'Ipswich'}"
      ]
     },
     "execution_count": 124,
     "metadata": {},
     "output_type": "execute_result"
    }
   ],
   "source": [
    "dic = dict( zip( [x for x in range(5420,5424,1)] ,li8) )\n",
    "dic"
   ]
  },
  {
   "cell_type": "code",
   "execution_count": 125,
   "id": "c229dbd2",
   "metadata": {
    "ExecuteTime": {
     "end_time": "2022-09-16T20:47:06.323467Z",
     "start_time": "2022-09-16T20:47:06.318452Z"
    }
   },
   "outputs": [],
   "source": [
    "data.fillna({'new_club': dic },inplace=True)"
   ]
  },
  {
   "cell_type": "markdown",
   "id": "c7dfaea1",
   "metadata": {},
   "source": [
    "# "
   ]
  },
  {
   "cell_type": "code",
   "execution_count": 126,
   "id": "dd8defe2",
   "metadata": {
    "ExecuteTime": {
     "end_time": "2022-09-16T20:47:07.190477Z",
     "start_time": "2022-09-16T20:47:07.182483Z"
    },
    "scrolled": true
   },
   "outputs": [
    {
     "data": {
      "text/html": [
       "<div>\n",
       "<style scoped>\n",
       "    .dataframe tbody tr th:only-of-type {\n",
       "        vertical-align: middle;\n",
       "    }\n",
       "\n",
       "    .dataframe tbody tr th {\n",
       "        vertical-align: top;\n",
       "    }\n",
       "\n",
       "    .dataframe thead th {\n",
       "        text-align: right;\n",
       "    }\n",
       "</style>\n",
       "<table border=\"1\" class=\"dataframe\">\n",
       "  <thead>\n",
       "    <tr style=\"text-align: right;\">\n",
       "      <th></th>\n",
       "      <th>name</th>\n",
       "      <th>position</th>\n",
       "      <th>age</th>\n",
       "      <th>origin_club</th>\n",
       "      <th>country_origin_club</th>\n",
       "      <th>new_club</th>\n",
       "      <th>country_new_club</th>\n",
       "      <th>cost</th>\n",
       "    </tr>\n",
       "  </thead>\n",
       "  <tbody>\n",
       "    <tr>\n",
       "      <th>9278</th>\n",
       "      <td>Uros Poljanec</td>\n",
       "      <td>Goalkeeper</td>\n",
       "      <td>30.0</td>\n",
       "      <td>NK Vinodol</td>\n",
       "      <td>NaN</td>\n",
       "      <td>NaN</td>\n",
       "      <td>Slovenia</td>\n",
       "      <td>10000.0</td>\n",
       "    </tr>\n",
       "    <tr>\n",
       "      <th>9279</th>\n",
       "      <td>Bastien Héry</td>\n",
       "      <td>Central Midfield</td>\n",
       "      <td>30.0</td>\n",
       "      <td>Finn Harps</td>\n",
       "      <td>NaN</td>\n",
       "      <td>NaN</td>\n",
       "      <td>Ireland</td>\n",
       "      <td>50000.0</td>\n",
       "    </tr>\n",
       "  </tbody>\n",
       "</table>\n",
       "</div>"
      ],
      "text/plain": [
       "               name          position   age origin_club country_origin_club  \\\n",
       "9278  Uros Poljanec        Goalkeeper  30.0  NK Vinodol                 NaN   \n",
       "9279   Bastien Héry  Central Midfield  30.0  Finn Harps                 NaN   \n",
       "\n",
       "     new_club country_new_club     cost  \n",
       "9278      NaN         Slovenia  10000.0  \n",
       "9279      NaN          Ireland  50000.0  "
      ]
     },
     "execution_count": 126,
     "metadata": {},
     "output_type": "execute_result"
    }
   ],
   "source": [
    "data[9278:9280]"
   ]
  },
  {
   "cell_type": "code",
   "execution_count": 127,
   "id": "f60caf9d",
   "metadata": {
    "ExecuteTime": {
     "end_time": "2022-09-16T20:47:07.440795Z",
     "start_time": "2022-09-16T20:47:07.436805Z"
    }
   },
   "outputs": [
    {
     "name": "stdout",
     "output_type": "stream",
     "text": [
      "['Uros Poljanec', 'Bastien Héry']\n"
     ]
    }
   ],
   "source": [
    "names = data.name[9278:9280].tolist()\n",
    "print(names)"
   ]
  },
  {
   "cell_type": "code",
   "execution_count": 364,
   "id": "804a0c46",
   "metadata": {
    "ExecuteTime": {
     "end_time": "2022-09-15T00:05:01.354623Z",
     "start_time": "2022-09-15T00:04:46.455268Z"
    }
   },
   "outputs": [
    {
     "name": "stdout",
     "output_type": "stream",
     "text": [
      "['NK Pesnica', 'Galway United']\n"
     ]
    }
   ],
   "source": [
    "ffx = webdriver.Chrome()\n",
    "\n",
    "ffx.get(\"https://www.transfermarkt.com\")\n",
    "li1 = []\n",
    "for i in names:\n",
    "    ffx.find_element(By.CSS_SELECTOR, '[class=\"tm-header__input--search-field\"]').send_keys(i) # Search with player name\n",
    "    ffx.find_element(By.CSS_SELECTOR,'[class=\"tm-header__input--search-send\"]').send_keys(Keys.ENTER) # press Enter Key\n",
    "    player = ffx.find_element(By.CSS_SELECTOR,'td[class= \"hauptlink\"]')\n",
    "    url = player.find_element(By.TAG_NAME,'a').get_attribute('href')\n",
    "    ffx.get(url)\n",
    "    li1.append(ffx.find_element(By.CSS_SELECTOR,'[class=\"data-header__club\"]').find_element(By.TAG_NAME,'a').text)\n",
    "    ffx.find_element(By.CSS_SELECTOR, '[class=\"tm-header__input--search-field\"]').clear()\n",
    "ffx.quit()\n",
    "print(li1)"
   ]
  },
  {
   "cell_type": "code",
   "execution_count": 128,
   "id": "ace540f4",
   "metadata": {
    "ExecuteTime": {
     "end_time": "2022-09-16T20:47:09.178381Z",
     "start_time": "2022-09-16T20:47:09.174392Z"
    }
   },
   "outputs": [],
   "source": [
    "li1 = ['NK Pesnica', 'Galway United']"
   ]
  },
  {
   "cell_type": "code",
   "execution_count": 129,
   "id": "22943535",
   "metadata": {
    "ExecuteTime": {
     "end_time": "2022-09-16T20:47:09.482241Z",
     "start_time": "2022-09-16T20:47:09.477255Z"
    }
   },
   "outputs": [
    {
     "data": {
      "text/plain": [
       "{9278: 'NK Pesnica', 9279: 'Galway United'}"
      ]
     },
     "execution_count": 129,
     "metadata": {},
     "output_type": "execute_result"
    }
   ],
   "source": [
    "dic = dict(zip([9278,9279], li1))\n",
    "dic"
   ]
  },
  {
   "cell_type": "code",
   "execution_count": 130,
   "id": "35799522",
   "metadata": {
    "ExecuteTime": {
     "end_time": "2022-09-16T20:47:09.715067Z",
     "start_time": "2022-09-16T20:47:09.709083Z"
    }
   },
   "outputs": [],
   "source": [
    "data.fillna({'new_club': dic},inplace=True)"
   ]
  },
  {
   "cell_type": "markdown",
   "id": "efa644cc",
   "metadata": {},
   "source": [
    "# "
   ]
  },
  {
   "cell_type": "code",
   "execution_count": 131,
   "id": "9137763c",
   "metadata": {
    "ExecuteTime": {
     "end_time": "2022-09-16T20:47:11.624014Z",
     "start_time": "2022-09-16T20:47:11.615041Z"
    }
   },
   "outputs": [
    {
     "data": {
      "text/html": [
       "<div>\n",
       "<style scoped>\n",
       "    .dataframe tbody tr th:only-of-type {\n",
       "        vertical-align: middle;\n",
       "    }\n",
       "\n",
       "    .dataframe tbody tr th {\n",
       "        vertical-align: top;\n",
       "    }\n",
       "\n",
       "    .dataframe thead th {\n",
       "        text-align: right;\n",
       "    }\n",
       "</style>\n",
       "<table border=\"1\" class=\"dataframe\">\n",
       "  <thead>\n",
       "    <tr style=\"text-align: right;\">\n",
       "      <th></th>\n",
       "      <th>name</th>\n",
       "      <th>position</th>\n",
       "      <th>age</th>\n",
       "      <th>origin_club</th>\n",
       "      <th>country_origin_club</th>\n",
       "      <th>new_club</th>\n",
       "      <th>country_new_club</th>\n",
       "      <th>cost</th>\n",
       "    </tr>\n",
       "  </thead>\n",
       "  <tbody>\n",
       "    <tr>\n",
       "      <th>31461</th>\n",
       "      <td>Farid Mohammadian</td>\n",
       "      <td>Defensive Midfield</td>\n",
       "      <td>NaN</td>\n",
       "      <td>Esteghlal Mollasani</td>\n",
       "      <td>NaN</td>\n",
       "      <td>NaN</td>\n",
       "      <td>NaN</td>\n",
       "      <td>50000.0</td>\n",
       "    </tr>\n",
       "    <tr>\n",
       "      <th>31462</th>\n",
       "      <td>Sajjad Abbasi</td>\n",
       "      <td>Attacking Midfield</td>\n",
       "      <td>30.0</td>\n",
       "      <td>Mes Shahr Babak FC</td>\n",
       "      <td>NaN</td>\n",
       "      <td>NaN</td>\n",
       "      <td>NaN</td>\n",
       "      <td>100000.0</td>\n",
       "    </tr>\n",
       "    <tr>\n",
       "      <th>31463</th>\n",
       "      <td>Abdallahi Mahmoud</td>\n",
       "      <td>Central Midfield</td>\n",
       "      <td>22.0</td>\n",
       "      <td>Deportivo Alavés B</td>\n",
       "      <td>NaN</td>\n",
       "      <td>NaN</td>\n",
       "      <td>Spain</td>\n",
       "      <td>600000.0</td>\n",
       "    </tr>\n",
       "    <tr>\n",
       "      <th>31464</th>\n",
       "      <td>Gleb Shilov</td>\n",
       "      <td>Right-Back</td>\n",
       "      <td>22.0</td>\n",
       "      <td>Khimik Dzerzhinsk</td>\n",
       "      <td>NaN</td>\n",
       "      <td>NaN</td>\n",
       "      <td>NaN</td>\n",
       "      <td>75000.0</td>\n",
       "    </tr>\n",
       "  </tbody>\n",
       "</table>\n",
       "</div>"
      ],
      "text/plain": [
       "                    name            position   age          origin_club  \\\n",
       "31461  Farid Mohammadian  Defensive Midfield   NaN  Esteghlal Mollasani   \n",
       "31462      Sajjad Abbasi  Attacking Midfield  30.0   Mes Shahr Babak FC   \n",
       "31463  Abdallahi Mahmoud    Central Midfield  22.0   Deportivo Alavés B   \n",
       "31464        Gleb Shilov          Right-Back  22.0    Khimik Dzerzhinsk   \n",
       "\n",
       "      country_origin_club new_club country_new_club      cost  \n",
       "31461                 NaN      NaN              NaN   50000.0  \n",
       "31462                 NaN      NaN              NaN  100000.0  \n",
       "31463                 NaN      NaN            Spain  600000.0  \n",
       "31464                 NaN      NaN              NaN   75000.0  "
      ]
     },
     "execution_count": 131,
     "metadata": {},
     "output_type": "execute_result"
    }
   ],
   "source": [
    "data[31461:31465]"
   ]
  },
  {
   "cell_type": "code",
   "execution_count": 132,
   "id": "70586f4b",
   "metadata": {
    "ExecuteTime": {
     "end_time": "2022-09-16T20:47:12.074586Z",
     "start_time": "2022-09-16T20:47:12.070596Z"
    }
   },
   "outputs": [
    {
     "name": "stdout",
     "output_type": "stream",
     "text": [
      "['Farid Mohammadian', 'Sajjad Abbasi', 'Abdallahi Mahmoud', 'Gleb Shilov']\n"
     ]
    }
   ],
   "source": [
    "names = data.name[31461:31465].tolist()\n",
    "print(names)"
   ]
  },
  {
   "cell_type": "code",
   "execution_count": null,
   "id": "ea4cfc29",
   "metadata": {
    "ExecuteTime": {
     "end_time": "2022-09-15T00:03:13.234963Z",
     "start_time": "2022-09-15T00:03:13.234963Z"
    }
   },
   "outputs": [],
   "source": [
    "ffx = webdriver.Chrome()\n",
    "\n",
    "ffx.get(\"https://www.transfermarkt.com\")\n",
    "li2 = []\n",
    "for i in names:\n",
    "    ffx.find_element(By.CSS_SELECTOR, '[class=\"tm-header__input--search-field\"]').send_keys(i) # Search with player name\n",
    "    ffx.find_element(By.CSS_SELECTOR,'[class=\"tm-header__input--search-send\"]').send_keys(Keys.ENTER) # press Enter Key\n",
    "    player = ffx.find_element(By.CSS_SELECTOR,'td[class= \"hauptlink\"]')\n",
    "    url = player.find_element(By.TAG_NAME,'a').get_attribute('href')\n",
    "    ffx.get(url)\n",
    "    li2.append(ffx.find_element(By.CSS_SELECTOR,'[class=\"data-header__club\"]').find_element(By.TAG_NAME,'a').text)\n",
    "    ffx.find_element(By.CSS_SELECTOR, '[class=\"tm-header__input--search-field\"]').clear()\n",
    "ffx.quit()\n",
    "print(li2)"
   ]
  },
  {
   "cell_type": "code",
   "execution_count": 133,
   "id": "a56e693a",
   "metadata": {
    "ExecuteTime": {
     "end_time": "2022-09-16T20:47:13.737125Z",
     "start_time": "2022-09-16T20:47:13.734130Z"
    }
   },
   "outputs": [],
   "source": [
    "li2 = ['Without Club', 'Without Club', 'Alavés', 'Without Club']"
   ]
  },
  {
   "cell_type": "code",
   "execution_count": 134,
   "id": "e2ce12d9",
   "metadata": {
    "ExecuteTime": {
     "end_time": "2022-09-16T20:47:14.129616Z",
     "start_time": "2022-09-16T20:47:14.125626Z"
    }
   },
   "outputs": [
    {
     "data": {
      "text/plain": [
       "{31461: 'Without Club',\n",
       " 31462: 'Without Club',\n",
       " 31463: 'Alavés',\n",
       " 31464: 'Without Club'}"
      ]
     },
     "execution_count": 134,
     "metadata": {},
     "output_type": "execute_result"
    }
   ],
   "source": [
    "dic = dict(zip([x for x in range(31461,31465,1)], li2))\n",
    "dic"
   ]
  },
  {
   "cell_type": "code",
   "execution_count": 135,
   "id": "38d69644",
   "metadata": {
    "ExecuteTime": {
     "end_time": "2022-09-16T20:47:16.163498Z",
     "start_time": "2022-09-16T20:47:16.157529Z"
    }
   },
   "outputs": [],
   "source": [
    "data.fillna({'new_club': dic},inplace=True)"
   ]
  },
  {
   "cell_type": "markdown",
   "id": "82e95b6a",
   "metadata": {},
   "source": [
    "# "
   ]
  },
  {
   "cell_type": "markdown",
   "id": "eaa290d9",
   "metadata": {},
   "source": [
    "## data missing in ' cost ' column"
   ]
  },
  {
   "cell_type": "code",
   "execution_count": 136,
   "id": "4d58763c",
   "metadata": {
    "ExecuteTime": {
     "end_time": "2022-09-16T20:47:17.756198Z",
     "start_time": "2022-09-16T20:47:17.751212Z"
    }
   },
   "outputs": [
    {
     "data": {
      "text/plain": [
       "4"
      ]
     },
     "execution_count": 136,
     "metadata": {},
     "output_type": "execute_result"
    }
   ],
   "source": [
    "data.cost.isna().sum()         # na values"
   ]
  },
  {
   "cell_type": "code",
   "execution_count": 137,
   "id": "5c4e915a",
   "metadata": {
    "ExecuteTime": {
     "end_time": "2022-09-16T20:47:18.247256Z",
     "start_time": "2022-09-16T20:47:18.238309Z"
    }
   },
   "outputs": [
    {
     "name": "stdout",
     "output_type": "stream",
     "text": [
      "21008\n",
      "21009\n",
      "21010\n",
      "21011\n"
     ]
    }
   ],
   "source": [
    "c = 0\n",
    "for i in data.cost.isna():\n",
    "    if i == True: \n",
    "        print(c)\n",
    "    c+=1"
   ]
  },
  {
   "cell_type": "code",
   "execution_count": 138,
   "id": "c307fe69",
   "metadata": {
    "ExecuteTime": {
     "end_time": "2022-09-16T20:47:19.000846Z",
     "start_time": "2022-09-16T20:47:18.991900Z"
    },
    "scrolled": true
   },
   "outputs": [
    {
     "data": {
      "text/html": [
       "<div>\n",
       "<style scoped>\n",
       "    .dataframe tbody tr th:only-of-type {\n",
       "        vertical-align: middle;\n",
       "    }\n",
       "\n",
       "    .dataframe tbody tr th {\n",
       "        vertical-align: top;\n",
       "    }\n",
       "\n",
       "    .dataframe thead th {\n",
       "        text-align: right;\n",
       "    }\n",
       "</style>\n",
       "<table border=\"1\" class=\"dataframe\">\n",
       "  <thead>\n",
       "    <tr style=\"text-align: right;\">\n",
       "      <th></th>\n",
       "      <th>name</th>\n",
       "      <th>position</th>\n",
       "      <th>age</th>\n",
       "      <th>origin_club</th>\n",
       "      <th>country_origin_club</th>\n",
       "      <th>new_club</th>\n",
       "      <th>country_new_club</th>\n",
       "      <th>cost</th>\n",
       "    </tr>\n",
       "  </thead>\n",
       "  <tbody>\n",
       "    <tr>\n",
       "      <th>21008</th>\n",
       "      <td>Federico Scappi</td>\n",
       "      <td>Centre-Back</td>\n",
       "      <td>28.0</td>\n",
       "      <td>AS Fidentina</td>\n",
       "      <td>Italy</td>\n",
       "      <td>AC Fabbrico</td>\n",
       "      <td>NaN</td>\n",
       "      <td>NaN</td>\n",
       "    </tr>\n",
       "    <tr>\n",
       "      <th>21009</th>\n",
       "      <td>Mihkel Ainsalu</td>\n",
       "      <td>Central Midfield</td>\n",
       "      <td>26.0</td>\n",
       "      <td>FCI Levadia</td>\n",
       "      <td>Estonia</td>\n",
       "      <td>SC Telstar</td>\n",
       "      <td>NaN</td>\n",
       "      <td>NaN</td>\n",
       "    </tr>\n",
       "    <tr>\n",
       "      <th>21010</th>\n",
       "      <td>Andrea Grassi</td>\n",
       "      <td>Central Midfield</td>\n",
       "      <td>28.0</td>\n",
       "      <td>ASD Gabicce Gradara</td>\n",
       "      <td>Italy</td>\n",
       "      <td>La Fiorita 1967</td>\n",
       "      <td>NaN</td>\n",
       "      <td>NaN</td>\n",
       "    </tr>\n",
       "    <tr>\n",
       "      <th>21011</th>\n",
       "      <td>Michele Turci</td>\n",
       "      <td>Right-Back</td>\n",
       "      <td>27.0</td>\n",
       "      <td>ASD Savignanese</td>\n",
       "      <td>Italy</td>\n",
       "      <td>Sasso Marconi 1924</td>\n",
       "      <td>NaN</td>\n",
       "      <td>NaN</td>\n",
       "    </tr>\n",
       "  </tbody>\n",
       "</table>\n",
       "</div>"
      ],
      "text/plain": [
       "                  name          position   age          origin_club  \\\n",
       "21008  Federico Scappi       Centre-Back  28.0         AS Fidentina   \n",
       "21009   Mihkel Ainsalu  Central Midfield  26.0          FCI Levadia   \n",
       "21010    Andrea Grassi  Central Midfield  28.0  ASD Gabicce Gradara   \n",
       "21011    Michele Turci        Right-Back  27.0      ASD Savignanese   \n",
       "\n",
       "      country_origin_club            new_club country_new_club  cost  \n",
       "21008               Italy         AC Fabbrico              NaN   NaN  \n",
       "21009             Estonia          SC Telstar              NaN   NaN  \n",
       "21010               Italy     La Fiorita 1967              NaN   NaN  \n",
       "21011               Italy  Sasso Marconi 1924              NaN   NaN  "
      ]
     },
     "execution_count": 138,
     "metadata": {},
     "output_type": "execute_result"
    }
   ],
   "source": [
    "data[21008:21012]"
   ]
  },
  {
   "cell_type": "code",
   "execution_count": 139,
   "id": "66566ade",
   "metadata": {
    "ExecuteTime": {
     "end_time": "2022-09-16T20:47:19.529963Z",
     "start_time": "2022-09-16T20:47:19.524976Z"
    }
   },
   "outputs": [
    {
     "data": {
      "text/plain": [
       "['Federico Scappi', 'Mihkel Ainsalu', 'Andrea Grassi', 'Michele Turci']"
      ]
     },
     "execution_count": 139,
     "metadata": {},
     "output_type": "execute_result"
    }
   ],
   "source": [
    "namesOfcost = data.name[21008:21012].tolist()\n",
    "namesOfcost"
   ]
  },
  {
   "cell_type": "code",
   "execution_count": 381,
   "id": "ecac3940",
   "metadata": {
    "ExecuteTime": {
     "end_time": "2022-09-15T00:05:18.913438Z",
     "start_time": "2022-09-15T00:05:06.590197Z"
    },
    "scrolled": true
   },
   "outputs": [
    {
     "name": "stdout",
     "output_type": "stream",
     "text": [
      "['€75Th.', '€100Th.', '€10Th.', '€75Th.']\n"
     ]
    }
   ],
   "source": [
    "ffx = webdriver.Chrome()\n",
    "\n",
    "ffx.get(\"https://www.transfermarkt.com\")\n",
    "li3 = []\n",
    "for i in namesOfcost:\n",
    "    ffx.find_element(By.CSS_SELECTOR, '[class=\"tm-header__input--search-field\"]').send_keys(i) # Search with player name\n",
    "    ffx.find_element(By.CSS_SELECTOR,'[class=\"tm-header__input--search-send\"]').send_keys(Keys.ENTER) # press Enter Key\n",
    "    \n",
    "    player = ffx.find_element(By.CSS_SELECTOR,'td[class= \"rechts hauptlink\"]')\n",
    "    li3.append(player.text)\n",
    "    \n",
    "    ffx.find_element(By.CSS_SELECTOR, '[class=\"tm-header__input--search-field\"]').clear()\n",
    "ffx.quit()\n",
    "print(li3)"
   ]
  },
  {
   "cell_type": "code",
   "execution_count": 140,
   "id": "b3180195",
   "metadata": {
    "ExecuteTime": {
     "end_time": "2022-09-16T20:47:22.713821Z",
     "start_time": "2022-09-16T20:47:22.709836Z"
    }
   },
   "outputs": [],
   "source": [
    "li3 = ['€75Th.', '€100Th.', '€10Th.', '€75Th.']"
   ]
  },
  {
   "cell_type": "code",
   "execution_count": 141,
   "id": "c27dce3c",
   "metadata": {
    "ExecuteTime": {
     "end_time": "2022-09-16T20:47:23.052021Z",
     "start_time": "2022-09-16T20:47:23.048032Z"
    },
    "scrolled": true
   },
   "outputs": [
    {
     "data": {
      "text/plain": [
       "75000"
      ]
     },
     "execution_count": 141,
     "metadata": {},
     "output_type": "execute_result"
    }
   ],
   "source": [
    "customizer('€75Th.')"
   ]
  },
  {
   "cell_type": "code",
   "execution_count": 142,
   "id": "a857aa00",
   "metadata": {
    "ExecuteTime": {
     "end_time": "2022-09-16T20:47:23.379960Z",
     "start_time": "2022-09-16T20:47:23.374981Z"
    }
   },
   "outputs": [
    {
     "data": {
      "text/plain": [
       "{21008: 75000, 21009: 100000, 21010: 10000, 21011: 75000}"
      ]
     },
     "execution_count": 142,
     "metadata": {},
     "output_type": "execute_result"
    }
   ],
   "source": [
    "dic = dict(zip([x for x in range(21008,21012,1)], [ customizer(y) for y in li3]))\n",
    "dic"
   ]
  },
  {
   "cell_type": "code",
   "execution_count": 143,
   "id": "02458307",
   "metadata": {
    "ExecuteTime": {
     "end_time": "2022-09-16T20:47:24.394736Z",
     "start_time": "2022-09-16T20:47:24.389750Z"
    }
   },
   "outputs": [],
   "source": [
    "data.fillna({'cost': dic},inplace=True)"
   ]
  },
  {
   "cell_type": "markdown",
   "id": "8e3a0eff",
   "metadata": {},
   "source": [
    "# "
   ]
  },
  {
   "cell_type": "markdown",
   "id": "35e11442",
   "metadata": {},
   "source": [
    "# "
   ]
  },
  {
   "cell_type": "markdown",
   "id": "05bb8ab5",
   "metadata": {},
   "source": [
    "<h2 style=\"color:blue;\">Data cleaning</h2>\n",
    "<div>\n",
    "    \n",
    "    1 data in wrong format --> 'cost' column data type                                ------------->   Done\n",
    "    2 wrong Data                                                                      ------------->   Done\n",
    "    3 data missing at ['age', 'postiton', 'origin_club', 'new_club']                  ------------->   Done Expect age col\n",
    "    \n",
    "</div>"
   ]
  },
  {
   "cell_type": "markdown",
   "id": "21f5db2e",
   "metadata": {},
   "source": [
    "### Fillna Age column"
   ]
  },
  {
   "cell_type": "code",
   "execution_count": 144,
   "id": "9924e6c3",
   "metadata": {
    "ExecuteTime": {
     "end_time": "2022-09-16T20:47:33.530286Z",
     "start_time": "2022-09-16T20:47:33.517268Z"
    }
   },
   "outputs": [
    {
     "data": {
      "text/plain": [
       "name                      5\n",
       "position                  0\n",
       "age                     143\n",
       "origin_club               0\n",
       "country_origin_club     935\n",
       "new_club                  0\n",
       "country_new_club       5574\n",
       "cost                      0\n",
       "dtype: int64"
      ]
     },
     "execution_count": 144,
     "metadata": {},
     "output_type": "execute_result"
    }
   ],
   "source": [
    "data.isna().sum()"
   ]
  },
  {
   "cell_type": "code",
   "execution_count": 145,
   "id": "b75ca628",
   "metadata": {
    "ExecuteTime": {
     "end_time": "2022-09-16T20:47:33.820719Z",
     "start_time": "2022-09-16T20:47:33.531231Z"
    },
    "scrolled": true
   },
   "outputs": [
    {
     "name": "stdout",
     "output_type": "stream",
     "text": [
      "Average in \n",
      "Italy :        inf\n",
      "Spain :        inf\n",
      "Germany :        23.71875\n",
      "Russia :        23.734375\n",
      "Turkey :        25.859375\n",
      "England :        25.21875\n",
      "France :        24.921875\n",
      "Romania :        23.859375\n",
      "Greece :        25.8125\n",
      "Serbia :        24.015625\n",
      "Iran :        26.734375\n",
      "Portugal :        25.453125\n",
      "Bosnia-Herzegovina :        23.875\n",
      "Netherlands :        23.5625\n",
      "Croatia :        22.1875\n",
      "Switzerland :        24.125\n",
      "Hungary :        25.359375\n",
      "Slovakia :        22.84375\n",
      "Czech Republic :        24.5\n",
      "Bulgaria :        24.265625\n",
      "Poland :        24.9375\n",
      "Brazil :        25.9375\n",
      "Belgium :        25.015625\n",
      "Israel :        25.59375\n",
      "Ukraine :        25.203125\n",
      "Thailand :        27.390625\n",
      "Slovenia :        23.03125\n",
      "Austria :        23.609375\n",
      "Indonesia :        26.484375\n",
      "Wales :        25.25\n",
      "Mexico :        24.90625\n",
      "Denmark :        23.734375\n",
      "Scotland :        24.703125\n",
      "Cyprus :        26.78125\n",
      "China :        25.609375\n",
      "Algeria :        26.71875\n",
      "South Africa :        27.453125\n",
      "India :        25.875\n",
      "Colombia :        25.703125\n",
      "Malta :        27.296875\n",
      "North Macedonia :        25.09375\n",
      "United States :        22.890625\n",
      "Argentina :        26.078125\n",
      "Northern Ireland :        24.15625\n",
      "Morocco :        27.515625\n",
      "Sweden :        23.03125\n",
      "Armenia :        25.203125\n",
      "Montenegro :        24.15625\n",
      "Albania :        25.828125\n",
      "Kosovo :        25.734375\n",
      "Georgia :        25.546875\n",
      "Saudi Arabia :        28.78125\n",
      "Tunisia :        26.09375\n",
      "Andorra :        27.390625\n",
      "Luxembourg :        25.484375\n",
      "El Salvador :        27.8125\n",
      "Belarus :        23.28125\n",
      "Guatemala :        28.3125\n",
      "Paraguay :        26.8125\n",
      "Norway :        24.09375\n",
      "Uruguay :        26.046875\n",
      "Kazakhstan :        25.71875\n",
      "Peru :        26.890625\n",
      "Egypt :        28.03125\n",
      "San Marino :        27.890625\n",
      "Gibraltar :        26.296875\n",
      "Australia :        26.46875\n",
      "Japan :        24.578125\n",
      "Hongkong :        25.59375\n",
      "Uzbekistan :        26.859375\n",
      "Costa Rica :        27.375\n",
      "Panama :        24.671875\n",
      "Bolivia :        26.375\n",
      "Korea, South :        25.953125\n",
      "Moldova :        23.921875\n",
      "Ghana :        24.421875\n",
      "Azerbaijan :        26.4375\n",
      "Syria :        27.234375\n",
      "Iraq :        26.0625\n",
      "Honduras :        27.9375\n",
      "Qatar :        28.546875\n",
      "Finland :        23.09375\n",
      "United Arab Emirates :        26.796875\n",
      "Tajikistan :        24.65625\n",
      "Ecuador :        25.34375\n",
      "Chile :        27.390625\n",
      "Latvia :        23.890625\n",
      "Iceland :        24.71875\n",
      "Ireland :        22.328125\n",
      "New Zealand :        24.640625\n",
      "Lithuania :        23.8125\n",
      "Vietnam :        26.140625\n",
      "Bangladesh :        24.859375\n",
      "Fiji :        27.0625\n",
      "Kyrgyzstan :        25.390625\n",
      "Estonia :        21.84375\n",
      "Oman :        28.265625\n",
      "Canada :        23.0\n",
      "Lebanon :        31.09375\n",
      "Kuwait :        27.703125\n",
      "Monaco :        23.734375\n",
      "Libya :        27.125\n",
      "Venezuela :        22.765625\n",
      "Bahrain :        28.625\n",
      "Liechtenstein :        22.859375\n",
      "Palästina :        26.078125\n",
      "Faroe Islands :        24.265625\n",
      "Ethiopia :        23.8125\n",
      "Cote d'Ivoire :        24.890625\n",
      "Mongolia :        26.0\n",
      "Malaysia :        30.75\n",
      "Jordan :        28.28125\n",
      "Myanmar :        26.171875\n",
      "Guinea :        24.5\n",
      "Maldives :        31.328125\n",
      "Nigeria :        25.328125\n",
      "Timor-Leste :        19.75\n",
      "Nepal :        26.0\n",
      "Tanzania :        30.796875\n",
      "Nicaragua :        27.203125\n",
      "Philippines :        25.796875\n",
      "Chinese Taipei :        26.0\n",
      "Sudan :        25.25\n",
      "Equatorial Guinea :        29.0\n",
      "The Gambia :        21.0\n",
      "Singapore :        27.328125\n",
      "Angola :        29.0\n",
      "Dominican Republic :        24.5\n",
      "Cambodia :        26.0\n",
      "Cameroon :        24.0\n",
      "Sierra Leone :        22.5\n",
      "Mozambique :        25.0\n",
      "Zambia :        24.5\n",
      "Mali :        24.5\n",
      "Burkina Faso :        24.5\n",
      "Mauritania :        27.0\n",
      "Djibouti :        32.0\n",
      "Gabon :        29.0\n",
      "Neukaledonien :        21.0\n",
      "Eswatini :        30.0\n",
      "Vanuatu :        22.0\n",
      "Cuba :        29.0\n",
      "Solomon Islands :        31.0\n",
      "Congo :        19.0\n",
      "Guadeloupe :        26.0\n",
      "Uganda :        28.0\n",
      "Laos :        30.0\n",
      "Trinidad and Tobago :        25.0\n",
      "Niger :        25.0\n",
      "Rwanda :        23.0\n",
      "Senegal :        23.0\n",
      "Madagascar :        29.0\n",
      "Chinese Taipei (Taiwan) :        26.0\n"
     ]
    }
   ],
   "source": [
    "print('Average in ')\n",
    "for i in data['country_origin_club'].value_counts().index[0:].to_list():\n",
    "    print( f'{i} :        { data.age[data.country_origin_club == i].mean() }' )"
   ]
  },
  {
   "cell_type": "code",
   "execution_count": 146,
   "id": "0c747a8c",
   "metadata": {
    "ExecuteTime": {
     "end_time": "2022-09-16T20:47:33.831689Z",
     "start_time": "2022-09-16T20:47:33.821715Z"
    }
   },
   "outputs": [],
   "source": [
    "c = 0\n",
    "namesOfAge = []\n",
    "indexOfAge = []\n",
    "for i in data.age.isna():\n",
    "    if i == True: \n",
    "        namesOfAge.append(data.name.iloc[c])\n",
    "        indexOfAge.append(c)\n",
    "    c+=1"
   ]
  },
  {
   "cell_type": "code",
   "execution_count": 52,
   "id": "a1620a0f",
   "metadata": {
    "ExecuteTime": {
     "end_time": "2022-09-16T20:43:57.835285Z",
     "start_time": "2022-09-16T20:43:57.830299Z"
    },
    "scrolled": true
   },
   "outputs": [
    {
     "name": "stdout",
     "output_type": "stream",
     "text": [
      "143\n"
     ]
    },
    {
     "data": {
      "text/plain": [
       "['Mohammadmehdi Mohammadpour',\n",
       " 'Harry Irving',\n",
       " 'Ebrahim Moradi',\n",
       " 'Hadi Kianpour',\n",
       " 'Tawfik Idsghir',\n",
       " 'Azad Jafarzadeh',\n",
       " 'Hamed Ketab Ghaleh',\n",
       " 'Mohammadreza Eghbali',\n",
       " 'Vahid Amani',\n",
       " 'Mohammed Ajeel',\n",
       " 'Ali Hadadifar',\n",
       " 'Salim Barhoom',\n",
       " 'Asghar Khosravi',\n",
       " 'Mohammad Savari',\n",
       " 'Saeid Mehrali',\n",
       " 'Moses Odo',\n",
       " 'Amir Mohammad Monsef',\n",
       " 'Matin Parsa',\n",
       " 'Igor Kukulicic',\n",
       " 'Anil Julevic',\n",
       " 'Arya Kamali',\n",
       " 'Enock Lusiama',\n",
       " 'Nader Mohammadnejad',\n",
       " 'Amir Alidadi',\n",
       " 'Ghadir Aghajani',\n",
       " 'Seth Karunaratne',\n",
       " 'Touraj Aghayari',\n",
       " 'Keyvan Salehi',\n",
       " 'Mick Reid',\n",
       " 'Jordan Neal',\n",
       " 'Mojtaba Khosravi',\n",
       " 'Joe Davis',\n",
       " 'Jovan Radisic',\n",
       " 'Malik Sylvester',\n",
       " 'Amer Dandashi',\n",
       " 'Jonibek Kochimov',\n",
       " 'Abdumutal Tursunkulov',\n",
       " 'Alireza Ebrahimi',\n",
       " 'Majd Khushman',\n",
       " 'Gabriel Thór Thórdarson',\n",
       " 'Mohammad Norouzi',\n",
       " 'Sajjad Terjerou',\n",
       " 'Ibrahim Al-Taweel',\n",
       " 'Mehdi Berihi',\n",
       " 'Abbas Kandoul',\n",
       " 'Farid Hamrang',\n",
       " 'Mohammadreza Raoufi Manesh',\n",
       " 'Rabie Sorur',\n",
       " 'Reza Rezaei',\n",
       " 'Luke White',\n",
       " 'Jack Mitchell',\n",
       " 'Sohrab Polgardani',\n",
       " 'Mohsen Seifi',\n",
       " 'Amir Mohammad Monsef',\n",
       " 'Sajjad Tamimi',\n",
       " 'Mohammad Saberizadeh',\n",
       " 'Masoud Ramezani',\n",
       " 'Alireza Zare',\n",
       " 'Meysam Zamani',\n",
       " 'Abdolsamad Ahmadi',\n",
       " 'Sadegh Alousabih',\n",
       " 'Efekan Çolak',\n",
       " 'Mohammad Amin Saeidavi',\n",
       " 'Ebrahim Rezazadeh',\n",
       " 'Mohammad Qalfat',\n",
       " 'Paulo Gali',\n",
       " 'Peyman Poursadeghi',\n",
       " 'Milad Ahmadi',\n",
       " 'Alex Mort',\n",
       " 'Jack Eccles',\n",
       " 'Fergus Gillion',\n",
       " 'Mikkel Rod',\n",
       " 'Anderson Gómez',\n",
       " 'Luke Pritchard',\n",
       " 'William Vincent',\n",
       " 'Meysam Namvar',\n",
       " 'Fernando Ruíz',\n",
       " 'Roberto Niebles',\n",
       " 'Laurent Xhylani',\n",
       " 'Jurgen Serna',\n",
       " 'Rinor Brahimi',\n",
       " 'Harry Irving',\n",
       " 'Khetukuthula Ndlovu',\n",
       " 'Mohammad Jaber',\n",
       " 'Wálter Maldonado',\n",
       " 'Jorge Escobar',\n",
       " 'Juan Carbonell',\n",
       " 'Yonatan Sandoval',\n",
       " 'Mircea Mihai',\n",
       " 'Dei Gatkek',\n",
       " 'Andile Fakude',\n",
       " 'Slobodan Ivovic',\n",
       " 'Hakim Hazbaveipour',\n",
       " 'Mostafa Zeynali',\n",
       " 'Vahid Shaker',\n",
       " 'Masoud Asadi',\n",
       " 'Nima Eskandarizadeh',\n",
       " 'Mohammad Hossein Chegini',\n",
       " 'Farid Mohammadian',\n",
       " 'Hossein Afarin Zad',\n",
       " 'Reza Antik',\n",
       " 'Pouya Azizpour',\n",
       " 'Behnam Mohammad Zamani',\n",
       " 'Ghassen Bardia',\n",
       " 'Aria Sadeghi',\n",
       " 'Keyvan Mohammadnejad',\n",
       " 'Nkululeko Hlongo',\n",
       " 'Fayaz Mirdoraghi',\n",
       " 'Amir Ghalamara',\n",
       " 'Ali Badavi',\n",
       " 'Bornwise Ndzalama',\n",
       " 'Tshepo Mathiba',\n",
       " 'Mohanad Heydari',\n",
       " 'Abbas Aboudi',\n",
       " 'Mohammad Niazpour',\n",
       " 'Sepehr Shabani',\n",
       " 'S. Hoyos',\n",
       " 'Milad Daryanavardi',\n",
       " 'Amir Abbas Hassani',\n",
       " 'Amir Mohammadnejad',\n",
       " 'Hassan Ghasemi',\n",
       " 'Amin Basati',\n",
       " 'Leandro Rodriguez',\n",
       " 'Jonathan Orellana',\n",
       " 'Pedro Chic',\n",
       " 'Jalal Al-Dakar',\n",
       " 'Marlon Rancho',\n",
       " 'Cameron Dutton',\n",
       " 'Hesam Gholamian',\n",
       " 'Eric Durnell',\n",
       " 'Jeffry Aguilar',\n",
       " 'Alireza Shirzad',\n",
       " 'Peter Evans',\n",
       " 'Fandi Achmad',\n",
       " 'Adrián Flores',\n",
       " 'Reynaldiño Verley',\n",
       " 'Hossein Sharifi',\n",
       " 'Reza Jalali',\n",
       " 'Mahamadou Dramé',\n",
       " 'Lucas Davies',\n",
       " 'Boris Bissemou',\n",
       " 'Hossein Norouzi',\n",
       " 'Erfan Sharifi']"
      ]
     },
     "execution_count": 52,
     "metadata": {},
     "output_type": "execute_result"
    }
   ],
   "source": [
    "print(len(namesOfAge))\n",
    "namesOfAge"
   ]
  },
  {
   "cell_type": "code",
   "execution_count": null,
   "id": "3b1a61f1",
   "metadata": {
    "ExecuteTime": {
     "end_time": "2022-09-15T00:03:13.258072Z",
     "start_time": "2022-09-15T00:03:13.258072Z"
    },
    "scrolled": false
   },
   "outputs": [],
   "source": [
    "ffx = webdriver.Chrome()\n",
    "ffx.get(\"https://www.transfermarkt.com\")\n",
    "print('index :    age ')\n",
    "li4 = []\n",
    "Idx = []\n",
    "try:\n",
    "    for i in namesOfAge:\n",
    "        ffx.find_element(By.CSS_SELECTOR, '[class=\"tm-header__input--search-field\"]').send_keys(i) # Search with player name\n",
    "        ffx.find_element(By.CSS_SELECTOR,'[class=\"tm-header__input--search-send\"]').send_keys(Keys.ENTER) # press Enter Key\n",
    "        for player in ffx.find_elements(By.CSS_SELECTOR,'td[class= \"zentriert\"]'):\n",
    "            x = player.text\n",
    "            li4.append(x[2])\n",
    "        if li4[2] != '-' :\n",
    "            c = data[data.name == i ].index[0]\n",
    "            print(f'{c}   :  {li4[2]}')\n",
    "            Idx.append(c)\n",
    "        ffx.find_element(By.CSS_SELECTOR, '[class=\"tm-header__input--search-field\"]').clear()\n",
    "        c+=1\n",
    "except :\n",
    "    c+=1\n",
    "ffx.quit()\n",
    "print(Idx)\n",
    "print(li4)"
   ]
  },
  {
   "cell_type": "code",
   "execution_count": null,
   "id": "eb6674a3",
   "metadata": {
    "ExecuteTime": {
     "end_time": "2022-09-15T00:05:19.253499Z",
     "start_time": "2022-09-15T00:05:19.242528Z"
    },
    "scrolled": true
   },
   "outputs": [],
   "source": [
    "li4"
   ]
  },
  {
   "cell_type": "code",
   "execution_count": 147,
   "id": "b3658dd0",
   "metadata": {
    "ExecuteTime": {
     "end_time": "2022-09-16T20:47:42.760491Z",
     "start_time": "2022-09-16T20:47:42.756531Z"
    }
   },
   "outputs": [],
   "source": [
    "ages = [37, 22, 22, 32, 38, 27, 29, 29, 20, 54, 23, 54, 23, 40, 29, 28, 27, 30]\n",
    "Idx = [4495,6973, 8253, 10008, 12395, 12564, 13974, 23171, 25742, 25945, 26003, 26074, 27572, 32895, 33174, 33243,33423,29557]"
   ]
  },
  {
   "cell_type": "code",
   "execution_count": 148,
   "id": "67c33d2a",
   "metadata": {
    "ExecuteTime": {
     "end_time": "2022-09-16T20:47:42.769466Z",
     "start_time": "2022-09-16T20:47:42.761488Z"
    }
   },
   "outputs": [
    {
     "data": {
      "text/plain": [
       "{4495: 37,\n",
       " 6973: 22,\n",
       " 8253: 22,\n",
       " 10008: 32,\n",
       " 12395: 38,\n",
       " 12564: 27,\n",
       " 13974: 29,\n",
       " 23171: 29,\n",
       " 25742: 20,\n",
       " 25945: 54,\n",
       " 26003: 23,\n",
       " 26074: 54,\n",
       " 27572: 23,\n",
       " 32895: 40,\n",
       " 33174: 29,\n",
       " 33243: 28,\n",
       " 33423: 27,\n",
       " 29557: 30}"
      ]
     },
     "execution_count": 148,
     "metadata": {},
     "output_type": "execute_result"
    }
   ],
   "source": [
    "dic = dict(zip(Idx, ages))\n",
    "dic"
   ]
  },
  {
   "cell_type": "code",
   "execution_count": 149,
   "id": "8aecb316",
   "metadata": {
    "ExecuteTime": {
     "end_time": "2022-09-16T20:47:42.777445Z",
     "start_time": "2022-09-16T20:47:42.769466Z"
    }
   },
   "outputs": [],
   "source": [
    "data.fillna({'age': dic},inplace=True)"
   ]
  },
  {
   "cell_type": "code",
   "execution_count": 150,
   "id": "293e8e2c",
   "metadata": {
    "ExecuteTime": {
     "end_time": "2022-09-16T20:47:42.789413Z",
     "start_time": "2022-09-16T20:47:42.778443Z"
    },
    "scrolled": false
   },
   "outputs": [],
   "source": [
    "c = 0\n",
    "li5 = []\n",
    "for i in data.country_origin_club.isna():\n",
    "    if i == True: \n",
    "        li5.append(c)\n",
    "    c+=1"
   ]
  },
  {
   "cell_type": "code",
   "execution_count": 151,
   "id": "d484eae5",
   "metadata": {
    "ExecuteTime": {
     "end_time": "2022-09-16T20:47:42.811355Z",
     "start_time": "2022-09-16T20:47:42.790411Z"
    }
   },
   "outputs": [],
   "source": [
    "clubs = []\n",
    "index = []\n",
    "for i in li5:\n",
    "    if data.origin_club.loc[i] !=  \"Without Club\" and data.origin_club.loc[i] != 'Unknown' and data.origin_club.loc[i] != 'Career break':\n",
    "        clubs.append(data.origin_club.loc[i])\n",
    "        index.append(i)"
   ]
  },
  {
   "cell_type": "code",
   "execution_count": 152,
   "id": "170d1db8",
   "metadata": {
    "ExecuteTime": {
     "end_time": "2022-09-16T20:47:42.819333Z",
     "start_time": "2022-09-16T20:47:42.812352Z"
    },
    "scrolled": true
   },
   "outputs": [
    {
     "data": {
      "text/plain": [
       "['NK Vinodol',\n",
       " 'Finn Harps',\n",
       " 'Disqualification',\n",
       " 'Esteghlal Mollasani',\n",
       " 'Mes Shahr Babak FC',\n",
       " 'Deportivo Alavés B',\n",
       " 'Khimik Dzerzhinsk']"
      ]
     },
     "execution_count": 152,
     "metadata": {},
     "output_type": "execute_result"
    }
   ],
   "source": [
    "clubs"
   ]
  },
  {
   "cell_type": "code",
   "execution_count": null,
   "id": "63be5b2a",
   "metadata": {
    "ExecuteTime": {
     "end_time": "2022-09-15T00:03:13.276023Z",
     "start_time": "2022-09-15T00:03:13.276023Z"
    }
   },
   "outputs": [],
   "source": [
    "ffx = webdriver.Chrome()\n",
    "li6 = []\n",
    "ffx.get(\"https://www.transfermarkt.com\")\n",
    "for i in clubs:\n",
    "    ffx.find_element(By.CSS_SELECTOR, '[class=\"tm-header__input--search-field\"]').send_keys(i) # Search with player name\n",
    "    ffx.find_element(By.CSS_SELECTOR,'[class=\"tm-header__input--search-send\"]').send_keys(Keys.ENTER) # press Enter Key\n",
    "    try:\n",
    "        x = ffx.find_element(By.CSS_SELECTOR,'img[class= \"flaggenrahmen\"]').get_attribute('alt')\n",
    "        li6.append(x)\n",
    "    except :\n",
    "        li6.append('unknown')\n",
    "    ffx.find_element(By.CSS_SELECTOR, '[class=\"tm-header__input--search-field\"]').clear()\n",
    "ffx.quit()\n",
    "print(li6)"
   ]
  },
  {
   "cell_type": "code",
   "execution_count": 153,
   "id": "e7ac3c8a",
   "metadata": {
    "ExecuteTime": {
     "end_time": "2022-09-16T20:47:59.744494Z",
     "start_time": "2022-09-16T20:47:59.740543Z"
    }
   },
   "outputs": [],
   "source": [
    "li6 = ['Croatia', 'Ireland', 'unknown', 'Iran', 'Iran', 'Spain', 'Russia']"
   ]
  },
  {
   "cell_type": "code",
   "execution_count": 154,
   "id": "b4f4d62d",
   "metadata": {
    "ExecuteTime": {
     "end_time": "2022-09-16T20:47:59.751475Z",
     "start_time": "2022-09-16T20:47:59.745491Z"
    }
   },
   "outputs": [],
   "source": [
    "dic = dict(zip(index,li6))"
   ]
  },
  {
   "cell_type": "code",
   "execution_count": 155,
   "id": "f44ad643",
   "metadata": {
    "ExecuteTime": {
     "end_time": "2022-09-16T20:47:59.761448Z",
     "start_time": "2022-09-16T20:47:59.752472Z"
    }
   },
   "outputs": [],
   "source": [
    "data.fillna({'country_origin_club': dic},inplace=True)"
   ]
  },
  {
   "cell_type": "markdown",
   "id": "1eefdae3",
   "metadata": {},
   "source": [
    "### Replace na values in age column"
   ]
  },
  {
   "cell_type": "code",
   "execution_count": 156,
   "id": "9bbf8655",
   "metadata": {
    "ExecuteTime": {
     "end_time": "2022-09-16T20:47:59.768429Z",
     "start_time": "2022-09-16T20:47:59.762446Z"
    }
   },
   "outputs": [
    {
     "data": {
      "text/plain": [
       "126"
      ]
     },
     "execution_count": 156,
     "metadata": {},
     "output_type": "execute_result"
    }
   ],
   "source": [
    "data.age.isna().sum()         # na values"
   ]
  },
  {
   "cell_type": "code",
   "execution_count": 157,
   "id": "f87eb5d1",
   "metadata": {
    "ExecuteTime": {
     "end_time": "2022-09-16T20:47:59.776407Z",
     "start_time": "2022-09-16T20:47:59.768429Z"
    }
   },
   "outputs": [
    {
     "data": {
      "text/plain": [
       "Iran            68\n",
       "Syria            8\n",
       "Wales            8\n",
       "New Zealand      7\n",
       "Guatemala        5\n",
       "South Africa     5\n",
       "Montenegro       3\n",
       "Panama           3\n",
       "Uzbekistan       2\n",
       "Tunisia          2\n",
       "Kosovo           2\n",
       "Indonesia        1\n",
       "El Salvador      1\n",
       "Spain            1\n",
       "Slovakia         1\n",
       "Denmark          1\n",
       "Lebanon          1\n",
       "Timor-Leste      1\n",
       "Iceland          1\n",
       "Canada           1\n",
       "Iraq             1\n",
       "Morocco          1\n",
       "France           1\n",
       "Name: country_origin_club, dtype: int64"
      ]
     },
     "execution_count": 157,
     "metadata": {},
     "output_type": "execute_result"
    }
   ],
   "source": [
    "data['country_origin_club'][data.age.isna()].value_counts()"
   ]
  },
  {
   "cell_type": "code",
   "execution_count": 158,
   "id": "048418e6",
   "metadata": {
    "ExecuteTime": {
     "end_time": "2022-09-16T20:47:59.784387Z",
     "start_time": "2022-09-16T20:47:59.777405Z"
    },
    "scrolled": false
   },
   "outputs": [
    {
     "data": {
      "text/plain": [
       "['Iran',\n",
       " 'Syria',\n",
       " 'Wales',\n",
       " 'New Zealand',\n",
       " 'Guatemala',\n",
       " 'South Africa',\n",
       " 'Montenegro',\n",
       " 'Panama',\n",
       " 'Uzbekistan',\n",
       " 'Tunisia',\n",
       " 'Kosovo',\n",
       " 'Indonesia',\n",
       " 'El Salvador',\n",
       " 'Spain',\n",
       " 'Slovakia',\n",
       " 'Denmark',\n",
       " 'Lebanon',\n",
       " 'Timor-Leste',\n",
       " 'Iceland',\n",
       " 'Canada',\n",
       " 'Iraq',\n",
       " 'Morocco',\n",
       " 'France']"
      ]
     },
     "execution_count": 158,
     "metadata": {},
     "output_type": "execute_result"
    }
   ],
   "source": [
    "countries = data['country_origin_club'][data.age.isna()].value_counts().index.tolist()\n",
    "countries"
   ]
  },
  {
   "cell_type": "code",
   "execution_count": 159,
   "id": "77a14b92",
   "metadata": {
    "ExecuteTime": {
     "end_time": "2022-09-16T20:47:59.897178Z",
     "start_time": "2022-09-16T20:47:59.785383Z"
    }
   },
   "outputs": [],
   "source": [
    "for country in countries:\n",
    "    li = []\n",
    "    Idx = data[ ( data.age.isna() ) & ( data.country_origin_club == country ) ].index.tolist()\n",
    "    avg = data['age'][data.country_origin_club == country ].mean()\n",
    "    li.append(avg)\n",
    "    li *= len(Idx)\n",
    "    dic = dict(zip( Idx , li ))\n",
    "    data.fillna({'age': dic }, inplace=True)"
   ]
  },
  {
   "cell_type": "code",
   "execution_count": 160,
   "id": "bf9dba37",
   "metadata": {
    "ExecuteTime": {
     "end_time": "2022-09-16T20:47:59.906138Z",
     "start_time": "2022-09-16T20:47:59.898082Z"
    }
   },
   "outputs": [
    {
     "data": {
      "text/html": [
       "<div>\n",
       "<style scoped>\n",
       "    .dataframe tbody tr th:only-of-type {\n",
       "        vertical-align: middle;\n",
       "    }\n",
       "\n",
       "    .dataframe tbody tr th {\n",
       "        vertical-align: top;\n",
       "    }\n",
       "\n",
       "    .dataframe thead th {\n",
       "        text-align: right;\n",
       "    }\n",
       "</style>\n",
       "<table border=\"1\" class=\"dataframe\">\n",
       "  <thead>\n",
       "    <tr style=\"text-align: right;\">\n",
       "      <th></th>\n",
       "      <th>name</th>\n",
       "      <th>position</th>\n",
       "      <th>age</th>\n",
       "      <th>origin_club</th>\n",
       "      <th>country_origin_club</th>\n",
       "      <th>new_club</th>\n",
       "      <th>country_new_club</th>\n",
       "      <th>cost</th>\n",
       "    </tr>\n",
       "  </thead>\n",
       "  <tbody>\n",
       "    <tr>\n",
       "      <th>33274</th>\n",
       "      <td>Pedro Chic</td>\n",
       "      <td>midfield</td>\n",
       "      <td>NaN</td>\n",
       "      <td>Without Club</td>\n",
       "      <td>NaN</td>\n",
       "      <td>Quiché FC</td>\n",
       "      <td>Guatemala</td>\n",
       "      <td>10000.0</td>\n",
       "    </tr>\n",
       "  </tbody>\n",
       "</table>\n",
       "</div>"
      ],
      "text/plain": [
       "             name  position  age   origin_club country_origin_club   new_club  \\\n",
       "33274  Pedro Chic  midfield  NaN  Without Club                 NaN  Quiché FC   \n",
       "\n",
       "      country_new_club     cost  \n",
       "33274        Guatemala  10000.0  "
      ]
     },
     "execution_count": 160,
     "metadata": {},
     "output_type": "execute_result"
    }
   ],
   "source": [
    "data[data.age.isna()]"
   ]
  },
  {
   "cell_type": "code",
   "execution_count": 161,
   "id": "ca945ef7",
   "metadata": {
    "ExecuteTime": {
     "end_time": "2022-09-16T20:47:59.918030Z",
     "start_time": "2022-09-16T20:47:59.908056Z"
    }
   },
   "outputs": [],
   "source": [
    "data[data.age.isna()] = data[data.age.isna()].fillna(data.age.median())"
   ]
  },
  {
   "cell_type": "markdown",
   "id": "af5c7ebb",
   "metadata": {},
   "source": [
    "# "
   ]
  },
  {
   "cell_type": "markdown",
   "id": "e952c96a",
   "metadata": {},
   "source": [
    "## Duplicated Data"
   ]
  },
  {
   "cell_type": "code",
   "execution_count": 162,
   "id": "56aa00ee",
   "metadata": {
    "ExecuteTime": {
     "end_time": "2022-09-16T20:47:59.951966Z",
     "start_time": "2022-09-16T20:47:59.919027Z"
    }
   },
   "outputs": [
    {
     "data": {
      "text/html": [
       "<div>\n",
       "<style scoped>\n",
       "    .dataframe tbody tr th:only-of-type {\n",
       "        vertical-align: middle;\n",
       "    }\n",
       "\n",
       "    .dataframe tbody tr th {\n",
       "        vertical-align: top;\n",
       "    }\n",
       "\n",
       "    .dataframe thead th {\n",
       "        text-align: right;\n",
       "    }\n",
       "</style>\n",
       "<table border=\"1\" class=\"dataframe\">\n",
       "  <thead>\n",
       "    <tr style=\"text-align: right;\">\n",
       "      <th></th>\n",
       "      <th>name</th>\n",
       "      <th>position</th>\n",
       "      <th>age</th>\n",
       "      <th>origin_club</th>\n",
       "      <th>country_origin_club</th>\n",
       "      <th>new_club</th>\n",
       "      <th>country_new_club</th>\n",
       "      <th>cost</th>\n",
       "    </tr>\n",
       "  </thead>\n",
       "  <tbody>\n",
       "    <tr>\n",
       "      <th>51</th>\n",
       "      <td>Roman Vantukh</td>\n",
       "      <td>Left-Back</td>\n",
       "      <td>24.0</td>\n",
       "      <td>Dynamo Kyiv</td>\n",
       "      <td>Ukraine</td>\n",
       "      <td>Zorya Lugansk</td>\n",
       "      <td>Ukraine</td>\n",
       "      <td>400000.0</td>\n",
       "    </tr>\n",
       "    <tr>\n",
       "      <th>3681</th>\n",
       "      <td>Jesús Vázquez</td>\n",
       "      <td>Centre-Back</td>\n",
       "      <td>27.0</td>\n",
       "      <td>Rio Grande Valley FC Toros</td>\n",
       "      <td>United States</td>\n",
       "      <td>Indy Eleven</td>\n",
       "      <td>United States</td>\n",
       "      <td>225000.0</td>\n",
       "    </tr>\n",
       "    <tr>\n",
       "      <th>4787</th>\n",
       "      <td>Halim Darragi</td>\n",
       "      <td>Left Winger</td>\n",
       "      <td>32.0</td>\n",
       "      <td>Al-Dahab Club</td>\n",
       "      <td>Saudi Arabia</td>\n",
       "      <td>EO Sidi Bouzid</td>\n",
       "      <td>Tunisia</td>\n",
       "      <td>100000.0</td>\n",
       "    </tr>\n",
       "    <tr>\n",
       "      <th>4954</th>\n",
       "      <td>Halim Darragi</td>\n",
       "      <td>Left Winger</td>\n",
       "      <td>32.0</td>\n",
       "      <td>Al-Dahab Club</td>\n",
       "      <td>Saudi Arabia</td>\n",
       "      <td>EO Sidi Bouzid</td>\n",
       "      <td>Tunisia</td>\n",
       "      <td>100000.0</td>\n",
       "    </tr>\n",
       "    <tr>\n",
       "      <th>6399</th>\n",
       "      <td>Miloud Rebiai</td>\n",
       "      <td>Defensive Midfield</td>\n",
       "      <td>28.0</td>\n",
       "      <td>MC Algiers</td>\n",
       "      <td>Algeria</td>\n",
       "      <td>CR Belouizdad</td>\n",
       "      <td>Algeria</td>\n",
       "      <td>350000.0</td>\n",
       "    </tr>\n",
       "    <tr>\n",
       "      <th>6977</th>\n",
       "      <td>Miloud Rebiai</td>\n",
       "      <td>Defensive Midfield</td>\n",
       "      <td>28.0</td>\n",
       "      <td>MC Algiers</td>\n",
       "      <td>Algeria</td>\n",
       "      <td>CR Belouizdad</td>\n",
       "      <td>Algeria</td>\n",
       "      <td>350000.0</td>\n",
       "    </tr>\n",
       "    <tr>\n",
       "      <th>7708</th>\n",
       "      <td>Johann Hoseth Kosberg</td>\n",
       "      <td>attack</td>\n",
       "      <td>22.0</td>\n",
       "      <td>Stjördals Blink IL</td>\n",
       "      <td>Norway</td>\n",
       "      <td>Ullensaker/Kisa IL</td>\n",
       "      <td>Norway</td>\n",
       "      <td>50000.0</td>\n",
       "    </tr>\n",
       "    <tr>\n",
       "      <th>8733</th>\n",
       "      <td>Robert Odu</td>\n",
       "      <td>Centre-Forward</td>\n",
       "      <td>23.0</td>\n",
       "      <td>Al-Taraji</td>\n",
       "      <td>Saudi Arabia</td>\n",
       "      <td>Qilwah Club</td>\n",
       "      <td>Saudi Arabia</td>\n",
       "      <td>150000.0</td>\n",
       "    </tr>\n",
       "    <tr>\n",
       "      <th>10743</th>\n",
       "      <td>Jesús Vázquez</td>\n",
       "      <td>Centre-Back</td>\n",
       "      <td>27.0</td>\n",
       "      <td>Rio Grande Valley FC Toros</td>\n",
       "      <td>United States</td>\n",
       "      <td>Indy Eleven</td>\n",
       "      <td>United States</td>\n",
       "      <td>225000.0</td>\n",
       "    </tr>\n",
       "    <tr>\n",
       "      <th>11652</th>\n",
       "      <td>Robert Odu</td>\n",
       "      <td>Centre-Forward</td>\n",
       "      <td>23.0</td>\n",
       "      <td>Al-Taraji</td>\n",
       "      <td>Saudi Arabia</td>\n",
       "      <td>Qilwah Club</td>\n",
       "      <td>Saudi Arabia</td>\n",
       "      <td>150000.0</td>\n",
       "    </tr>\n",
       "    <tr>\n",
       "      <th>12019</th>\n",
       "      <td>Vincenzo Alfieri</td>\n",
       "      <td>Defensive Midfield</td>\n",
       "      <td>19.0</td>\n",
       "      <td>Benevento Calcio</td>\n",
       "      <td>Italy</td>\n",
       "      <td>US Recanatese</td>\n",
       "      <td>Italy</td>\n",
       "      <td>25000.0</td>\n",
       "    </tr>\n",
       "    <tr>\n",
       "      <th>12953</th>\n",
       "      <td>Vincenzo Alfieri</td>\n",
       "      <td>Defensive Midfield</td>\n",
       "      <td>19.0</td>\n",
       "      <td>Benevento Calcio</td>\n",
       "      <td>Italy</td>\n",
       "      <td>US Recanatese</td>\n",
       "      <td>Italy</td>\n",
       "      <td>25000.0</td>\n",
       "    </tr>\n",
       "    <tr>\n",
       "      <th>13586</th>\n",
       "      <td>Roman Vantukh</td>\n",
       "      <td>Left-Back</td>\n",
       "      <td>24.0</td>\n",
       "      <td>Dynamo Kyiv</td>\n",
       "      <td>Ukraine</td>\n",
       "      <td>Zorya Lugansk</td>\n",
       "      <td>Ukraine</td>\n",
       "      <td>400000.0</td>\n",
       "    </tr>\n",
       "    <tr>\n",
       "      <th>14530</th>\n",
       "      <td>Johann Hoseth Kosberg</td>\n",
       "      <td>attack</td>\n",
       "      <td>22.0</td>\n",
       "      <td>Stjördals Blink IL</td>\n",
       "      <td>Norway</td>\n",
       "      <td>Ullensaker/Kisa IL</td>\n",
       "      <td>Norway</td>\n",
       "      <td>50000.0</td>\n",
       "    </tr>\n",
       "  </tbody>\n",
       "</table>\n",
       "</div>"
      ],
      "text/plain": [
       "                        name            position   age  \\\n",
       "51             Roman Vantukh           Left-Back  24.0   \n",
       "3681           Jesús Vázquez         Centre-Back  27.0   \n",
       "4787           Halim Darragi         Left Winger  32.0   \n",
       "4954           Halim Darragi         Left Winger  32.0   \n",
       "6399           Miloud Rebiai  Defensive Midfield  28.0   \n",
       "6977           Miloud Rebiai  Defensive Midfield  28.0   \n",
       "7708   Johann Hoseth Kosberg              attack  22.0   \n",
       "8733              Robert Odu      Centre-Forward  23.0   \n",
       "10743          Jesús Vázquez         Centre-Back  27.0   \n",
       "11652             Robert Odu      Centre-Forward  23.0   \n",
       "12019       Vincenzo Alfieri  Defensive Midfield  19.0   \n",
       "12953       Vincenzo Alfieri  Defensive Midfield  19.0   \n",
       "13586          Roman Vantukh           Left-Back  24.0   \n",
       "14530  Johann Hoseth Kosberg              attack  22.0   \n",
       "\n",
       "                      origin_club country_origin_club            new_club  \\\n",
       "51                    Dynamo Kyiv             Ukraine       Zorya Lugansk   \n",
       "3681   Rio Grande Valley FC Toros       United States         Indy Eleven   \n",
       "4787                Al-Dahab Club        Saudi Arabia      EO Sidi Bouzid   \n",
       "4954                Al-Dahab Club        Saudi Arabia      EO Sidi Bouzid   \n",
       "6399                   MC Algiers             Algeria       CR Belouizdad   \n",
       "6977                   MC Algiers             Algeria       CR Belouizdad   \n",
       "7708           Stjördals Blink IL              Norway  Ullensaker/Kisa IL   \n",
       "8733                    Al-Taraji        Saudi Arabia         Qilwah Club   \n",
       "10743  Rio Grande Valley FC Toros       United States         Indy Eleven   \n",
       "11652                   Al-Taraji        Saudi Arabia         Qilwah Club   \n",
       "12019            Benevento Calcio               Italy       US Recanatese   \n",
       "12953            Benevento Calcio               Italy       US Recanatese   \n",
       "13586                 Dynamo Kyiv             Ukraine       Zorya Lugansk   \n",
       "14530          Stjördals Blink IL              Norway  Ullensaker/Kisa IL   \n",
       "\n",
       "      country_new_club      cost  \n",
       "51             Ukraine  400000.0  \n",
       "3681     United States  225000.0  \n",
       "4787           Tunisia  100000.0  \n",
       "4954           Tunisia  100000.0  \n",
       "6399           Algeria  350000.0  \n",
       "6977           Algeria  350000.0  \n",
       "7708            Norway   50000.0  \n",
       "8733      Saudi Arabia  150000.0  \n",
       "10743    United States  225000.0  \n",
       "11652     Saudi Arabia  150000.0  \n",
       "12019            Italy   25000.0  \n",
       "12953            Italy   25000.0  \n",
       "13586          Ukraine  400000.0  \n",
       "14530           Norway   50000.0  "
      ]
     },
     "execution_count": 162,
     "metadata": {},
     "output_type": "execute_result"
    }
   ],
   "source": [
    "data[data.duplicated(keep=False)].head(60)"
   ]
  },
  {
   "cell_type": "code",
   "execution_count": 163,
   "id": "e2221abd",
   "metadata": {
    "ExecuteTime": {
     "end_time": "2022-09-16T20:47:59.977869Z",
     "start_time": "2022-09-16T20:47:59.952936Z"
    }
   },
   "outputs": [],
   "source": [
    "data.drop_duplicates(keep='first', inplace=True)"
   ]
  },
  {
   "cell_type": "markdown",
   "id": "3ac4fc2f",
   "metadata": {},
   "source": [
    "# "
   ]
  },
  {
   "cell_type": "markdown",
   "id": "86c139c4",
   "metadata": {},
   "source": [
    "## Outliers"
   ]
  },
  {
   "cell_type": "code",
   "execution_count": 164,
   "id": "58d0609b",
   "metadata": {
    "ExecuteTime": {
     "end_time": "2022-09-16T20:48:00.115502Z",
     "start_time": "2022-09-16T20:47:59.978868Z"
    }
   },
   "outputs": [
    {
     "data": {
      "image/png": "[encoded data removed]",
      "text/plain": [
       "<Figure size 432x288 with 1 Axes>"
      ]
     },
     "metadata": {
      "needs_background": "light"
     },
     "output_type": "display_data"
    }
   ],
   "source": [
    "plt.scatter(data.age, data.cost)\n",
    "plt.show()"
   ]
  },
  {
   "cell_type": "markdown",
   "id": "e6c17028",
   "metadata": {},
   "source": [
    "## age outliers"
   ]
  },
  {
   "cell_type": "code",
   "execution_count": 12,
   "id": "abc637bd",
   "metadata": {
    "ExecuteTime": {
     "end_time": "2022-09-19T19:59:37.680262Z",
     "start_time": "2022-09-19T19:59:37.558604Z"
    },
    "scrolled": false
   },
   "outputs": [
    {
     "name": "stderr",
     "output_type": "stream",
     "text": [
      "C:\\Users\\10\\anaconda3\\lib\\site-packages\\seaborn\\_decorators.py:36: FutureWarning: Pass the following variable as a keyword arg: x. From version 0.12, the only valid positional argument will be `data`, and passing other arguments without an explicit keyword will result in an error or misinterpretation.\n",
      "  warnings.warn(\n"
     ]
    },
    {
     "data": {
      "image/png": "[encoded data removed]",
      "text/plain": [
       "<Figure size 432x288 with 1 Axes>"
      ]
     },
     "metadata": {
      "needs_background": "light"
     },
     "output_type": "display_data"
    }
   ],
   "source": [
    "%matplotlib inline\n",
    "s = sns.boxplot(data['age'])\n",
    "s.set_xticks(np.arange(15,55,2))\n",
    "plt.show()"
   ]
  },
  {
   "cell_type": "code",
   "execution_count": 166,
   "id": "5ed457e8",
   "metadata": {
    "ExecuteTime": {
     "end_time": "2022-09-16T20:48:00.218229Z",
     "start_time": "2022-09-16T20:48:00.213240Z"
    },
    "scrolled": true
   },
   "outputs": [],
   "source": [
    "ageOutliers = data[data.age > 38].index.tolist()"
   ]
  },
  {
   "cell_type": "markdown",
   "id": "401d4ea6",
   "metadata": {},
   "source": [
    "# "
   ]
  },
  {
   "cell_type": "markdown",
   "id": "d2978f98",
   "metadata": {},
   "source": [
    "### cost outliers"
   ]
  },
  {
   "cell_type": "code",
   "execution_count": 167,
   "id": "51d02ae4",
   "metadata": {
    "ExecuteTime": {
     "end_time": "2022-09-16T20:48:00.231196Z",
     "start_time": "2022-09-16T20:48:00.219229Z"
    }
   },
   "outputs": [
    {
     "data": {
      "text/html": [
       "<div>\n",
       "<style scoped>\n",
       "    .dataframe tbody tr th:only-of-type {\n",
       "        vertical-align: middle;\n",
       "    }\n",
       "\n",
       "    .dataframe tbody tr th {\n",
       "        vertical-align: top;\n",
       "    }\n",
       "\n",
       "    .dataframe thead th {\n",
       "        text-align: right;\n",
       "    }\n",
       "</style>\n",
       "<table border=\"1\" class=\"dataframe\">\n",
       "  <thead>\n",
       "    <tr style=\"text-align: right;\">\n",
       "      <th></th>\n",
       "      <th>name</th>\n",
       "      <th>position</th>\n",
       "      <th>age</th>\n",
       "      <th>origin_club</th>\n",
       "      <th>country_origin_club</th>\n",
       "      <th>new_club</th>\n",
       "      <th>country_new_club</th>\n",
       "      <th>cost</th>\n",
       "    </tr>\n",
       "  </thead>\n",
       "  <tbody>\n",
       "    <tr>\n",
       "      <th>19252</th>\n",
       "      <td>Erling Haaland</td>\n",
       "      <td>Centre-Forward</td>\n",
       "      <td>21.0</td>\n",
       "      <td>Borussia Dortmund</td>\n",
       "      <td>Germany</td>\n",
       "      <td>Manchester City</td>\n",
       "      <td>England</td>\n",
       "      <td>150000000.0</td>\n",
       "    </tr>\n",
       "  </tbody>\n",
       "</table>\n",
       "</div>"
      ],
      "text/plain": [
       "                 name        position   age        origin_club  \\\n",
       "19252  Erling Haaland  Centre-Forward  21.0  Borussia Dortmund   \n",
       "\n",
       "      country_origin_club         new_club country_new_club         cost  \n",
       "19252             Germany  Manchester City          England  150000000.0  "
      ]
     },
     "execution_count": 167,
     "metadata": {},
     "output_type": "execute_result"
    }
   ],
   "source": [
    "data[data.cost == 150000000]"
   ]
  },
  {
   "cell_type": "code",
   "execution_count": 168,
   "id": "162e6809",
   "metadata": {
    "ExecuteTime": {
     "end_time": "2022-09-16T20:48:00.241169Z",
     "start_time": "2022-09-16T20:48:00.231196Z"
    }
   },
   "outputs": [
    {
     "data": {
      "text/plain": [
       "count    3.361800e+04\n",
       "mean     4.783091e+05\n",
       "std      2.429414e+06\n",
       "min      8.000000e+03\n",
       "25%      5.000000e+04\n",
       "50%      1.000000e+05\n",
       "75%      2.500000e+05\n",
       "max      1.500000e+08\n",
       "Name: cost, dtype: float64"
      ]
     },
     "execution_count": 168,
     "metadata": {},
     "output_type": "execute_result"
    }
   ],
   "source": [
    "data.cost.describe()"
   ]
  },
  {
   "cell_type": "code",
   "execution_count": 169,
   "id": "b8fdb44c",
   "metadata": {
    "ExecuteTime": {
     "end_time": "2022-09-16T20:48:00.272090Z",
     "start_time": "2022-09-16T20:48:00.242167Z"
    },
    "scrolled": false
   },
   "outputs": [
    {
     "name": "stderr",
     "output_type": "stream",
     "text": [
      "C:\\Users\\10\\anaconda3\\lib\\site-packages\\seaborn\\_decorators.py:36: FutureWarning: Pass the following variable as a keyword arg: x. From version 0.12, the only valid positional argument will be `data`, and passing other arguments without an explicit keyword will result in an error or misinterpretation.\n",
      "  warnings.warn(\n"
     ]
    },
    {
     "data": {
      "application/javascript": [
       "/* Put everything inside the global mpl namespace */\n",
       "/* global mpl */\n",
       "window.mpl = {};\n",
       "\n",
       "mpl.get_websocket_type = function () {\n",
       "    if (typeof WebSocket !== 'undefined') {\n",
       "        return WebSocket;\n",
       "    } else if (typeof MozWebSocket !== 'undefined') {\n",
       "        return MozWebSocket;\n",
       "    } else {\n",
       "        alert(\n",
       "            'Your browser does not have WebSocket support. ' +\n",
       "                'Please try Chrome, Safari or Firefox ≥ 6. ' +\n",
       "                'Firefox 4 and 5 are also supported but you ' +\n",
       "                'have to enable WebSockets in about:config.'\n",
       "        );\n",
       "    }\n",
       "};\n",
       "\n",
       "mpl.figure = function (figure_id, websocket, ondownload, parent_element) {\n",
       "    this.id = figure_id;\n",
       "\n",
       "    this.ws = websocket;\n",
       "\n",
       "    this.supports_binary = this.ws.binaryType !== undefined;\n",
       "\n",
       "    if (!this.supports_binary) {\n",
       "        var warnings = document.getElementById('mpl-warnings');\n",
       "        if (warnings) {\n",
       "            warnings.style.display = 'block';\n",
       "            warnings.textContent =\n",
       "                'This browser does not support binary websocket messages. ' +\n",
       "                'Performance may be slow.';\n",
       "        }\n",
       "    }\n",
       "\n",
       "    this.imageObj = new Image();\n",
       "\n",
       "    this.context = undefined;\n",
       "    this.message = undefined;\n",
       "    this.canvas = undefined;\n",
       "    this.rubberband_canvas = undefined;\n",
       "    this.rubberband_context = undefined;\n",
       "    this.format_dropdown = undefined;\n",
       "\n",
       "    this.image_mode = 'full';\n",
       "\n",
       "    this.root = document.createElement('div');\n",
       "    this.root.setAttribute('style', 'display: inline-block');\n",
       "    this._root_extra_style(this.root);\n",
       "\n",
       "    parent_element.appendChild(this.root);\n",
       "\n",
       "    this._init_header(this);\n",
       "    this._init_canvas(this);\n",
       "    this._init_toolbar(this);\n",
       "\n",
       "    var fig = this;\n",
       "\n",
       "    this.waiting = false;\n",
       "\n",
       "    this.ws.onopen = function () {\n",
       "        fig.send_message('supports_binary', { value: fig.supports_binary });\n",
       "        fig.send_message('send_image_mode', {});\n",
       "        if (fig.ratio !== 1) {\n",
       "            fig.send_message('set_dpi_ratio', { dpi_ratio: fig.ratio });\n",
       "        }\n",
       "        fig.send_message('refresh', {});\n",
       "    };\n",
       "\n",
       "    this.imageObj.onload = function () {\n",
       "        if (fig.image_mode === 'full') {\n",
       "            // Full images could contain transparency (where diff images\n",
       "            // almost always do), so we need to clear the canvas so that\n",
       "            // there is no ghosting.\n",
       "            fig.context.clearRect(0, 0, fig.canvas.width, fig.canvas.height);\n",
       "        }\n",
       "        fig.context.drawImage(fig.imageObj, 0, 0);\n",
       "    };\n",
       "\n",
       "    this.imageObj.onunload = function () {\n",
       "        fig.ws.close();\n",
       "    };\n",
       "\n",
       "    this.ws.onmessage = this._make_on_message_function(this);\n",
       "\n",
       "    this.ondownload = ondownload;\n",
       "};\n",
       "\n",
       "mpl.figure.prototype._init_header = function () {\n",
       "    var titlebar = document.createElement('div');\n",
       "    titlebar.classList =\n",
       "        'ui-dialog-titlebar ui-widget-header ui-corner-all ui-helper-clearfix';\n",
       "    var titletext = document.createElement('div');\n",
       "    titletext.classList = 'ui-dialog-title';\n",
       "    titletext.setAttribute(\n",
       "        'style',\n",
       "        'width: 100%; text-align: center; padding: 3px;'\n",
       "    );\n",
       "    titlebar.appendChild(titletext);\n",
       "    this.root.appendChild(titlebar);\n",
       "    this.header = titletext;\n",
       "};\n",
       "\n",
       "mpl.figure.prototype._canvas_extra_style = function (_canvas_div) {};\n",
       "\n",
       "mpl.figure.prototype._root_extra_style = function (_canvas_div) {};\n",
       "\n",
       "mpl.figure.prototype._init_canvas = function () {\n",
       "    var fig = this;\n",
       "\n",
       "    var canvas_div = (this.canvas_div = document.createElement('div'));\n",
       "    canvas_div.setAttribute(\n",
       "        'style',\n",
       "        'border: 1px solid #ddd;' +\n",
       "            'box-sizing: content-box;' +\n",
       "            'clear: both;' +\n",
       "            'min-height: 1px;' +\n",
       "            'min-width: 1px;' +\n",
       "            'outline: 0;' +\n",
       "            'overflow: hidden;' +\n",
       "            'position: relative;' +\n",
       "            'resize: both;'\n",
       "    );\n",
       "\n",
       "    function on_keyboard_event_closure(name) {\n",
       "        return function (event) {\n",
       "            return fig.key_event(event, name);\n",
       "        };\n",
       "    }\n",
       "\n",
       "    canvas_div.addEventListener(\n",
       "        'keydown',\n",
       "        on_keyboard_event_closure('key_press')\n",
       "    );\n",
       "    canvas_div.addEventListener(\n",
       "        'keyup',\n",
       "        on_keyboard_event_closure('key_release')\n",
       "    );\n",
       "\n",
       "    this._canvas_extra_style(canvas_div);\n",
       "    this.root.appendChild(canvas_div);\n",
       "\n",
       "    var canvas = (this.canvas = document.createElement('canvas'));\n",
       "    canvas.classList.add('mpl-canvas');\n",
       "    canvas.setAttribute('style', 'box-sizing: content-box;');\n",
       "\n",
       "    this.context = canvas.getContext('2d');\n",
       "\n",
       "    var backingStore =\n",
       "        this.context.backingStorePixelRatio ||\n",
       "        this.context.webkitBackingStorePixelRatio ||\n",
       "        this.context.mozBackingStorePixelRatio ||\n",
       "        this.context.msBackingStorePixelRatio ||\n",
       "        this.context.oBackingStorePixelRatio ||\n",
       "        this.context.backingStorePixelRatio ||\n",
       "        1;\n",
       "\n",
       "    this.ratio = (window.devicePixelRatio || 1) / backingStore;\n",
       "\n",
       "    var rubberband_canvas = (this.rubberband_canvas = document.createElement(\n",
       "        'canvas'\n",
       "    ));\n",
       "    rubberband_canvas.setAttribute(\n",
       "        'style',\n",
       "        'box-sizing: content-box; position: absolute; left: 0; top: 0; z-index: 1;'\n",
       "    );\n",
       "\n",
       "    // Apply a ponyfill if ResizeObserver is not implemented by browser.\n",
       "    if (this.ResizeObserver === undefined) {\n",
       "        if (window.ResizeObserver !== undefined) {\n",
       "            this.ResizeObserver = window.ResizeObserver;\n",
       "        } else {\n",
       "            var obs = _JSXTOOLS_RESIZE_OBSERVER({});\n",
       "            this.ResizeObserver = obs.ResizeObserver;\n",
       "        }\n",
       "    }\n",
       "\n",
       "    this.resizeObserverInstance = new this.ResizeObserver(function (entries) {\n",
       "        var nentries = entries.length;\n",
       "        for (var i = 0; i < nentries; i++) {\n",
       "            var entry = entries[i];\n",
       "            var width, height;\n",
       "            if (entry.contentBoxSize) {\n",
       "                if (entry.contentBoxSize instanceof Array) {\n",
       "                    // Chrome 84 implements new version of spec.\n",
       "                    width = entry.contentBoxSize[0].inlineSize;\n",
       "                    height = entry.contentBoxSize[0].blockSize;\n",
       "                } else {\n",
       "                    // Firefox implements old version of spec.\n",
       "                    width = entry.contentBoxSize.inlineSize;\n",
       "                    height = entry.contentBoxSize.blockSize;\n",
       "                }\n",
       "            } else {\n",
       "                // Chrome <84 implements even older version of spec.\n",
       "                width = entry.contentRect.width;\n",
       "                height = entry.contentRect.height;\n",
       "            }\n",
       "\n",
       "            // Keep the size of the canvas and rubber band canvas in sync with\n",
       "            // the canvas container.\n",
       "            if (entry.devicePixelContentBoxSize) {\n",
       "                // Chrome 84 implements new version of spec.\n",
       "                canvas.setAttribute(\n",
       "                    'width',\n",
       "                    entry.devicePixelContentBoxSize[0].inlineSize\n",
       "                );\n",
       "                canvas.setAttribute(\n",
       "                    'height',\n",
       "                    entry.devicePixelContentBoxSize[0].blockSize\n",
       "                );\n",
       "            } else {\n",
       "                canvas.setAttribute('width', width * fig.ratio);\n",
       "                canvas.setAttribute('height', height * fig.ratio);\n",
       "            }\n",
       "            canvas.setAttribute(\n",
       "                'style',\n",
       "                'width: ' + width + 'px; height: ' + height + 'px;'\n",
       "            );\n",
       "\n",
       "            rubberband_canvas.setAttribute('width', width);\n",
       "            rubberband_canvas.setAttribute('height', height);\n",
       "\n",
       "            // And update the size in Python. We ignore the initial 0/0 size\n",
       "            // that occurs as the element is placed into the DOM, which should\n",
       "            // otherwise not happen due to the minimum size styling.\n",
       "            if (fig.ws.readyState == 1 && width != 0 && height != 0) {\n",
       "                fig.request_resize(width, height);\n",
       "            }\n",
       "        }\n",
       "    });\n",
       "    this.resizeObserverInstance.observe(canvas_div);\n",
       "\n",
       "    function on_mouse_event_closure(name) {\n",
       "        return function (event) {\n",
       "            return fig.mouse_event(event, name);\n",
       "        };\n",
       "    }\n",
       "\n",
       "    rubberband_canvas.addEventListener(\n",
       "        'mousedown',\n",
       "        on_mouse_event_closure('button_press')\n",
       "    );\n",
       "    rubberband_canvas.addEventListener(\n",
       "        'mouseup',\n",
       "        on_mouse_event_closure('button_release')\n",
       "    );\n",
       "    rubberband_canvas.addEventListener(\n",
       "        'dblclick',\n",
       "        on_mouse_event_closure('dblclick')\n",
       "    );\n",
       "    // Throttle sequential mouse events to 1 every 20ms.\n",
       "    rubberband_canvas.addEventListener(\n",
       "        'mousemove',\n",
       "        on_mouse_event_closure('motion_notify')\n",
       "    );\n",
       "\n",
       "    rubberband_canvas.addEventListener(\n",
       "        'mouseenter',\n",
       "        on_mouse_event_closure('figure_enter')\n",
       "    );\n",
       "    rubberband_canvas.addEventListener(\n",
       "        'mouseleave',\n",
       "        on_mouse_event_closure('figure_leave')\n",
       "    );\n",
       "\n",
       "    canvas_div.addEventListener('wheel', function (event) {\n",
       "        if (event.deltaY < 0) {\n",
       "            event.step = 1;\n",
       "        } else {\n",
       "            event.step = -1;\n",
       "        }\n",
       "        on_mouse_event_closure('scroll')(event);\n",
       "    });\n",
       "\n",
       "    canvas_div.appendChild(canvas);\n",
       "    canvas_div.appendChild(rubberband_canvas);\n",
       "\n",
       "    this.rubberband_context = rubberband_canvas.getContext('2d');\n",
       "    this.rubberband_context.strokeStyle = '#000000';\n",
       "\n",
       "    this._resize_canvas = function (width, height, forward) {\n",
       "        if (forward) {\n",
       "            canvas_div.style.width = width + 'px';\n",
       "            canvas_div.style.height = height + 'px';\n",
       "        }\n",
       "    };\n",
       "\n",
       "    // Disable right mouse context menu.\n",
       "    this.rubberband_canvas.addEventListener('contextmenu', function (_e) {\n",
       "        event.preventDefault();\n",
       "        return false;\n",
       "    });\n",
       "\n",
       "    function set_focus() {\n",
       "        canvas.focus();\n",
       "        canvas_div.focus();\n",
       "    }\n",
       "\n",
       "    window.setTimeout(set_focus, 100);\n",
       "};\n",
       "\n",
       "mpl.figure.prototype._init_toolbar = function () {\n",
       "    var fig = this;\n",
       "\n",
       "    var toolbar = document.createElement('div');\n",
       "    toolbar.classList = 'mpl-toolbar';\n",
       "    this.root.appendChild(toolbar);\n",
       "\n",
       "    function on_click_closure(name) {\n",
       "        return function (_event) {\n",
       "            return fig.toolbar_button_onclick(name);\n",
       "        };\n",
       "    }\n",
       "\n",
       "    function on_mouseover_closure(tooltip) {\n",
       "        return function (event) {\n",
       "            if (!event.currentTarget.disabled) {\n",
       "                return fig.toolbar_button_onmouseover(tooltip);\n",
       "            }\n",
       "        };\n",
       "    }\n",
       "\n",
       "    fig.buttons = {};\n",
       "    var buttonGroup = document.createElement('div');\n",
       "    buttonGroup.classList = 'mpl-button-group';\n",
       "    for (var toolbar_ind in mpl.toolbar_items) {\n",
       "        var name = mpl.toolbar_items[toolbar_ind][0];\n",
       "        var tooltip = mpl.toolbar_items[toolbar_ind][1];\n",
       "        var image = mpl.toolbar_items[toolbar_ind][2];\n",
       "        var method_name = mpl.toolbar_items[toolbar_ind][3];\n",
       "\n",
       "        if (!name) {\n",
       "            /* Instead of a spacer, we start a new button group. */\n",
       "            if (buttonGroup.hasChildNodes()) {\n",
       "                toolbar.appendChild(buttonGroup);\n",
       "            }\n",
       "            buttonGroup = document.createElement('div');\n",
       "            buttonGroup.classList = 'mpl-button-group';\n",
       "            continue;\n",
       "        }\n",
       "\n",
       "        var button = (fig.buttons[name] = document.createElement('button'));\n",
       "        button.classList = 'mpl-widget';\n",
       "        button.setAttribute('role', 'button');\n",
       "        button.setAttribute('aria-disabled', 'false');\n",
       "        button.addEventListener('click', on_click_closure(method_name));\n",
       "        button.addEventListener('mouseover', on_mouseover_closure(tooltip));\n",
       "\n",
       "        var icon_img = document.createElement('img');\n",
       "        icon_img.src = '_images/' + image + '.png';\n",
       "        icon_img.srcset = '_images/' + image + '_large.png 2x';\n",
       "        icon_img.alt = tooltip;\n",
       "        button.appendChild(icon_img);\n",
       "\n",
       "        buttonGroup.appendChild(button);\n",
       "    }\n",
       "\n",
       "    if (buttonGroup.hasChildNodes()) {\n",
       "        toolbar.appendChild(buttonGroup);\n",
       "    }\n",
       "\n",
       "    var fmt_picker = document.createElement('select');\n",
       "    fmt_picker.classList = 'mpl-widget';\n",
       "    toolbar.appendChild(fmt_picker);\n",
       "    this.format_dropdown = fmt_picker;\n",
       "\n",
       "    for (var ind in mpl.extensions) {\n",
       "        var fmt = mpl.extensions[ind];\n",
       "        var option = document.createElement('option');\n",
       "        option.selected = fmt === mpl.default_extension;\n",
       "        option.innerHTML = fmt;\n",
       "        fmt_picker.appendChild(option);\n",
       "    }\n",
       "\n",
       "    var status_bar = document.createElement('span');\n",
       "    status_bar.classList = 'mpl-message';\n",
       "    toolbar.appendChild(status_bar);\n",
       "    this.message = status_bar;\n",
       "};\n",
       "\n",
       "mpl.figure.prototype.request_resize = function (x_pixels, y_pixels) {\n",
       "    // Request matplotlib to resize the figure. Matplotlib will then trigger a resize in the client,\n",
       "    // which will in turn request a refresh of the image.\n",
       "    this.send_message('resize', { width: x_pixels, height: y_pixels });\n",
       "};\n",
       "\n",
       "mpl.figure.prototype.send_message = function (type, properties) {\n",
       "    properties['type'] = type;\n",
       "    properties['figure_id'] = this.id;\n",
       "    this.ws.send(JSON.stringify(properties));\n",
       "};\n",
       "\n",
       "mpl.figure.prototype.send_draw_message = function () {\n",
       "    if (!this.waiting) {\n",
       "        this.waiting = true;\n",
       "        this.ws.send(JSON.stringify({ type: 'draw', figure_id: this.id }));\n",
       "    }\n",
       "};\n",
       "\n",
       "mpl.figure.prototype.handle_save = function (fig, _msg) {\n",
       "    var format_dropdown = fig.format_dropdown;\n",
       "    var format = format_dropdown.options[format_dropdown.selectedIndex].value;\n",
       "    fig.ondownload(fig, format);\n",
       "};\n",
       "\n",
       "mpl.figure.prototype.handle_resize = function (fig, msg) {\n",
       "    var size = msg['size'];\n",
       "    if (size[0] !== fig.canvas.width || size[1] !== fig.canvas.height) {\n",
       "        fig._resize_canvas(size[0], size[1], msg['forward']);\n",
       "        fig.send_message('refresh', {});\n",
       "    }\n",
       "};\n",
       "\n",
       "mpl.figure.prototype.handle_rubberband = function (fig, msg) {\n",
       "    var x0 = msg['x0'] / fig.ratio;\n",
       "    var y0 = (fig.canvas.height - msg['y0']) / fig.ratio;\n",
       "    var x1 = msg['x1'] / fig.ratio;\n",
       "    var y1 = (fig.canvas.height - msg['y1']) / fig.ratio;\n",
       "    x0 = Math.floor(x0) + 0.5;\n",
       "    y0 = Math.floor(y0) + 0.5;\n",
       "    x1 = Math.floor(x1) + 0.5;\n",
       "    y1 = Math.floor(y1) + 0.5;\n",
       "    var min_x = Math.min(x0, x1);\n",
       "    var min_y = Math.min(y0, y1);\n",
       "    var width = Math.abs(x1 - x0);\n",
       "    var height = Math.abs(y1 - y0);\n",
       "\n",
       "    fig.rubberband_context.clearRect(\n",
       "        0,\n",
       "        0,\n",
       "        fig.canvas.width / fig.ratio,\n",
       "        fig.canvas.height / fig.ratio\n",
       "    );\n",
       "\n",
       "    fig.rubberband_context.strokeRect(min_x, min_y, width, height);\n",
       "};\n",
       "\n",
       "mpl.figure.prototype.handle_figure_label = function (fig, msg) {\n",
       "    // Updates the figure title.\n",
       "    fig.header.textContent = msg['label'];\n",
       "};\n",
       "\n",
       "mpl.figure.prototype.handle_cursor = function (fig, msg) {\n",
       "    var cursor = msg['cursor'];\n",
       "    switch (cursor) {\n",
       "        case 0:\n",
       "            cursor = 'pointer';\n",
       "            break;\n",
       "        case 1:\n",
       "            cursor = 'default';\n",
       "            break;\n",
       "        case 2:\n",
       "            cursor = 'crosshair';\n",
       "            break;\n",
       "        case 3:\n",
       "            cursor = 'move';\n",
       "            break;\n",
       "    }\n",
       "    fig.rubberband_canvas.style.cursor = cursor;\n",
       "};\n",
       "\n",
       "mpl.figure.prototype.handle_message = function (fig, msg) {\n",
       "    fig.message.textContent = msg['message'];\n",
       "};\n",
       "\n",
       "mpl.figure.prototype.handle_draw = function (fig, _msg) {\n",
       "    // Request the server to send over a new figure.\n",
       "    fig.send_draw_message();\n",
       "};\n",
       "\n",
       "mpl.figure.prototype.handle_image_mode = function (fig, msg) {\n",
       "    fig.image_mode = msg['mode'];\n",
       "};\n",
       "\n",
       "mpl.figure.prototype.handle_history_buttons = function (fig, msg) {\n",
       "    for (var key in msg) {\n",
       "        if (!(key in fig.buttons)) {\n",
       "            continue;\n",
       "        }\n",
       "        fig.buttons[key].disabled = !msg[key];\n",
       "        fig.buttons[key].setAttribute('aria-disabled', !msg[key]);\n",
       "    }\n",
       "};\n",
       "\n",
       "mpl.figure.prototype.handle_navigate_mode = function (fig, msg) {\n",
       "    if (msg['mode'] === 'PAN') {\n",
       "        fig.buttons['Pan'].classList.add('active');\n",
       "        fig.buttons['Zoom'].classList.remove('active');\n",
       "    } else if (msg['mode'] === 'ZOOM') {\n",
       "        fig.buttons['Pan'].classList.remove('active');\n",
       "        fig.buttons['Zoom'].classList.add('active');\n",
       "    } else {\n",
       "        fig.buttons['Pan'].classList.remove('active');\n",
       "        fig.buttons['Zoom'].classList.remove('active');\n",
       "    }\n",
       "};\n",
       "\n",
       "mpl.figure.prototype.updated_canvas_event = function () {\n",
       "    // Called whenever the canvas gets updated.\n",
       "    this.send_message('ack', {});\n",
       "};\n",
       "\n",
       "// A function to construct a web socket function for onmessage handling.\n",
       "// Called in the figure constructor.\n",
       "mpl.figure.prototype._make_on_message_function = function (fig) {\n",
       "    return function socket_on_message(evt) {\n",
       "        if (evt.data instanceof Blob) {\n",
       "            var img = evt.data;\n",
       "            if (img.type !== 'image/png') {\n",
       "                /* FIXME: We get \"Resource interpreted as Image but\n",
       "                 * transferred with MIME type text/plain:\" errors on\n",
       "                 * Chrome.  But how to set the MIME type?  It doesn't seem\n",
       "                 * to be part of the websocket stream */\n",
       "                img.type = 'image/png';\n",
       "            }\n",
       "\n",
       "            /* Free the memory for the previous frames */\n",
       "            if (fig.imageObj.src) {\n",
       "                (window.URL || window.webkitURL).revokeObjectURL(\n",
       "                    fig.imageObj.src\n",
       "                );\n",
       "            }\n",
       "\n",
       "            fig.imageObj.src = (window.URL || window.webkitURL).createObjectURL(\n",
       "                img\n",
       "            );\n",
       "            fig.updated_canvas_event();\n",
       "            fig.waiting = false;\n",
       "            return;\n",
       "        } else if (\n",
       "            typeof evt.data === 'string' &&\n",
       "            evt.data.slice(0, 21) === 'data:image/png;base64'\n",
       "        ) {\n",
       "            fig.imageObj.src = evt.data;\n",
       "            fig.updated_canvas_event();\n",
       "            fig.waiting = false;\n",
       "            return;\n",
       "        }\n",
       "\n",
       "        var msg = JSON.parse(evt.data);\n",
       "        var msg_type = msg['type'];\n",
       "\n",
       "        // Call the  \"handle_{type}\" callback, which takes\n",
       "        // the figure and JSON message as its only arguments.\n",
       "        try {\n",
       "            var callback = fig['handle_' + msg_type];\n",
       "        } catch (e) {\n",
       "            console.log(\n",
       "                \"No handler for the '\" + msg_type + \"' message type: \",\n",
       "                msg\n",
       "            );\n",
       "            return;\n",
       "        }\n",
       "\n",
       "        if (callback) {\n",
       "            try {\n",
       "                // console.log(\"Handling '\" + msg_type + \"' message: \", msg);\n",
       "                callback(fig, msg);\n",
       "            } catch (e) {\n",
       "                console.log(\n",
       "                    \"Exception inside the 'handler_\" + msg_type + \"' callback:\",\n",
       "                    e,\n",
       "                    e.stack,\n",
       "                    msg\n",
       "                );\n",
       "            }\n",
       "        }\n",
       "    };\n",
       "};\n",
       "\n",
       "// from http://stackoverflow.com/questions/1114465/getting-mouse-location-in-canvas\n",
       "mpl.findpos = function (e) {\n",
       "    //this section is from http://www.quirksmode.org/js/events_properties.html\n",
       "    var targ;\n",
       "    if (!e) {\n",
       "        e = window.event;\n",
       "    }\n",
       "    if (e.target) {\n",
       "        targ = e.target;\n",
       "    } else if (e.srcElement) {\n",
       "        targ = e.srcElement;\n",
       "    }\n",
       "    if (targ.nodeType === 3) {\n",
       "        // defeat Safari bug\n",
       "        targ = targ.parentNode;\n",
       "    }\n",
       "\n",
       "    // pageX,Y are the mouse positions relative to the document\n",
       "    var boundingRect = targ.getBoundingClientRect();\n",
       "    var x = e.pageX - (boundingRect.left + document.body.scrollLeft);\n",
       "    var y = e.pageY - (boundingRect.top + document.body.scrollTop);\n",
       "\n",
       "    return { x: x, y: y };\n",
       "};\n",
       "\n",
       "/*\n",
       " * return a copy of an object with only non-object keys\n",
       " * we need this to avoid circular references\n",
       " * http://stackoverflow.com/a/24161582/3208463\n",
       " */\n",
       "function simpleKeys(original) {\n",
       "    return Object.keys(original).reduce(function (obj, key) {\n",
       "        if (typeof original[key] !== 'object') {\n",
       "            obj[key] = original[key];\n",
       "        }\n",
       "        return obj;\n",
       "    }, {});\n",
       "}\n",
       "\n",
       "mpl.figure.prototype.mouse_event = function (event, name) {\n",
       "    var canvas_pos = mpl.findpos(event);\n",
       "\n",
       "    if (name === 'button_press') {\n",
       "        this.canvas.focus();\n",
       "        this.canvas_div.focus();\n",
       "    }\n",
       "\n",
       "    var x = canvas_pos.x * this.ratio;\n",
       "    var y = canvas_pos.y * this.ratio;\n",
       "\n",
       "    this.send_message(name, {\n",
       "        x: x,\n",
       "        y: y,\n",
       "        button: event.button,\n",
       "        step: event.step,\n",
       "        guiEvent: simpleKeys(event),\n",
       "    });\n",
       "\n",
       "    /* This prevents the web browser from automatically changing to\n",
       "     * the text insertion cursor when the button is pressed.  We want\n",
       "     * to control all of the cursor setting manually through the\n",
       "     * 'cursor' event from matplotlib */\n",
       "    event.preventDefault();\n",
       "    return false;\n",
       "};\n",
       "\n",
       "mpl.figure.prototype._key_event_extra = function (_event, _name) {\n",
       "    // Handle any extra behaviour associated with a key event\n",
       "};\n",
       "\n",
       "mpl.figure.prototype.key_event = function (event, name) {\n",
       "    // Prevent repeat events\n",
       "    if (name === 'key_press') {\n",
       "        if (event.key === this._key) {\n",
       "            return;\n",
       "        } else {\n",
       "            this._key = event.key;\n",
       "        }\n",
       "    }\n",
       "    if (name === 'key_release') {\n",
       "        this._key = null;\n",
       "    }\n",
       "\n",
       "    var value = '';\n",
       "    if (event.ctrlKey && event.key !== 'Control') {\n",
       "        value += 'ctrl+';\n",
       "    }\n",
       "    else if (event.altKey && event.key !== 'Alt') {\n",
       "        value += 'alt+';\n",
       "    }\n",
       "    else if (event.shiftKey && event.key !== 'Shift') {\n",
       "        value += 'shift+';\n",
       "    }\n",
       "\n",
       "    value += 'k' + event.key;\n",
       "\n",
       "    this._key_event_extra(event, name);\n",
       "\n",
       "    this.send_message(name, { key: value, guiEvent: simpleKeys(event) });\n",
       "    return false;\n",
       "};\n",
       "\n",
       "mpl.figure.prototype.toolbar_button_onclick = function (name) {\n",
       "    if (name === 'download') {\n",
       "        this.handle_save(this, null);\n",
       "    } else {\n",
       "        this.send_message('toolbar_button', { name: name });\n",
       "    }\n",
       "};\n",
       "\n",
       "mpl.figure.prototype.toolbar_button_onmouseover = function (tooltip) {\n",
       "    this.message.textContent = tooltip;\n",
       "};\n",
       "\n",
       "///////////////// REMAINING CONTENT GENERATED BY embed_js.py /////////////////\n",
       "// prettier-ignore\n",
       "var _JSXTOOLS_RESIZE_OBSERVER=function(A){var t,i=new WeakMap,n=new WeakMap,a=new WeakMap,r=new WeakMap,o=new Set;function s(e){if(!(this instanceof s))throw new TypeError(\"Constructor requires 'new' operator\");i.set(this,e)}function h(){throw new TypeError(\"Function is not a constructor\")}function c(e,t,i,n){e=0 in arguments?Number(arguments[0]):0,t=1 in arguments?Number(arguments[1]):0,i=2 in arguments?Number(arguments[2]):0,n=3 in arguments?Number(arguments[3]):0,this.right=(this.x=this.left=e)+(this.width=i),this.bottom=(this.y=this.top=t)+(this.height=n),Object.freeze(this)}function d(){t=requestAnimationFrame(d);var s=new WeakMap,p=new Set;o.forEach((function(t){r.get(t).forEach((function(i){var r=t instanceof window.SVGElement,o=a.get(t),d=r?0:parseFloat(o.paddingTop),f=r?0:parseFloat(o.paddingRight),l=r?0:parseFloat(o.paddingBottom),u=r?0:parseFloat(o.paddingLeft),g=r?0:parseFloat(o.borderTopWidth),m=r?0:parseFloat(o.borderRightWidth),w=r?0:parseFloat(o.borderBottomWidth),b=u+f,F=d+l,v=(r?0:parseFloat(o.borderLeftWidth))+m,W=g+w,y=r?0:t.offsetHeight-W-t.clientHeight,E=r?0:t.offsetWidth-v-t.clientWidth,R=b+v,z=F+W,M=r?t.width:parseFloat(o.width)-R-E,O=r?t.height:parseFloat(o.height)-z-y;if(n.has(t)){var k=n.get(t);if(k[0]===M&&k[1]===O)return}n.set(t,[M,O]);var S=Object.create(h.prototype);S.target=t,S.contentRect=new c(u,d,M,O),s.has(i)||(s.set(i,[]),p.add(i)),s.get(i).push(S)}))})),p.forEach((function(e){i.get(e).call(e,s.get(e),e)}))}return s.prototype.observe=function(i){if(i instanceof window.Element){r.has(i)||(r.set(i,new Set),o.add(i),a.set(i,window.getComputedStyle(i)));var n=r.get(i);n.has(this)||n.add(this),cancelAnimationFrame(t),t=requestAnimationFrame(d)}},s.prototype.unobserve=function(i){if(i instanceof window.Element&&r.has(i)){var n=r.get(i);n.has(this)&&(n.delete(this),n.size||(r.delete(i),o.delete(i))),n.size||r.delete(i),o.size||cancelAnimationFrame(t)}},A.DOMRectReadOnly=c,A.ResizeObserver=s,A.ResizeObserverEntry=h,A}; // eslint-disable-line\n",
       "mpl.toolbar_items = [[\"Home\", \"Reset original view\", \"fa fa-home icon-home\", \"home\"], [\"Back\", \"Back to previous view\", \"fa fa-arrow-left icon-arrow-left\", \"back\"], [\"Forward\", \"Forward to next view\", \"fa fa-arrow-right icon-arrow-right\", \"forward\"], [\"\", \"\", \"\", \"\"], [\"Pan\", \"Left button pans, Right button zooms\\nx/y fixes axis, CTRL fixes aspect\", \"fa fa-arrows icon-move\", \"pan\"], [\"Zoom\", \"Zoom to rectangle\\nx/y fixes axis, CTRL fixes aspect\", \"fa fa-square-o icon-check-empty\", \"zoom\"], [\"\", \"\", \"\", \"\"], [\"Download\", \"Download plot\", \"fa fa-floppy-o icon-save\", \"download\"]];\n",
       "\n",
       "mpl.extensions = [\"eps\", \"jpeg\", \"pgf\", \"pdf\", \"png\", \"ps\", \"raw\", \"svg\", \"tif\"];\n",
       "\n",
       "mpl.default_extension = \"png\";/* global mpl */\n",
       "\n",
       "var comm_websocket_adapter = function (comm) {\n",
       "    // Create a \"websocket\"-like object which calls the given IPython comm\n",
       "    // object with the appropriate methods. Currently this is a non binary\n",
       "    // socket, so there is still some room for performance tuning.\n",
       "    var ws = {};\n",
       "\n",
       "    ws.binaryType = comm.kernel.ws.binaryType;\n",
       "    ws.readyState = comm.kernel.ws.readyState;\n",
       "    function updateReadyState(_event) {\n",
       "        if (comm.kernel.ws) {\n",
       "            ws.readyState = comm.kernel.ws.readyState;\n",
       "        } else {\n",
       "            ws.readyState = 3; // Closed state.\n",
       "        }\n",
       "    }\n",
       "    comm.kernel.ws.addEventListener('open', updateReadyState);\n",
       "    comm.kernel.ws.addEventListener('close', updateReadyState);\n",
       "    comm.kernel.ws.addEventListener('error', updateReadyState);\n",
       "\n",
       "    ws.close = function () {\n",
       "        comm.close();\n",
       "    };\n",
       "    ws.send = function (m) {\n",
       "        //console.log('sending', m);\n",
       "        comm.send(m);\n",
       "    };\n",
       "    // Register the callback with on_msg.\n",
       "    comm.on_msg(function (msg) {\n",
       "        //console.log('receiving', msg['content']['data'], msg);\n",
       "        var data = msg['content']['data'];\n",
       "        if (data['blob'] !== undefined) {\n",
       "            data = {\n",
       "                data: new Blob(msg['buffers'], { type: data['blob'] }),\n",
       "            };\n",
       "        }\n",
       "        // Pass the mpl event to the overridden (by mpl) onmessage function.\n",
       "        ws.onmessage(data);\n",
       "    });\n",
       "    return ws;\n",
       "};\n",
       "\n",
       "mpl.mpl_figure_comm = function (comm, msg) {\n",
       "    // This is the function which gets called when the mpl process\n",
       "    // starts-up an IPython Comm through the \"matplotlib\" channel.\n",
       "\n",
       "    var id = msg.content.data.id;\n",
       "    // Get hold of the div created by the display call when the Comm\n",
       "    // socket was opened in Python.\n",
       "    var element = document.getElementById(id);\n",
       "    var ws_proxy = comm_websocket_adapter(comm);\n",
       "\n",
       "    function ondownload(figure, _format) {\n",
       "        window.open(figure.canvas.toDataURL());\n",
       "    }\n",
       "\n",
       "    var fig = new mpl.figure(id, ws_proxy, ondownload, element);\n",
       "\n",
       "    // Call onopen now - mpl needs it, as it is assuming we've passed it a real\n",
       "    // web socket which is closed, not our websocket->open comm proxy.\n",
       "    ws_proxy.onopen();\n",
       "\n",
       "    fig.parent_element = element;\n",
       "    fig.cell_info = mpl.find_output_cell(\"<div id='\" + id + \"'></div>\");\n",
       "    if (!fig.cell_info) {\n",
       "        console.error('Failed to find cell for figure', id, fig);\n",
       "        return;\n",
       "    }\n",
       "    fig.cell_info[0].output_area.element.on(\n",
       "        'cleared',\n",
       "        { fig: fig },\n",
       "        fig._remove_fig_handler\n",
       "    );\n",
       "};\n",
       "\n",
       "mpl.figure.prototype.handle_close = function (fig, msg) {\n",
       "    var width = fig.canvas.width / fig.ratio;\n",
       "    fig.cell_info[0].output_area.element.off(\n",
       "        'cleared',\n",
       "        fig._remove_fig_handler\n",
       "    );\n",
       "    fig.resizeObserverInstance.unobserve(fig.canvas_div);\n",
       "\n",
       "    // Update the output cell to use the data from the current canvas.\n",
       "    fig.push_to_output();\n",
       "    var dataURL = fig.canvas.toDataURL();\n",
       "    // Re-enable the keyboard manager in IPython - without this line, in FF,\n",
       "    // the notebook keyboard shortcuts fail.\n",
       "    IPython.keyboard_manager.enable();\n",
       "    fig.parent_element.innerHTML =\n",
       "        '<img src=\"' + dataURL + '\" width=\"' + width + '\">';\n",
       "    fig.close_ws(fig, msg);\n",
       "};\n",
       "\n",
       "mpl.figure.prototype.close_ws = function (fig, msg) {\n",
       "    fig.send_message('closing', msg);\n",
       "    // fig.ws.close()\n",
       "};\n",
       "\n",
       "mpl.figure.prototype.push_to_output = function (_remove_interactive) {\n",
       "    // Turn the data on the canvas into data in the output cell.\n",
       "    var width = this.canvas.width / this.ratio;\n",
       "    var dataURL = this.canvas.toDataURL();\n",
       "    this.cell_info[1]['text/html'] =\n",
       "        '<img src=\"' + dataURL + '\" width=\"' + width + '\">';\n",
       "};\n",
       "\n",
       "mpl.figure.prototype.updated_canvas_event = function () {\n",
       "    // Tell IPython that the notebook contents must change.\n",
       "    IPython.notebook.set_dirty(true);\n",
       "    this.send_message('ack', {});\n",
       "    var fig = this;\n",
       "    // Wait a second, then push the new image to the DOM so\n",
       "    // that it is saved nicely (might be nice to debounce this).\n",
       "    setTimeout(function () {\n",
       "        fig.push_to_output();\n",
       "    }, 1000);\n",
       "};\n",
       "\n",
       "mpl.figure.prototype._init_toolbar = function () {\n",
       "    var fig = this;\n",
       "\n",
       "    var toolbar = document.createElement('div');\n",
       "    toolbar.classList = 'btn-toolbar';\n",
       "    this.root.appendChild(toolbar);\n",
       "\n",
       "    function on_click_closure(name) {\n",
       "        return function (_event) {\n",
       "            return fig.toolbar_button_onclick(name);\n",
       "        };\n",
       "    }\n",
       "\n",
       "    function on_mouseover_closure(tooltip) {\n",
       "        return function (event) {\n",
       "            if (!event.currentTarget.disabled) {\n",
       "                return fig.toolbar_button_onmouseover(tooltip);\n",
       "            }\n",
       "        };\n",
       "    }\n",
       "\n",
       "    fig.buttons = {};\n",
       "    var buttonGroup = document.createElement('div');\n",
       "    buttonGroup.classList = 'btn-group';\n",
       "    var button;\n",
       "    for (var toolbar_ind in mpl.toolbar_items) {\n",
       "        var name = mpl.toolbar_items[toolbar_ind][0];\n",
       "        var tooltip = mpl.toolbar_items[toolbar_ind][1];\n",
       "        var image = mpl.toolbar_items[toolbar_ind][2];\n",
       "        var method_name = mpl.toolbar_items[toolbar_ind][3];\n",
       "\n",
       "        if (!name) {\n",
       "            /* Instead of a spacer, we start a new button group. */\n",
       "            if (buttonGroup.hasChildNodes()) {\n",
       "                toolbar.appendChild(buttonGroup);\n",
       "            }\n",
       "            buttonGroup = document.createElement('div');\n",
       "            buttonGroup.classList = 'btn-group';\n",
       "            continue;\n",
       "        }\n",
       "\n",
       "        button = fig.buttons[name] = document.createElement('button');\n",
       "        button.classList = 'btn btn-default';\n",
       "        button.href = '#';\n",
       "        button.title = name;\n",
       "        button.innerHTML = '<i class=\"fa ' + image + ' fa-lg\"></i>';\n",
       "        button.addEventListener('click', on_click_closure(method_name));\n",
       "        button.addEventListener('mouseover', on_mouseover_closure(tooltip));\n",
       "        buttonGroup.appendChild(button);\n",
       "    }\n",
       "\n",
       "    if (buttonGroup.hasChildNodes()) {\n",
       "        toolbar.appendChild(buttonGroup);\n",
       "    }\n",
       "\n",
       "    // Add the status bar.\n",
       "    var status_bar = document.createElement('span');\n",
       "    status_bar.classList = 'mpl-message pull-right';\n",
       "    toolbar.appendChild(status_bar);\n",
       "    this.message = status_bar;\n",
       "\n",
       "    // Add the close button to the window.\n",
       "    var buttongrp = document.createElement('div');\n",
       "    buttongrp.classList = 'btn-group inline pull-right';\n",
       "    button = document.createElement('button');\n",
       "    button.classList = 'btn btn-mini btn-primary';\n",
       "    button.href = '#';\n",
       "    button.title = 'Stop Interaction';\n",
       "    button.innerHTML = '<i class=\"fa fa-power-off icon-remove icon-large\"></i>';\n",
       "    button.addEventListener('click', function (_evt) {\n",
       "        fig.handle_close(fig, {});\n",
       "    });\n",
       "    button.addEventListener(\n",
       "        'mouseover',\n",
       "        on_mouseover_closure('Stop Interaction')\n",
       "    );\n",
       "    buttongrp.appendChild(button);\n",
       "    var titlebar = this.root.querySelector('.ui-dialog-titlebar');\n",
       "    titlebar.insertBefore(buttongrp, titlebar.firstChild);\n",
       "};\n",
       "\n",
       "mpl.figure.prototype._remove_fig_handler = function (event) {\n",
       "    var fig = event.data.fig;\n",
       "    if (event.target !== this) {\n",
       "        // Ignore bubbled events from children.\n",
       "        return;\n",
       "    }\n",
       "    fig.close_ws(fig, {});\n",
       "};\n",
       "\n",
       "mpl.figure.prototype._root_extra_style = function (el) {\n",
       "    el.style.boxSizing = 'content-box'; // override notebook setting of border-box.\n",
       "};\n",
       "\n",
       "mpl.figure.prototype._canvas_extra_style = function (el) {\n",
       "    // this is important to make the div 'focusable\n",
       "    el.setAttribute('tabindex', 0);\n",
       "    // reach out to IPython and tell the keyboard manager to turn it's self\n",
       "    // off when our div gets focus\n",
       "\n",
       "    // location in version 3\n",
       "    if (IPython.notebook.keyboard_manager) {\n",
       "        IPython.notebook.keyboard_manager.register_events(el);\n",
       "    } else {\n",
       "        // location in version 2\n",
       "        IPython.keyboard_manager.register_events(el);\n",
       "    }\n",
       "};\n",
       "\n",
       "mpl.figure.prototype._key_event_extra = function (event, _name) {\n",
       "    var manager = IPython.notebook.keyboard_manager;\n",
       "    if (!manager) {\n",
       "        manager = IPython.keyboard_manager;\n",
       "    }\n",
       "\n",
       "    // Check for shift+enter\n",
       "    if (event.shiftKey && event.which === 13) {\n",
       "        this.canvas_div.blur();\n",
       "        // select the cell after this one\n",
       "        var index = IPython.notebook.find_cell_index(this.cell_info[0]);\n",
       "        IPython.notebook.select(index + 1);\n",
       "    }\n",
       "};\n",
       "\n",
       "mpl.figure.prototype.handle_save = function (fig, _msg) {\n",
       "    fig.ondownload(fig, null);\n",
       "};\n",
       "\n",
       "mpl.find_output_cell = function (html_output) {\n",
       "    // Return the cell and output element which can be found *uniquely* in the notebook.\n",
       "    // Note - this is a bit hacky, but it is done because the \"notebook_saving.Notebook\"\n",
       "    // IPython event is triggered only after the cells have been serialised, which for\n",
       "    // our purposes (turning an active figure into a static one), is too late.\n",
       "    var cells = IPython.notebook.get_cells();\n",
       "    var ncells = cells.length;\n",
       "    for (var i = 0; i < ncells; i++) {\n",
       "        var cell = cells[i];\n",
       "        if (cell.cell_type === 'code') {\n",
       "            for (var j = 0; j < cell.output_area.outputs.length; j++) {\n",
       "                var data = cell.output_area.outputs[j];\n",
       "                if (data.data) {\n",
       "                    // IPython >= 3 moved mimebundle to data attribute of output\n",
       "                    data = data.data;\n",
       "                }\n",
       "                if (data['text/html'] === html_output) {\n",
       "                    return [cell, data, j];\n",
       "                }\n",
       "            }\n",
       "        }\n",
       "    }\n",
       "};\n",
       "\n",
       "// Register the function which deals with the matplotlib target/channel.\n",
       "// The kernel may be null if the page has been refreshed.\n",
       "if (IPython.notebook.kernel !== null) {\n",
       "    IPython.notebook.kernel.comm_manager.register_target(\n",
       "        'matplotlib',\n",
       "        mpl.mpl_figure_comm\n",
       "    );\n",
       "}\n"
      ],
      "text/plain": [
       "<IPython.core.display.Javascript object>"
      ]
     },
     "metadata": {},
     "output_type": "display_data"
    },
    {
     "data": {
      "text/html": [
       "<img src=\"data:image/png;base64,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\" width=\"386.3666666666667\">"
      ],
      "text/plain": [
       "<IPython.core.display.HTML object>"
      ]
     },
     "metadata": {},
     "output_type": "display_data"
    }
   ],
   "source": [
    "%matplotlib inline\n",
    "%matplotlib notebook\n",
    "s = sns.boxplot(data.cost)\n",
    "plt.show()"
   ]
  },
  {
   "cell_type": "code",
   "execution_count": 175,
   "id": "0fa82f67",
   "metadata": {
    "ExecuteTime": {
     "end_time": "2022-09-16T20:50:34.908787Z",
     "start_time": "2022-09-16T20:50:34.903800Z"
    }
   },
   "outputs": [],
   "source": [
    "costOutliers = data[data.cost > 550000].index.tolist()"
   ]
  },
  {
   "cell_type": "code",
   "execution_count": 15,
   "id": "9aa5cda0",
   "metadata": {
    "ExecuteTime": {
     "end_time": "2022-09-19T06:03:51.775311Z",
     "start_time": "2022-09-19T06:03:51.767320Z"
    }
   },
   "outputs": [
    {
     "ename": "NameError",
     "evalue": "name 'costOutliers' is not defined",
     "output_type": "error",
     "traceback": [
      "\u001b[1;31m---------------------------------------------------------------------------\u001b[0m",
      "\u001b[1;31mNameError\u001b[0m                                 Traceback (most recent call last)",
      "\u001b[1;32m~\\AppData\\Local\\Temp/ipykernel_7048/2472584375.py\u001b[0m in \u001b[0;36m<module>\u001b[1;34m\u001b[0m\n\u001b[0;32m      1\u001b[0m \u001b[1;32mfor\u001b[0m \u001b[0mu\u001b[0m \u001b[1;32min\u001b[0m \u001b[1;33m[\u001b[0m\u001b[1;36m11108\u001b[0m\u001b[1;33m,\u001b[0m \u001b[1;36m16824\u001b[0m\u001b[1;33m,\u001b[0m \u001b[1;36m19884\u001b[0m\u001b[1;33m]\u001b[0m\u001b[1;33m:\u001b[0m\u001b[1;33m\u001b[0m\u001b[1;33m\u001b[0m\u001b[0m\n\u001b[1;32m----> 2\u001b[1;33m     \u001b[0mcostOutliers\u001b[0m\u001b[1;33m.\u001b[0m\u001b[0mremove\u001b[0m\u001b[1;33m(\u001b[0m\u001b[0mu\u001b[0m\u001b[1;33m)\u001b[0m\u001b[1;33m\u001b[0m\u001b[1;33m\u001b[0m\u001b[0m\n\u001b[0m",
      "\u001b[1;31mNameError\u001b[0m: name 'costOutliers' is not defined"
     ]
    }
   ],
   "source": [
    "for u in [11108, 16824, 19884]:\n",
    "    costOutliers.remove(u)"
   ]
  },
  {
   "cell_type": "code",
   "execution_count": 172,
   "id": "25c05980",
   "metadata": {
    "ExecuteTime": {
     "end_time": "2022-09-16T20:48:38.446327Z",
     "start_time": "2022-09-16T20:48:38.430375Z"
    },
    "scrolled": true
   },
   "outputs": [
    {
     "name": "stdout",
     "output_type": "stream",
     "text": [
      "(30174, 8)\n"
     ]
    },
    {
     "ename": "KeyError",
     "evalue": "'[11108 16824 19884] not found in axis'",
     "output_type": "error",
     "traceback": [
      "\u001b[1;31m---------------------------------------------------------------------------\u001b[0m",
      "\u001b[1;31mKeyError\u001b[0m                                  Traceback (most recent call last)",
      "\u001b[1;32m~\\AppData\\Local\\Temp/ipykernel_15476/3268474417.py\u001b[0m in \u001b[0;36m<module>\u001b[1;34m\u001b[0m\n\u001b[0;32m      1\u001b[0m \u001b[0mprint\u001b[0m\u001b[1;33m(\u001b[0m\u001b[0mdata\u001b[0m\u001b[1;33m.\u001b[0m\u001b[0mshape\u001b[0m\u001b[1;33m)\u001b[0m\u001b[1;33m\u001b[0m\u001b[1;33m\u001b[0m\u001b[0m\n\u001b[1;32m----> 2\u001b[1;33m \u001b[0mdata\u001b[0m\u001b[1;33m.\u001b[0m\u001b[0mdrop\u001b[0m\u001b[1;33m(\u001b[0m\u001b[0mageOutliers\u001b[0m\u001b[1;33m,\u001b[0m \u001b[0minplace\u001b[0m\u001b[1;33m=\u001b[0m \u001b[1;32mTrue\u001b[0m\u001b[1;33m)\u001b[0m\u001b[1;33m\u001b[0m\u001b[1;33m\u001b[0m\u001b[0m\n\u001b[0m\u001b[0;32m      3\u001b[0m \u001b[0mdata\u001b[0m\u001b[1;33m.\u001b[0m\u001b[0mdrop\u001b[0m\u001b[1;33m(\u001b[0m\u001b[0mcostOutliers\u001b[0m\u001b[1;33m,\u001b[0m \u001b[0minplace\u001b[0m\u001b[1;33m=\u001b[0m \u001b[1;32mTrue\u001b[0m\u001b[1;33m)\u001b[0m\u001b[1;33m\u001b[0m\u001b[1;33m\u001b[0m\u001b[0m\n\u001b[0;32m      4\u001b[0m \u001b[0mprint\u001b[0m\u001b[1;33m(\u001b[0m\u001b[0mdata\u001b[0m\u001b[1;33m.\u001b[0m\u001b[0mshape\u001b[0m\u001b[1;33m)\u001b[0m\u001b[1;33m\u001b[0m\u001b[1;33m\u001b[0m\u001b[0m\n",
      "\u001b[1;32m~\\anaconda3\\lib\\site-packages\\pandas\\util\\_decorators.py\u001b[0m in \u001b[0;36mwrapper\u001b[1;34m(*args, **kwargs)\u001b[0m\n\u001b[0;32m    309\u001b[0m                     \u001b[0mstacklevel\u001b[0m\u001b[1;33m=\u001b[0m\u001b[0mstacklevel\u001b[0m\u001b[1;33m,\u001b[0m\u001b[1;33m\u001b[0m\u001b[1;33m\u001b[0m\u001b[0m\n\u001b[0;32m    310\u001b[0m                 )\n\u001b[1;32m--> 311\u001b[1;33m             \u001b[1;32mreturn\u001b[0m \u001b[0mfunc\u001b[0m\u001b[1;33m(\u001b[0m\u001b[1;33m*\u001b[0m\u001b[0margs\u001b[0m\u001b[1;33m,\u001b[0m \u001b[1;33m**\u001b[0m\u001b[0mkwargs\u001b[0m\u001b[1;33m)\u001b[0m\u001b[1;33m\u001b[0m\u001b[1;33m\u001b[0m\u001b[0m\n\u001b[0m\u001b[0;32m    312\u001b[0m \u001b[1;33m\u001b[0m\u001b[0m\n\u001b[0;32m    313\u001b[0m         \u001b[1;32mreturn\u001b[0m \u001b[0mwrapper\u001b[0m\u001b[1;33m\u001b[0m\u001b[1;33m\u001b[0m\u001b[0m\n",
      "\u001b[1;32m~\\anaconda3\\lib\\site-packages\\pandas\\core\\frame.py\u001b[0m in \u001b[0;36mdrop\u001b[1;34m(self, labels, axis, index, columns, level, inplace, errors)\u001b[0m\n\u001b[0;32m   4904\u001b[0m                 \u001b[0mweight\u001b[0m  \u001b[1;36m1.0\u001b[0m     \u001b[1;36m0.8\u001b[0m\u001b[1;33m\u001b[0m\u001b[1;33m\u001b[0m\u001b[0m\n\u001b[0;32m   4905\u001b[0m         \"\"\"\n\u001b[1;32m-> 4906\u001b[1;33m         return super().drop(\n\u001b[0m\u001b[0;32m   4907\u001b[0m             \u001b[0mlabels\u001b[0m\u001b[1;33m=\u001b[0m\u001b[0mlabels\u001b[0m\u001b[1;33m,\u001b[0m\u001b[1;33m\u001b[0m\u001b[1;33m\u001b[0m\u001b[0m\n\u001b[0;32m   4908\u001b[0m             \u001b[0maxis\u001b[0m\u001b[1;33m=\u001b[0m\u001b[0maxis\u001b[0m\u001b[1;33m,\u001b[0m\u001b[1;33m\u001b[0m\u001b[1;33m\u001b[0m\u001b[0m\n",
      "\u001b[1;32m~\\anaconda3\\lib\\site-packages\\pandas\\core\\generic.py\u001b[0m in \u001b[0;36mdrop\u001b[1;34m(self, labels, axis, index, columns, level, inplace, errors)\u001b[0m\n\u001b[0;32m   4148\u001b[0m         \u001b[1;32mfor\u001b[0m \u001b[0maxis\u001b[0m\u001b[1;33m,\u001b[0m \u001b[0mlabels\u001b[0m \u001b[1;32min\u001b[0m \u001b[0maxes\u001b[0m\u001b[1;33m.\u001b[0m\u001b[0mitems\u001b[0m\u001b[1;33m(\u001b[0m\u001b[1;33m)\u001b[0m\u001b[1;33m:\u001b[0m\u001b[1;33m\u001b[0m\u001b[1;33m\u001b[0m\u001b[0m\n\u001b[0;32m   4149\u001b[0m             \u001b[1;32mif\u001b[0m \u001b[0mlabels\u001b[0m \u001b[1;32mis\u001b[0m \u001b[1;32mnot\u001b[0m \u001b[1;32mNone\u001b[0m\u001b[1;33m:\u001b[0m\u001b[1;33m\u001b[0m\u001b[1;33m\u001b[0m\u001b[0m\n\u001b[1;32m-> 4150\u001b[1;33m                 \u001b[0mobj\u001b[0m \u001b[1;33m=\u001b[0m \u001b[0mobj\u001b[0m\u001b[1;33m.\u001b[0m\u001b[0m_drop_axis\u001b[0m\u001b[1;33m(\u001b[0m\u001b[0mlabels\u001b[0m\u001b[1;33m,\u001b[0m \u001b[0maxis\u001b[0m\u001b[1;33m,\u001b[0m \u001b[0mlevel\u001b[0m\u001b[1;33m=\u001b[0m\u001b[0mlevel\u001b[0m\u001b[1;33m,\u001b[0m \u001b[0merrors\u001b[0m\u001b[1;33m=\u001b[0m\u001b[0merrors\u001b[0m\u001b[1;33m)\u001b[0m\u001b[1;33m\u001b[0m\u001b[1;33m\u001b[0m\u001b[0m\n\u001b[0m\u001b[0;32m   4151\u001b[0m \u001b[1;33m\u001b[0m\u001b[0m\n\u001b[0;32m   4152\u001b[0m         \u001b[1;32mif\u001b[0m \u001b[0minplace\u001b[0m\u001b[1;33m:\u001b[0m\u001b[1;33m\u001b[0m\u001b[1;33m\u001b[0m\u001b[0m\n",
      "\u001b[1;32m~\\anaconda3\\lib\\site-packages\\pandas\\core\\generic.py\u001b[0m in \u001b[0;36m_drop_axis\u001b[1;34m(self, labels, axis, level, errors)\u001b[0m\n\u001b[0;32m   4183\u001b[0m                 \u001b[0mnew_axis\u001b[0m \u001b[1;33m=\u001b[0m \u001b[0maxis\u001b[0m\u001b[1;33m.\u001b[0m\u001b[0mdrop\u001b[0m\u001b[1;33m(\u001b[0m\u001b[0mlabels\u001b[0m\u001b[1;33m,\u001b[0m \u001b[0mlevel\u001b[0m\u001b[1;33m=\u001b[0m\u001b[0mlevel\u001b[0m\u001b[1;33m,\u001b[0m \u001b[0merrors\u001b[0m\u001b[1;33m=\u001b[0m\u001b[0merrors\u001b[0m\u001b[1;33m)\u001b[0m\u001b[1;33m\u001b[0m\u001b[1;33m\u001b[0m\u001b[0m\n\u001b[0;32m   4184\u001b[0m             \u001b[1;32melse\u001b[0m\u001b[1;33m:\u001b[0m\u001b[1;33m\u001b[0m\u001b[1;33m\u001b[0m\u001b[0m\n\u001b[1;32m-> 4185\u001b[1;33m                 \u001b[0mnew_axis\u001b[0m \u001b[1;33m=\u001b[0m \u001b[0maxis\u001b[0m\u001b[1;33m.\u001b[0m\u001b[0mdrop\u001b[0m\u001b[1;33m(\u001b[0m\u001b[0mlabels\u001b[0m\u001b[1;33m,\u001b[0m \u001b[0merrors\u001b[0m\u001b[1;33m=\u001b[0m\u001b[0merrors\u001b[0m\u001b[1;33m)\u001b[0m\u001b[1;33m\u001b[0m\u001b[1;33m\u001b[0m\u001b[0m\n\u001b[0m\u001b[0;32m   4186\u001b[0m             \u001b[0mresult\u001b[0m \u001b[1;33m=\u001b[0m \u001b[0mself\u001b[0m\u001b[1;33m.\u001b[0m\u001b[0mreindex\u001b[0m\u001b[1;33m(\u001b[0m\u001b[1;33m**\u001b[0m\u001b[1;33m{\u001b[0m\u001b[0maxis_name\u001b[0m\u001b[1;33m:\u001b[0m \u001b[0mnew_axis\u001b[0m\u001b[1;33m}\u001b[0m\u001b[1;33m)\u001b[0m\u001b[1;33m\u001b[0m\u001b[1;33m\u001b[0m\u001b[0m\n\u001b[0;32m   4187\u001b[0m \u001b[1;33m\u001b[0m\u001b[0m\n",
      "\u001b[1;32m~\\anaconda3\\lib\\site-packages\\pandas\\core\\indexes\\base.py\u001b[0m in \u001b[0;36mdrop\u001b[1;34m(self, labels, errors)\u001b[0m\n\u001b[0;32m   6015\u001b[0m         \u001b[1;32mif\u001b[0m \u001b[0mmask\u001b[0m\u001b[1;33m.\u001b[0m\u001b[0many\u001b[0m\u001b[1;33m(\u001b[0m\u001b[1;33m)\u001b[0m\u001b[1;33m:\u001b[0m\u001b[1;33m\u001b[0m\u001b[1;33m\u001b[0m\u001b[0m\n\u001b[0;32m   6016\u001b[0m             \u001b[1;32mif\u001b[0m \u001b[0merrors\u001b[0m \u001b[1;33m!=\u001b[0m \u001b[1;34m\"ignore\"\u001b[0m\u001b[1;33m:\u001b[0m\u001b[1;33m\u001b[0m\u001b[1;33m\u001b[0m\u001b[0m\n\u001b[1;32m-> 6017\u001b[1;33m                 \u001b[1;32mraise\u001b[0m \u001b[0mKeyError\u001b[0m\u001b[1;33m(\u001b[0m\u001b[1;34mf\"{labels[mask]} not found in axis\"\u001b[0m\u001b[1;33m)\u001b[0m\u001b[1;33m\u001b[0m\u001b[1;33m\u001b[0m\u001b[0m\n\u001b[0m\u001b[0;32m   6018\u001b[0m             \u001b[0mindexer\u001b[0m \u001b[1;33m=\u001b[0m \u001b[0mindexer\u001b[0m\u001b[1;33m[\u001b[0m\u001b[1;33m~\u001b[0m\u001b[0mmask\u001b[0m\u001b[1;33m]\u001b[0m\u001b[1;33m\u001b[0m\u001b[1;33m\u001b[0m\u001b[0m\n\u001b[0;32m   6019\u001b[0m         \u001b[1;32mreturn\u001b[0m \u001b[0mself\u001b[0m\u001b[1;33m.\u001b[0m\u001b[0mdelete\u001b[0m\u001b[1;33m(\u001b[0m\u001b[0mindexer\u001b[0m\u001b[1;33m)\u001b[0m\u001b[1;33m\u001b[0m\u001b[1;33m\u001b[0m\u001b[0m\n",
      "\u001b[1;31mKeyError\u001b[0m: '[11108 16824 19884] not found in axis'"
     ]
    }
   ],
   "source": [
    "print(data.shape)\n",
    "#data.drop(ageOutliers, inplace= True)\n",
    "#data.drop(costOutliers, inplace= True)\n",
    "print(data.shape)"
   ]
  },
  {
   "cell_type": "markdown",
   "id": "c3c14dae",
   "metadata": {},
   "source": [
    "## data visulizatoin"
   ]
  },
  {
   "cell_type": "code",
   "execution_count": 131,
   "id": "91300188",
   "metadata": {
    "ExecuteTime": {
     "end_time": "2022-09-14T02:19:08.427997Z",
     "start_time": "2022-09-14T02:19:08.422014Z"
    }
   },
   "outputs": [
    {
     "data": {
      "text/plain": [
       "15.0"
      ]
     },
     "execution_count": 131,
     "metadata": {},
     "output_type": "execute_result"
    }
   ],
   "source": [
    "data.age.min()"
   ]
  },
  {
   "cell_type": "code",
   "execution_count": 132,
   "id": "631a960f",
   "metadata": {
    "ExecuteTime": {
     "end_time": "2022-09-14T02:19:08.434980Z",
     "start_time": "2022-09-14T02:19:08.428994Z"
    }
   },
   "outputs": [
    {
     "data": {
      "text/plain": [
       "54.0"
      ]
     },
     "execution_count": 132,
     "metadata": {},
     "output_type": "execute_result"
    }
   ],
   "source": [
    "data.age.max()"
   ]
  },
  {
   "cell_type": "code",
   "execution_count": 133,
   "id": "7de401d5",
   "metadata": {
    "ExecuteTime": {
     "end_time": "2022-09-14T02:19:08.649039Z",
     "start_time": "2022-09-14T02:19:08.435977Z"
    },
    "scrolled": true
   },
   "outputs": [
    {
     "data": {
      "image/png": "[encoded data removed]",
      "text/plain": [
       "<Figure size 432x288 with 1 Axes>"
      ]
     },
     "metadata": {},
     "output_type": "display_data"
    }
   ],
   "source": [
    "plt.style.use('ggplot')\n",
    "%matplotlib inline\n",
    "\n",
    "L15_20 = len(data[(data.age >= 15) & (data.age <= 20) ])\n",
    "L21_25 = len(data[(data.age >= 21) & (data.age <= 25) ])\n",
    "L26_30 = len(data[(data.age >= 26) & (data.age <= 30) ])\n",
    "L31_35 = len(data[(data.age >= 31) & (data.age <= 35) ])\n",
    "L36_40 = len(data[(data.age >= 36) & (data.age <= 40) ])\n",
    "L41_46 = len(data[(data.age >= 41) & (data.age <= 46) ])\n",
    "\n",
    "ageRanges = [L15_20, L21_25, L26_30, L31_35, L36_40, L41_46]\n",
    "label = ['under 20', '21-25', '26-30', '31-35', '36-40', 'above 40']\n",
    "#explode = (.4,.2,0,0,.4)\n",
    "\n",
    "plt.title('distribuation of Players Age')\n",
    "\n",
    "plt.pie(ageRanges, labels=label, pctdistance=0.8,autopct='%.2f %%', radius=2)\n",
    "plt.tight_layout()\n",
    "plt.show()"
   ]
  },
  {
   "cell_type": "code",
   "execution_count": 134,
   "id": "bf427d78",
   "metadata": {
    "ExecuteTime": {
     "end_time": "2022-09-14T02:19:08.810607Z",
     "start_time": "2022-09-14T02:19:08.650036Z"
    },
    "scrolled": true
   },
   "outputs": [
    {
     "data": {
      "text/plain": [
       "<BarContainer object of 6 artists>"
      ]
     },
     "execution_count": 134,
     "metadata": {},
     "output_type": "execute_result"
    },
    {
     "data": {
      "image/png": "[encoded data removed]",
      "text/plain": [
       "<Figure size 432x288 with 1 Axes>"
      ]
     },
     "metadata": {
      "needs_background": "light"
     },
     "output_type": "display_data"
    }
   ],
   "source": [
    "plt.bar(label,ageRanges)"
   ]
  },
  {
   "cell_type": "code",
   "execution_count": 83,
   "id": "b76281e3",
   "metadata": {
    "ExecuteTime": {
     "end_time": "2022-09-16T20:46:06.052148Z",
     "start_time": "2022-09-16T20:46:05.853679Z"
    }
   },
   "outputs": [
    {
     "data": {
      "application/javascript": [
       "/* Put everything inside the global mpl namespace */\n",
       "/* global mpl */\n",
       "window.mpl = {};\n",
       "\n",
       "mpl.get_websocket_type = function () {\n",
       "    if (typeof WebSocket !== 'undefined') {\n",
       "        return WebSocket;\n",
       "    } else if (typeof MozWebSocket !== 'undefined') {\n",
       "        return MozWebSocket;\n",
       "    } else {\n",
       "        alert(\n",
       "            'Your browser does not have WebSocket support. ' +\n",
       "                'Please try Chrome, Safari or Firefox ≥ 6. ' +\n",
       "                'Firefox 4 and 5 are also supported but you ' +\n",
       "                'have to enable WebSockets in about:config.'\n",
       "        );\n",
       "    }\n",
       "};\n",
       "\n",
       "mpl.figure = function (figure_id, websocket, ondownload, parent_element) {\n",
       "    this.id = figure_id;\n",
       "\n",
       "    this.ws = websocket;\n",
       "\n",
       "    this.supports_binary = this.ws.binaryType !== undefined;\n",
       "\n",
       "    if (!this.supports_binary) {\n",
       "        var warnings = document.getElementById('mpl-warnings');\n",
       "        if (warnings) {\n",
       "            warnings.style.display = 'block';\n",
       "            warnings.textContent =\n",
       "                'This browser does not support binary websocket messages. ' +\n",
       "                'Performance may be slow.';\n",
       "        }\n",
       "    }\n",
       "\n",
       "    this.imageObj = new Image();\n",
       "\n",
       "    this.context = undefined;\n",
       "    this.message = undefined;\n",
       "    this.canvas = undefined;\n",
       "    this.rubberband_canvas = undefined;\n",
       "    this.rubberband_context = undefined;\n",
       "    this.format_dropdown = undefined;\n",
       "\n",
       "    this.image_mode = 'full';\n",
       "\n",
       "    this.root = document.createElement('div');\n",
       "    this.root.setAttribute('style', 'display: inline-block');\n",
       "    this._root_extra_style(this.root);\n",
       "\n",
       "    parent_element.appendChild(this.root);\n",
       "\n",
       "    this._init_header(this);\n",
       "    this._init_canvas(this);\n",
       "    this._init_toolbar(this);\n",
       "\n",
       "    var fig = this;\n",
       "\n",
       "    this.waiting = false;\n",
       "\n",
       "    this.ws.onopen = function () {\n",
       "        fig.send_message('supports_binary', { value: fig.supports_binary });\n",
       "        fig.send_message('send_image_mode', {});\n",
       "        if (fig.ratio !== 1) {\n",
       "            fig.send_message('set_dpi_ratio', { dpi_ratio: fig.ratio });\n",
       "        }\n",
       "        fig.send_message('refresh', {});\n",
       "    };\n",
       "\n",
       "    this.imageObj.onload = function () {\n",
       "        if (fig.image_mode === 'full') {\n",
       "            // Full images could contain transparency (where diff images\n",
       "            // almost always do), so we need to clear the canvas so that\n",
       "            // there is no ghosting.\n",
       "            fig.context.clearRect(0, 0, fig.canvas.width, fig.canvas.height);\n",
       "        }\n",
       "        fig.context.drawImage(fig.imageObj, 0, 0);\n",
       "    };\n",
       "\n",
       "    this.imageObj.onunload = function () {\n",
       "        fig.ws.close();\n",
       "    };\n",
       "\n",
       "    this.ws.onmessage = this._make_on_message_function(this);\n",
       "\n",
       "    this.ondownload = ondownload;\n",
       "};\n",
       "\n",
       "mpl.figure.prototype._init_header = function () {\n",
       "    var titlebar = document.createElement('div');\n",
       "    titlebar.classList =\n",
       "        'ui-dialog-titlebar ui-widget-header ui-corner-all ui-helper-clearfix';\n",
       "    var titletext = document.createElement('div');\n",
       "    titletext.classList = 'ui-dialog-title';\n",
       "    titletext.setAttribute(\n",
       "        'style',\n",
       "        'width: 100%; text-align: center; padding: 3px;'\n",
       "    );\n",
       "    titlebar.appendChild(titletext);\n",
       "    this.root.appendChild(titlebar);\n",
       "    this.header = titletext;\n",
       "};\n",
       "\n",
       "mpl.figure.prototype._canvas_extra_style = function (_canvas_div) {};\n",
       "\n",
       "mpl.figure.prototype._root_extra_style = function (_canvas_div) {};\n",
       "\n",
       "mpl.figure.prototype._init_canvas = function () {\n",
       "    var fig = this;\n",
       "\n",
       "    var canvas_div = (this.canvas_div = document.createElement('div'));\n",
       "    canvas_div.setAttribute(\n",
       "        'style',\n",
       "        'border: 1px solid #ddd;' +\n",
       "            'box-sizing: content-box;' +\n",
       "            'clear: both;' +\n",
       "            'min-height: 1px;' +\n",
       "            'min-width: 1px;' +\n",
       "            'outline: 0;' +\n",
       "            'overflow: hidden;' +\n",
       "            'position: relative;' +\n",
       "            'resize: both;'\n",
       "    );\n",
       "\n",
       "    function on_keyboard_event_closure(name) {\n",
       "        return function (event) {\n",
       "            return fig.key_event(event, name);\n",
       "        };\n",
       "    }\n",
       "\n",
       "    canvas_div.addEventListener(\n",
       "        'keydown',\n",
       "        on_keyboard_event_closure('key_press')\n",
       "    );\n",
       "    canvas_div.addEventListener(\n",
       "        'keyup',\n",
       "        on_keyboard_event_closure('key_release')\n",
       "    );\n",
       "\n",
       "    this._canvas_extra_style(canvas_div);\n",
       "    this.root.appendChild(canvas_div);\n",
       "\n",
       "    var canvas = (this.canvas = document.createElement('canvas'));\n",
       "    canvas.classList.add('mpl-canvas');\n",
       "    canvas.setAttribute('style', 'box-sizing: content-box;');\n",
       "\n",
       "    this.context = canvas.getContext('2d');\n",
       "\n",
       "    var backingStore =\n",
       "        this.context.backingStorePixelRatio ||\n",
       "        this.context.webkitBackingStorePixelRatio ||\n",
       "        this.context.mozBackingStorePixelRatio ||\n",
       "        this.context.msBackingStorePixelRatio ||\n",
       "        this.context.oBackingStorePixelRatio ||\n",
       "        this.context.backingStorePixelRatio ||\n",
       "        1;\n",
       "\n",
       "    this.ratio = (window.devicePixelRatio || 1) / backingStore;\n",
       "\n",
       "    var rubberband_canvas = (this.rubberband_canvas = document.createElement(\n",
       "        'canvas'\n",
       "    ));\n",
       "    rubberband_canvas.setAttribute(\n",
       "        'style',\n",
       "        'box-sizing: content-box; position: absolute; left: 0; top: 0; z-index: 1;'\n",
       "    );\n",
       "\n",
       "    // Apply a ponyfill if ResizeObserver is not implemented by browser.\n",
       "    if (this.ResizeObserver === undefined) {\n",
       "        if (window.ResizeObserver !== undefined) {\n",
       "            this.ResizeObserver = window.ResizeObserver;\n",
       "        } else {\n",
       "            var obs = _JSXTOOLS_RESIZE_OBSERVER({});\n",
       "            this.ResizeObserver = obs.ResizeObserver;\n",
       "        }\n",
       "    }\n",
       "\n",
       "    this.resizeObserverInstance = new this.ResizeObserver(function (entries) {\n",
       "        var nentries = entries.length;\n",
       "        for (var i = 0; i < nentries; i++) {\n",
       "            var entry = entries[i];\n",
       "            var width, height;\n",
       "            if (entry.contentBoxSize) {\n",
       "                if (entry.contentBoxSize instanceof Array) {\n",
       "                    // Chrome 84 implements new version of spec.\n",
       "                    width = entry.contentBoxSize[0].inlineSize;\n",
       "                    height = entry.contentBoxSize[0].blockSize;\n",
       "                } else {\n",
       "                    // Firefox implements old version of spec.\n",
       "                    width = entry.contentBoxSize.inlineSize;\n",
       "                    height = entry.contentBoxSize.blockSize;\n",
       "                }\n",
       "            } else {\n",
       "                // Chrome <84 implements even older version of spec.\n",
       "                width = entry.contentRect.width;\n",
       "                height = entry.contentRect.height;\n",
       "            }\n",
       "\n",
       "            // Keep the size of the canvas and rubber band canvas in sync with\n",
       "            // the canvas container.\n",
       "            if (entry.devicePixelContentBoxSize) {\n",
       "                // Chrome 84 implements new version of spec.\n",
       "                canvas.setAttribute(\n",
       "                    'width',\n",
       "                    entry.devicePixelContentBoxSize[0].inlineSize\n",
       "                );\n",
       "                canvas.setAttribute(\n",
       "                    'height',\n",
       "                    entry.devicePixelContentBoxSize[0].blockSize\n",
       "                );\n",
       "            } else {\n",
       "                canvas.setAttribute('width', width * fig.ratio);\n",
       "                canvas.setAttribute('height', height * fig.ratio);\n",
       "            }\n",
       "            canvas.setAttribute(\n",
       "                'style',\n",
       "                'width: ' + width + 'px; height: ' + height + 'px;'\n",
       "            );\n",
       "\n",
       "            rubberband_canvas.setAttribute('width', width);\n",
       "            rubberband_canvas.setAttribute('height', height);\n",
       "\n",
       "            // And update the size in Python. We ignore the initial 0/0 size\n",
       "            // that occurs as the element is placed into the DOM, which should\n",
       "            // otherwise not happen due to the minimum size styling.\n",
       "            if (fig.ws.readyState == 1 && width != 0 && height != 0) {\n",
       "                fig.request_resize(width, height);\n",
       "            }\n",
       "        }\n",
       "    });\n",
       "    this.resizeObserverInstance.observe(canvas_div);\n",
       "\n",
       "    function on_mouse_event_closure(name) {\n",
       "        return function (event) {\n",
       "            return fig.mouse_event(event, name);\n",
       "        };\n",
       "    }\n",
       "\n",
       "    rubberband_canvas.addEventListener(\n",
       "        'mousedown',\n",
       "        on_mouse_event_closure('button_press')\n",
       "    );\n",
       "    rubberband_canvas.addEventListener(\n",
       "        'mouseup',\n",
       "        on_mouse_event_closure('button_release')\n",
       "    );\n",
       "    rubberband_canvas.addEventListener(\n",
       "        'dblclick',\n",
       "        on_mouse_event_closure('dblclick')\n",
       "    );\n",
       "    // Throttle sequential mouse events to 1 every 20ms.\n",
       "    rubberband_canvas.addEventListener(\n",
       "        'mousemove',\n",
       "        on_mouse_event_closure('motion_notify')\n",
       "    );\n",
       "\n",
       "    rubberband_canvas.addEventListener(\n",
       "        'mouseenter',\n",
       "        on_mouse_event_closure('figure_enter')\n",
       "    );\n",
       "    rubberband_canvas.addEventListener(\n",
       "        'mouseleave',\n",
       "        on_mouse_event_closure('figure_leave')\n",
       "    );\n",
       "\n",
       "    canvas_div.addEventListener('wheel', function (event) {\n",
       "        if (event.deltaY < 0) {\n",
       "            event.step = 1;\n",
       "        } else {\n",
       "            event.step = -1;\n",
       "        }\n",
       "        on_mouse_event_closure('scroll')(event);\n",
       "    });\n",
       "\n",
       "    canvas_div.appendChild(canvas);\n",
       "    canvas_div.appendChild(rubberband_canvas);\n",
       "\n",
       "    this.rubberband_context = rubberband_canvas.getContext('2d');\n",
       "    this.rubberband_context.strokeStyle = '#000000';\n",
       "\n",
       "    this._resize_canvas = function (width, height, forward) {\n",
       "        if (forward) {\n",
       "            canvas_div.style.width = width + 'px';\n",
       "            canvas_div.style.height = height + 'px';\n",
       "        }\n",
       "    };\n",
       "\n",
       "    // Disable right mouse context menu.\n",
       "    this.rubberband_canvas.addEventListener('contextmenu', function (_e) {\n",
       "        event.preventDefault();\n",
       "        return false;\n",
       "    });\n",
       "\n",
       "    function set_focus() {\n",
       "        canvas.focus();\n",
       "        canvas_div.focus();\n",
       "    }\n",
       "\n",
       "    window.setTimeout(set_focus, 100);\n",
       "};\n",
       "\n",
       "mpl.figure.prototype._init_toolbar = function () {\n",
       "    var fig = this;\n",
       "\n",
       "    var toolbar = document.createElement('div');\n",
       "    toolbar.classList = 'mpl-toolbar';\n",
       "    this.root.appendChild(toolbar);\n",
       "\n",
       "    function on_click_closure(name) {\n",
       "        return function (_event) {\n",
       "            return fig.toolbar_button_onclick(name);\n",
       "        };\n",
       "    }\n",
       "\n",
       "    function on_mouseover_closure(tooltip) {\n",
       "        return function (event) {\n",
       "            if (!event.currentTarget.disabled) {\n",
       "                return fig.toolbar_button_onmouseover(tooltip);\n",
       "            }\n",
       "        };\n",
       "    }\n",
       "\n",
       "    fig.buttons = {};\n",
       "    var buttonGroup = document.createElement('div');\n",
       "    buttonGroup.classList = 'mpl-button-group';\n",
       "    for (var toolbar_ind in mpl.toolbar_items) {\n",
       "        var name = mpl.toolbar_items[toolbar_ind][0];\n",
       "        var tooltip = mpl.toolbar_items[toolbar_ind][1];\n",
       "        var image = mpl.toolbar_items[toolbar_ind][2];\n",
       "        var method_name = mpl.toolbar_items[toolbar_ind][3];\n",
       "\n",
       "        if (!name) {\n",
       "            /* Instead of a spacer, we start a new button group. */\n",
       "            if (buttonGroup.hasChildNodes()) {\n",
       "                toolbar.appendChild(buttonGroup);\n",
       "            }\n",
       "            buttonGroup = document.createElement('div');\n",
       "            buttonGroup.classList = 'mpl-button-group';\n",
       "            continue;\n",
       "        }\n",
       "\n",
       "        var button = (fig.buttons[name] = document.createElement('button'));\n",
       "        button.classList = 'mpl-widget';\n",
       "        button.setAttribute('role', 'button');\n",
       "        button.setAttribute('aria-disabled', 'false');\n",
       "        button.addEventListener('click', on_click_closure(method_name));\n",
       "        button.addEventListener('mouseover', on_mouseover_closure(tooltip));\n",
       "\n",
       "        var icon_img = document.createElement('img');\n",
       "        icon_img.src = '_images/' + image + '.png';\n",
       "        icon_img.srcset = '_images/' + image + '_large.png 2x';\n",
       "        icon_img.alt = tooltip;\n",
       "        button.appendChild(icon_img);\n",
       "\n",
       "        buttonGroup.appendChild(button);\n",
       "    }\n",
       "\n",
       "    if (buttonGroup.hasChildNodes()) {\n",
       "        toolbar.appendChild(buttonGroup);\n",
       "    }\n",
       "\n",
       "    var fmt_picker = document.createElement('select');\n",
       "    fmt_picker.classList = 'mpl-widget';\n",
       "    toolbar.appendChild(fmt_picker);\n",
       "    this.format_dropdown = fmt_picker;\n",
       "\n",
       "    for (var ind in mpl.extensions) {\n",
       "        var fmt = mpl.extensions[ind];\n",
       "        var option = document.createElement('option');\n",
       "        option.selected = fmt === mpl.default_extension;\n",
       "        option.innerHTML = fmt;\n",
       "        fmt_picker.appendChild(option);\n",
       "    }\n",
       "\n",
       "    var status_bar = document.createElement('span');\n",
       "    status_bar.classList = 'mpl-message';\n",
       "    toolbar.appendChild(status_bar);\n",
       "    this.message = status_bar;\n",
       "};\n",
       "\n",
       "mpl.figure.prototype.request_resize = function (x_pixels, y_pixels) {\n",
       "    // Request matplotlib to resize the figure. Matplotlib will then trigger a resize in the client,\n",
       "    // which will in turn request a refresh of the image.\n",
       "    this.send_message('resize', { width: x_pixels, height: y_pixels });\n",
       "};\n",
       "\n",
       "mpl.figure.prototype.send_message = function (type, properties) {\n",
       "    properties['type'] = type;\n",
       "    properties['figure_id'] = this.id;\n",
       "    this.ws.send(JSON.stringify(properties));\n",
       "};\n",
       "\n",
       "mpl.figure.prototype.send_draw_message = function () {\n",
       "    if (!this.waiting) {\n",
       "        this.waiting = true;\n",
       "        this.ws.send(JSON.stringify({ type: 'draw', figure_id: this.id }));\n",
       "    }\n",
       "};\n",
       "\n",
       "mpl.figure.prototype.handle_save = function (fig, _msg) {\n",
       "    var format_dropdown = fig.format_dropdown;\n",
       "    var format = format_dropdown.options[format_dropdown.selectedIndex].value;\n",
       "    fig.ondownload(fig, format);\n",
       "};\n",
       "\n",
       "mpl.figure.prototype.handle_resize = function (fig, msg) {\n",
       "    var size = msg['size'];\n",
       "    if (size[0] !== fig.canvas.width || size[1] !== fig.canvas.height) {\n",
       "        fig._resize_canvas(size[0], size[1], msg['forward']);\n",
       "        fig.send_message('refresh', {});\n",
       "    }\n",
       "};\n",
       "\n",
       "mpl.figure.prototype.handle_rubberband = function (fig, msg) {\n",
       "    var x0 = msg['x0'] / fig.ratio;\n",
       "    var y0 = (fig.canvas.height - msg['y0']) / fig.ratio;\n",
       "    var x1 = msg['x1'] / fig.ratio;\n",
       "    var y1 = (fig.canvas.height - msg['y1']) / fig.ratio;\n",
       "    x0 = Math.floor(x0) + 0.5;\n",
       "    y0 = Math.floor(y0) + 0.5;\n",
       "    x1 = Math.floor(x1) + 0.5;\n",
       "    y1 = Math.floor(y1) + 0.5;\n",
       "    var min_x = Math.min(x0, x1);\n",
       "    var min_y = Math.min(y0, y1);\n",
       "    var width = Math.abs(x1 - x0);\n",
       "    var height = Math.abs(y1 - y0);\n",
       "\n",
       "    fig.rubberband_context.clearRect(\n",
       "        0,\n",
       "        0,\n",
       "        fig.canvas.width / fig.ratio,\n",
       "        fig.canvas.height / fig.ratio\n",
       "    );\n",
       "\n",
       "    fig.rubberband_context.strokeRect(min_x, min_y, width, height);\n",
       "};\n",
       "\n",
       "mpl.figure.prototype.handle_figure_label = function (fig, msg) {\n",
       "    // Updates the figure title.\n",
       "    fig.header.textContent = msg['label'];\n",
       "};\n",
       "\n",
       "mpl.figure.prototype.handle_cursor = function (fig, msg) {\n",
       "    var cursor = msg['cursor'];\n",
       "    switch (cursor) {\n",
       "        case 0:\n",
       "            cursor = 'pointer';\n",
       "            break;\n",
       "        case 1:\n",
       "            cursor = 'default';\n",
       "            break;\n",
       "        case 2:\n",
       "            cursor = 'crosshair';\n",
       "            break;\n",
       "        case 3:\n",
       "            cursor = 'move';\n",
       "            break;\n",
       "    }\n",
       "    fig.rubberband_canvas.style.cursor = cursor;\n",
       "};\n",
       "\n",
       "mpl.figure.prototype.handle_message = function (fig, msg) {\n",
       "    fig.message.textContent = msg['message'];\n",
       "};\n",
       "\n",
       "mpl.figure.prototype.handle_draw = function (fig, _msg) {\n",
       "    // Request the server to send over a new figure.\n",
       "    fig.send_draw_message();\n",
       "};\n",
       "\n",
       "mpl.figure.prototype.handle_image_mode = function (fig, msg) {\n",
       "    fig.image_mode = msg['mode'];\n",
       "};\n",
       "\n",
       "mpl.figure.prototype.handle_history_buttons = function (fig, msg) {\n",
       "    for (var key in msg) {\n",
       "        if (!(key in fig.buttons)) {\n",
       "            continue;\n",
       "        }\n",
       "        fig.buttons[key].disabled = !msg[key];\n",
       "        fig.buttons[key].setAttribute('aria-disabled', !msg[key]);\n",
       "    }\n",
       "};\n",
       "\n",
       "mpl.figure.prototype.handle_navigate_mode = function (fig, msg) {\n",
       "    if (msg['mode'] === 'PAN') {\n",
       "        fig.buttons['Pan'].classList.add('active');\n",
       "        fig.buttons['Zoom'].classList.remove('active');\n",
       "    } else if (msg['mode'] === 'ZOOM') {\n",
       "        fig.buttons['Pan'].classList.remove('active');\n",
       "        fig.buttons['Zoom'].classList.add('active');\n",
       "    } else {\n",
       "        fig.buttons['Pan'].classList.remove('active');\n",
       "        fig.buttons['Zoom'].classList.remove('active');\n",
       "    }\n",
       "};\n",
       "\n",
       "mpl.figure.prototype.updated_canvas_event = function () {\n",
       "    // Called whenever the canvas gets updated.\n",
       "    this.send_message('ack', {});\n",
       "};\n",
       "\n",
       "// A function to construct a web socket function for onmessage handling.\n",
       "// Called in the figure constructor.\n",
       "mpl.figure.prototype._make_on_message_function = function (fig) {\n",
       "    return function socket_on_message(evt) {\n",
       "        if (evt.data instanceof Blob) {\n",
       "            var img = evt.data;\n",
       "            if (img.type !== 'image/png') {\n",
       "                /* FIXME: We get \"Resource interpreted as Image but\n",
       "                 * transferred with MIME type text/plain:\" errors on\n",
       "                 * Chrome.  But how to set the MIME type?  It doesn't seem\n",
       "                 * to be part of the websocket stream */\n",
       "                img.type = 'image/png';\n",
       "            }\n",
       "\n",
       "            /* Free the memory for the previous frames */\n",
       "            if (fig.imageObj.src) {\n",
       "                (window.URL || window.webkitURL).revokeObjectURL(\n",
       "                    fig.imageObj.src\n",
       "                );\n",
       "            }\n",
       "\n",
       "            fig.imageObj.src = (window.URL || window.webkitURL).createObjectURL(\n",
       "                img\n",
       "            );\n",
       "            fig.updated_canvas_event();\n",
       "            fig.waiting = false;\n",
       "            return;\n",
       "        } else if (\n",
       "            typeof evt.data === 'string' &&\n",
       "            evt.data.slice(0, 21) === 'data:image/png;base64'\n",
       "        ) {\n",
       "            fig.imageObj.src = evt.data;\n",
       "            fig.updated_canvas_event();\n",
       "            fig.waiting = false;\n",
       "            return;\n",
       "        }\n",
       "\n",
       "        var msg = JSON.parse(evt.data);\n",
       "        var msg_type = msg['type'];\n",
       "\n",
       "        // Call the  \"handle_{type}\" callback, which takes\n",
       "        // the figure and JSON message as its only arguments.\n",
       "        try {\n",
       "            var callback = fig['handle_' + msg_type];\n",
       "        } catch (e) {\n",
       "            console.log(\n",
       "                \"No handler for the '\" + msg_type + \"' message type: \",\n",
       "                msg\n",
       "            );\n",
       "            return;\n",
       "        }\n",
       "\n",
       "        if (callback) {\n",
       "            try {\n",
       "                // console.log(\"Handling '\" + msg_type + \"' message: \", msg);\n",
       "                callback(fig, msg);\n",
       "            } catch (e) {\n",
       "                console.log(\n",
       "                    \"Exception inside the 'handler_\" + msg_type + \"' callback:\",\n",
       "                    e,\n",
       "                    e.stack,\n",
       "                    msg\n",
       "                );\n",
       "            }\n",
       "        }\n",
       "    };\n",
       "};\n",
       "\n",
       "// from http://stackoverflow.com/questions/1114465/getting-mouse-location-in-canvas\n",
       "mpl.findpos = function (e) {\n",
       "    //this section is from http://www.quirksmode.org/js/events_properties.html\n",
       "    var targ;\n",
       "    if (!e) {\n",
       "        e = window.event;\n",
       "    }\n",
       "    if (e.target) {\n",
       "        targ = e.target;\n",
       "    } else if (e.srcElement) {\n",
       "        targ = e.srcElement;\n",
       "    }\n",
       "    if (targ.nodeType === 3) {\n",
       "        // defeat Safari bug\n",
       "        targ = targ.parentNode;\n",
       "    }\n",
       "\n",
       "    // pageX,Y are the mouse positions relative to the document\n",
       "    var boundingRect = targ.getBoundingClientRect();\n",
       "    var x = e.pageX - (boundingRect.left + document.body.scrollLeft);\n",
       "    var y = e.pageY - (boundingRect.top + document.body.scrollTop);\n",
       "\n",
       "    return { x: x, y: y };\n",
       "};\n",
       "\n",
       "/*\n",
       " * return a copy of an object with only non-object keys\n",
       " * we need this to avoid circular references\n",
       " * http://stackoverflow.com/a/24161582/3208463\n",
       " */\n",
       "function simpleKeys(original) {\n",
       "    return Object.keys(original).reduce(function (obj, key) {\n",
       "        if (typeof original[key] !== 'object') {\n",
       "            obj[key] = original[key];\n",
       "        }\n",
       "        return obj;\n",
       "    }, {});\n",
       "}\n",
       "\n",
       "mpl.figure.prototype.mouse_event = function (event, name) {\n",
       "    var canvas_pos = mpl.findpos(event);\n",
       "\n",
       "    if (name === 'button_press') {\n",
       "        this.canvas.focus();\n",
       "        this.canvas_div.focus();\n",
       "    }\n",
       "\n",
       "    var x = canvas_pos.x * this.ratio;\n",
       "    var y = canvas_pos.y * this.ratio;\n",
       "\n",
       "    this.send_message(name, {\n",
       "        x: x,\n",
       "        y: y,\n",
       "        button: event.button,\n",
       "        step: event.step,\n",
       "        guiEvent: simpleKeys(event),\n",
       "    });\n",
       "\n",
       "    /* This prevents the web browser from automatically changing to\n",
       "     * the text insertion cursor when the button is pressed.  We want\n",
       "     * to control all of the cursor setting manually through the\n",
       "     * 'cursor' event from matplotlib */\n",
       "    event.preventDefault();\n",
       "    return false;\n",
       "};\n",
       "\n",
       "mpl.figure.prototype._key_event_extra = function (_event, _name) {\n",
       "    // Handle any extra behaviour associated with a key event\n",
       "};\n",
       "\n",
       "mpl.figure.prototype.key_event = function (event, name) {\n",
       "    // Prevent repeat events\n",
       "    if (name === 'key_press') {\n",
       "        if (event.key === this._key) {\n",
       "            return;\n",
       "        } else {\n",
       "            this._key = event.key;\n",
       "        }\n",
       "    }\n",
       "    if (name === 'key_release') {\n",
       "        this._key = null;\n",
       "    }\n",
       "\n",
       "    var value = '';\n",
       "    if (event.ctrlKey && event.key !== 'Control') {\n",
       "        value += 'ctrl+';\n",
       "    }\n",
       "    else if (event.altKey && event.key !== 'Alt') {\n",
       "        value += 'alt+';\n",
       "    }\n",
       "    else if (event.shiftKey && event.key !== 'Shift') {\n",
       "        value += 'shift+';\n",
       "    }\n",
       "\n",
       "    value += 'k' + event.key;\n",
       "\n",
       "    this._key_event_extra(event, name);\n",
       "\n",
       "    this.send_message(name, { key: value, guiEvent: simpleKeys(event) });\n",
       "    return false;\n",
       "};\n",
       "\n",
       "mpl.figure.prototype.toolbar_button_onclick = function (name) {\n",
       "    if (name === 'download') {\n",
       "        this.handle_save(this, null);\n",
       "    } else {\n",
       "        this.send_message('toolbar_button', { name: name });\n",
       "    }\n",
       "};\n",
       "\n",
       "mpl.figure.prototype.toolbar_button_onmouseover = function (tooltip) {\n",
       "    this.message.textContent = tooltip;\n",
       "};\n",
       "\n",
       "///////////////// REMAINING CONTENT GENERATED BY embed_js.py /////////////////\n",
       "// prettier-ignore\n",
       "var _JSXTOOLS_RESIZE_OBSERVER=function(A){var t,i=new WeakMap,n=new WeakMap,a=new WeakMap,r=new WeakMap,o=new Set;function s(e){if(!(this instanceof s))throw new TypeError(\"Constructor requires 'new' operator\");i.set(this,e)}function h(){throw new TypeError(\"Function is not a constructor\")}function c(e,t,i,n){e=0 in arguments?Number(arguments[0]):0,t=1 in arguments?Number(arguments[1]):0,i=2 in arguments?Number(arguments[2]):0,n=3 in arguments?Number(arguments[3]):0,this.right=(this.x=this.left=e)+(this.width=i),this.bottom=(this.y=this.top=t)+(this.height=n),Object.freeze(this)}function d(){t=requestAnimationFrame(d);var s=new WeakMap,p=new Set;o.forEach((function(t){r.get(t).forEach((function(i){var r=t instanceof window.SVGElement,o=a.get(t),d=r?0:parseFloat(o.paddingTop),f=r?0:parseFloat(o.paddingRight),l=r?0:parseFloat(o.paddingBottom),u=r?0:parseFloat(o.paddingLeft),g=r?0:parseFloat(o.borderTopWidth),m=r?0:parseFloat(o.borderRightWidth),w=r?0:parseFloat(o.borderBottomWidth),b=u+f,F=d+l,v=(r?0:parseFloat(o.borderLeftWidth))+m,W=g+w,y=r?0:t.offsetHeight-W-t.clientHeight,E=r?0:t.offsetWidth-v-t.clientWidth,R=b+v,z=F+W,M=r?t.width:parseFloat(o.width)-R-E,O=r?t.height:parseFloat(o.height)-z-y;if(n.has(t)){var k=n.get(t);if(k[0]===M&&k[1]===O)return}n.set(t,[M,O]);var S=Object.create(h.prototype);S.target=t,S.contentRect=new c(u,d,M,O),s.has(i)||(s.set(i,[]),p.add(i)),s.get(i).push(S)}))})),p.forEach((function(e){i.get(e).call(e,s.get(e),e)}))}return s.prototype.observe=function(i){if(i instanceof window.Element){r.has(i)||(r.set(i,new Set),o.add(i),a.set(i,window.getComputedStyle(i)));var n=r.get(i);n.has(this)||n.add(this),cancelAnimationFrame(t),t=requestAnimationFrame(d)}},s.prototype.unobserve=function(i){if(i instanceof window.Element&&r.has(i)){var n=r.get(i);n.has(this)&&(n.delete(this),n.size||(r.delete(i),o.delete(i))),n.size||r.delete(i),o.size||cancelAnimationFrame(t)}},A.DOMRectReadOnly=c,A.ResizeObserver=s,A.ResizeObserverEntry=h,A}; // eslint-disable-line\n",
       "mpl.toolbar_items = [[\"Home\", \"Reset original view\", \"fa fa-home icon-home\", \"home\"], [\"Back\", \"Back to previous view\", \"fa fa-arrow-left icon-arrow-left\", \"back\"], [\"Forward\", \"Forward to next view\", \"fa fa-arrow-right icon-arrow-right\", \"forward\"], [\"\", \"\", \"\", \"\"], [\"Pan\", \"Left button pans, Right button zooms\\nx/y fixes axis, CTRL fixes aspect\", \"fa fa-arrows icon-move\", \"pan\"], [\"Zoom\", \"Zoom to rectangle\\nx/y fixes axis, CTRL fixes aspect\", \"fa fa-square-o icon-check-empty\", \"zoom\"], [\"\", \"\", \"\", \"\"], [\"Download\", \"Download plot\", \"fa fa-floppy-o icon-save\", \"download\"]];\n",
       "\n",
       "mpl.extensions = [\"eps\", \"jpeg\", \"pgf\", \"pdf\", \"png\", \"ps\", \"raw\", \"svg\", \"tif\"];\n",
       "\n",
       "mpl.default_extension = \"png\";/* global mpl */\n",
       "\n",
       "var comm_websocket_adapter = function (comm) {\n",
       "    // Create a \"websocket\"-like object which calls the given IPython comm\n",
       "    // object with the appropriate methods. Currently this is a non binary\n",
       "    // socket, so there is still some room for performance tuning.\n",
       "    var ws = {};\n",
       "\n",
       "    ws.binaryType = comm.kernel.ws.binaryType;\n",
       "    ws.readyState = comm.kernel.ws.readyState;\n",
       "    function updateReadyState(_event) {\n",
       "        if (comm.kernel.ws) {\n",
       "            ws.readyState = comm.kernel.ws.readyState;\n",
       "        } else {\n",
       "            ws.readyState = 3; // Closed state.\n",
       "        }\n",
       "    }\n",
       "    comm.kernel.ws.addEventListener('open', updateReadyState);\n",
       "    comm.kernel.ws.addEventListener('close', updateReadyState);\n",
       "    comm.kernel.ws.addEventListener('error', updateReadyState);\n",
       "\n",
       "    ws.close = function () {\n",
       "        comm.close();\n",
       "    };\n",
       "    ws.send = function (m) {\n",
       "        //console.log('sending', m);\n",
       "        comm.send(m);\n",
       "    };\n",
       "    // Register the callback with on_msg.\n",
       "    comm.on_msg(function (msg) {\n",
       "        //console.log('receiving', msg['content']['data'], msg);\n",
       "        var data = msg['content']['data'];\n",
       "        if (data['blob'] !== undefined) {\n",
       "            data = {\n",
       "                data: new Blob(msg['buffers'], { type: data['blob'] }),\n",
       "            };\n",
       "        }\n",
       "        // Pass the mpl event to the overridden (by mpl) onmessage function.\n",
       "        ws.onmessage(data);\n",
       "    });\n",
       "    return ws;\n",
       "};\n",
       "\n",
       "mpl.mpl_figure_comm = function (comm, msg) {\n",
       "    // This is the function which gets called when the mpl process\n",
       "    // starts-up an IPython Comm through the \"matplotlib\" channel.\n",
       "\n",
       "    var id = msg.content.data.id;\n",
       "    // Get hold of the div created by the display call when the Comm\n",
       "    // socket was opened in Python.\n",
       "    var element = document.getElementById(id);\n",
       "    var ws_proxy = comm_websocket_adapter(comm);\n",
       "\n",
       "    function ondownload(figure, _format) {\n",
       "        window.open(figure.canvas.toDataURL());\n",
       "    }\n",
       "\n",
       "    var fig = new mpl.figure(id, ws_proxy, ondownload, element);\n",
       "\n",
       "    // Call onopen now - mpl needs it, as it is assuming we've passed it a real\n",
       "    // web socket which is closed, not our websocket->open comm proxy.\n",
       "    ws_proxy.onopen();\n",
       "\n",
       "    fig.parent_element = element;\n",
       "    fig.cell_info = mpl.find_output_cell(\"<div id='\" + id + \"'></div>\");\n",
       "    if (!fig.cell_info) {\n",
       "        console.error('Failed to find cell for figure', id, fig);\n",
       "        return;\n",
       "    }\n",
       "    fig.cell_info[0].output_area.element.on(\n",
       "        'cleared',\n",
       "        { fig: fig },\n",
       "        fig._remove_fig_handler\n",
       "    );\n",
       "};\n",
       "\n",
       "mpl.figure.prototype.handle_close = function (fig, msg) {\n",
       "    var width = fig.canvas.width / fig.ratio;\n",
       "    fig.cell_info[0].output_area.element.off(\n",
       "        'cleared',\n",
       "        fig._remove_fig_handler\n",
       "    );\n",
       "    fig.resizeObserverInstance.unobserve(fig.canvas_div);\n",
       "\n",
       "    // Update the output cell to use the data from the current canvas.\n",
       "    fig.push_to_output();\n",
       "    var dataURL = fig.canvas.toDataURL();\n",
       "    // Re-enable the keyboard manager in IPython - without this line, in FF,\n",
       "    // the notebook keyboard shortcuts fail.\n",
       "    IPython.keyboard_manager.enable();\n",
       "    fig.parent_element.innerHTML =\n",
       "        '<img src=\"' + dataURL + '\" width=\"' + width + '\">';\n",
       "    fig.close_ws(fig, msg);\n",
       "};\n",
       "\n",
       "mpl.figure.prototype.close_ws = function (fig, msg) {\n",
       "    fig.send_message('closing', msg);\n",
       "    // fig.ws.close()\n",
       "};\n",
       "\n",
       "mpl.figure.prototype.push_to_output = function (_remove_interactive) {\n",
       "    // Turn the data on the canvas into data in the output cell.\n",
       "    var width = this.canvas.width / this.ratio;\n",
       "    var dataURL = this.canvas.toDataURL();\n",
       "    this.cell_info[1]['text/html'] =\n",
       "        '<img src=\"' + dataURL + '\" width=\"' + width + '\">';\n",
       "};\n",
       "\n",
       "mpl.figure.prototype.updated_canvas_event = function () {\n",
       "    // Tell IPython that the notebook contents must change.\n",
       "    IPython.notebook.set_dirty(true);\n",
       "    this.send_message('ack', {});\n",
       "    var fig = this;\n",
       "    // Wait a second, then push the new image to the DOM so\n",
       "    // that it is saved nicely (might be nice to debounce this).\n",
       "    setTimeout(function () {\n",
       "        fig.push_to_output();\n",
       "    }, 1000);\n",
       "};\n",
       "\n",
       "mpl.figure.prototype._init_toolbar = function () {\n",
       "    var fig = this;\n",
       "\n",
       "    var toolbar = document.createElement('div');\n",
       "    toolbar.classList = 'btn-toolbar';\n",
       "    this.root.appendChild(toolbar);\n",
       "\n",
       "    function on_click_closure(name) {\n",
       "        return function (_event) {\n",
       "            return fig.toolbar_button_onclick(name);\n",
       "        };\n",
       "    }\n",
       "\n",
       "    function on_mouseover_closure(tooltip) {\n",
       "        return function (event) {\n",
       "            if (!event.currentTarget.disabled) {\n",
       "                return fig.toolbar_button_onmouseover(tooltip);\n",
       "            }\n",
       "        };\n",
       "    }\n",
       "\n",
       "    fig.buttons = {};\n",
       "    var buttonGroup = document.createElement('div');\n",
       "    buttonGroup.classList = 'btn-group';\n",
       "    var button;\n",
       "    for (var toolbar_ind in mpl.toolbar_items) {\n",
       "        var name = mpl.toolbar_items[toolbar_ind][0];\n",
       "        var tooltip = mpl.toolbar_items[toolbar_ind][1];\n",
       "        var image = mpl.toolbar_items[toolbar_ind][2];\n",
       "        var method_name = mpl.toolbar_items[toolbar_ind][3];\n",
       "\n",
       "        if (!name) {\n",
       "            /* Instead of a spacer, we start a new button group. */\n",
       "            if (buttonGroup.hasChildNodes()) {\n",
       "                toolbar.appendChild(buttonGroup);\n",
       "            }\n",
       "            buttonGroup = document.createElement('div');\n",
       "            buttonGroup.classList = 'btn-group';\n",
       "            continue;\n",
       "        }\n",
       "\n",
       "        button = fig.buttons[name] = document.createElement('button');\n",
       "        button.classList = 'btn btn-default';\n",
       "        button.href = '#';\n",
       "        button.title = name;\n",
       "        button.innerHTML = '<i class=\"fa ' + image + ' fa-lg\"></i>';\n",
       "        button.addEventListener('click', on_click_closure(method_name));\n",
       "        button.addEventListener('mouseover', on_mouseover_closure(tooltip));\n",
       "        buttonGroup.appendChild(button);\n",
       "    }\n",
       "\n",
       "    if (buttonGroup.hasChildNodes()) {\n",
       "        toolbar.appendChild(buttonGroup);\n",
       "    }\n",
       "\n",
       "    // Add the status bar.\n",
       "    var status_bar = document.createElement('span');\n",
       "    status_bar.classList = 'mpl-message pull-right';\n",
       "    toolbar.appendChild(status_bar);\n",
       "    this.message = status_bar;\n",
       "\n",
       "    // Add the close button to the window.\n",
       "    var buttongrp = document.createElement('div');\n",
       "    buttongrp.classList = 'btn-group inline pull-right';\n",
       "    button = document.createElement('button');\n",
       "    button.classList = 'btn btn-mini btn-primary';\n",
       "    button.href = '#';\n",
       "    button.title = 'Stop Interaction';\n",
       "    button.innerHTML = '<i class=\"fa fa-power-off icon-remove icon-large\"></i>';\n",
       "    button.addEventListener('click', function (_evt) {\n",
       "        fig.handle_close(fig, {});\n",
       "    });\n",
       "    button.addEventListener(\n",
       "        'mouseover',\n",
       "        on_mouseover_closure('Stop Interaction')\n",
       "    );\n",
       "    buttongrp.appendChild(button);\n",
       "    var titlebar = this.root.querySelector('.ui-dialog-titlebar');\n",
       "    titlebar.insertBefore(buttongrp, titlebar.firstChild);\n",
       "};\n",
       "\n",
       "mpl.figure.prototype._remove_fig_handler = function (event) {\n",
       "    var fig = event.data.fig;\n",
       "    if (event.target !== this) {\n",
       "        // Ignore bubbled events from children.\n",
       "        return;\n",
       "    }\n",
       "    fig.close_ws(fig, {});\n",
       "};\n",
       "\n",
       "mpl.figure.prototype._root_extra_style = function (el) {\n",
       "    el.style.boxSizing = 'content-box'; // override notebook setting of border-box.\n",
       "};\n",
       "\n",
       "mpl.figure.prototype._canvas_extra_style = function (el) {\n",
       "    // this is important to make the div 'focusable\n",
       "    el.setAttribute('tabindex', 0);\n",
       "    // reach out to IPython and tell the keyboard manager to turn it's self\n",
       "    // off when our div gets focus\n",
       "\n",
       "    // location in version 3\n",
       "    if (IPython.notebook.keyboard_manager) {\n",
       "        IPython.notebook.keyboard_manager.register_events(el);\n",
       "    } else {\n",
       "        // location in version 2\n",
       "        IPython.keyboard_manager.register_events(el);\n",
       "    }\n",
       "};\n",
       "\n",
       "mpl.figure.prototype._key_event_extra = function (event, _name) {\n",
       "    var manager = IPython.notebook.keyboard_manager;\n",
       "    if (!manager) {\n",
       "        manager = IPython.keyboard_manager;\n",
       "    }\n",
       "\n",
       "    // Check for shift+enter\n",
       "    if (event.shiftKey && event.which === 13) {\n",
       "        this.canvas_div.blur();\n",
       "        // select the cell after this one\n",
       "        var index = IPython.notebook.find_cell_index(this.cell_info[0]);\n",
       "        IPython.notebook.select(index + 1);\n",
       "    }\n",
       "};\n",
       "\n",
       "mpl.figure.prototype.handle_save = function (fig, _msg) {\n",
       "    fig.ondownload(fig, null);\n",
       "};\n",
       "\n",
       "mpl.find_output_cell = function (html_output) {\n",
       "    // Return the cell and output element which can be found *uniquely* in the notebook.\n",
       "    // Note - this is a bit hacky, but it is done because the \"notebook_saving.Notebook\"\n",
       "    // IPython event is triggered only after the cells have been serialised, which for\n",
       "    // our purposes (turning an active figure into a static one), is too late.\n",
       "    var cells = IPython.notebook.get_cells();\n",
       "    var ncells = cells.length;\n",
       "    for (var i = 0; i < ncells; i++) {\n",
       "        var cell = cells[i];\n",
       "        if (cell.cell_type === 'code') {\n",
       "            for (var j = 0; j < cell.output_area.outputs.length; j++) {\n",
       "                var data = cell.output_area.outputs[j];\n",
       "                if (data.data) {\n",
       "                    // IPython >= 3 moved mimebundle to data attribute of output\n",
       "                    data = data.data;\n",
       "                }\n",
       "                if (data['text/html'] === html_output) {\n",
       "                    return [cell, data, j];\n",
       "                }\n",
       "            }\n",
       "        }\n",
       "    }\n",
       "};\n",
       "\n",
       "// Register the function which deals with the matplotlib target/channel.\n",
       "// The kernel may be null if the page has been refreshed.\n",
       "if (IPython.notebook.kernel !== null) {\n",
       "    IPython.notebook.kernel.comm_manager.register_target(\n",
       "        'matplotlib',\n",
       "        mpl.mpl_figure_comm\n",
       "    );\n",
       "}\n"
      ],
      "text/plain": [
       "<IPython.core.display.Javascript object>"
      ]
     },
     "metadata": {},
     "output_type": "display_data"
    },
    {
     "data": {
      "text/html": [
       "<img src=\"data:image/png;base64,iVBORw0KGgoAAAANSUhEUgAAASEAAAEhCAYAAAAwHRYbAAAgAElEQVR4Xu1dB3yO1xc+NWtV7VWbUsTeIyFGghYdFKVFVc3ailJ7tGpUUVqzSmlRqiViZRCrghhB7L23IBL+z/n65d+0DUm+d7/fub/f8/sS3vfe8z73fk/ue++557xAUoQBYUAYMJCBFwxsW5oWBoQBYYBEhGQQCAPCgKEMiAgZSr80LgwIAyJCMgaEAWHAUAZEhAylXxoXBoQBESEZA8KAMGAoAyJChtIvjQsDwoClRKhdu3ZP582bJ70mDAgDFmHgBZSETE3wgoQq0PP/fXx8nvr5+enZpLQlDAgDChgQEVJAntwqDAgDyhkQEVLOodQgDAgDChgQEVJAntwqDAgDyhkQEVLOodQgDAgDChgQEVJAntwqDAgDyhkQEVLOodQgDAgDChgQEVJAntwqDAgDyhkQEVLOodQgDAgDChgQEVJAntwqDAgDyhkQEVLOoeVqOH/rAf0QcopuP3hMHq9kpEalclGmdKks9xxisD0YEBGyRz8m+ikOXrhNLWdtp7Spk1P+LOlo79lb9OTJU/J8NRs1KZOb6pfIQelSp0h0fXKhMKCUAREhpQxa6P5bkVHkMyWICkB8FnSoTC+mTE53Hj4m/4OXadXe87T12DXKmCYljX3Tgxp65LLQk4mpVmZARMjKvZdE2wetCHMIzoY+XvG+fl29+4i+8DtMy0PP0dx2lahOsexJbEEuFwaSzoCIUNI5s+QdYeduUZNpW2lSizL0VvlXnvkMT58+pZ5L9lLg0asU0K+2rBVZsretZbSIkLX6yyVrWVhafb+dHkTF0MpuNSih8C38iub55WZqWSkfDWxY3KU25SZhILEMiAgllikLX7f58BVqP38XLe1UlaoUypKoJ5m++RhN23SMtg70psyyc5YozuQi1xgQEXKNN8vcFYOdr4ZfB1G+zOlo9gcVE233vUfRVGXMBvqkblH62Ktwou+TC4WBpDIgIpRUxix2/bLd52jAsn3k39uTimTPkCTrP/t1P23BjtnmvrUpWTJLBdhM0nPKxcYyICJkLP+ath4V/YTqTgqgKgWz0FfNyyS5rUMX7lCjqcH0A7bz2Y9IijCgBQMiQlqwapI6F+04TcNWHaTN2OXKmzmtS1a9NWMrZcuQmma1TfyrnEsNyU1uy4CIkE27/uHjGKo9IYDqvpadxsD50NWyAj5D/ZeF0dZPvSlnxhddrUbuEwaeyYCIkE0Hx4/bT9PI1YcocEBtypUxjctPyWJWddxGale9APWq96rL9ciNwsCzGBARsunYaDJtCxXMmo6+bllO8ROO+eMQrd53kbZ8WodSJE+muD6pQBiIy4CIkA3HQ/jFO9iWD6ZFHatQjSJZFT/hiav3yHtiINaFKpBPyZyK65MKhAERIZuPgfFrD2PmcoGCB9RRbWv9vdnbKXmyZI6dMinCgJoMyExITTZNUpfP5CCqWigzjWhaSjWL1u6/SF0WhVJQ/zqUL4trO22qGSMV2YoBESFbdScRByyrMX4TzWuv7in4xzFPqOYXm+j10rlp6OslbMaaPI6RDIgIGcm+Bm3zrthoLCTv/byBI16QmmVGwDGajvNkIYPqOuIOSREG1GBAREgNFk1URze8MvG5Lw5apnbhcLDVsV3fzbsIda1dRO3qpT43ZcAIEWoHrjsBT4EeQGgc7tkbbg6QDzgDfAg8BHyAUcAj4CTQHoiJr898fHye+vn5uWV3csiOKmM30vvV8lN376KacDDq90P0Gxa9ebs+dQp1Z1qaGCyVmp4BvUUoExjxB6oDHFlrIVAzDkud8XNmYCwwFLgKzAS2A+8Cp4F5wGJgvYjQPxk4cz2SPCdspiUI2VE1kSE7kjpCec2JYw2Ngxd2i0p5k3q7XC8M/IcBvUXIFxbUB/o6LdntFCSe4XBZAowB9gOlgYFAa2Au8DUQBixzXhN3BvX/B3PnmdBynJgfiBCuYcN8KE0q7WYpPX7aQ6eu3afVPeL+/ZBvlzDgGgN6ixALSiFgtNPcjfhsA1x0/s6zpA7AOYD/zM4G+FWsLsCzprvAPqDFsx7XnUWIY0iHX7zriJ6oZQlBeI/Ws3fQmk9qUYncL2nZlNTtBgzoLUI8E6oH9HNyG99MiAXqAMCnLgcDrYCjgLdTnPj1jF/FlsfpHxYyBnl4ePiEhfGEyf3K698EU8X8mWl4k5KaPjynCPL6ajPVLZ5D87Y0fRCp3BQM6C1CvCbEq8b8pzo3wGs7cef0XfA7/2n9wilAN/DJonMI4O2eewAvUJ8CeAH7P8VdZ0IcO6jkMD/HifkWFbVfq5m6MYLmbDlJOwbXVd0VwBTfDDFCNwb0FiF+MH7d6gjw7lhPIBrgWc4kgI978/pPHuA8wLtgvDvWHOjv/PkmPnl2FCki9DcDnNSw8dQtur0iXWCnSDgvTsUB2TeQNFGKMOAqA0aIkKu2Juo+d50J/fznWRry6wE6ONKHUup00v2DuTvpCdwCFn5YJVF9IxcJA/ExICJkk3ExbNUBCj1zS9cdqzU4T9ZtcajjoOwrmeQ8mU2Gku6PISKkO+XaNPjOtyEIZJ+exr/Nng36FF6H4oBnbavmp971JeCZPqzbrxURIRv0Ke9WlRq+jgYhUWHbagV0fSL2oPY7cImCMBtKLhk5dOXeLo2JCNmgJ48j6FhdBB1b0bU6lc/HG5D6laOX71IDhA6RjBz6cW63lkSEbNCjfJar15I9dHCEr6ae0s+iqtn0rZQnUxqa3rq8DdiUR9CbAREhvRnXoL1xa8NpU/gVWt/HS4PaE65yyc4zNBQL4/xKpiSofsItyRV2ZEBEyAa92gZHKLKmT0VTVAhq7wodnJGjFg61NoG/kAQ8c4VB975HRMgG/V9x9AbqWKsgdTYwZ/yswOM0ZUOEI8VQ9gySn8wGw0q3RxAR0o1qbRq6eT+Kyo1aT3PbVSRvnOUyqkRGRZMXki36lMxBo5u5nmzRKPulXeMYEBEyjntVWt5x4jq9+912h8Ogq6meVTEElfyEtaEhKw+Qf29PKpwtvVrVSj02Z0BEyOIdvBAxpcetCacDw31US+/jKiXRCIbvi3xnhbOlk9z1rpLohveJCFm80z/HrtS+s7doVXdzBBjbcOgydfzhT1rWuRpVLMBBMqUIA89nQETI4iOk5XfbHOe2vmpexhRPwnGu3521naKfPKHlXaoTBpgp7BIjzMuAiJB5+yZRllXAovTHXoWok2fhRF2vx0V7ztykN2eE0Mw25cm3VC49mpQ2LMyAiJCFO+/6vUdUAdvzaic6VIMSTj106OIdxyK1XqFF1LBb6tCfAREh/TlXrcVtx69Tq++309aB3pTnZY4HZ57CgfDrTQqkUc1KUavKnMFJijAQPwMiQhYeGT9sO0Vf+h2h/cMbmHLtZcCyfbQNLgSb+taW2ZCFx5nWposIac2whvUPWbmfDpy/o3l2DVcfgWdD3hMD6Mt3ytA7FTjNnBRh4L8MiAhZeFS0mLWNCmRJ6/iSm7X0XrrX4ULAh2sl3pBZe8lYu0SEjOVfUevlsTPWtXZhnBvjVG7mLMeu3KX6iDc05d2y1LQs5y+QIgz8kwERIYuOiFuRUVR2pPFnxhJDH8c62nXqJm3s6yXpgRJDmJtdIyJk0Q7fi1ccDia2CV/sQiY/p8XpgXhtqGvtIvRJ3aIWZVzM1ooBESGtmNW43pV7zlPfX/bR4VG+lth5mr75GEJ9HHVkAymeU1JHazw8LFW9iJCluutvYyevP0or956nwP51LPEEfLj17ZnbiD9XdqthCeG0BLE2MFJEyKKd2BPrLDcjHzsCzFul8CJ1I2SJ7YbXsp715LXMKv2mtZ0iQlozrFH9TadtobJ5X6YRTUtp1II21X4XdNzhYLmqew0qmTujNo1IrZZiQETIUt31l7F8Ur3MCH9HwsH2NQpa6glikCON/Zs4LvVqhB9JJrnKLNV/WhgrIqQFqxrXGbs9P69dJapTPLvGralffTgOtjaaGkwTEX7krfLiSa0+w9aqUUTIWv3lsPbA+dv0+jdbaD1OqBfNkcGCT0DU9+d9tB3nygL6y7kyS3agikaLCKlIpl5Vcdrlzj/upkMjfShtqhR6NatqO2euR1Id+A6Nf8uDmlfMq2rdUpm1GBARslZ/OaydHXyCvg04TruH1reg9X+b7DhXdg7nynrLuTJLd6RC40WEFBJoxO0jVh+k0NM3TRNX2lUOYvPYc/roxqUlAqOrPFr9PhEhC/bgRwgknzL5CzTjvQoWtP6fJn+88E86e+MB/fFJTVPGRLI8wRZ4ABEhC3TSv01shLQ6NYtmpcGNXrOg9f80OQyvY02mbSWr7vRZvgNM8AAiQibohKSaUHr4OurnU4zer1Ygqbea8vq2c3ZQZFSMI02QZOcwZRdpapSIkKb0ql/5nYePqfRwf8PTPqv5ZLFZZI1OZa3mM0ldiWdARCjxXJniyiOX7pLPlCBa27MWvZbLPqfRO2GdK+LKPfLrVYtSp0huCq7FCH0YEBHSh2fVWgk8epU+mLuT9n5en15Om0q1eo2uiP2GGkwJpLZV89NnjUsYbY60ryMDIkI6kq1GU0t3naHPVx10xBGy2/rJkp1naOCK/TS/fSWqXcx6x1HU6F93rENEyGK9/vWGCFqx55xl4gglhV4+mNt98R7acfI6Xjc9KVuG1Em5Xa61KAMiQhbruEErwujE1fu09ONqFrM8cebefvCY2AXh1RzpsfheyXazvcSx4F5XiQhZrL/bz9tJL6VJSV+3LGcxyxNvLu+WtURm2VGIldQGa0RS7M2AiJDF+rchZgmecFQcZANHxedRP25tOC0IOUVrPqll+kD+FhtCpjNXRMh0XfJ8g8qN9HdkrLBaMLOk0vwoOgbZREIoTcpk9Evn6pI4MakEWuh6ESELdRZHIyw+1I++fa88NfSw/4FPjpvUFGmNPsOsr0NNa0WQtNCwMtxUI0SoHZ66E/AU6AGExmHhRfw8B8gHnAE+BB4CaYGpAI9E9mRrDNyPjz0fH5+nfn5+hhOrhQGnr98nrwkBtKJrdSqfL5MWTZiuzq/WHaE5W07Sul6elA8pr6XYjwG9RYi/Of5AdYDjei4EasahtTN+zgyMBYYCV4GZwBfAOmBTQl1gZxHadeoGNUfanK0DvSnPy2kSosIW/8+vZY2RoSMjFuN/+qgqpUqRzBbPJQ/xNwN6i5AvmuZIXH2dJux2CtIj5+9L8DkG2A+UBgYCrYEdQAjAW0IbgNHP6kQ7i9AfYRep2+JQOjLa162ONnBM6jdnbKUWiMA40mLZRURsEmZAbxFiQSkUR0Q24uc2wEWnqTxL6gCcAzjm52zAB2CRagbwbGgZwK9mAfE9np1FaP7WkzRlYwSObDRIuGdtdsUqJHrsuWQvTXintISDtVnf6i1CPBOqB/Rz8hjfTIhnOQcAD2Aw0Aq4APA6UTTAr2x8aIqFKLawkDHIw8PDJywszGbd9NfjTFh3mNYfukz+CIfqjmXMH4dowbbTtKRTVbdZE3OHftZbhHhNiFeNawC5gcVA3DWhLvidj4bzGhAL0A2A14R+AiYDOwGeHa0A1sTXQXaeCfVH7vkLtx/Qoo5V3WFs/ucZOYV0hwV/Er+e8UJ15nT2OcDrlh3qfGi9RYib5detjgDvjvUEeHbjDUwCeLV1LpAHOA+0B3h3jN1mWXx49+wgwGLF9/+n2FmE2sFb+mUs0E6xsbd0Ql9GzrnGoUw4++zMNhXkWEdChFng/40QIU1psbMINUbCwOqFs7h9qIvYcCYSElbTr5JulYsI6Ua18oYqjdlAnWoVoo88eW3fvUtHvJadvHbP8VqWIrls21t5NIgIWaT3OId70c/W0KQWZalZOX5bde9y/Oo9qj8pELtlZejtCpJK2sqjQUTIIr139e4j4pnQoo5VqEaRrBaxWlszey7ZQ/vP3ab1fSR5orZMa1u7iJC2/KpW+6ELd6gR1oT8kX/+VYvmn1eNDGdFEZfvIiRskCOsSZMyvNkqxYoMiAhZpNcCjlyhdvN20R6kfs4kW9P/77Wui3bTMQ6Qj0iMyZK9YJHeFDPjMiAiZJHxsHz3Ofp0eRgdHd1Qvmxx+ix2hsjb9b6lclqkN8VMESELjoHvgo7T7OCTtPMzdjiXEpcB3im7CCfO33tIKmkrjgyZCVmk18auCactEddoDfKNSfknA7GppCV5ojVHhoiQRfqtz897iXfIFn5YxSIW62sm52LjIPm/ItaS3VIh6cuk/q2JCOnPuUst8peMz0pNfresS/fb/abdp2/Q299uk5xlFuxoESGLdNrr3wRTtUJyZON53cWZSM7ciHTkLJPgZxYZ2DBTRMgifVV17EZqV6MAdfYqbBGL9Tfz1LX71GByEPXzeZU6eQpP+veAay2KCLnGm653cWbSV4espbFvekhArwSY55jU8xD8bVO/2pTjJQ66IMXsDIgImb2HYB8vuJYZ4U/zkKO9juRof26PPYiKoXo4U1Yhfyaa2sq+CSItMGwTbaKIUKKpMu5CPqxZd2Igre5ekzxeyWicIRZp2e/ARer8Y6gjMH41hD6RYm4GRITM3T8O63aevEEtZm2jEGTZyO0mWTaUdAu/vr6P3cTLdx7SH8jgmlJCfSihU/N7lYrQaljIecL4M0ZzaxPRgB2Dmq3df5G6LHK/LBuJ6O5nXsKzR18cbv3Utzh1RAwmKeZlQKkIFcWjcbhWzojBmTI4BOsxIx/XjiK0cNsp+hILrvuHM81SEsvAOHiZ/7TzDAUP8KaMaVMm9ja5TmcGlIpQrLkcG/pbgDNjBAKjgGCdn8XRnB1FaPL6o/Tbvgu0GTs+UhLPwO3Ix+Q5YTO1rJSXBiGVtBRzMqBUhDhBIc+EOP3DSmAewLE2ORtGNSMe2Y4iNGTlfjpy6S790pkT10pJCgPfB52gCf5HHALuLllrk8KPGa5VKkJL8RCzgH+nZ+b3Bk5UqHuxowh1+XE3Ya2VZratoDufVm/w4eMYx85iVXibT2xRxuqPY0v7lYrQp2CFc4TFFk7Fw69lhhU7ilDzmSFULGcGGt2M80FKSSoDv+45R72X7qPlXao7/IekmIsBpSLEMyDOGRZbfscPrxv5iHYUIe+vAugNhC/tXf9VI6m1bNu8Zd/yu+0Op89V3WtQ6hTJLfssdjTcVRHqBjK6A5ya+TTAcTU5iSGvCw01kig7ilDp4euov08xalutgJHUWrrtE9iyf/2bLdSiYl4a3qSkpZ/Fbsa7KkKxPPBuGKdoNk2xmwg9io6hYkP86Nv3ylNDj1ym4dmKhixDiNx+SKX9/fsVqX6JHFZ8BFva7KoItQQbSwBeE/p3OuYvjWTKbiLEYUurjdtEP39cjSoXzGwktbZou8/SvbTx8BXy61WLcmVkzxIpRjPgqgjF7n59EM8DLDDyoewmQgfO33a8Rmzs60WFs6U3klpbtH3/UbQjddIrmdLQwg5VJGmACXrVVRGKNZ2/FfcAdketC4QAd4x8LruJ0Gak+mmPVD/7hjWgjGnE61eNsRV65iY1n7mNBjWUIx1q8Km0DqUiFLs7NgaGZAc4A11jpUYpud9uIsTrGINW/JXqR2InKxkZ/7x3yoajNGPzcfr9k5qSTFI9Wl2qSakIbXTOgH7A5/vAZqCOS5aodJPdRGhm4HGav/UUbR/ME00pajEQHfOEmk7fSulSp6ClnaqKwKtFrAv1KBWhIOcr2AN8jgD4vJihOWnsJkKjfz9E209eR04tQ2l1YWiZ/xZ+LXtrRghNgif1W+VfMb/BNrVQqQjxPicfaGInxRRAbWCtkVzZTYR6LdlDt+BkN799ZSNptW3b/Kq7/tBlLPzXljU3g3pZqQjxSml9gMPXxSYC51czw4rdRKjN7B2UM+OL9FVzOfekxaC6eT+KvCcGUBN4pI9oWkqLJqTOBBhQKkLrUf8R4KyzHfYZEj8hFYcdB+aqjbjSA7GTI0UbBpYg5tDgX/fTbwifWyqPhM/VhuVn16pUhPikvKkibdltJlRx9HpHmh+JDqjdV+PJk6f0Ng4Jc6SCFTjkmixZ7KReuzal5r8ZUCpCvDW/BQgFYj2nrxhJsJ1EKAZfjqKfrXFkXW1aNo+RtNq+bXYKbTJtC41BWqVWlflIpBS9GFAqQrwlH7ewEMU9Va/Xc/y/HTuJEOeerzRmAy3qWIVqFMmqO5fu1uCwVQdoFSJYbsIiNafclqIPA0pFSB8rk9CKnUQo/OIdavh1MK3r5emIJyRFWwY41AcHQKv3WnYa/zYHDZWiBwNKRagijJwI8DeE95D59YwPtRpW7CRCwRFXqe2cnbR7SD3Kkj61YZy6U8OxAdBWdK1O5fNJADQ9+l6pCLGz4jsAh3llT+l/BznT4xn+0YadRIi/EP1+CaMIHNmQxVJ9hlJsALSH0U9oJYRIjspoz7tSEdoAE+vFEZ/YYxzaW/6MFuwkQhyk/fvgE7TzM6ZYil4M7IEn9ZvwpJa02/owrlSEvoeZ4UBrgDNtcBDkzvqYHn8rdhIhzpsVHHGN1vSUIxt6jynO4Hr34WP6tWsNvZt2u/aUiBB7S3NaHy/nq9iv+OQg9xzm1bBiJxHq8/NeunYvin7oIEc29B5QIceuUWt4q/+GmNSlX3lZ7+bdqj1XRagYWPoZ2A+cA/IC7PP+LnDYSAbtJEL81zhr+lQ4YFnWSErdsm1eG6o/OYjK5n1ZjsxoPAJcFSEOaM/HMziIWWzhWdEgoInGNj+3ejuJEG/PexbNKtlDDRpQC0JO0Vi8EvOanASU064TXBWhbTApvgyrz/r3uE/QDr90AtixsQfA3tax5UX8MAdgl9UzwIfAwzj/zymmeQ3qmetOdhIhdlTsVKsQfeRZSLsRIDU/k4FbkVFUecxGGtakBL1XJb8wpREDrorQs3bBEtodY8cLf4DDf3AAl4VAzTjPxuLC0dzHApw66Cow0/n/nM/sY+C8O4gQn2cqOmQtXgVK05vlJNaNRuM/wWq7LQ6l8zcf0MpuskCdIFkuXuCqCF1Hezv+1Saf+qsEPO98gS/+n0N/9HXeu9spSI+cv3MGD3Z45LUmdlkdCPDOG+e3/wP4GmjmDiJ0/d4jqjB6Ay38sDLVKprNxe6V25QyEIAY3+0Q43tDH08qkl281pXyGd/9rorQ8+amnAzxWYUFhd8tRjsv4JlTG+Ci83eeJXUAYhe7Z+NnPqXfHuCgaREApxuy/evYkUt3yQdhPNZie/61XC9p0fdSZyIY4EPENcZvwgHi3LI2lwi+XLnEVRFypS2+h2dC7HnXz1lBfDMhFqgDAPscDXYKEEdu5Hv51S0+EWIhY5CHh4dPWFiYq/aZ5r6t2CJ+D1vEu7Aomi2DHNkwsmO+9DtMvyDhwLaB3pQiOU/KpajJgN4ixGtCfgC/YHNmjsVOYYl9pi74gf/sf+EUoBv45MVoXju6BvB6UU5gGMDOkf8pdlmYXrX3PPVGor6IMY0oucS3UXPMJ7kuTiHtjYOtc9tVJO/ikrk1yQQmcIPeIsTm8OtWR4B3x3oC7NzI4T8mAZwScy7AwXN4AZpfw+LujtXG727xOjYbxzU408afQ3gJTYrRDLz9bQhlx4z02zYVjDbFdu0bIUKakmiXmdD4tYeJF0X9EMZDivEMcAjYoYg3tGNwPYk1pHJ3iAipTKha1fX9eR9dvvOQfkRAMynGM8DnyNhv61Pf4tS+RkHjDbKRBSJCJu3MtnN2OBak5ciGeTqoD9boDmPXUg4Uq9snIkLq8qlabT44t+SNCH/8l1eKORgIOY5Drd/LoVa1e0NESG1GVaqv3Eh/6lm3KLWTqb9KjCqvhr3YG00NpkLZ0tGM92SBWjmjf9UgIqQWkyrW8yg6hooN8cNAL0+NPHKpWLNUpZQBdp3ohdey9b294EGdXml1cr+IkDnHwNkbkVTry820vEs1qpCfXaOkmIUB9qCui4yt3C8TkcNeinIGZCaknEPVa9h9+ga9/e02Ch5Qh/JmTqt6/VKhMgaW7uKMrQcooF9t6R9lVMrrmAr8aVLF2v0XqcuiUDo8ypdeTJlckzakUtcZiEIQ/DpfBVCVgplpEhJTSlHGgMyElPGnyd3zt56kKRsjaO/nDTSpXypVzgCvDfVcspdWIcRHGURflOI6AyJCrnOn2Z1f4MDkpvArtK63eEtrRrLCijn861s4ypH8hRfol87VJDWQAj5FhBSQp9Wt7C195e5DxBISb2mtOFaj3lCkBnoLqYG+aVWO3ijD57GluMKAiJArrGl8D3tLZ8/wouy+aMyzGtWzF3Uwwq5swJZ9xrScgEZKUhkQEUoqYzpc32Ay50PPQQPEW1oHtpU1ceN+FNWfFEg1kZBgChapJWNr0vkUEUo6Z5rfURbe0r3EW1pzntVqYGP4ZfpwwZ807i0PalWZczRISQoDIkJJYUuHax8+jqHiQ/3oW3hLNxRvaR0YV6eJcWvDae6Wk451vKqFsqhTqZvUIiJkso7+21u6OrxyORClFCswwJ7UnX/cTTtP3qAVXatT4WxypCOx/SYilFimdLpOvKV1IlqDZiKjoundWdvpjjOHfeZ0qTRoxX5VigiZrE/XwFu6K7ylj4z2pdQpxFvaZN2ToDkciK7Z9K30SqY0joB00ocJUian6BOmSN8r5sFbeiq8pfeIt7S+xKvYWvjFO/QOHBnrl8hBk2XHLEFmZSaUIEX6XiDe0vryrVVrmw5fpg7z/6RprcvR66XFkfF5PIsIaTUKXay3z8976erdR+It7SJ/ZrqN+zI44hptxmn79Kk5d6eU+BgQETLZuGiDhIc5XhJvaZN1i0vmXEMqby/EherkWZh61ivqUh3ucJOIkMl6uR68b31L5qR+PsVMZpmY4woDk9YfdfgPcWyoTLJbFi+FIkKujCwN7yk1bB0NbFic2lTNr2ErUrVeDHCqII6S2aJiXhrc6DW9mrVUOyJCJuou9i8pPdxf0g2bqE/UMOW7oOM00f8oBSrw4yYAABP1SURBVPavQzkzvqhGlbaqQ0TIRN159PJdaoBUP2s+qUUlcr9kIsvEFCUM8FEcT8yGGpbKSSOallJSlS3vFREyUbcGHr1KH8zdSXuG1pf1AxP1ixqmsP/XuDWHKXBAbcqVMY0aVdqmDhEhE3Ul5zsfvvoghY/0lZAQJuoXNUyJnQ35YjY0UmZD/6BUREiNEaZSHZOxk/LbvgsOvxIp9mOAY4ePldnQfzpWRMhEY/3TZWF0BjnHfupU1URWiSlqMcCzIa8Jm6lBiZw0qpmsDcXyKiKk1ghToR4O65otQ2qa1ELSyKhApymrWBByisb8EU4B/WtT7pdlbYg7SUTIREOVw4Q2KJmD+vsUN5FVYoqaDPBsqPaEAKpXIjuNbuahZtWWrUtEyERd5wFHxQFwVGwrjoom6hX1Tflh2yka9fshh9+QzIZkJqT+CHOxRvas9YCj4pwPKlJdBLmXYl8GHkVjbejLAPRzdhrzpsyGZCZkkrEeAUfF+nBU/OOTmlQyd0aTWCVmaMXAQsyGRmI2FIDZUB43XxsSEdJqlCWx3iA4Kr4PR8VQOCpKWNAkkmfBy3k2xGtDPBty97UhESGTDOCfd52loasO0OFR4qhoki7R3Aw+Xc9B7LYNquvWf3hEhDQfaolrYMqGo7Ryz3nH9FyKezBw71E0VRu3kTrVKkQ9kGfOXYuIkEl6fuDyMDp1/T4t6VTNJBaJGXowMG5NOC0PPU9bPq1DL6Z0z8QGIkJ6jLREtMEHV3ktiAOjS3EfBi7ceuCIN8TZWznmkDsWESGT9LrknzdJRxhgxic/7aEjl+6SX69abnlwWUTIgEH37yafPn3qCGY2wLcYta1WwAQWiQl6MhB27hY1mbYVyQ0qU62i2fRs2hRtiQiZoBtuRz6mMiP9aV77SlSnWHYTWCQm6M1Ai1nbHGtCP3SorHfThrcnImR4FxAdOH+bXv9mC23o40lFsmcwgUVigt4M+B+8RJ0W7qZ1vTypWE73GgMiQnqPtnja8ztwiTr/uNsRzCxNKvfcITFBNxhqQsyTp1R3YgBVKZiFvnintKG26N24ESLUDg/ZCXgK9ABC4zw0RwGfA+QDzgAfAg+BnwBOP8EZ5KYDC55FlI+Pz1M/Pz+9eVTU3uzgEzQz8Dj9OaS+onrkZmszwEc5Rv0eThv7elHezGmt/TBJsF5vEcoE2/yB6sArwEKgZhx7O+PnzMBYYChwFZgJsCdXBMAiFQZwRKio+J7TiiI0/LeDtOfsLVrVrUYSuk4utRsDfJSj7sRAqpg/E01pWc5uj/fM59FbhHxhCf+57+u0aLdTkB45f1+CzzHAfoDnpAOB1nGsT4afDwF89PixXUSo44JdjkXJaa3Lu83AkweNn4FVe89TzyV7aXX3muTxinscZNZbhFhQCgGjnV2wEZ9tgIvO33mW1AE4B7Dn1mzAJ053DcbPqYDhzxrEVpwJ+U4JotrYFeOkh1Lcm4EnWBtqNmMrpUuVghZ/VMUt/Ib0FiGeCdUD+jmHWnwzIRaoA87ZDotOK+e17+OzsfP3J/8aqixkDPLw8PAJC+M3NmsU9hHiOEKSddUa/aWHldtPXKeW322nr1uWpaZl8+jRpKFt6C1CvCbEq8a8+JEbWAzEXRPqgt85698XAAvQDYDXhN4AeBGbP2Nf3eIlzmozoVuRUVR25HqaDx8hng1JEQaYAT5L6Idte//enpQ9g72ztuotQswvv251BHh3rCcQDXgDkwCO/D0XYPk/D7QHeHfsFnAcuOscoi3xeSm+4Wo1EfrbR8gLPkLp5RsoDDgY4EibPghyVzJPRvqubQVbv5YZIUKaDjOriZDfgYvwEQp1xBFy11PUmg4IC1ceHHGV2s7Z6Tjc2qoye63Ys4gIGdyvf/kInYCPEC+VSREG/snAuLXhNG/LKVr6cVUql49XM+xXRIQM7tNhiKYYhmMbv3YVHyGDu8KUzUfHPKF283bRsSv3aHWPmo68dHYrIkIG9+iH83dR2tQp6JtW7uOcZjDllmv+5v0oemPaFsqCeFOLP6pK6TBe7FREhAzuTV589Eaw8099xUfI4K4wdfPHr96jd74NoVJYqJ7zQSVKlYL9du1RRIQM7Ef2ESqFhIeDG79G71Xho3FShIFnM7DnzE1q/f0O8kGWXk4VnizZC7agS0TIwG68gWl2+VHraQFiyHi96n7BrAyk3rJNbz5yhTou+JM61ChAnzUuYdnniGu4iJCB3bj79E16G1PsIGTYyJfFfU5NG0i5LZpevvsc9f1lHw3BDLojMnVYvYgIGdiDyzCYBq0Ig49QQ0puk6m1gXS6VdPTNkXQ5A0RtKxzNctv3YsIGTh0J6w7TOsOXkZERS8DrZCmrcgAH3R9b/YOunznIQLke1p6oVpEyMAR2HXRboqKfkqzP6hooBXStFUZOHM9kupNDqR+DV6lTp6FrfoYfCQlwRX2BC8w09Nb6dhGw6+DkV0hKw1u9JqZKBRbLMQAz6YXhJymTf28LHvQVUTIoAHH0+mS2J7//I0Stj4XZBC9btPsfaSS9kZsak+kCprQvIwln1tEyKBuu3j7AfKQb6Kf4AFbrXAWg6yQZu3AwK97zlHvpfvodxzrYGdGqxURIYN6LOjoVXofqZ93fVbPlueBDKLVLZvlWXWT6VsoU9pUSKBYxXIciAgZ1GV8en5GwHHajdPziViXM8hKadYqDGyJuEZt5uywZBZXESGDRtmAZfvoNHY3ln5czSALpFm7McAz62t3Hzley6x0pENEyKCR2HT6ViqDbAojm3L2IinCgHIGDl24Q42/Cca5sjL0ZjnOqGWNIiJkQD/xO3yp4Ti4iq35NlXl4KoBXWDbJvss3Us7Tt5wJFC0SqROESEDhuPZG5FU68vN9DNexSoX5FyPUoQBdRg4dzPSkUCxe50i1KMu5ww1fxERMqCP/JFFodPC3bTv8waUMW1KAyyQJu3MAJ8r+2bTMUemjvxZ0pn+UUWEDOiiif5H6Ld9FygQp+elCANqM8DppNkbP2+mtI5UUmbffRURUnsEJKK+dvN2OkJ0Tpe0z4lgSy5xhYGQ49ccAdA4bPAbZTjFn3mLiJDOfcPRFCuO3oADh4XoYy/rHjrUmTZpzgUG2A1k/aHLeC3zMrVDrIiQC52r5Jbztx5QjfGbaHHHKlS9SFYlVcm9wsBzGbiDBIq+iGHORzlmmTiBooiQzgN57f6L1GVRKO0bhkXpNLIorTP9btdcbALFr3C49Z0K5vQdEhHSeVgO/+0gbT9x3RGISoowoAcDnNvuF0Tx/K17DaQaz6BHk0lqQ0QoSXQpv7gRdi0qFsgkntLKqZQaEskA75Y1n7mNHkTF0CoIUdpU5spbJiKUyI5U47LbDx5T2ZH+jh2L10ube8dCjeeVOszDADvINp4aTF7FstPX75orXZCIkI7jZGP4ZfoQ6Vp2flbXslHwdKRLmlKZgQCkC+LxZ7Z0QSJCKnf086rjd/OQ49dpvQS215F1aSouA7HpggY1LG4aFxERIZ3GKPsHeU7YTI1K5aJBElNaJ9almfgY+C7oOI1dc5j61n+VunsXMdyjWkRIp3F67MpdqjcpiJZ0qkpVC0k4V51ol2aewcD8rSdp+OpDeDUr6EiiaGT8IREhnYbpzMDjNH3zMQodWp9SJk+mU6vSjDDwbAY4NnW/X8KoWdk8NP5tD8PGpYiQTqOUDxSWyv2SZTMi6ESTNKMzA7xZ0m1xKFUqkJlmvFeeMryovwOtiJAOnX7k0l3ymRIkRzV04FqaSDoDe8/eoo4LdlHW9KlpbrtKlPvlNEmvRMEdIkIKyEvsrePWhNPKvecpZGBdyTmfWNLkOl0ZYD8iju5w92G0Q4j0TB0kIqRxV7OXatVxG+mD6gWoD3YjpAgDZmXgduRj+vjHPyns3G2a1roceRfPoYupIkIa07x4xxka9tsB2jrQWxwUNeZaqlfOQFT0Exq4PMwxcx/RpCS1rVZAeaUJ1CAipCHF3KF1JwVQ5QJZaCIyIEgRBqzAAPu0fb0xgqZsiHDEqu7nU0xTs0WENKR34bZTNAK+GJv61qZ8WdJq2JJULQyoz8CSnWdo4Ir91B8i1A1ipFUREdKI2atIQldvUiDyP+Wh4ZjWShEGrMjA3C0naeTvhxyvZryuqUUREdKAVZ7OdvkxlHjrc30fT0N8LzR4LKnSTRmYilezyRuOahb9QURIg4E1C97R4/0O04L2lcnz1WwatCBVCgP6McB/VD9fdZCW7jpL8ztUouqF1Q1LLCKkcl/ybtjgX/fTQJxS7iyB7FVmV6ozioEYZA3uDs/q4IhrtPTjqlQyd0bVTBERUolK3gnjfGKzgk5QD5xMZp8gs+d7UunRpRo3YeDh4xj6YO5OOn71Pi1CooZiOdUJFWuECLVDn3UCngI9gNA4ffgifp4D5APOAB8CD4ECwFwgNfAHMPZZ/e7j4/PUz89Pt2HBeeUDjl6h8WsP0+nrkQjbWpLercTmSxEG7McAZ/DoMG8XRVy5R1MRIdRLheUGvUUoE7rFH6gOcOj/hUDNOF3VGT9zcnYWmaHAVWAmsASYCoQAG4DuwOH4ulgPEeKp6eFLd2hT+BVHAPEzcHmvUywbff5GSSqY1fxpd+331ZAn0pOByKhoGrAsjH4Pu0jvVszriEmUN7PrLih6i5AvyKoP9HWSttspSI+cv7PYjAH2A6WBgUBr4ABQynnNJ/jk2dF3SkTo2r1HdPN+FMVg0S065ik9wSeLy1+fRNFPntA9nKO5A3BsaMal2w/o1LVICocA8RkbTtnTrGxuao6O0POsjZ4DTtoSBuJjgBer2aua3wDYHcUDuc04Tlbh7OlxMiA1FciSjgok8g+y3iLEglIIGO18sI34bANcdP7Os6QOwDkgLzAb8AEOASWc17TFJ8+ixikRIT5Uyus3CZWUyV9wiM1LCHGQ/aXUjplOUaRNqVwwM72W6yU5kJoQgfL/tmaA10I5y+tWpJ3egVRWZ288oCj8FX8L/nGTEFA/MUVvEeKZUD2gn9O4+GZCLFA88/EABgOtnL/HzoR4HSkKmBXnAVnIGFz4yfcm5uEVXJML98YKp4JqNL3V7Daa3T7uHLPbaHb7Esshf5faP+/b8IKKXxVeE+JV4xoA57xZDMRdE+qC318CvnAK0A188prQUmASsANYB/QCwlW0K6lV8TOwoJq5mN1Gs9vHfWt2G81un2ocqilCbBS/bnUEeHesJxANeDtFhqMp8S5YHuA8wOrI6z/8Cse7ZqmAtUDs65xRIuA2na8hwcKhcnLdhkO1RUg59cbXwK9+PxpvxnMtMLuNZrePyTW7jWa3TzUORYRMrjZinjBgdwZEhOzew/J8woDJGRARImJPLHaSZDcBdqhkf6baAC+sH3X23yB8bjOoL9mnagYADyeKAdjT/CTADp68W3gbeB/ghX4jSnz2sVu5WfhjTtjLdD3wGOC1SfZR22wiDuOzj/vbTBzGji2OY3wQqAXwZpLicSgiRJQcRPJxeBYg9tSOFaGWzn8z4osdt00OBvwAuAM0ApoDvKP4FsBHZNi3ioMa8RfLiBKffQtgiFn4Y054nHM/80YJb4Twl3u4iTiMzz7uTzNxGDu2+CQEuw8MAV5Wg0MRob+/tjwo44rQD/j9NBAG9AcijfiG/6vNus6BeR2fW4HVALs98E4KH5cxusTatwiGmJE/5odnj+wuctOkHMba95MJOawMm/iPIP/RZveaZmpwKCIUvwjxEWKeurMLwecA/xUdZvA3PHbKzq9jvZ0DdIvTprhe50aZGdc+9oo3G3/sGsIzSH6dYFeSJibj8N/2BZqQw99gE7vWTHSKEPPIf2wUjUMRofhFKO4Xmafv3wCNjfp2o11OnfkrwEddVgLjnR3/Oz5ZMPlITDUT2Wc2/uLaw+tVAcDPJuMw1sZY+3jcxRYzjEEe/xWAkcB8IHYmxAKkaByKCMUvQhzViRd8ubDzJS9a9zHoS859xGsYvJAae7C3IX7mv+T8WsFn9mIPBBthYnz2mYk/5oTDxMQepGbP/gCA11zMwmF89nmaaAwyh58B/LrNx6r42BWH4+ENE14GUDQORYT++try7IK/yPedX3ZeG+JpJ68D8a4TvwIZtfvE7928xrLLqTB8do4FkWdnbDMvWPPuGK8TGVHis493Fc3CH3PC6yy8i8O7izyrHAHwAWuzcBiffUVNxmHcsTUfv/BMaKcaHIoIGfG1lTaFAWHg/wyICMlgEAaEAUMZEBEylH5pXBgQBkSEZAwIA8KAoQyICBlKvzQuDAgDIkIyBoQBYcBQBkSEDKVfGhcGhAERIRkDejHA+YV/AZIBHHmT44uzQx5HKDgO8On2L4EAgGONtwBSAOwlzpE3pdiUAREhm3asCR+LnQR5vLHH7QdAEYAPQ1YE+IweJ8rklE+XAT6Wwk6QLFhBAB8ZuGXCZxKTVGBAREgFEqWKRDGQHVexmz9/pgf2AQWAOs675+OTwSe0ORkCHwvgwjMoDmnBWVqk2JABESEbdqpJH4mPmvDM5iugHcDnkHgWxIcieXbEKaI4OcI1gCMX8OsYF55B8Yl8KTZlQETIph1rwsfiQ498Bo5nOByniUN/cHYVPkh6CuDZEYdL4XTgXQGe/fBZLw7oxgdNOSCZFBsyICJkw0610CPFznL4k0OFcuTISxayX0xVgQERIRVIlCpcZuAj3PkewNEhOVwJv6pJcTMGRITcrMPlcYUBszEgImS2HhF7hAE3Y0BEyM06XB5XGDAbAyJCZusRsUcYcDMGRITcrMPlcYUBszEgImS2HhF7hAE3Y0BEyM06XB5XGDAbA/8D4utpIcsiw4cAAAAASUVORK5CYII=\" width=\"322.71666666666664\">"
      ],
      "text/plain": [
       "<IPython.core.display.HTML object>"
      ]
     },
     "metadata": {},
     "output_type": "display_data"
    },
    {
     "data": {
      "text/plain": [
       "<seaborn.axisgrid.FacetGrid at 0x2b778fd79d0>"
      ]
     },
     "execution_count": 83,
     "metadata": {},
     "output_type": "execute_result"
    }
   ],
   "source": [
    "sns.displot(data.age,kind='kde')"
   ]
  },
  {
   "cell_type": "code",
   "execution_count": 84,
   "id": "4b9071b4",
   "metadata": {
    "ExecuteTime": {
     "end_time": "2022-09-16T20:46:07.968952Z",
     "start_time": "2022-09-16T20:46:07.602491Z"
    }
   },
   "outputs": [
    {
     "data": {
      "application/javascript": [
       "/* Put everything inside the global mpl namespace */\n",
       "/* global mpl */\n",
       "window.mpl = {};\n",
       "\n",
       "mpl.get_websocket_type = function () {\n",
       "    if (typeof WebSocket !== 'undefined') {\n",
       "        return WebSocket;\n",
       "    } else if (typeof MozWebSocket !== 'undefined') {\n",
       "        return MozWebSocket;\n",
       "    } else {\n",
       "        alert(\n",
       "            'Your browser does not have WebSocket support. ' +\n",
       "                'Please try Chrome, Safari or Firefox ≥ 6. ' +\n",
       "                'Firefox 4 and 5 are also supported but you ' +\n",
       "                'have to enable WebSockets in about:config.'\n",
       "        );\n",
       "    }\n",
       "};\n",
       "\n",
       "mpl.figure = function (figure_id, websocket, ondownload, parent_element) {\n",
       "    this.id = figure_id;\n",
       "\n",
       "    this.ws = websocket;\n",
       "\n",
       "    this.supports_binary = this.ws.binaryType !== undefined;\n",
       "\n",
       "    if (!this.supports_binary) {\n",
       "        var warnings = document.getElementById('mpl-warnings');\n",
       "        if (warnings) {\n",
       "            warnings.style.display = 'block';\n",
       "            warnings.textContent =\n",
       "                'This browser does not support binary websocket messages. ' +\n",
       "                'Performance may be slow.';\n",
       "        }\n",
       "    }\n",
       "\n",
       "    this.imageObj = new Image();\n",
       "\n",
       "    this.context = undefined;\n",
       "    this.message = undefined;\n",
       "    this.canvas = undefined;\n",
       "    this.rubberband_canvas = undefined;\n",
       "    this.rubberband_context = undefined;\n",
       "    this.format_dropdown = undefined;\n",
       "\n",
       "    this.image_mode = 'full';\n",
       "\n",
       "    this.root = document.createElement('div');\n",
       "    this.root.setAttribute('style', 'display: inline-block');\n",
       "    this._root_extra_style(this.root);\n",
       "\n",
       "    parent_element.appendChild(this.root);\n",
       "\n",
       "    this._init_header(this);\n",
       "    this._init_canvas(this);\n",
       "    this._init_toolbar(this);\n",
       "\n",
       "    var fig = this;\n",
       "\n",
       "    this.waiting = false;\n",
       "\n",
       "    this.ws.onopen = function () {\n",
       "        fig.send_message('supports_binary', { value: fig.supports_binary });\n",
       "        fig.send_message('send_image_mode', {});\n",
       "        if (fig.ratio !== 1) {\n",
       "            fig.send_message('set_dpi_ratio', { dpi_ratio: fig.ratio });\n",
       "        }\n",
       "        fig.send_message('refresh', {});\n",
       "    };\n",
       "\n",
       "    this.imageObj.onload = function () {\n",
       "        if (fig.image_mode === 'full') {\n",
       "            // Full images could contain transparency (where diff images\n",
       "            // almost always do), so we need to clear the canvas so that\n",
       "            // there is no ghosting.\n",
       "            fig.context.clearRect(0, 0, fig.canvas.width, fig.canvas.height);\n",
       "        }\n",
       "        fig.context.drawImage(fig.imageObj, 0, 0);\n",
       "    };\n",
       "\n",
       "    this.imageObj.onunload = function () {\n",
       "        fig.ws.close();\n",
       "    };\n",
       "\n",
       "    this.ws.onmessage = this._make_on_message_function(this);\n",
       "\n",
       "    this.ondownload = ondownload;\n",
       "};\n",
       "\n",
       "mpl.figure.prototype._init_header = function () {\n",
       "    var titlebar = document.createElement('div');\n",
       "    titlebar.classList =\n",
       "        'ui-dialog-titlebar ui-widget-header ui-corner-all ui-helper-clearfix';\n",
       "    var titletext = document.createElement('div');\n",
       "    titletext.classList = 'ui-dialog-title';\n",
       "    titletext.setAttribute(\n",
       "        'style',\n",
       "        'width: 100%; text-align: center; padding: 3px;'\n",
       "    );\n",
       "    titlebar.appendChild(titletext);\n",
       "    this.root.appendChild(titlebar);\n",
       "    this.header = titletext;\n",
       "};\n",
       "\n",
       "mpl.figure.prototype._canvas_extra_style = function (_canvas_div) {};\n",
       "\n",
       "mpl.figure.prototype._root_extra_style = function (_canvas_div) {};\n",
       "\n",
       "mpl.figure.prototype._init_canvas = function () {\n",
       "    var fig = this;\n",
       "\n",
       "    var canvas_div = (this.canvas_div = document.createElement('div'));\n",
       "    canvas_div.setAttribute(\n",
       "        'style',\n",
       "        'border: 1px solid #ddd;' +\n",
       "            'box-sizing: content-box;' +\n",
       "            'clear: both;' +\n",
       "            'min-height: 1px;' +\n",
       "            'min-width: 1px;' +\n",
       "            'outline: 0;' +\n",
       "            'overflow: hidden;' +\n",
       "            'position: relative;' +\n",
       "            'resize: both;'\n",
       "    );\n",
       "\n",
       "    function on_keyboard_event_closure(name) {\n",
       "        return function (event) {\n",
       "            return fig.key_event(event, name);\n",
       "        };\n",
       "    }\n",
       "\n",
       "    canvas_div.addEventListener(\n",
       "        'keydown',\n",
       "        on_keyboard_event_closure('key_press')\n",
       "    );\n",
       "    canvas_div.addEventListener(\n",
       "        'keyup',\n",
       "        on_keyboard_event_closure('key_release')\n",
       "    );\n",
       "\n",
       "    this._canvas_extra_style(canvas_div);\n",
       "    this.root.appendChild(canvas_div);\n",
       "\n",
       "    var canvas = (this.canvas = document.createElement('canvas'));\n",
       "    canvas.classList.add('mpl-canvas');\n",
       "    canvas.setAttribute('style', 'box-sizing: content-box;');\n",
       "\n",
       "    this.context = canvas.getContext('2d');\n",
       "\n",
       "    var backingStore =\n",
       "        this.context.backingStorePixelRatio ||\n",
       "        this.context.webkitBackingStorePixelRatio ||\n",
       "        this.context.mozBackingStorePixelRatio ||\n",
       "        this.context.msBackingStorePixelRatio ||\n",
       "        this.context.oBackingStorePixelRatio ||\n",
       "        this.context.backingStorePixelRatio ||\n",
       "        1;\n",
       "\n",
       "    this.ratio = (window.devicePixelRatio || 1) / backingStore;\n",
       "\n",
       "    var rubberband_canvas = (this.rubberband_canvas = document.createElement(\n",
       "        'canvas'\n",
       "    ));\n",
       "    rubberband_canvas.setAttribute(\n",
       "        'style',\n",
       "        'box-sizing: content-box; position: absolute; left: 0; top: 0; z-index: 1;'\n",
       "    );\n",
       "\n",
       "    // Apply a ponyfill if ResizeObserver is not implemented by browser.\n",
       "    if (this.ResizeObserver === undefined) {\n",
       "        if (window.ResizeObserver !== undefined) {\n",
       "            this.ResizeObserver = window.ResizeObserver;\n",
       "        } else {\n",
       "            var obs = _JSXTOOLS_RESIZE_OBSERVER({});\n",
       "            this.ResizeObserver = obs.ResizeObserver;\n",
       "        }\n",
       "    }\n",
       "\n",
       "    this.resizeObserverInstance = new this.ResizeObserver(function (entries) {\n",
       "        var nentries = entries.length;\n",
       "        for (var i = 0; i < nentries; i++) {\n",
       "            var entry = entries[i];\n",
       "            var width, height;\n",
       "            if (entry.contentBoxSize) {\n",
       "                if (entry.contentBoxSize instanceof Array) {\n",
       "                    // Chrome 84 implements new version of spec.\n",
       "                    width = entry.contentBoxSize[0].inlineSize;\n",
       "                    height = entry.contentBoxSize[0].blockSize;\n",
       "                } else {\n",
       "                    // Firefox implements old version of spec.\n",
       "                    width = entry.contentBoxSize.inlineSize;\n",
       "                    height = entry.contentBoxSize.blockSize;\n",
       "                }\n",
       "            } else {\n",
       "                // Chrome <84 implements even older version of spec.\n",
       "                width = entry.contentRect.width;\n",
       "                height = entry.contentRect.height;\n",
       "            }\n",
       "\n",
       "            // Keep the size of the canvas and rubber band canvas in sync with\n",
       "            // the canvas container.\n",
       "            if (entry.devicePixelContentBoxSize) {\n",
       "                // Chrome 84 implements new version of spec.\n",
       "                canvas.setAttribute(\n",
       "                    'width',\n",
       "                    entry.devicePixelContentBoxSize[0].inlineSize\n",
       "                );\n",
       "                canvas.setAttribute(\n",
       "                    'height',\n",
       "                    entry.devicePixelContentBoxSize[0].blockSize\n",
       "                );\n",
       "            } else {\n",
       "                canvas.setAttribute('width', width * fig.ratio);\n",
       "                canvas.setAttribute('height', height * fig.ratio);\n",
       "            }\n",
       "            canvas.setAttribute(\n",
       "                'style',\n",
       "                'width: ' + width + 'px; height: ' + height + 'px;'\n",
       "            );\n",
       "\n",
       "            rubberband_canvas.setAttribute('width', width);\n",
       "            rubberband_canvas.setAttribute('height', height);\n",
       "\n",
       "            // And update the size in Python. We ignore the initial 0/0 size\n",
       "            // that occurs as the element is placed into the DOM, which should\n",
       "            // otherwise not happen due to the minimum size styling.\n",
       "            if (fig.ws.readyState == 1 && width != 0 && height != 0) {\n",
       "                fig.request_resize(width, height);\n",
       "            }\n",
       "        }\n",
       "    });\n",
       "    this.resizeObserverInstance.observe(canvas_div);\n",
       "\n",
       "    function on_mouse_event_closure(name) {\n",
       "        return function (event) {\n",
       "            return fig.mouse_event(event, name);\n",
       "        };\n",
       "    }\n",
       "\n",
       "    rubberband_canvas.addEventListener(\n",
       "        'mousedown',\n",
       "        on_mouse_event_closure('button_press')\n",
       "    );\n",
       "    rubberband_canvas.addEventListener(\n",
       "        'mouseup',\n",
       "        on_mouse_event_closure('button_release')\n",
       "    );\n",
       "    rubberband_canvas.addEventListener(\n",
       "        'dblclick',\n",
       "        on_mouse_event_closure('dblclick')\n",
       "    );\n",
       "    // Throttle sequential mouse events to 1 every 20ms.\n",
       "    rubberband_canvas.addEventListener(\n",
       "        'mousemove',\n",
       "        on_mouse_event_closure('motion_notify')\n",
       "    );\n",
       "\n",
       "    rubberband_canvas.addEventListener(\n",
       "        'mouseenter',\n",
       "        on_mouse_event_closure('figure_enter')\n",
       "    );\n",
       "    rubberband_canvas.addEventListener(\n",
       "        'mouseleave',\n",
       "        on_mouse_event_closure('figure_leave')\n",
       "    );\n",
       "\n",
       "    canvas_div.addEventListener('wheel', function (event) {\n",
       "        if (event.deltaY < 0) {\n",
       "            event.step = 1;\n",
       "        } else {\n",
       "            event.step = -1;\n",
       "        }\n",
       "        on_mouse_event_closure('scroll')(event);\n",
       "    });\n",
       "\n",
       "    canvas_div.appendChild(canvas);\n",
       "    canvas_div.appendChild(rubberband_canvas);\n",
       "\n",
       "    this.rubberband_context = rubberband_canvas.getContext('2d');\n",
       "    this.rubberband_context.strokeStyle = '#000000';\n",
       "\n",
       "    this._resize_canvas = function (width, height, forward) {\n",
       "        if (forward) {\n",
       "            canvas_div.style.width = width + 'px';\n",
       "            canvas_div.style.height = height + 'px';\n",
       "        }\n",
       "    };\n",
       "\n",
       "    // Disable right mouse context menu.\n",
       "    this.rubberband_canvas.addEventListener('contextmenu', function (_e) {\n",
       "        event.preventDefault();\n",
       "        return false;\n",
       "    });\n",
       "\n",
       "    function set_focus() {\n",
       "        canvas.focus();\n",
       "        canvas_div.focus();\n",
       "    }\n",
       "\n",
       "    window.setTimeout(set_focus, 100);\n",
       "};\n",
       "\n",
       "mpl.figure.prototype._init_toolbar = function () {\n",
       "    var fig = this;\n",
       "\n",
       "    var toolbar = document.createElement('div');\n",
       "    toolbar.classList = 'mpl-toolbar';\n",
       "    this.root.appendChild(toolbar);\n",
       "\n",
       "    function on_click_closure(name) {\n",
       "        return function (_event) {\n",
       "            return fig.toolbar_button_onclick(name);\n",
       "        };\n",
       "    }\n",
       "\n",
       "    function on_mouseover_closure(tooltip) {\n",
       "        return function (event) {\n",
       "            if (!event.currentTarget.disabled) {\n",
       "                return fig.toolbar_button_onmouseover(tooltip);\n",
       "            }\n",
       "        };\n",
       "    }\n",
       "\n",
       "    fig.buttons = {};\n",
       "    var buttonGroup = document.createElement('div');\n",
       "    buttonGroup.classList = 'mpl-button-group';\n",
       "    for (var toolbar_ind in mpl.toolbar_items) {\n",
       "        var name = mpl.toolbar_items[toolbar_ind][0];\n",
       "        var tooltip = mpl.toolbar_items[toolbar_ind][1];\n",
       "        var image = mpl.toolbar_items[toolbar_ind][2];\n",
       "        var method_name = mpl.toolbar_items[toolbar_ind][3];\n",
       "\n",
       "        if (!name) {\n",
       "            /* Instead of a spacer, we start a new button group. */\n",
       "            if (buttonGroup.hasChildNodes()) {\n",
       "                toolbar.appendChild(buttonGroup);\n",
       "            }\n",
       "            buttonGroup = document.createElement('div');\n",
       "            buttonGroup.classList = 'mpl-button-group';\n",
       "            continue;\n",
       "        }\n",
       "\n",
       "        var button = (fig.buttons[name] = document.createElement('button'));\n",
       "        button.classList = 'mpl-widget';\n",
       "        button.setAttribute('role', 'button');\n",
       "        button.setAttribute('aria-disabled', 'false');\n",
       "        button.addEventListener('click', on_click_closure(method_name));\n",
       "        button.addEventListener('mouseover', on_mouseover_closure(tooltip));\n",
       "\n",
       "        var icon_img = document.createElement('img');\n",
       "        icon_img.src = '_images/' + image + '.png';\n",
       "        icon_img.srcset = '_images/' + image + '_large.png 2x';\n",
       "        icon_img.alt = tooltip;\n",
       "        button.appendChild(icon_img);\n",
       "\n",
       "        buttonGroup.appendChild(button);\n",
       "    }\n",
       "\n",
       "    if (buttonGroup.hasChildNodes()) {\n",
       "        toolbar.appendChild(buttonGroup);\n",
       "    }\n",
       "\n",
       "    var fmt_picker = document.createElement('select');\n",
       "    fmt_picker.classList = 'mpl-widget';\n",
       "    toolbar.appendChild(fmt_picker);\n",
       "    this.format_dropdown = fmt_picker;\n",
       "\n",
       "    for (var ind in mpl.extensions) {\n",
       "        var fmt = mpl.extensions[ind];\n",
       "        var option = document.createElement('option');\n",
       "        option.selected = fmt === mpl.default_extension;\n",
       "        option.innerHTML = fmt;\n",
       "        fmt_picker.appendChild(option);\n",
       "    }\n",
       "\n",
       "    var status_bar = document.createElement('span');\n",
       "    status_bar.classList = 'mpl-message';\n",
       "    toolbar.appendChild(status_bar);\n",
       "    this.message = status_bar;\n",
       "};\n",
       "\n",
       "mpl.figure.prototype.request_resize = function (x_pixels, y_pixels) {\n",
       "    // Request matplotlib to resize the figure. Matplotlib will then trigger a resize in the client,\n",
       "    // which will in turn request a refresh of the image.\n",
       "    this.send_message('resize', { width: x_pixels, height: y_pixels });\n",
       "};\n",
       "\n",
       "mpl.figure.prototype.send_message = function (type, properties) {\n",
       "    properties['type'] = type;\n",
       "    properties['figure_id'] = this.id;\n",
       "    this.ws.send(JSON.stringify(properties));\n",
       "};\n",
       "\n",
       "mpl.figure.prototype.send_draw_message = function () {\n",
       "    if (!this.waiting) {\n",
       "        this.waiting = true;\n",
       "        this.ws.send(JSON.stringify({ type: 'draw', figure_id: this.id }));\n",
       "    }\n",
       "};\n",
       "\n",
       "mpl.figure.prototype.handle_save = function (fig, _msg) {\n",
       "    var format_dropdown = fig.format_dropdown;\n",
       "    var format = format_dropdown.options[format_dropdown.selectedIndex].value;\n",
       "    fig.ondownload(fig, format);\n",
       "};\n",
       "\n",
       "mpl.figure.prototype.handle_resize = function (fig, msg) {\n",
       "    var size = msg['size'];\n",
       "    if (size[0] !== fig.canvas.width || size[1] !== fig.canvas.height) {\n",
       "        fig._resize_canvas(size[0], size[1], msg['forward']);\n",
       "        fig.send_message('refresh', {});\n",
       "    }\n",
       "};\n",
       "\n",
       "mpl.figure.prototype.handle_rubberband = function (fig, msg) {\n",
       "    var x0 = msg['x0'] / fig.ratio;\n",
       "    var y0 = (fig.canvas.height - msg['y0']) / fig.ratio;\n",
       "    var x1 = msg['x1'] / fig.ratio;\n",
       "    var y1 = (fig.canvas.height - msg['y1']) / fig.ratio;\n",
       "    x0 = Math.floor(x0) + 0.5;\n",
       "    y0 = Math.floor(y0) + 0.5;\n",
       "    x1 = Math.floor(x1) + 0.5;\n",
       "    y1 = Math.floor(y1) + 0.5;\n",
       "    var min_x = Math.min(x0, x1);\n",
       "    var min_y = Math.min(y0, y1);\n",
       "    var width = Math.abs(x1 - x0);\n",
       "    var height = Math.abs(y1 - y0);\n",
       "\n",
       "    fig.rubberband_context.clearRect(\n",
       "        0,\n",
       "        0,\n",
       "        fig.canvas.width / fig.ratio,\n",
       "        fig.canvas.height / fig.ratio\n",
       "    );\n",
       "\n",
       "    fig.rubberband_context.strokeRect(min_x, min_y, width, height);\n",
       "};\n",
       "\n",
       "mpl.figure.prototype.handle_figure_label = function (fig, msg) {\n",
       "    // Updates the figure title.\n",
       "    fig.header.textContent = msg['label'];\n",
       "};\n",
       "\n",
       "mpl.figure.prototype.handle_cursor = function (fig, msg) {\n",
       "    var cursor = msg['cursor'];\n",
       "    switch (cursor) {\n",
       "        case 0:\n",
       "            cursor = 'pointer';\n",
       "            break;\n",
       "        case 1:\n",
       "            cursor = 'default';\n",
       "            break;\n",
       "        case 2:\n",
       "            cursor = 'crosshair';\n",
       "            break;\n",
       "        case 3:\n",
       "            cursor = 'move';\n",
       "            break;\n",
       "    }\n",
       "    fig.rubberband_canvas.style.cursor = cursor;\n",
       "};\n",
       "\n",
       "mpl.figure.prototype.handle_message = function (fig, msg) {\n",
       "    fig.message.textContent = msg['message'];\n",
       "};\n",
       "\n",
       "mpl.figure.prototype.handle_draw = function (fig, _msg) {\n",
       "    // Request the server to send over a new figure.\n",
       "    fig.send_draw_message();\n",
       "};\n",
       "\n",
       "mpl.figure.prototype.handle_image_mode = function (fig, msg) {\n",
       "    fig.image_mode = msg['mode'];\n",
       "};\n",
       "\n",
       "mpl.figure.prototype.handle_history_buttons = function (fig, msg) {\n",
       "    for (var key in msg) {\n",
       "        if (!(key in fig.buttons)) {\n",
       "            continue;\n",
       "        }\n",
       "        fig.buttons[key].disabled = !msg[key];\n",
       "        fig.buttons[key].setAttribute('aria-disabled', !msg[key]);\n",
       "    }\n",
       "};\n",
       "\n",
       "mpl.figure.prototype.handle_navigate_mode = function (fig, msg) {\n",
       "    if (msg['mode'] === 'PAN') {\n",
       "        fig.buttons['Pan'].classList.add('active');\n",
       "        fig.buttons['Zoom'].classList.remove('active');\n",
       "    } else if (msg['mode'] === 'ZOOM') {\n",
       "        fig.buttons['Pan'].classList.remove('active');\n",
       "        fig.buttons['Zoom'].classList.add('active');\n",
       "    } else {\n",
       "        fig.buttons['Pan'].classList.remove('active');\n",
       "        fig.buttons['Zoom'].classList.remove('active');\n",
       "    }\n",
       "};\n",
       "\n",
       "mpl.figure.prototype.updated_canvas_event = function () {\n",
       "    // Called whenever the canvas gets updated.\n",
       "    this.send_message('ack', {});\n",
       "};\n",
       "\n",
       "// A function to construct a web socket function for onmessage handling.\n",
       "// Called in the figure constructor.\n",
       "mpl.figure.prototype._make_on_message_function = function (fig) {\n",
       "    return function socket_on_message(evt) {\n",
       "        if (evt.data instanceof Blob) {\n",
       "            var img = evt.data;\n",
       "            if (img.type !== 'image/png') {\n",
       "                /* FIXME: We get \"Resource interpreted as Image but\n",
       "                 * transferred with MIME type text/plain:\" errors on\n",
       "                 * Chrome.  But how to set the MIME type?  It doesn't seem\n",
       "                 * to be part of the websocket stream */\n",
       "                img.type = 'image/png';\n",
       "            }\n",
       "\n",
       "            /* Free the memory for the previous frames */\n",
       "            if (fig.imageObj.src) {\n",
       "                (window.URL || window.webkitURL).revokeObjectURL(\n",
       "                    fig.imageObj.src\n",
       "                );\n",
       "            }\n",
       "\n",
       "            fig.imageObj.src = (window.URL || window.webkitURL).createObjectURL(\n",
       "                img\n",
       "            );\n",
       "            fig.updated_canvas_event();\n",
       "            fig.waiting = false;\n",
       "            return;\n",
       "        } else if (\n",
       "            typeof evt.data === 'string' &&\n",
       "            evt.data.slice(0, 21) === 'data:image/png;base64'\n",
       "        ) {\n",
       "            fig.imageObj.src = evt.data;\n",
       "            fig.updated_canvas_event();\n",
       "            fig.waiting = false;\n",
       "            return;\n",
       "        }\n",
       "\n",
       "        var msg = JSON.parse(evt.data);\n",
       "        var msg_type = msg['type'];\n",
       "\n",
       "        // Call the  \"handle_{type}\" callback, which takes\n",
       "        // the figure and JSON message as its only arguments.\n",
       "        try {\n",
       "            var callback = fig['handle_' + msg_type];\n",
       "        } catch (e) {\n",
       "            console.log(\n",
       "                \"No handler for the '\" + msg_type + \"' message type: \",\n",
       "                msg\n",
       "            );\n",
       "            return;\n",
       "        }\n",
       "\n",
       "        if (callback) {\n",
       "            try {\n",
       "                // console.log(\"Handling '\" + msg_type + \"' message: \", msg);\n",
       "                callback(fig, msg);\n",
       "            } catch (e) {\n",
       "                console.log(\n",
       "                    \"Exception inside the 'handler_\" + msg_type + \"' callback:\",\n",
       "                    e,\n",
       "                    e.stack,\n",
       "                    msg\n",
       "                );\n",
       "            }\n",
       "        }\n",
       "    };\n",
       "};\n",
       "\n",
       "// from http://stackoverflow.com/questions/1114465/getting-mouse-location-in-canvas\n",
       "mpl.findpos = function (e) {\n",
       "    //this section is from http://www.quirksmode.org/js/events_properties.html\n",
       "    var targ;\n",
       "    if (!e) {\n",
       "        e = window.event;\n",
       "    }\n",
       "    if (e.target) {\n",
       "        targ = e.target;\n",
       "    } else if (e.srcElement) {\n",
       "        targ = e.srcElement;\n",
       "    }\n",
       "    if (targ.nodeType === 3) {\n",
       "        // defeat Safari bug\n",
       "        targ = targ.parentNode;\n",
       "    }\n",
       "\n",
       "    // pageX,Y are the mouse positions relative to the document\n",
       "    var boundingRect = targ.getBoundingClientRect();\n",
       "    var x = e.pageX - (boundingRect.left + document.body.scrollLeft);\n",
       "    var y = e.pageY - (boundingRect.top + document.body.scrollTop);\n",
       "\n",
       "    return { x: x, y: y };\n",
       "};\n",
       "\n",
       "/*\n",
       " * return a copy of an object with only non-object keys\n",
       " * we need this to avoid circular references\n",
       " * http://stackoverflow.com/a/24161582/3208463\n",
       " */\n",
       "function simpleKeys(original) {\n",
       "    return Object.keys(original).reduce(function (obj, key) {\n",
       "        if (typeof original[key] !== 'object') {\n",
       "            obj[key] = original[key];\n",
       "        }\n",
       "        return obj;\n",
       "    }, {});\n",
       "}\n",
       "\n",
       "mpl.figure.prototype.mouse_event = function (event, name) {\n",
       "    var canvas_pos = mpl.findpos(event);\n",
       "\n",
       "    if (name === 'button_press') {\n",
       "        this.canvas.focus();\n",
       "        this.canvas_div.focus();\n",
       "    }\n",
       "\n",
       "    var x = canvas_pos.x * this.ratio;\n",
       "    var y = canvas_pos.y * this.ratio;\n",
       "\n",
       "    this.send_message(name, {\n",
       "        x: x,\n",
       "        y: y,\n",
       "        button: event.button,\n",
       "        step: event.step,\n",
       "        guiEvent: simpleKeys(event),\n",
       "    });\n",
       "\n",
       "    /* This prevents the web browser from automatically changing to\n",
       "     * the text insertion cursor when the button is pressed.  We want\n",
       "     * to control all of the cursor setting manually through the\n",
       "     * 'cursor' event from matplotlib */\n",
       "    event.preventDefault();\n",
       "    return false;\n",
       "};\n",
       "\n",
       "mpl.figure.prototype._key_event_extra = function (_event, _name) {\n",
       "    // Handle any extra behaviour associated with a key event\n",
       "};\n",
       "\n",
       "mpl.figure.prototype.key_event = function (event, name) {\n",
       "    // Prevent repeat events\n",
       "    if (name === 'key_press') {\n",
       "        if (event.key === this._key) {\n",
       "            return;\n",
       "        } else {\n",
       "            this._key = event.key;\n",
       "        }\n",
       "    }\n",
       "    if (name === 'key_release') {\n",
       "        this._key = null;\n",
       "    }\n",
       "\n",
       "    var value = '';\n",
       "    if (event.ctrlKey && event.key !== 'Control') {\n",
       "        value += 'ctrl+';\n",
       "    }\n",
       "    else if (event.altKey && event.key !== 'Alt') {\n",
       "        value += 'alt+';\n",
       "    }\n",
       "    else if (event.shiftKey && event.key !== 'Shift') {\n",
       "        value += 'shift+';\n",
       "    }\n",
       "\n",
       "    value += 'k' + event.key;\n",
       "\n",
       "    this._key_event_extra(event, name);\n",
       "\n",
       "    this.send_message(name, { key: value, guiEvent: simpleKeys(event) });\n",
       "    return false;\n",
       "};\n",
       "\n",
       "mpl.figure.prototype.toolbar_button_onclick = function (name) {\n",
       "    if (name === 'download') {\n",
       "        this.handle_save(this, null);\n",
       "    } else {\n",
       "        this.send_message('toolbar_button', { name: name });\n",
       "    }\n",
       "};\n",
       "\n",
       "mpl.figure.prototype.toolbar_button_onmouseover = function (tooltip) {\n",
       "    this.message.textContent = tooltip;\n",
       "};\n",
       "\n",
       "///////////////// REMAINING CONTENT GENERATED BY embed_js.py /////////////////\n",
       "// prettier-ignore\n",
       "var _JSXTOOLS_RESIZE_OBSERVER=function(A){var t,i=new WeakMap,n=new WeakMap,a=new WeakMap,r=new WeakMap,o=new Set;function s(e){if(!(this instanceof s))throw new TypeError(\"Constructor requires 'new' operator\");i.set(this,e)}function h(){throw new TypeError(\"Function is not a constructor\")}function c(e,t,i,n){e=0 in arguments?Number(arguments[0]):0,t=1 in arguments?Number(arguments[1]):0,i=2 in arguments?Number(arguments[2]):0,n=3 in arguments?Number(arguments[3]):0,this.right=(this.x=this.left=e)+(this.width=i),this.bottom=(this.y=this.top=t)+(this.height=n),Object.freeze(this)}function d(){t=requestAnimationFrame(d);var s=new WeakMap,p=new Set;o.forEach((function(t){r.get(t).forEach((function(i){var r=t instanceof window.SVGElement,o=a.get(t),d=r?0:parseFloat(o.paddingTop),f=r?0:parseFloat(o.paddingRight),l=r?0:parseFloat(o.paddingBottom),u=r?0:parseFloat(o.paddingLeft),g=r?0:parseFloat(o.borderTopWidth),m=r?0:parseFloat(o.borderRightWidth),w=r?0:parseFloat(o.borderBottomWidth),b=u+f,F=d+l,v=(r?0:parseFloat(o.borderLeftWidth))+m,W=g+w,y=r?0:t.offsetHeight-W-t.clientHeight,E=r?0:t.offsetWidth-v-t.clientWidth,R=b+v,z=F+W,M=r?t.width:parseFloat(o.width)-R-E,O=r?t.height:parseFloat(o.height)-z-y;if(n.has(t)){var k=n.get(t);if(k[0]===M&&k[1]===O)return}n.set(t,[M,O]);var S=Object.create(h.prototype);S.target=t,S.contentRect=new c(u,d,M,O),s.has(i)||(s.set(i,[]),p.add(i)),s.get(i).push(S)}))})),p.forEach((function(e){i.get(e).call(e,s.get(e),e)}))}return s.prototype.observe=function(i){if(i instanceof window.Element){r.has(i)||(r.set(i,new Set),o.add(i),a.set(i,window.getComputedStyle(i)));var n=r.get(i);n.has(this)||n.add(this),cancelAnimationFrame(t),t=requestAnimationFrame(d)}},s.prototype.unobserve=function(i){if(i instanceof window.Element&&r.has(i)){var n=r.get(i);n.has(this)&&(n.delete(this),n.size||(r.delete(i),o.delete(i))),n.size||r.delete(i),o.size||cancelAnimationFrame(t)}},A.DOMRectReadOnly=c,A.ResizeObserver=s,A.ResizeObserverEntry=h,A}; // eslint-disable-line\n",
       "mpl.toolbar_items = [[\"Home\", \"Reset original view\", \"fa fa-home icon-home\", \"home\"], [\"Back\", \"Back to previous view\", \"fa fa-arrow-left icon-arrow-left\", \"back\"], [\"Forward\", \"Forward to next view\", \"fa fa-arrow-right icon-arrow-right\", \"forward\"], [\"\", \"\", \"\", \"\"], [\"Pan\", \"Left button pans, Right button zooms\\nx/y fixes axis, CTRL fixes aspect\", \"fa fa-arrows icon-move\", \"pan\"], [\"Zoom\", \"Zoom to rectangle\\nx/y fixes axis, CTRL fixes aspect\", \"fa fa-square-o icon-check-empty\", \"zoom\"], [\"\", \"\", \"\", \"\"], [\"Download\", \"Download plot\", \"fa fa-floppy-o icon-save\", \"download\"]];\n",
       "\n",
       "mpl.extensions = [\"eps\", \"jpeg\", \"pgf\", \"pdf\", \"png\", \"ps\", \"raw\", \"svg\", \"tif\"];\n",
       "\n",
       "mpl.default_extension = \"png\";/* global mpl */\n",
       "\n",
       "var comm_websocket_adapter = function (comm) {\n",
       "    // Create a \"websocket\"-like object which calls the given IPython comm\n",
       "    // object with the appropriate methods. Currently this is a non binary\n",
       "    // socket, so there is still some room for performance tuning.\n",
       "    var ws = {};\n",
       "\n",
       "    ws.binaryType = comm.kernel.ws.binaryType;\n",
       "    ws.readyState = comm.kernel.ws.readyState;\n",
       "    function updateReadyState(_event) {\n",
       "        if (comm.kernel.ws) {\n",
       "            ws.readyState = comm.kernel.ws.readyState;\n",
       "        } else {\n",
       "            ws.readyState = 3; // Closed state.\n",
       "        }\n",
       "    }\n",
       "    comm.kernel.ws.addEventListener('open', updateReadyState);\n",
       "    comm.kernel.ws.addEventListener('close', updateReadyState);\n",
       "    comm.kernel.ws.addEventListener('error', updateReadyState);\n",
       "\n",
       "    ws.close = function () {\n",
       "        comm.close();\n",
       "    };\n",
       "    ws.send = function (m) {\n",
       "        //console.log('sending', m);\n",
       "        comm.send(m);\n",
       "    };\n",
       "    // Register the callback with on_msg.\n",
       "    comm.on_msg(function (msg) {\n",
       "        //console.log('receiving', msg['content']['data'], msg);\n",
       "        var data = msg['content']['data'];\n",
       "        if (data['blob'] !== undefined) {\n",
       "            data = {\n",
       "                data: new Blob(msg['buffers'], { type: data['blob'] }),\n",
       "            };\n",
       "        }\n",
       "        // Pass the mpl event to the overridden (by mpl) onmessage function.\n",
       "        ws.onmessage(data);\n",
       "    });\n",
       "    return ws;\n",
       "};\n",
       "\n",
       "mpl.mpl_figure_comm = function (comm, msg) {\n",
       "    // This is the function which gets called when the mpl process\n",
       "    // starts-up an IPython Comm through the \"matplotlib\" channel.\n",
       "\n",
       "    var id = msg.content.data.id;\n",
       "    // Get hold of the div created by the display call when the Comm\n",
       "    // socket was opened in Python.\n",
       "    var element = document.getElementById(id);\n",
       "    var ws_proxy = comm_websocket_adapter(comm);\n",
       "\n",
       "    function ondownload(figure, _format) {\n",
       "        window.open(figure.canvas.toDataURL());\n",
       "    }\n",
       "\n",
       "    var fig = new mpl.figure(id, ws_proxy, ondownload, element);\n",
       "\n",
       "    // Call onopen now - mpl needs it, as it is assuming we've passed it a real\n",
       "    // web socket which is closed, not our websocket->open comm proxy.\n",
       "    ws_proxy.onopen();\n",
       "\n",
       "    fig.parent_element = element;\n",
       "    fig.cell_info = mpl.find_output_cell(\"<div id='\" + id + \"'></div>\");\n",
       "    if (!fig.cell_info) {\n",
       "        console.error('Failed to find cell for figure', id, fig);\n",
       "        return;\n",
       "    }\n",
       "    fig.cell_info[0].output_area.element.on(\n",
       "        'cleared',\n",
       "        { fig: fig },\n",
       "        fig._remove_fig_handler\n",
       "    );\n",
       "};\n",
       "\n",
       "mpl.figure.prototype.handle_close = function (fig, msg) {\n",
       "    var width = fig.canvas.width / fig.ratio;\n",
       "    fig.cell_info[0].output_area.element.off(\n",
       "        'cleared',\n",
       "        fig._remove_fig_handler\n",
       "    );\n",
       "    fig.resizeObserverInstance.unobserve(fig.canvas_div);\n",
       "\n",
       "    // Update the output cell to use the data from the current canvas.\n",
       "    fig.push_to_output();\n",
       "    var dataURL = fig.canvas.toDataURL();\n",
       "    // Re-enable the keyboard manager in IPython - without this line, in FF,\n",
       "    // the notebook keyboard shortcuts fail.\n",
       "    IPython.keyboard_manager.enable();\n",
       "    fig.parent_element.innerHTML =\n",
       "        '<img src=\"' + dataURL + '\" width=\"' + width + '\">';\n",
       "    fig.close_ws(fig, msg);\n",
       "};\n",
       "\n",
       "mpl.figure.prototype.close_ws = function (fig, msg) {\n",
       "    fig.send_message('closing', msg);\n",
       "    // fig.ws.close()\n",
       "};\n",
       "\n",
       "mpl.figure.prototype.push_to_output = function (_remove_interactive) {\n",
       "    // Turn the data on the canvas into data in the output cell.\n",
       "    var width = this.canvas.width / this.ratio;\n",
       "    var dataURL = this.canvas.toDataURL();\n",
       "    this.cell_info[1]['text/html'] =\n",
       "        '<img src=\"' + dataURL + '\" width=\"' + width + '\">';\n",
       "};\n",
       "\n",
       "mpl.figure.prototype.updated_canvas_event = function () {\n",
       "    // Tell IPython that the notebook contents must change.\n",
       "    IPython.notebook.set_dirty(true);\n",
       "    this.send_message('ack', {});\n",
       "    var fig = this;\n",
       "    // Wait a second, then push the new image to the DOM so\n",
       "    // that it is saved nicely (might be nice to debounce this).\n",
       "    setTimeout(function () {\n",
       "        fig.push_to_output();\n",
       "    }, 1000);\n",
       "};\n",
       "\n",
       "mpl.figure.prototype._init_toolbar = function () {\n",
       "    var fig = this;\n",
       "\n",
       "    var toolbar = document.createElement('div');\n",
       "    toolbar.classList = 'btn-toolbar';\n",
       "    this.root.appendChild(toolbar);\n",
       "\n",
       "    function on_click_closure(name) {\n",
       "        return function (_event) {\n",
       "            return fig.toolbar_button_onclick(name);\n",
       "        };\n",
       "    }\n",
       "\n",
       "    function on_mouseover_closure(tooltip) {\n",
       "        return function (event) {\n",
       "            if (!event.currentTarget.disabled) {\n",
       "                return fig.toolbar_button_onmouseover(tooltip);\n",
       "            }\n",
       "        };\n",
       "    }\n",
       "\n",
       "    fig.buttons = {};\n",
       "    var buttonGroup = document.createElement('div');\n",
       "    buttonGroup.classList = 'btn-group';\n",
       "    var button;\n",
       "    for (var toolbar_ind in mpl.toolbar_items) {\n",
       "        var name = mpl.toolbar_items[toolbar_ind][0];\n",
       "        var tooltip = mpl.toolbar_items[toolbar_ind][1];\n",
       "        var image = mpl.toolbar_items[toolbar_ind][2];\n",
       "        var method_name = mpl.toolbar_items[toolbar_ind][3];\n",
       "\n",
       "        if (!name) {\n",
       "            /* Instead of a spacer, we start a new button group. */\n",
       "            if (buttonGroup.hasChildNodes()) {\n",
       "                toolbar.appendChild(buttonGroup);\n",
       "            }\n",
       "            buttonGroup = document.createElement('div');\n",
       "            buttonGroup.classList = 'btn-group';\n",
       "            continue;\n",
       "        }\n",
       "\n",
       "        button = fig.buttons[name] = document.createElement('button');\n",
       "        button.classList = 'btn btn-default';\n",
       "        button.href = '#';\n",
       "        button.title = name;\n",
       "        button.innerHTML = '<i class=\"fa ' + image + ' fa-lg\"></i>';\n",
       "        button.addEventListener('click', on_click_closure(method_name));\n",
       "        button.addEventListener('mouseover', on_mouseover_closure(tooltip));\n",
       "        buttonGroup.appendChild(button);\n",
       "    }\n",
       "\n",
       "    if (buttonGroup.hasChildNodes()) {\n",
       "        toolbar.appendChild(buttonGroup);\n",
       "    }\n",
       "\n",
       "    // Add the status bar.\n",
       "    var status_bar = document.createElement('span');\n",
       "    status_bar.classList = 'mpl-message pull-right';\n",
       "    toolbar.appendChild(status_bar);\n",
       "    this.message = status_bar;\n",
       "\n",
       "    // Add the close button to the window.\n",
       "    var buttongrp = document.createElement('div');\n",
       "    buttongrp.classList = 'btn-group inline pull-right';\n",
       "    button = document.createElement('button');\n",
       "    button.classList = 'btn btn-mini btn-primary';\n",
       "    button.href = '#';\n",
       "    button.title = 'Stop Interaction';\n",
       "    button.innerHTML = '<i class=\"fa fa-power-off icon-remove icon-large\"></i>';\n",
       "    button.addEventListener('click', function (_evt) {\n",
       "        fig.handle_close(fig, {});\n",
       "    });\n",
       "    button.addEventListener(\n",
       "        'mouseover',\n",
       "        on_mouseover_closure('Stop Interaction')\n",
       "    );\n",
       "    buttongrp.appendChild(button);\n",
       "    var titlebar = this.root.querySelector('.ui-dialog-titlebar');\n",
       "    titlebar.insertBefore(buttongrp, titlebar.firstChild);\n",
       "};\n",
       "\n",
       "mpl.figure.prototype._remove_fig_handler = function (event) {\n",
       "    var fig = event.data.fig;\n",
       "    if (event.target !== this) {\n",
       "        // Ignore bubbled events from children.\n",
       "        return;\n",
       "    }\n",
       "    fig.close_ws(fig, {});\n",
       "};\n",
       "\n",
       "mpl.figure.prototype._root_extra_style = function (el) {\n",
       "    el.style.boxSizing = 'content-box'; // override notebook setting of border-box.\n",
       "};\n",
       "\n",
       "mpl.figure.prototype._canvas_extra_style = function (el) {\n",
       "    // this is important to make the div 'focusable\n",
       "    el.setAttribute('tabindex', 0);\n",
       "    // reach out to IPython and tell the keyboard manager to turn it's self\n",
       "    // off when our div gets focus\n",
       "\n",
       "    // location in version 3\n",
       "    if (IPython.notebook.keyboard_manager) {\n",
       "        IPython.notebook.keyboard_manager.register_events(el);\n",
       "    } else {\n",
       "        // location in version 2\n",
       "        IPython.keyboard_manager.register_events(el);\n",
       "    }\n",
       "};\n",
       "\n",
       "mpl.figure.prototype._key_event_extra = function (event, _name) {\n",
       "    var manager = IPython.notebook.keyboard_manager;\n",
       "    if (!manager) {\n",
       "        manager = IPython.keyboard_manager;\n",
       "    }\n",
       "\n",
       "    // Check for shift+enter\n",
       "    if (event.shiftKey && event.which === 13) {\n",
       "        this.canvas_div.blur();\n",
       "        // select the cell after this one\n",
       "        var index = IPython.notebook.find_cell_index(this.cell_info[0]);\n",
       "        IPython.notebook.select(index + 1);\n",
       "    }\n",
       "};\n",
       "\n",
       "mpl.figure.prototype.handle_save = function (fig, _msg) {\n",
       "    fig.ondownload(fig, null);\n",
       "};\n",
       "\n",
       "mpl.find_output_cell = function (html_output) {\n",
       "    // Return the cell and output element which can be found *uniquely* in the notebook.\n",
       "    // Note - this is a bit hacky, but it is done because the \"notebook_saving.Notebook\"\n",
       "    // IPython event is triggered only after the cells have been serialised, which for\n",
       "    // our purposes (turning an active figure into a static one), is too late.\n",
       "    var cells = IPython.notebook.get_cells();\n",
       "    var ncells = cells.length;\n",
       "    for (var i = 0; i < ncells; i++) {\n",
       "        var cell = cells[i];\n",
       "        if (cell.cell_type === 'code') {\n",
       "            for (var j = 0; j < cell.output_area.outputs.length; j++) {\n",
       "                var data = cell.output_area.outputs[j];\n",
       "                if (data.data) {\n",
       "                    // IPython >= 3 moved mimebundle to data attribute of output\n",
       "                    data = data.data;\n",
       "                }\n",
       "                if (data['text/html'] === html_output) {\n",
       "                    return [cell, data, j];\n",
       "                }\n",
       "            }\n",
       "        }\n",
       "    }\n",
       "};\n",
       "\n",
       "// Register the function which deals with the matplotlib target/channel.\n",
       "// The kernel may be null if the page has been refreshed.\n",
       "if (IPython.notebook.kernel !== null) {\n",
       "    IPython.notebook.kernel.comm_manager.register_target(\n",
       "        'matplotlib',\n",
       "        mpl.mpl_figure_comm\n",
       "    );\n",
       "}\n"
      ],
      "text/plain": [
       "<IPython.core.display.Javascript object>"
      ]
     },
     "metadata": {},
     "output_type": "display_data"
    },
    {
     "data": {
      "text/html": [
       "<img src=\"data:image/png;base64,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\" width=\"322.71666666666664\">"
      ],
      "text/plain": [
       "<IPython.core.display.HTML object>"
      ]
     },
     "metadata": {},
     "output_type": "display_data"
    },
    {
     "data": {
      "text/plain": [
       "<seaborn.axisgrid.FacetGrid at 0x2b779fdb1c0>"
      ]
     },
     "execution_count": 84,
     "metadata": {},
     "output_type": "execute_result"
    }
   ],
   "source": [
    "sns.displot(data.cost,kind='kde')"
   ]
  },
  {
   "cell_type": "code",
   "execution_count": 85,
   "id": "624a4ac0",
   "metadata": {
    "ExecuteTime": {
     "end_time": "2022-09-16T20:46:08.895476Z",
     "start_time": "2022-09-16T20:46:08.705955Z"
    },
    "scrolled": false
   },
   "outputs": [
    {
     "data": {
      "text/plain": [
       "<AxesSubplot:xlabel='age', ylabel='Count'>"
      ]
     },
     "execution_count": 85,
     "metadata": {},
     "output_type": "execute_result"
    },
    {
     "data": {
      "image/png": "[encoded data removed]",
      "text/plain": [
       "<Figure size 432x288 with 1 Axes>"
      ]
     },
     "metadata": {
      "needs_background": "light"
     },
     "output_type": "display_data"
    }
   ],
   "source": [
    "%matplotlib inline\n",
    "sns.histplot(data.age)"
   ]
  },
  {
   "cell_type": "code",
   "execution_count": 86,
   "id": "2bf4d5f3",
   "metadata": {
    "ExecuteTime": {
     "end_time": "2022-09-16T20:46:20.616321Z",
     "start_time": "2022-09-16T20:46:09.782319Z"
    }
   },
   "outputs": [
    {
     "data": {
      "text/plain": [
       "<AxesSubplot:xlabel='cost', ylabel='Count'>"
      ]
     },
     "execution_count": 86,
     "metadata": {},
     "output_type": "execute_result"
    },
    {
     "name": "stdout",
     "output_type": "stream",
     "text": [
      "Error in callback <function install_repl_displayhook.<locals>.post_execute at 0x000002B774F36F70> (for post_execute):\n"
     ]
    },
    {
     "ename": "KeyboardInterrupt",
     "evalue": "",
     "output_type": "error",
     "traceback": [
      "\u001b[1;31m---------------------------------------------------------------------------\u001b[0m",
      "\u001b[1;31mKeyboardInterrupt\u001b[0m                         Traceback (most recent call last)",
      "\u001b[1;32m~\\anaconda3\\lib\\site-packages\\matplotlib\\pyplot.py\u001b[0m in \u001b[0;36mpost_execute\u001b[1;34m()\u001b[0m\n\u001b[0;32m    137\u001b[0m             \u001b[1;32mdef\u001b[0m \u001b[0mpost_execute\u001b[0m\u001b[1;33m(\u001b[0m\u001b[1;33m)\u001b[0m\u001b[1;33m:\u001b[0m\u001b[1;33m\u001b[0m\u001b[1;33m\u001b[0m\u001b[0m\n\u001b[0;32m    138\u001b[0m                 \u001b[1;32mif\u001b[0m \u001b[0mmatplotlib\u001b[0m\u001b[1;33m.\u001b[0m\u001b[0mis_interactive\u001b[0m\u001b[1;33m(\u001b[0m\u001b[1;33m)\u001b[0m\u001b[1;33m:\u001b[0m\u001b[1;33m\u001b[0m\u001b[1;33m\u001b[0m\u001b[0m\n\u001b[1;32m--> 139\u001b[1;33m                     \u001b[0mdraw_all\u001b[0m\u001b[1;33m(\u001b[0m\u001b[1;33m)\u001b[0m\u001b[1;33m\u001b[0m\u001b[1;33m\u001b[0m\u001b[0m\n\u001b[0m\u001b[0;32m    140\u001b[0m \u001b[1;33m\u001b[0m\u001b[0m\n\u001b[0;32m    141\u001b[0m             \u001b[1;31m# IPython >= 2\u001b[0m\u001b[1;33m\u001b[0m\u001b[1;33m\u001b[0m\u001b[0m\n",
      "\u001b[1;32m~\\anaconda3\\lib\\site-packages\\matplotlib\\_pylab_helpers.py\u001b[0m in \u001b[0;36mdraw_all\u001b[1;34m(cls, force)\u001b[0m\n\u001b[0;32m    135\u001b[0m         \u001b[1;32mfor\u001b[0m \u001b[0mmanager\u001b[0m \u001b[1;32min\u001b[0m \u001b[0mcls\u001b[0m\u001b[1;33m.\u001b[0m\u001b[0mget_all_fig_managers\u001b[0m\u001b[1;33m(\u001b[0m\u001b[1;33m)\u001b[0m\u001b[1;33m:\u001b[0m\u001b[1;33m\u001b[0m\u001b[1;33m\u001b[0m\u001b[0m\n\u001b[0;32m    136\u001b[0m             \u001b[1;32mif\u001b[0m \u001b[0mforce\u001b[0m \u001b[1;32mor\u001b[0m \u001b[0mmanager\u001b[0m\u001b[1;33m.\u001b[0m\u001b[0mcanvas\u001b[0m\u001b[1;33m.\u001b[0m\u001b[0mfigure\u001b[0m\u001b[1;33m.\u001b[0m\u001b[0mstale\u001b[0m\u001b[1;33m:\u001b[0m\u001b[1;33m\u001b[0m\u001b[1;33m\u001b[0m\u001b[0m\n\u001b[1;32m--> 137\u001b[1;33m                 \u001b[0mmanager\u001b[0m\u001b[1;33m.\u001b[0m\u001b[0mcanvas\u001b[0m\u001b[1;33m.\u001b[0m\u001b[0mdraw_idle\u001b[0m\u001b[1;33m(\u001b[0m\u001b[1;33m)\u001b[0m\u001b[1;33m\u001b[0m\u001b[1;33m\u001b[0m\u001b[0m\n\u001b[0m\u001b[0;32m    138\u001b[0m \u001b[1;33m\u001b[0m\u001b[0m\n\u001b[0;32m    139\u001b[0m \u001b[1;33m\u001b[0m\u001b[0m\n",
      "\u001b[1;32m~\\anaconda3\\lib\\site-packages\\matplotlib\\backend_bases.py\u001b[0m in \u001b[0;36mdraw_idle\u001b[1;34m(self, *args, **kwargs)\u001b[0m\n\u001b[0;32m   2053\u001b[0m         \u001b[1;32mif\u001b[0m \u001b[1;32mnot\u001b[0m \u001b[0mself\u001b[0m\u001b[1;33m.\u001b[0m\u001b[0m_is_idle_drawing\u001b[0m\u001b[1;33m:\u001b[0m\u001b[1;33m\u001b[0m\u001b[1;33m\u001b[0m\u001b[0m\n\u001b[0;32m   2054\u001b[0m             \u001b[1;32mwith\u001b[0m \u001b[0mself\u001b[0m\u001b[1;33m.\u001b[0m\u001b[0m_idle_draw_cntx\u001b[0m\u001b[1;33m(\u001b[0m\u001b[1;33m)\u001b[0m\u001b[1;33m:\u001b[0m\u001b[1;33m\u001b[0m\u001b[1;33m\u001b[0m\u001b[0m\n\u001b[1;32m-> 2055\u001b[1;33m                 \u001b[0mself\u001b[0m\u001b[1;33m.\u001b[0m\u001b[0mdraw\u001b[0m\u001b[1;33m(\u001b[0m\u001b[1;33m*\u001b[0m\u001b[0margs\u001b[0m\u001b[1;33m,\u001b[0m \u001b[1;33m**\u001b[0m\u001b[0mkwargs\u001b[0m\u001b[1;33m)\u001b[0m\u001b[1;33m\u001b[0m\u001b[1;33m\u001b[0m\u001b[0m\n\u001b[0m\u001b[0;32m   2056\u001b[0m \u001b[1;33m\u001b[0m\u001b[0m\n\u001b[0;32m   2057\u001b[0m     \u001b[1;32mdef\u001b[0m \u001b[0mget_width_height\u001b[0m\u001b[1;33m(\u001b[0m\u001b[0mself\u001b[0m\u001b[1;33m)\u001b[0m\u001b[1;33m:\u001b[0m\u001b[1;33m\u001b[0m\u001b[1;33m\u001b[0m\u001b[0m\n",
      "\u001b[1;32m~\\anaconda3\\lib\\site-packages\\matplotlib\\backends\\backend_agg.py\u001b[0m in \u001b[0;36mdraw\u001b[1;34m(self)\u001b[0m\n\u001b[0;32m    404\u001b[0m              (self.toolbar._wait_cursor_for_draw_cm() if self.toolbar\n\u001b[0;32m    405\u001b[0m               else nullcontext()):\n\u001b[1;32m--> 406\u001b[1;33m             \u001b[0mself\u001b[0m\u001b[1;33m.\u001b[0m\u001b[0mfigure\u001b[0m\u001b[1;33m.\u001b[0m\u001b[0mdraw\u001b[0m\u001b[1;33m(\u001b[0m\u001b[0mself\u001b[0m\u001b[1;33m.\u001b[0m\u001b[0mrenderer\u001b[0m\u001b[1;33m)\u001b[0m\u001b[1;33m\u001b[0m\u001b[1;33m\u001b[0m\u001b[0m\n\u001b[0m\u001b[0;32m    407\u001b[0m             \u001b[1;31m# A GUI class may be need to update a window using this draw, so\u001b[0m\u001b[1;33m\u001b[0m\u001b[1;33m\u001b[0m\u001b[0m\n\u001b[0;32m    408\u001b[0m             \u001b[1;31m# don't forget to call the superclass.\u001b[0m\u001b[1;33m\u001b[0m\u001b[1;33m\u001b[0m\u001b[0m\n",
      "\u001b[1;32m~\\anaconda3\\lib\\site-packages\\matplotlib\\artist.py\u001b[0m in \u001b[0;36mdraw_wrapper\u001b[1;34m(artist, renderer, *args, **kwargs)\u001b[0m\n\u001b[0;32m     72\u001b[0m     \u001b[1;33m@\u001b[0m\u001b[0mwraps\u001b[0m\u001b[1;33m(\u001b[0m\u001b[0mdraw\u001b[0m\u001b[1;33m)\u001b[0m\u001b[1;33m\u001b[0m\u001b[1;33m\u001b[0m\u001b[0m\n\u001b[0;32m     73\u001b[0m     \u001b[1;32mdef\u001b[0m \u001b[0mdraw_wrapper\u001b[0m\u001b[1;33m(\u001b[0m\u001b[0martist\u001b[0m\u001b[1;33m,\u001b[0m \u001b[0mrenderer\u001b[0m\u001b[1;33m,\u001b[0m \u001b[1;33m*\u001b[0m\u001b[0margs\u001b[0m\u001b[1;33m,\u001b[0m \u001b[1;33m**\u001b[0m\u001b[0mkwargs\u001b[0m\u001b[1;33m)\u001b[0m\u001b[1;33m:\u001b[0m\u001b[1;33m\u001b[0m\u001b[1;33m\u001b[0m\u001b[0m\n\u001b[1;32m---> 74\u001b[1;33m         \u001b[0mresult\u001b[0m \u001b[1;33m=\u001b[0m \u001b[0mdraw\u001b[0m\u001b[1;33m(\u001b[0m\u001b[0martist\u001b[0m\u001b[1;33m,\u001b[0m \u001b[0mrenderer\u001b[0m\u001b[1;33m,\u001b[0m \u001b[1;33m*\u001b[0m\u001b[0margs\u001b[0m\u001b[1;33m,\u001b[0m \u001b[1;33m**\u001b[0m\u001b[0mkwargs\u001b[0m\u001b[1;33m)\u001b[0m\u001b[1;33m\u001b[0m\u001b[1;33m\u001b[0m\u001b[0m\n\u001b[0m\u001b[0;32m     75\u001b[0m         \u001b[1;32mif\u001b[0m \u001b[0mrenderer\u001b[0m\u001b[1;33m.\u001b[0m\u001b[0m_rasterizing\u001b[0m\u001b[1;33m:\u001b[0m\u001b[1;33m\u001b[0m\u001b[1;33m\u001b[0m\u001b[0m\n\u001b[0;32m     76\u001b[0m             \u001b[0mrenderer\u001b[0m\u001b[1;33m.\u001b[0m\u001b[0mstop_rasterizing\u001b[0m\u001b[1;33m(\u001b[0m\u001b[1;33m)\u001b[0m\u001b[1;33m\u001b[0m\u001b[1;33m\u001b[0m\u001b[0m\n",
      "\u001b[1;32m~\\anaconda3\\lib\\site-packages\\matplotlib\\artist.py\u001b[0m in \u001b[0;36mdraw_wrapper\u001b[1;34m(artist, renderer, *args, **kwargs)\u001b[0m\n\u001b[0;32m     49\u001b[0m                 \u001b[0mrenderer\u001b[0m\u001b[1;33m.\u001b[0m\u001b[0mstart_filter\u001b[0m\u001b[1;33m(\u001b[0m\u001b[1;33m)\u001b[0m\u001b[1;33m\u001b[0m\u001b[1;33m\u001b[0m\u001b[0m\n\u001b[0;32m     50\u001b[0m \u001b[1;33m\u001b[0m\u001b[0m\n\u001b[1;32m---> 51\u001b[1;33m             \u001b[1;32mreturn\u001b[0m \u001b[0mdraw\u001b[0m\u001b[1;33m(\u001b[0m\u001b[0martist\u001b[0m\u001b[1;33m,\u001b[0m \u001b[0mrenderer\u001b[0m\u001b[1;33m,\u001b[0m \u001b[1;33m*\u001b[0m\u001b[0margs\u001b[0m\u001b[1;33m,\u001b[0m \u001b[1;33m**\u001b[0m\u001b[0mkwargs\u001b[0m\u001b[1;33m)\u001b[0m\u001b[1;33m\u001b[0m\u001b[1;33m\u001b[0m\u001b[0m\n\u001b[0m\u001b[0;32m     52\u001b[0m         \u001b[1;32mfinally\u001b[0m\u001b[1;33m:\u001b[0m\u001b[1;33m\u001b[0m\u001b[1;33m\u001b[0m\u001b[0m\n\u001b[0;32m     53\u001b[0m             \u001b[1;32mif\u001b[0m \u001b[0martist\u001b[0m\u001b[1;33m.\u001b[0m\u001b[0mget_agg_filter\u001b[0m\u001b[1;33m(\u001b[0m\u001b[1;33m)\u001b[0m \u001b[1;32mis\u001b[0m \u001b[1;32mnot\u001b[0m \u001b[1;32mNone\u001b[0m\u001b[1;33m:\u001b[0m\u001b[1;33m\u001b[0m\u001b[1;33m\u001b[0m\u001b[0m\n",
      "\u001b[1;32m~\\anaconda3\\lib\\site-packages\\matplotlib\\figure.py\u001b[0m in \u001b[0;36mdraw\u001b[1;34m(self, renderer)\u001b[0m\n\u001b[0;32m   2788\u001b[0m \u001b[1;33m\u001b[0m\u001b[0m\n\u001b[0;32m   2789\u001b[0m             \u001b[0mself\u001b[0m\u001b[1;33m.\u001b[0m\u001b[0mpatch\u001b[0m\u001b[1;33m.\u001b[0m\u001b[0mdraw\u001b[0m\u001b[1;33m(\u001b[0m\u001b[0mrenderer\u001b[0m\u001b[1;33m)\u001b[0m\u001b[1;33m\u001b[0m\u001b[1;33m\u001b[0m\u001b[0m\n\u001b[1;32m-> 2790\u001b[1;33m             mimage._draw_list_compositing_images(\n\u001b[0m\u001b[0;32m   2791\u001b[0m                 renderer, self, artists, self.suppressComposite)\n\u001b[0;32m   2792\u001b[0m \u001b[1;33m\u001b[0m\u001b[0m\n",
      "\u001b[1;32m~\\anaconda3\\lib\\site-packages\\matplotlib\\image.py\u001b[0m in \u001b[0;36m_draw_list_compositing_images\u001b[1;34m(renderer, parent, artists, suppress_composite)\u001b[0m\n\u001b[0;32m    130\u001b[0m     \u001b[1;32mif\u001b[0m \u001b[0mnot_composite\u001b[0m \u001b[1;32mor\u001b[0m \u001b[1;32mnot\u001b[0m \u001b[0mhas_images\u001b[0m\u001b[1;33m:\u001b[0m\u001b[1;33m\u001b[0m\u001b[1;33m\u001b[0m\u001b[0m\n\u001b[0;32m    131\u001b[0m         \u001b[1;32mfor\u001b[0m \u001b[0ma\u001b[0m \u001b[1;32min\u001b[0m \u001b[0martists\u001b[0m\u001b[1;33m:\u001b[0m\u001b[1;33m\u001b[0m\u001b[1;33m\u001b[0m\u001b[0m\n\u001b[1;32m--> 132\u001b[1;33m             \u001b[0ma\u001b[0m\u001b[1;33m.\u001b[0m\u001b[0mdraw\u001b[0m\u001b[1;33m(\u001b[0m\u001b[0mrenderer\u001b[0m\u001b[1;33m)\u001b[0m\u001b[1;33m\u001b[0m\u001b[1;33m\u001b[0m\u001b[0m\n\u001b[0m\u001b[0;32m    133\u001b[0m     \u001b[1;32melse\u001b[0m\u001b[1;33m:\u001b[0m\u001b[1;33m\u001b[0m\u001b[1;33m\u001b[0m\u001b[0m\n\u001b[0;32m    134\u001b[0m         \u001b[1;31m# Composite any adjacent images together\u001b[0m\u001b[1;33m\u001b[0m\u001b[1;33m\u001b[0m\u001b[0m\n",
      "\u001b[1;32m~\\anaconda3\\lib\\site-packages\\matplotlib\\artist.py\u001b[0m in \u001b[0;36mdraw_wrapper\u001b[1;34m(artist, renderer, *args, **kwargs)\u001b[0m\n\u001b[0;32m     49\u001b[0m                 \u001b[0mrenderer\u001b[0m\u001b[1;33m.\u001b[0m\u001b[0mstart_filter\u001b[0m\u001b[1;33m(\u001b[0m\u001b[1;33m)\u001b[0m\u001b[1;33m\u001b[0m\u001b[1;33m\u001b[0m\u001b[0m\n\u001b[0;32m     50\u001b[0m \u001b[1;33m\u001b[0m\u001b[0m\n\u001b[1;32m---> 51\u001b[1;33m             \u001b[1;32mreturn\u001b[0m \u001b[0mdraw\u001b[0m\u001b[1;33m(\u001b[0m\u001b[0martist\u001b[0m\u001b[1;33m,\u001b[0m \u001b[0mrenderer\u001b[0m\u001b[1;33m,\u001b[0m \u001b[1;33m*\u001b[0m\u001b[0margs\u001b[0m\u001b[1;33m,\u001b[0m \u001b[1;33m**\u001b[0m\u001b[0mkwargs\u001b[0m\u001b[1;33m)\u001b[0m\u001b[1;33m\u001b[0m\u001b[1;33m\u001b[0m\u001b[0m\n\u001b[0m\u001b[0;32m     52\u001b[0m         \u001b[1;32mfinally\u001b[0m\u001b[1;33m:\u001b[0m\u001b[1;33m\u001b[0m\u001b[1;33m\u001b[0m\u001b[0m\n\u001b[0;32m     53\u001b[0m             \u001b[1;32mif\u001b[0m \u001b[0martist\u001b[0m\u001b[1;33m.\u001b[0m\u001b[0mget_agg_filter\u001b[0m\u001b[1;33m(\u001b[0m\u001b[1;33m)\u001b[0m \u001b[1;32mis\u001b[0m \u001b[1;32mnot\u001b[0m \u001b[1;32mNone\u001b[0m\u001b[1;33m:\u001b[0m\u001b[1;33m\u001b[0m\u001b[1;33m\u001b[0m\u001b[0m\n",
      "\u001b[1;32m~\\anaconda3\\lib\\site-packages\\matplotlib\\_api\\deprecation.py\u001b[0m in \u001b[0;36mwrapper\u001b[1;34m(*inner_args, **inner_kwargs)\u001b[0m\n\u001b[0;32m    429\u001b[0m                          \u001b[1;32melse\u001b[0m \u001b[0mdeprecation_addendum\u001b[0m\u001b[1;33m,\u001b[0m\u001b[1;33m\u001b[0m\u001b[1;33m\u001b[0m\u001b[0m\n\u001b[0;32m    430\u001b[0m                 **kwargs)\n\u001b[1;32m--> 431\u001b[1;33m         \u001b[1;32mreturn\u001b[0m \u001b[0mfunc\u001b[0m\u001b[1;33m(\u001b[0m\u001b[1;33m*\u001b[0m\u001b[0minner_args\u001b[0m\u001b[1;33m,\u001b[0m \u001b[1;33m**\u001b[0m\u001b[0minner_kwargs\u001b[0m\u001b[1;33m)\u001b[0m\u001b[1;33m\u001b[0m\u001b[1;33m\u001b[0m\u001b[0m\n\u001b[0m\u001b[0;32m    432\u001b[0m \u001b[1;33m\u001b[0m\u001b[0m\n\u001b[0;32m    433\u001b[0m     \u001b[1;32mreturn\u001b[0m \u001b[0mwrapper\u001b[0m\u001b[1;33m\u001b[0m\u001b[1;33m\u001b[0m\u001b[0m\n",
      "\u001b[1;32m~\\anaconda3\\lib\\site-packages\\matplotlib\\axes\\_base.py\u001b[0m in \u001b[0;36mdraw\u001b[1;34m(self, renderer, inframe)\u001b[0m\n\u001b[0;32m   2919\u001b[0m             \u001b[0mrenderer\u001b[0m\u001b[1;33m.\u001b[0m\u001b[0mstop_rasterizing\u001b[0m\u001b[1;33m(\u001b[0m\u001b[1;33m)\u001b[0m\u001b[1;33m\u001b[0m\u001b[1;33m\u001b[0m\u001b[0m\n\u001b[0;32m   2920\u001b[0m \u001b[1;33m\u001b[0m\u001b[0m\n\u001b[1;32m-> 2921\u001b[1;33m         \u001b[0mmimage\u001b[0m\u001b[1;33m.\u001b[0m\u001b[0m_draw_list_compositing_images\u001b[0m\u001b[1;33m(\u001b[0m\u001b[0mrenderer\u001b[0m\u001b[1;33m,\u001b[0m \u001b[0mself\u001b[0m\u001b[1;33m,\u001b[0m \u001b[0martists\u001b[0m\u001b[1;33m)\u001b[0m\u001b[1;33m\u001b[0m\u001b[1;33m\u001b[0m\u001b[0m\n\u001b[0m\u001b[0;32m   2922\u001b[0m \u001b[1;33m\u001b[0m\u001b[0m\n\u001b[0;32m   2923\u001b[0m         \u001b[0mrenderer\u001b[0m\u001b[1;33m.\u001b[0m\u001b[0mclose_group\u001b[0m\u001b[1;33m(\u001b[0m\u001b[1;34m'axes'\u001b[0m\u001b[1;33m)\u001b[0m\u001b[1;33m\u001b[0m\u001b[1;33m\u001b[0m\u001b[0m\n",
      "\u001b[1;32m~\\anaconda3\\lib\\site-packages\\matplotlib\\image.py\u001b[0m in \u001b[0;36m_draw_list_compositing_images\u001b[1;34m(renderer, parent, artists, suppress_composite)\u001b[0m\n\u001b[0;32m    130\u001b[0m     \u001b[1;32mif\u001b[0m \u001b[0mnot_composite\u001b[0m \u001b[1;32mor\u001b[0m \u001b[1;32mnot\u001b[0m \u001b[0mhas_images\u001b[0m\u001b[1;33m:\u001b[0m\u001b[1;33m\u001b[0m\u001b[1;33m\u001b[0m\u001b[0m\n\u001b[0;32m    131\u001b[0m         \u001b[1;32mfor\u001b[0m \u001b[0ma\u001b[0m \u001b[1;32min\u001b[0m \u001b[0martists\u001b[0m\u001b[1;33m:\u001b[0m\u001b[1;33m\u001b[0m\u001b[1;33m\u001b[0m\u001b[0m\n\u001b[1;32m--> 132\u001b[1;33m             \u001b[0ma\u001b[0m\u001b[1;33m.\u001b[0m\u001b[0mdraw\u001b[0m\u001b[1;33m(\u001b[0m\u001b[0mrenderer\u001b[0m\u001b[1;33m)\u001b[0m\u001b[1;33m\u001b[0m\u001b[1;33m\u001b[0m\u001b[0m\n\u001b[0m\u001b[0;32m    133\u001b[0m     \u001b[1;32melse\u001b[0m\u001b[1;33m:\u001b[0m\u001b[1;33m\u001b[0m\u001b[1;33m\u001b[0m\u001b[0m\n\u001b[0;32m    134\u001b[0m         \u001b[1;31m# Composite any adjacent images together\u001b[0m\u001b[1;33m\u001b[0m\u001b[1;33m\u001b[0m\u001b[0m\n",
      "\u001b[1;32m~\\anaconda3\\lib\\site-packages\\matplotlib\\artist.py\u001b[0m in \u001b[0;36mdraw_wrapper\u001b[1;34m(artist, renderer, *args, **kwargs)\u001b[0m\n\u001b[0;32m     49\u001b[0m                 \u001b[0mrenderer\u001b[0m\u001b[1;33m.\u001b[0m\u001b[0mstart_filter\u001b[0m\u001b[1;33m(\u001b[0m\u001b[1;33m)\u001b[0m\u001b[1;33m\u001b[0m\u001b[1;33m\u001b[0m\u001b[0m\n\u001b[0;32m     50\u001b[0m \u001b[1;33m\u001b[0m\u001b[0m\n\u001b[1;32m---> 51\u001b[1;33m             \u001b[1;32mreturn\u001b[0m \u001b[0mdraw\u001b[0m\u001b[1;33m(\u001b[0m\u001b[0martist\u001b[0m\u001b[1;33m,\u001b[0m \u001b[0mrenderer\u001b[0m\u001b[1;33m,\u001b[0m \u001b[1;33m*\u001b[0m\u001b[0margs\u001b[0m\u001b[1;33m,\u001b[0m \u001b[1;33m**\u001b[0m\u001b[0mkwargs\u001b[0m\u001b[1;33m)\u001b[0m\u001b[1;33m\u001b[0m\u001b[1;33m\u001b[0m\u001b[0m\n\u001b[0m\u001b[0;32m     52\u001b[0m         \u001b[1;32mfinally\u001b[0m\u001b[1;33m:\u001b[0m\u001b[1;33m\u001b[0m\u001b[1;33m\u001b[0m\u001b[0m\n\u001b[0;32m     53\u001b[0m             \u001b[1;32mif\u001b[0m \u001b[0martist\u001b[0m\u001b[1;33m.\u001b[0m\u001b[0mget_agg_filter\u001b[0m\u001b[1;33m(\u001b[0m\u001b[1;33m)\u001b[0m \u001b[1;32mis\u001b[0m \u001b[1;32mnot\u001b[0m \u001b[1;32mNone\u001b[0m\u001b[1;33m:\u001b[0m\u001b[1;33m\u001b[0m\u001b[1;33m\u001b[0m\u001b[0m\n",
      "\u001b[1;32m~\\anaconda3\\lib\\site-packages\\matplotlib\\patches.py\u001b[0m in \u001b[0;36mdraw\u001b[1;34m(self, renderer)\u001b[0m\n\u001b[0;32m    605\u001b[0m                 \u001b[0mself\u001b[0m\u001b[1;33m.\u001b[0m\u001b[0m_bind_draw_path_function\u001b[0m\u001b[1;33m(\u001b[0m\u001b[0mrenderer\u001b[0m\u001b[1;33m)\u001b[0m \u001b[1;32mas\u001b[0m \u001b[0mdraw_path\u001b[0m\u001b[1;33m:\u001b[0m\u001b[1;33m\u001b[0m\u001b[1;33m\u001b[0m\u001b[0m\n\u001b[0;32m    606\u001b[0m             \u001b[0mpath\u001b[0m \u001b[1;33m=\u001b[0m \u001b[0mself\u001b[0m\u001b[1;33m.\u001b[0m\u001b[0mget_path\u001b[0m\u001b[1;33m(\u001b[0m\u001b[1;33m)\u001b[0m\u001b[1;33m\u001b[0m\u001b[1;33m\u001b[0m\u001b[0m\n\u001b[1;32m--> 607\u001b[1;33m             \u001b[0mtransform\u001b[0m \u001b[1;33m=\u001b[0m \u001b[0mself\u001b[0m\u001b[1;33m.\u001b[0m\u001b[0mget_transform\u001b[0m\u001b[1;33m(\u001b[0m\u001b[1;33m)\u001b[0m\u001b[1;33m\u001b[0m\u001b[1;33m\u001b[0m\u001b[0m\n\u001b[0m\u001b[0;32m    608\u001b[0m             \u001b[0mtpath\u001b[0m \u001b[1;33m=\u001b[0m \u001b[0mtransform\u001b[0m\u001b[1;33m.\u001b[0m\u001b[0mtransform_path_non_affine\u001b[0m\u001b[1;33m(\u001b[0m\u001b[0mpath\u001b[0m\u001b[1;33m)\u001b[0m\u001b[1;33m\u001b[0m\u001b[1;33m\u001b[0m\u001b[0m\n\u001b[0;32m    609\u001b[0m             \u001b[0maffine\u001b[0m \u001b[1;33m=\u001b[0m \u001b[0mtransform\u001b[0m\u001b[1;33m.\u001b[0m\u001b[0mget_affine\u001b[0m\u001b[1;33m(\u001b[0m\u001b[1;33m)\u001b[0m\u001b[1;33m\u001b[0m\u001b[1;33m\u001b[0m\u001b[0m\n",
      "\u001b[1;32m~\\anaconda3\\lib\\site-packages\\matplotlib\\patches.py\u001b[0m in \u001b[0;36mget_transform\u001b[1;34m(self)\u001b[0m\n\u001b[0;32m    271\u001b[0m     \u001b[1;32mdef\u001b[0m \u001b[0mget_transform\u001b[0m\u001b[1;33m(\u001b[0m\u001b[0mself\u001b[0m\u001b[1;33m)\u001b[0m\u001b[1;33m:\u001b[0m\u001b[1;33m\u001b[0m\u001b[1;33m\u001b[0m\u001b[0m\n\u001b[0;32m    272\u001b[0m         \u001b[1;34m\"\"\"Return the `~.transforms.Transform` applied to the `Patch`.\"\"\"\u001b[0m\u001b[1;33m\u001b[0m\u001b[1;33m\u001b[0m\u001b[0m\n\u001b[1;32m--> 273\u001b[1;33m         \u001b[1;32mreturn\u001b[0m \u001b[0mself\u001b[0m\u001b[1;33m.\u001b[0m\u001b[0mget_patch_transform\u001b[0m\u001b[1;33m(\u001b[0m\u001b[1;33m)\u001b[0m \u001b[1;33m+\u001b[0m \u001b[0martist\u001b[0m\u001b[1;33m.\u001b[0m\u001b[0mArtist\u001b[0m\u001b[1;33m.\u001b[0m\u001b[0mget_transform\u001b[0m\u001b[1;33m(\u001b[0m\u001b[0mself\u001b[0m\u001b[1;33m)\u001b[0m\u001b[1;33m\u001b[0m\u001b[1;33m\u001b[0m\u001b[0m\n\u001b[0m\u001b[0;32m    274\u001b[0m \u001b[1;33m\u001b[0m\u001b[0m\n\u001b[0;32m    275\u001b[0m     \u001b[1;32mdef\u001b[0m \u001b[0mget_data_transform\u001b[0m\u001b[1;33m(\u001b[0m\u001b[0mself\u001b[0m\u001b[1;33m)\u001b[0m\u001b[1;33m:\u001b[0m\u001b[1;33m\u001b[0m\u001b[1;33m\u001b[0m\u001b[0m\n",
      "\u001b[1;32m~\\anaconda3\\lib\\site-packages\\matplotlib\\patches.py\u001b[0m in \u001b[0;36mget_patch_transform\u001b[1;34m(self)\u001b[0m\n\u001b[0;32m    777\u001b[0m         \u001b[0mbbox\u001b[0m \u001b[1;33m=\u001b[0m \u001b[0mself\u001b[0m\u001b[1;33m.\u001b[0m\u001b[0mget_bbox\u001b[0m\u001b[1;33m(\u001b[0m\u001b[1;33m)\u001b[0m\u001b[1;33m\u001b[0m\u001b[1;33m\u001b[0m\u001b[0m\n\u001b[0;32m    778\u001b[0m         return (transforms.BboxTransformTo(bbox)\n\u001b[1;32m--> 779\u001b[1;33m                 + transforms.Affine2D().rotate_deg_around(\n\u001b[0m\u001b[0;32m    780\u001b[0m                     bbox.x0, bbox.y0, self.angle))\n\u001b[0;32m    781\u001b[0m \u001b[1;33m\u001b[0m\u001b[0m\n",
      "\u001b[1;32m~\\anaconda3\\lib\\site-packages\\matplotlib\\transforms.py\u001b[0m in \u001b[0;36mrotate_deg_around\u001b[1;34m(self, x, y, degrees)\u001b[0m\n\u001b[0;32m   2000\u001b[0m         \u001b[1;31m# Cast to float to avoid wraparound issues with uint8's\u001b[0m\u001b[1;33m\u001b[0m\u001b[1;33m\u001b[0m\u001b[0m\n\u001b[0;32m   2001\u001b[0m         \u001b[0mx\u001b[0m\u001b[1;33m,\u001b[0m \u001b[0my\u001b[0m \u001b[1;33m=\u001b[0m \u001b[0mfloat\u001b[0m\u001b[1;33m(\u001b[0m\u001b[0mx\u001b[0m\u001b[1;33m)\u001b[0m\u001b[1;33m,\u001b[0m \u001b[0mfloat\u001b[0m\u001b[1;33m(\u001b[0m\u001b[0my\u001b[0m\u001b[1;33m)\u001b[0m\u001b[1;33m\u001b[0m\u001b[1;33m\u001b[0m\u001b[0m\n\u001b[1;32m-> 2002\u001b[1;33m         \u001b[1;32mreturn\u001b[0m \u001b[0mself\u001b[0m\u001b[1;33m.\u001b[0m\u001b[0mtranslate\u001b[0m\u001b[1;33m(\u001b[0m\u001b[1;33m-\u001b[0m\u001b[0mx\u001b[0m\u001b[1;33m,\u001b[0m \u001b[1;33m-\u001b[0m\u001b[0my\u001b[0m\u001b[1;33m)\u001b[0m\u001b[1;33m.\u001b[0m\u001b[0mrotate_deg\u001b[0m\u001b[1;33m(\u001b[0m\u001b[0mdegrees\u001b[0m\u001b[1;33m)\u001b[0m\u001b[1;33m.\u001b[0m\u001b[0mtranslate\u001b[0m\u001b[1;33m(\u001b[0m\u001b[0mx\u001b[0m\u001b[1;33m,\u001b[0m \u001b[0my\u001b[0m\u001b[1;33m)\u001b[0m\u001b[1;33m\u001b[0m\u001b[1;33m\u001b[0m\u001b[0m\n\u001b[0m\u001b[0;32m   2003\u001b[0m \u001b[1;33m\u001b[0m\u001b[0m\n\u001b[0;32m   2004\u001b[0m     \u001b[1;32mdef\u001b[0m \u001b[0mtranslate\u001b[0m\u001b[1;33m(\u001b[0m\u001b[0mself\u001b[0m\u001b[1;33m,\u001b[0m \u001b[0mtx\u001b[0m\u001b[1;33m,\u001b[0m \u001b[0mty\u001b[0m\u001b[1;33m)\u001b[0m\u001b[1;33m:\u001b[0m\u001b[1;33m\u001b[0m\u001b[1;33m\u001b[0m\u001b[0m\n",
      "\u001b[1;32m~\\anaconda3\\lib\\site-packages\\matplotlib\\transforms.py\u001b[0m in \u001b[0;36mrotate_deg\u001b[1;34m(self, degrees)\u001b[0m\n\u001b[0;32m   1978\u001b[0m         \u001b[1;32mand\u001b[0m \u001b[1;33m:\u001b[0m\u001b[0mmeth\u001b[0m\u001b[1;33m:\u001b[0m\u001b[0;31m`\u001b[0m\u001b[0mscale\u001b[0m\u001b[0;31m`\u001b[0m\u001b[1;33m.\u001b[0m\u001b[1;33m\u001b[0m\u001b[1;33m\u001b[0m\u001b[0m\n\u001b[0;32m   1979\u001b[0m         \"\"\"\n\u001b[1;32m-> 1980\u001b[1;33m         \u001b[1;32mreturn\u001b[0m \u001b[0mself\u001b[0m\u001b[1;33m.\u001b[0m\u001b[0mrotate\u001b[0m\u001b[1;33m(\u001b[0m\u001b[0mmath\u001b[0m\u001b[1;33m.\u001b[0m\u001b[0mradians\u001b[0m\u001b[1;33m(\u001b[0m\u001b[0mdegrees\u001b[0m\u001b[1;33m)\u001b[0m\u001b[1;33m)\u001b[0m\u001b[1;33m\u001b[0m\u001b[1;33m\u001b[0m\u001b[0m\n\u001b[0m\u001b[0;32m   1981\u001b[0m \u001b[1;33m\u001b[0m\u001b[0m\n\u001b[0;32m   1982\u001b[0m     \u001b[1;32mdef\u001b[0m \u001b[0mrotate_around\u001b[0m\u001b[1;33m(\u001b[0m\u001b[0mself\u001b[0m\u001b[1;33m,\u001b[0m \u001b[0mx\u001b[0m\u001b[1;33m,\u001b[0m \u001b[0my\u001b[0m\u001b[1;33m,\u001b[0m \u001b[0mtheta\u001b[0m\u001b[1;33m)\u001b[0m\u001b[1;33m:\u001b[0m\u001b[1;33m\u001b[0m\u001b[1;33m\u001b[0m\u001b[0m\n",
      "\u001b[1;32m~\\anaconda3\\lib\\site-packages\\matplotlib\\transforms.py\u001b[0m in \u001b[0;36mrotate\u001b[1;34m(self, theta)\u001b[0m\n\u001b[0;32m   1966\u001b[0m         rotate_mtx = np.array([[a, -b, 0.0], [b, a, 0.0], [0.0, 0.0, 1.0]],\n\u001b[0;32m   1967\u001b[0m                               float)\n\u001b[1;32m-> 1968\u001b[1;33m         \u001b[0mself\u001b[0m\u001b[1;33m.\u001b[0m\u001b[0m_mtx\u001b[0m \u001b[1;33m=\u001b[0m \u001b[0mnp\u001b[0m\u001b[1;33m.\u001b[0m\u001b[0mdot\u001b[0m\u001b[1;33m(\u001b[0m\u001b[0mrotate_mtx\u001b[0m\u001b[1;33m,\u001b[0m \u001b[0mself\u001b[0m\u001b[1;33m.\u001b[0m\u001b[0m_mtx\u001b[0m\u001b[1;33m)\u001b[0m\u001b[1;33m\u001b[0m\u001b[1;33m\u001b[0m\u001b[0m\n\u001b[0m\u001b[0;32m   1969\u001b[0m         \u001b[0mself\u001b[0m\u001b[1;33m.\u001b[0m\u001b[0minvalidate\u001b[0m\u001b[1;33m(\u001b[0m\u001b[1;33m)\u001b[0m\u001b[1;33m\u001b[0m\u001b[1;33m\u001b[0m\u001b[0m\n\u001b[0;32m   1970\u001b[0m         \u001b[1;32mreturn\u001b[0m \u001b[0mself\u001b[0m\u001b[1;33m\u001b[0m\u001b[1;33m\u001b[0m\u001b[0m\n",
      "\u001b[1;32m<__array_function__ internals>\u001b[0m in \u001b[0;36mdot\u001b[1;34m(*args, **kwargs)\u001b[0m\n",
      "\u001b[1;31mKeyboardInterrupt\u001b[0m: "
     ]
    },
    {
     "name": "stdout",
     "output_type": "stream",
     "text": [
      "Error in callback <function flush_figures at 0x000002B774F498B0> (for post_execute):\n"
     ]
    },
    {
     "ename": "KeyboardInterrupt",
     "evalue": "",
     "output_type": "error",
     "traceback": [
      "\u001b[1;31m---------------------------------------------------------------------------\u001b[0m",
      "\u001b[1;31mKeyboardInterrupt\u001b[0m                         Traceback (most recent call last)",
      "\u001b[1;32m~\\anaconda3\\lib\\site-packages\\matplotlib_inline\\backend_inline.py\u001b[0m in \u001b[0;36mflush_figures\u001b[1;34m()\u001b[0m\n\u001b[0;32m    119\u001b[0m         \u001b[1;31m# ignore the tracking, just draw and close all figures\u001b[0m\u001b[1;33m\u001b[0m\u001b[1;33m\u001b[0m\u001b[0m\n\u001b[0;32m    120\u001b[0m         \u001b[1;32mtry\u001b[0m\u001b[1;33m:\u001b[0m\u001b[1;33m\u001b[0m\u001b[1;33m\u001b[0m\u001b[0m\n\u001b[1;32m--> 121\u001b[1;33m             \u001b[1;32mreturn\u001b[0m \u001b[0mshow\u001b[0m\u001b[1;33m(\u001b[0m\u001b[1;32mTrue\u001b[0m\u001b[1;33m)\u001b[0m\u001b[1;33m\u001b[0m\u001b[1;33m\u001b[0m\u001b[0m\n\u001b[0m\u001b[0;32m    122\u001b[0m         \u001b[1;32mexcept\u001b[0m \u001b[0mException\u001b[0m \u001b[1;32mas\u001b[0m \u001b[0me\u001b[0m\u001b[1;33m:\u001b[0m\u001b[1;33m\u001b[0m\u001b[1;33m\u001b[0m\u001b[0m\n\u001b[0;32m    123\u001b[0m             \u001b[1;31m# safely show traceback if in IPython, else raise\u001b[0m\u001b[1;33m\u001b[0m\u001b[1;33m\u001b[0m\u001b[0m\n",
      "\u001b[1;32m~\\anaconda3\\lib\\site-packages\\matplotlib_inline\\backend_inline.py\u001b[0m in \u001b[0;36mshow\u001b[1;34m(close, block)\u001b[0m\n\u001b[0;32m     39\u001b[0m     \u001b[1;32mtry\u001b[0m\u001b[1;33m:\u001b[0m\u001b[1;33m\u001b[0m\u001b[1;33m\u001b[0m\u001b[0m\n\u001b[0;32m     40\u001b[0m         \u001b[1;32mfor\u001b[0m \u001b[0mfigure_manager\u001b[0m \u001b[1;32min\u001b[0m \u001b[0mGcf\u001b[0m\u001b[1;33m.\u001b[0m\u001b[0mget_all_fig_managers\u001b[0m\u001b[1;33m(\u001b[0m\u001b[1;33m)\u001b[0m\u001b[1;33m:\u001b[0m\u001b[1;33m\u001b[0m\u001b[1;33m\u001b[0m\u001b[0m\n\u001b[1;32m---> 41\u001b[1;33m             display(\n\u001b[0m\u001b[0;32m     42\u001b[0m                 \u001b[0mfigure_manager\u001b[0m\u001b[1;33m.\u001b[0m\u001b[0mcanvas\u001b[0m\u001b[1;33m.\u001b[0m\u001b[0mfigure\u001b[0m\u001b[1;33m,\u001b[0m\u001b[1;33m\u001b[0m\u001b[1;33m\u001b[0m\u001b[0m\n\u001b[0;32m     43\u001b[0m                 \u001b[0mmetadata\u001b[0m\u001b[1;33m=\u001b[0m\u001b[0m_fetch_figure_metadata\u001b[0m\u001b[1;33m(\u001b[0m\u001b[0mfigure_manager\u001b[0m\u001b[1;33m.\u001b[0m\u001b[0mcanvas\u001b[0m\u001b[1;33m.\u001b[0m\u001b[0mfigure\u001b[0m\u001b[1;33m)\u001b[0m\u001b[1;33m\u001b[0m\u001b[1;33m\u001b[0m\u001b[0m\n",
      "\u001b[1;32m~\\anaconda3\\lib\\site-packages\\IPython\\core\\display.py\u001b[0m in \u001b[0;36mdisplay\u001b[1;34m(include, exclude, metadata, transient, display_id, *objs, **kwargs)\u001b[0m\n\u001b[0;32m    318\u001b[0m             \u001b[0mpublish_display_data\u001b[0m\u001b[1;33m(\u001b[0m\u001b[0mdata\u001b[0m\u001b[1;33m=\u001b[0m\u001b[0mobj\u001b[0m\u001b[1;33m,\u001b[0m \u001b[0mmetadata\u001b[0m\u001b[1;33m=\u001b[0m\u001b[0mmetadata\u001b[0m\u001b[1;33m,\u001b[0m \u001b[1;33m**\u001b[0m\u001b[0mkwargs\u001b[0m\u001b[1;33m)\u001b[0m\u001b[1;33m\u001b[0m\u001b[1;33m\u001b[0m\u001b[0m\n\u001b[0;32m    319\u001b[0m         \u001b[1;32melse\u001b[0m\u001b[1;33m:\u001b[0m\u001b[1;33m\u001b[0m\u001b[1;33m\u001b[0m\u001b[0m\n\u001b[1;32m--> 320\u001b[1;33m             \u001b[0mformat_dict\u001b[0m\u001b[1;33m,\u001b[0m \u001b[0mmd_dict\u001b[0m \u001b[1;33m=\u001b[0m \u001b[0mformat\u001b[0m\u001b[1;33m(\u001b[0m\u001b[0mobj\u001b[0m\u001b[1;33m,\u001b[0m \u001b[0minclude\u001b[0m\u001b[1;33m=\u001b[0m\u001b[0minclude\u001b[0m\u001b[1;33m,\u001b[0m \u001b[0mexclude\u001b[0m\u001b[1;33m=\u001b[0m\u001b[0mexclude\u001b[0m\u001b[1;33m)\u001b[0m\u001b[1;33m\u001b[0m\u001b[1;33m\u001b[0m\u001b[0m\n\u001b[0m\u001b[0;32m    321\u001b[0m             \u001b[1;32mif\u001b[0m \u001b[1;32mnot\u001b[0m \u001b[0mformat_dict\u001b[0m\u001b[1;33m:\u001b[0m\u001b[1;33m\u001b[0m\u001b[1;33m\u001b[0m\u001b[0m\n\u001b[0;32m    322\u001b[0m                 \u001b[1;31m# nothing to display (e.g. _ipython_display_ took over)\u001b[0m\u001b[1;33m\u001b[0m\u001b[1;33m\u001b[0m\u001b[0m\n",
      "\u001b[1;32m~\\anaconda3\\lib\\site-packages\\IPython\\core\\formatters.py\u001b[0m in \u001b[0;36mformat\u001b[1;34m(self, obj, include, exclude)\u001b[0m\n\u001b[0;32m    178\u001b[0m             \u001b[0mmd\u001b[0m \u001b[1;33m=\u001b[0m \u001b[1;32mNone\u001b[0m\u001b[1;33m\u001b[0m\u001b[1;33m\u001b[0m\u001b[0m\n\u001b[0;32m    179\u001b[0m             \u001b[1;32mtry\u001b[0m\u001b[1;33m:\u001b[0m\u001b[1;33m\u001b[0m\u001b[1;33m\u001b[0m\u001b[0m\n\u001b[1;32m--> 180\u001b[1;33m                 \u001b[0mdata\u001b[0m \u001b[1;33m=\u001b[0m \u001b[0mformatter\u001b[0m\u001b[1;33m(\u001b[0m\u001b[0mobj\u001b[0m\u001b[1;33m)\u001b[0m\u001b[1;33m\u001b[0m\u001b[1;33m\u001b[0m\u001b[0m\n\u001b[0m\u001b[0;32m    181\u001b[0m             \u001b[1;32mexcept\u001b[0m\u001b[1;33m:\u001b[0m\u001b[1;33m\u001b[0m\u001b[1;33m\u001b[0m\u001b[0m\n\u001b[0;32m    182\u001b[0m                 \u001b[1;31m# FIXME: log the exception\u001b[0m\u001b[1;33m\u001b[0m\u001b[1;33m\u001b[0m\u001b[0m\n",
      "\u001b[1;32m~\\anaconda3\\lib\\site-packages\\decorator.py\u001b[0m in \u001b[0;36mfun\u001b[1;34m(*args, **kw)\u001b[0m\n\u001b[0;32m    230\u001b[0m             \u001b[1;32mif\u001b[0m \u001b[1;32mnot\u001b[0m \u001b[0mkwsyntax\u001b[0m\u001b[1;33m:\u001b[0m\u001b[1;33m\u001b[0m\u001b[1;33m\u001b[0m\u001b[0m\n\u001b[0;32m    231\u001b[0m                 \u001b[0margs\u001b[0m\u001b[1;33m,\u001b[0m \u001b[0mkw\u001b[0m \u001b[1;33m=\u001b[0m \u001b[0mfix\u001b[0m\u001b[1;33m(\u001b[0m\u001b[0margs\u001b[0m\u001b[1;33m,\u001b[0m \u001b[0mkw\u001b[0m\u001b[1;33m,\u001b[0m \u001b[0msig\u001b[0m\u001b[1;33m)\u001b[0m\u001b[1;33m\u001b[0m\u001b[1;33m\u001b[0m\u001b[0m\n\u001b[1;32m--> 232\u001b[1;33m             \u001b[1;32mreturn\u001b[0m \u001b[0mcaller\u001b[0m\u001b[1;33m(\u001b[0m\u001b[0mfunc\u001b[0m\u001b[1;33m,\u001b[0m \u001b[1;33m*\u001b[0m\u001b[1;33m(\u001b[0m\u001b[0mextras\u001b[0m \u001b[1;33m+\u001b[0m \u001b[0margs\u001b[0m\u001b[1;33m)\u001b[0m\u001b[1;33m,\u001b[0m \u001b[1;33m**\u001b[0m\u001b[0mkw\u001b[0m\u001b[1;33m)\u001b[0m\u001b[1;33m\u001b[0m\u001b[1;33m\u001b[0m\u001b[0m\n\u001b[0m\u001b[0;32m    233\u001b[0m     \u001b[0mfun\u001b[0m\u001b[1;33m.\u001b[0m\u001b[0m__name__\u001b[0m \u001b[1;33m=\u001b[0m \u001b[0mfunc\u001b[0m\u001b[1;33m.\u001b[0m\u001b[0m__name__\u001b[0m\u001b[1;33m\u001b[0m\u001b[1;33m\u001b[0m\u001b[0m\n\u001b[0;32m    234\u001b[0m     \u001b[0mfun\u001b[0m\u001b[1;33m.\u001b[0m\u001b[0m__doc__\u001b[0m \u001b[1;33m=\u001b[0m \u001b[0mfunc\u001b[0m\u001b[1;33m.\u001b[0m\u001b[0m__doc__\u001b[0m\u001b[1;33m\u001b[0m\u001b[1;33m\u001b[0m\u001b[0m\n",
      "\u001b[1;32m~\\anaconda3\\lib\\site-packages\\IPython\\core\\formatters.py\u001b[0m in \u001b[0;36mcatch_format_error\u001b[1;34m(method, self, *args, **kwargs)\u001b[0m\n\u001b[0;32m    222\u001b[0m     \u001b[1;34m\"\"\"show traceback on failed format call\"\"\"\u001b[0m\u001b[1;33m\u001b[0m\u001b[1;33m\u001b[0m\u001b[0m\n\u001b[0;32m    223\u001b[0m     \u001b[1;32mtry\u001b[0m\u001b[1;33m:\u001b[0m\u001b[1;33m\u001b[0m\u001b[1;33m\u001b[0m\u001b[0m\n\u001b[1;32m--> 224\u001b[1;33m         \u001b[0mr\u001b[0m \u001b[1;33m=\u001b[0m \u001b[0mmethod\u001b[0m\u001b[1;33m(\u001b[0m\u001b[0mself\u001b[0m\u001b[1;33m,\u001b[0m \u001b[1;33m*\u001b[0m\u001b[0margs\u001b[0m\u001b[1;33m,\u001b[0m \u001b[1;33m**\u001b[0m\u001b[0mkwargs\u001b[0m\u001b[1;33m)\u001b[0m\u001b[1;33m\u001b[0m\u001b[1;33m\u001b[0m\u001b[0m\n\u001b[0m\u001b[0;32m    225\u001b[0m     \u001b[1;32mexcept\u001b[0m \u001b[0mNotImplementedError\u001b[0m\u001b[1;33m:\u001b[0m\u001b[1;33m\u001b[0m\u001b[1;33m\u001b[0m\u001b[0m\n\u001b[0;32m    226\u001b[0m         \u001b[1;31m# don't warn on NotImplementedErrors\u001b[0m\u001b[1;33m\u001b[0m\u001b[1;33m\u001b[0m\u001b[0m\n",
      "\u001b[1;32m~\\anaconda3\\lib\\site-packages\\IPython\\core\\formatters.py\u001b[0m in \u001b[0;36m__call__\u001b[1;34m(self, obj)\u001b[0m\n\u001b[0;32m    339\u001b[0m                 \u001b[1;32mpass\u001b[0m\u001b[1;33m\u001b[0m\u001b[1;33m\u001b[0m\u001b[0m\n\u001b[0;32m    340\u001b[0m             \u001b[1;32melse\u001b[0m\u001b[1;33m:\u001b[0m\u001b[1;33m\u001b[0m\u001b[1;33m\u001b[0m\u001b[0m\n\u001b[1;32m--> 341\u001b[1;33m                 \u001b[1;32mreturn\u001b[0m \u001b[0mprinter\u001b[0m\u001b[1;33m(\u001b[0m\u001b[0mobj\u001b[0m\u001b[1;33m)\u001b[0m\u001b[1;33m\u001b[0m\u001b[1;33m\u001b[0m\u001b[0m\n\u001b[0m\u001b[0;32m    342\u001b[0m             \u001b[1;31m# Finally look for special method names\u001b[0m\u001b[1;33m\u001b[0m\u001b[1;33m\u001b[0m\u001b[0m\n\u001b[0;32m    343\u001b[0m             \u001b[0mmethod\u001b[0m \u001b[1;33m=\u001b[0m \u001b[0mget_real_method\u001b[0m\u001b[1;33m(\u001b[0m\u001b[0mobj\u001b[0m\u001b[1;33m,\u001b[0m \u001b[0mself\u001b[0m\u001b[1;33m.\u001b[0m\u001b[0mprint_method\u001b[0m\u001b[1;33m)\u001b[0m\u001b[1;33m\u001b[0m\u001b[1;33m\u001b[0m\u001b[0m\n",
      "\u001b[1;32m~\\anaconda3\\lib\\site-packages\\IPython\\core\\pylabtools.py\u001b[0m in \u001b[0;36mprint_figure\u001b[1;34m(fig, fmt, bbox_inches, base64, **kwargs)\u001b[0m\n\u001b[0;32m    149\u001b[0m         \u001b[0mFigureCanvasBase\u001b[0m\u001b[1;33m(\u001b[0m\u001b[0mfig\u001b[0m\u001b[1;33m)\u001b[0m\u001b[1;33m\u001b[0m\u001b[1;33m\u001b[0m\u001b[0m\n\u001b[0;32m    150\u001b[0m \u001b[1;33m\u001b[0m\u001b[0m\n\u001b[1;32m--> 151\u001b[1;33m     \u001b[0mfig\u001b[0m\u001b[1;33m.\u001b[0m\u001b[0mcanvas\u001b[0m\u001b[1;33m.\u001b[0m\u001b[0mprint_figure\u001b[0m\u001b[1;33m(\u001b[0m\u001b[0mbytes_io\u001b[0m\u001b[1;33m,\u001b[0m \u001b[1;33m**\u001b[0m\u001b[0mkw\u001b[0m\u001b[1;33m)\u001b[0m\u001b[1;33m\u001b[0m\u001b[1;33m\u001b[0m\u001b[0m\n\u001b[0m\u001b[0;32m    152\u001b[0m     \u001b[0mdata\u001b[0m \u001b[1;33m=\u001b[0m \u001b[0mbytes_io\u001b[0m\u001b[1;33m.\u001b[0m\u001b[0mgetvalue\u001b[0m\u001b[1;33m(\u001b[0m\u001b[1;33m)\u001b[0m\u001b[1;33m\u001b[0m\u001b[1;33m\u001b[0m\u001b[0m\n\u001b[0;32m    153\u001b[0m     \u001b[1;32mif\u001b[0m \u001b[0mfmt\u001b[0m \u001b[1;33m==\u001b[0m \u001b[1;34m'svg'\u001b[0m\u001b[1;33m:\u001b[0m\u001b[1;33m\u001b[0m\u001b[1;33m\u001b[0m\u001b[0m\n",
      "\u001b[1;32m~\\anaconda3\\lib\\site-packages\\matplotlib\\backend_bases.py\u001b[0m in \u001b[0;36mprint_figure\u001b[1;34m(self, filename, dpi, facecolor, edgecolor, orientation, format, bbox_inches, pad_inches, bbox_extra_artists, backend, **kwargs)\u001b[0m\n\u001b[0;32m   2232\u001b[0m             \u001b[1;32mif\u001b[0m \u001b[0mbbox_inches\u001b[0m\u001b[1;33m:\u001b[0m\u001b[1;33m\u001b[0m\u001b[1;33m\u001b[0m\u001b[0m\n\u001b[0;32m   2233\u001b[0m                 \u001b[1;32mif\u001b[0m \u001b[0mbbox_inches\u001b[0m \u001b[1;33m==\u001b[0m \u001b[1;34m\"tight\"\u001b[0m\u001b[1;33m:\u001b[0m\u001b[1;33m\u001b[0m\u001b[1;33m\u001b[0m\u001b[0m\n\u001b[1;32m-> 2234\u001b[1;33m                     bbox_inches = self.figure.get_tightbbox(\n\u001b[0m\u001b[0;32m   2235\u001b[0m                         renderer, bbox_extra_artists=bbox_extra_artists)\n\u001b[0;32m   2236\u001b[0m                     \u001b[1;32mif\u001b[0m \u001b[0mpad_inches\u001b[0m \u001b[1;32mis\u001b[0m \u001b[1;32mNone\u001b[0m\u001b[1;33m:\u001b[0m\u001b[1;33m\u001b[0m\u001b[1;33m\u001b[0m\u001b[0m\n",
      "\u001b[1;32m~\\anaconda3\\lib\\site-packages\\matplotlib\\figure.py\u001b[0m in \u001b[0;36mget_tightbbox\u001b[1;34m(self, renderer, bbox_extra_artists)\u001b[0m\n\u001b[0;32m   1637\u001b[0m \u001b[1;33m\u001b[0m\u001b[0m\n\u001b[0;32m   1638\u001b[0m         \u001b[1;32mfor\u001b[0m \u001b[0ma\u001b[0m \u001b[1;32min\u001b[0m \u001b[0martists\u001b[0m\u001b[1;33m:\u001b[0m\u001b[1;33m\u001b[0m\u001b[1;33m\u001b[0m\u001b[0m\n\u001b[1;32m-> 1639\u001b[1;33m             \u001b[0mbbox\u001b[0m \u001b[1;33m=\u001b[0m \u001b[0ma\u001b[0m\u001b[1;33m.\u001b[0m\u001b[0mget_tightbbox\u001b[0m\u001b[1;33m(\u001b[0m\u001b[0mrenderer\u001b[0m\u001b[1;33m)\u001b[0m\u001b[1;33m\u001b[0m\u001b[1;33m\u001b[0m\u001b[0m\n\u001b[0m\u001b[0;32m   1640\u001b[0m             \u001b[1;32mif\u001b[0m \u001b[0mbbox\u001b[0m \u001b[1;32mis\u001b[0m \u001b[1;32mnot\u001b[0m \u001b[1;32mNone\u001b[0m \u001b[1;32mand\u001b[0m \u001b[1;33m(\u001b[0m\u001b[0mbbox\u001b[0m\u001b[1;33m.\u001b[0m\u001b[0mwidth\u001b[0m \u001b[1;33m!=\u001b[0m \u001b[1;36m0\u001b[0m \u001b[1;32mor\u001b[0m \u001b[0mbbox\u001b[0m\u001b[1;33m.\u001b[0m\u001b[0mheight\u001b[0m \u001b[1;33m!=\u001b[0m \u001b[1;36m0\u001b[0m\u001b[1;33m)\u001b[0m\u001b[1;33m:\u001b[0m\u001b[1;33m\u001b[0m\u001b[1;33m\u001b[0m\u001b[0m\n\u001b[0;32m   1641\u001b[0m                 \u001b[0mbb\u001b[0m\u001b[1;33m.\u001b[0m\u001b[0mappend\u001b[0m\u001b[1;33m(\u001b[0m\u001b[0mbbox\u001b[0m\u001b[1;33m)\u001b[0m\u001b[1;33m\u001b[0m\u001b[1;33m\u001b[0m\u001b[0m\n",
      "\u001b[1;32m~\\anaconda3\\lib\\site-packages\\matplotlib\\artist.py\u001b[0m in \u001b[0;36mget_tightbbox\u001b[1;34m(self, renderer)\u001b[0m\n\u001b[0;32m    304\u001b[0m             \u001b[0mThe\u001b[0m \u001b[0menclosing\u001b[0m \u001b[0mbounding\u001b[0m \u001b[0mbox\u001b[0m \u001b[1;33m(\u001b[0m\u001b[1;32min\u001b[0m \u001b[0mfigure\u001b[0m \u001b[0mpixel\u001b[0m \u001b[0mcoordinates\u001b[0m\u001b[1;33m)\u001b[0m\u001b[1;33m.\u001b[0m\u001b[1;33m\u001b[0m\u001b[1;33m\u001b[0m\u001b[0m\n\u001b[0;32m    305\u001b[0m         \"\"\"\n\u001b[1;32m--> 306\u001b[1;33m         \u001b[0mbbox\u001b[0m \u001b[1;33m=\u001b[0m \u001b[0mself\u001b[0m\u001b[1;33m.\u001b[0m\u001b[0mget_window_extent\u001b[0m\u001b[1;33m(\u001b[0m\u001b[0mrenderer\u001b[0m\u001b[1;33m)\u001b[0m\u001b[1;33m\u001b[0m\u001b[1;33m\u001b[0m\u001b[0m\n\u001b[0m\u001b[0;32m    307\u001b[0m         \u001b[1;32mif\u001b[0m \u001b[0mself\u001b[0m\u001b[1;33m.\u001b[0m\u001b[0mget_clip_on\u001b[0m\u001b[1;33m(\u001b[0m\u001b[1;33m)\u001b[0m\u001b[1;33m:\u001b[0m\u001b[1;33m\u001b[0m\u001b[1;33m\u001b[0m\u001b[0m\n\u001b[0;32m    308\u001b[0m             \u001b[0mclip_box\u001b[0m \u001b[1;33m=\u001b[0m \u001b[0mself\u001b[0m\u001b[1;33m.\u001b[0m\u001b[0mget_clip_box\u001b[0m\u001b[1;33m(\u001b[0m\u001b[1;33m)\u001b[0m\u001b[1;33m\u001b[0m\u001b[1;33m\u001b[0m\u001b[0m\n",
      "\u001b[1;32m~\\anaconda3\\lib\\site-packages\\matplotlib\\patches.py\u001b[0m in \u001b[0;36mget_window_extent\u001b[1;34m(self, renderer)\u001b[0m\n\u001b[0;32m    619\u001b[0m \u001b[1;33m\u001b[0m\u001b[0m\n\u001b[0;32m    620\u001b[0m     \u001b[1;32mdef\u001b[0m \u001b[0mget_window_extent\u001b[0m\u001b[1;33m(\u001b[0m\u001b[0mself\u001b[0m\u001b[1;33m,\u001b[0m \u001b[0mrenderer\u001b[0m\u001b[1;33m=\u001b[0m\u001b[1;32mNone\u001b[0m\u001b[1;33m)\u001b[0m\u001b[1;33m:\u001b[0m\u001b[1;33m\u001b[0m\u001b[1;33m\u001b[0m\u001b[0m\n\u001b[1;32m--> 621\u001b[1;33m         \u001b[1;32mreturn\u001b[0m \u001b[0mself\u001b[0m\u001b[1;33m.\u001b[0m\u001b[0mget_path\u001b[0m\u001b[1;33m(\u001b[0m\u001b[1;33m)\u001b[0m\u001b[1;33m.\u001b[0m\u001b[0mget_extents\u001b[0m\u001b[1;33m(\u001b[0m\u001b[0mself\u001b[0m\u001b[1;33m.\u001b[0m\u001b[0mget_transform\u001b[0m\u001b[1;33m(\u001b[0m\u001b[1;33m)\u001b[0m\u001b[1;33m)\u001b[0m\u001b[1;33m\u001b[0m\u001b[1;33m\u001b[0m\u001b[0m\n\u001b[0m\u001b[0;32m    622\u001b[0m \u001b[1;33m\u001b[0m\u001b[0m\n\u001b[0;32m    623\u001b[0m     \u001b[1;32mdef\u001b[0m \u001b[0m_convert_xy_units\u001b[0m\u001b[1;33m(\u001b[0m\u001b[0mself\u001b[0m\u001b[1;33m,\u001b[0m \u001b[0mxy\u001b[0m\u001b[1;33m)\u001b[0m\u001b[1;33m:\u001b[0m\u001b[1;33m\u001b[0m\u001b[1;33m\u001b[0m\u001b[0m\n",
      "\u001b[1;32m~\\anaconda3\\lib\\site-packages\\matplotlib\\patches.py\u001b[0m in \u001b[0;36mget_transform\u001b[1;34m(self)\u001b[0m\n\u001b[0;32m    271\u001b[0m     \u001b[1;32mdef\u001b[0m \u001b[0mget_transform\u001b[0m\u001b[1;33m(\u001b[0m\u001b[0mself\u001b[0m\u001b[1;33m)\u001b[0m\u001b[1;33m:\u001b[0m\u001b[1;33m\u001b[0m\u001b[1;33m\u001b[0m\u001b[0m\n\u001b[0;32m    272\u001b[0m         \u001b[1;34m\"\"\"Return the `~.transforms.Transform` applied to the `Patch`.\"\"\"\u001b[0m\u001b[1;33m\u001b[0m\u001b[1;33m\u001b[0m\u001b[0m\n\u001b[1;32m--> 273\u001b[1;33m         \u001b[1;32mreturn\u001b[0m \u001b[0mself\u001b[0m\u001b[1;33m.\u001b[0m\u001b[0mget_patch_transform\u001b[0m\u001b[1;33m(\u001b[0m\u001b[1;33m)\u001b[0m \u001b[1;33m+\u001b[0m \u001b[0martist\u001b[0m\u001b[1;33m.\u001b[0m\u001b[0mArtist\u001b[0m\u001b[1;33m.\u001b[0m\u001b[0mget_transform\u001b[0m\u001b[1;33m(\u001b[0m\u001b[0mself\u001b[0m\u001b[1;33m)\u001b[0m\u001b[1;33m\u001b[0m\u001b[1;33m\u001b[0m\u001b[0m\n\u001b[0m\u001b[0;32m    274\u001b[0m \u001b[1;33m\u001b[0m\u001b[0m\n\u001b[0;32m    275\u001b[0m     \u001b[1;32mdef\u001b[0m \u001b[0mget_data_transform\u001b[0m\u001b[1;33m(\u001b[0m\u001b[0mself\u001b[0m\u001b[1;33m)\u001b[0m\u001b[1;33m:\u001b[0m\u001b[1;33m\u001b[0m\u001b[1;33m\u001b[0m\u001b[0m\n",
      "\u001b[1;32m~\\anaconda3\\lib\\site-packages\\matplotlib\\patches.py\u001b[0m in \u001b[0;36mget_patch_transform\u001b[1;34m(self)\u001b[0m\n\u001b[0;32m    777\u001b[0m         \u001b[0mbbox\u001b[0m \u001b[1;33m=\u001b[0m \u001b[0mself\u001b[0m\u001b[1;33m.\u001b[0m\u001b[0mget_bbox\u001b[0m\u001b[1;33m(\u001b[0m\u001b[1;33m)\u001b[0m\u001b[1;33m\u001b[0m\u001b[1;33m\u001b[0m\u001b[0m\n\u001b[0;32m    778\u001b[0m         return (transforms.BboxTransformTo(bbox)\n\u001b[1;32m--> 779\u001b[1;33m                 + transforms.Affine2D().rotate_deg_around(\n\u001b[0m\u001b[0;32m    780\u001b[0m                     bbox.x0, bbox.y0, self.angle))\n\u001b[0;32m    781\u001b[0m \u001b[1;33m\u001b[0m\u001b[0m\n",
      "\u001b[1;32m~\\anaconda3\\lib\\site-packages\\matplotlib\\transforms.py\u001b[0m in \u001b[0;36mrotate_deg_around\u001b[1;34m(self, x, y, degrees)\u001b[0m\n\u001b[0;32m   2000\u001b[0m         \u001b[1;31m# Cast to float to avoid wraparound issues with uint8's\u001b[0m\u001b[1;33m\u001b[0m\u001b[1;33m\u001b[0m\u001b[0m\n\u001b[0;32m   2001\u001b[0m         \u001b[0mx\u001b[0m\u001b[1;33m,\u001b[0m \u001b[0my\u001b[0m \u001b[1;33m=\u001b[0m \u001b[0mfloat\u001b[0m\u001b[1;33m(\u001b[0m\u001b[0mx\u001b[0m\u001b[1;33m)\u001b[0m\u001b[1;33m,\u001b[0m \u001b[0mfloat\u001b[0m\u001b[1;33m(\u001b[0m\u001b[0my\u001b[0m\u001b[1;33m)\u001b[0m\u001b[1;33m\u001b[0m\u001b[1;33m\u001b[0m\u001b[0m\n\u001b[1;32m-> 2002\u001b[1;33m         \u001b[1;32mreturn\u001b[0m \u001b[0mself\u001b[0m\u001b[1;33m.\u001b[0m\u001b[0mtranslate\u001b[0m\u001b[1;33m(\u001b[0m\u001b[1;33m-\u001b[0m\u001b[0mx\u001b[0m\u001b[1;33m,\u001b[0m \u001b[1;33m-\u001b[0m\u001b[0my\u001b[0m\u001b[1;33m)\u001b[0m\u001b[1;33m.\u001b[0m\u001b[0mrotate_deg\u001b[0m\u001b[1;33m(\u001b[0m\u001b[0mdegrees\u001b[0m\u001b[1;33m)\u001b[0m\u001b[1;33m.\u001b[0m\u001b[0mtranslate\u001b[0m\u001b[1;33m(\u001b[0m\u001b[0mx\u001b[0m\u001b[1;33m,\u001b[0m \u001b[0my\u001b[0m\u001b[1;33m)\u001b[0m\u001b[1;33m\u001b[0m\u001b[1;33m\u001b[0m\u001b[0m\n\u001b[0m\u001b[0;32m   2003\u001b[0m \u001b[1;33m\u001b[0m\u001b[0m\n\u001b[0;32m   2004\u001b[0m     \u001b[1;32mdef\u001b[0m \u001b[0mtranslate\u001b[0m\u001b[1;33m(\u001b[0m\u001b[0mself\u001b[0m\u001b[1;33m,\u001b[0m \u001b[0mtx\u001b[0m\u001b[1;33m,\u001b[0m \u001b[0mty\u001b[0m\u001b[1;33m)\u001b[0m\u001b[1;33m:\u001b[0m\u001b[1;33m\u001b[0m\u001b[1;33m\u001b[0m\u001b[0m\n",
      "\u001b[1;32m~\\anaconda3\\lib\\site-packages\\matplotlib\\transforms.py\u001b[0m in \u001b[0;36mrotate_deg\u001b[1;34m(self, degrees)\u001b[0m\n\u001b[0;32m   1978\u001b[0m         \u001b[1;32mand\u001b[0m \u001b[1;33m:\u001b[0m\u001b[0mmeth\u001b[0m\u001b[1;33m:\u001b[0m\u001b[0;31m`\u001b[0m\u001b[0mscale\u001b[0m\u001b[0;31m`\u001b[0m\u001b[1;33m.\u001b[0m\u001b[1;33m\u001b[0m\u001b[1;33m\u001b[0m\u001b[0m\n\u001b[0;32m   1979\u001b[0m         \"\"\"\n\u001b[1;32m-> 1980\u001b[1;33m         \u001b[1;32mreturn\u001b[0m \u001b[0mself\u001b[0m\u001b[1;33m.\u001b[0m\u001b[0mrotate\u001b[0m\u001b[1;33m(\u001b[0m\u001b[0mmath\u001b[0m\u001b[1;33m.\u001b[0m\u001b[0mradians\u001b[0m\u001b[1;33m(\u001b[0m\u001b[0mdegrees\u001b[0m\u001b[1;33m)\u001b[0m\u001b[1;33m)\u001b[0m\u001b[1;33m\u001b[0m\u001b[1;33m\u001b[0m\u001b[0m\n\u001b[0m\u001b[0;32m   1981\u001b[0m \u001b[1;33m\u001b[0m\u001b[0m\n\u001b[0;32m   1982\u001b[0m     \u001b[1;32mdef\u001b[0m \u001b[0mrotate_around\u001b[0m\u001b[1;33m(\u001b[0m\u001b[0mself\u001b[0m\u001b[1;33m,\u001b[0m \u001b[0mx\u001b[0m\u001b[1;33m,\u001b[0m \u001b[0my\u001b[0m\u001b[1;33m,\u001b[0m \u001b[0mtheta\u001b[0m\u001b[1;33m)\u001b[0m\u001b[1;33m:\u001b[0m\u001b[1;33m\u001b[0m\u001b[1;33m\u001b[0m\u001b[0m\n",
      "\u001b[1;32m~\\anaconda3\\lib\\site-packages\\matplotlib\\transforms.py\u001b[0m in \u001b[0;36mrotate\u001b[1;34m(self, theta)\u001b[0m\n\u001b[0;32m   1966\u001b[0m         rotate_mtx = np.array([[a, -b, 0.0], [b, a, 0.0], [0.0, 0.0, 1.0]],\n\u001b[0;32m   1967\u001b[0m                               float)\n\u001b[1;32m-> 1968\u001b[1;33m         \u001b[0mself\u001b[0m\u001b[1;33m.\u001b[0m\u001b[0m_mtx\u001b[0m \u001b[1;33m=\u001b[0m \u001b[0mnp\u001b[0m\u001b[1;33m.\u001b[0m\u001b[0mdot\u001b[0m\u001b[1;33m(\u001b[0m\u001b[0mrotate_mtx\u001b[0m\u001b[1;33m,\u001b[0m \u001b[0mself\u001b[0m\u001b[1;33m.\u001b[0m\u001b[0m_mtx\u001b[0m\u001b[1;33m)\u001b[0m\u001b[1;33m\u001b[0m\u001b[1;33m\u001b[0m\u001b[0m\n\u001b[0m\u001b[0;32m   1969\u001b[0m         \u001b[0mself\u001b[0m\u001b[1;33m.\u001b[0m\u001b[0minvalidate\u001b[0m\u001b[1;33m(\u001b[0m\u001b[1;33m)\u001b[0m\u001b[1;33m\u001b[0m\u001b[1;33m\u001b[0m\u001b[0m\n\u001b[0;32m   1970\u001b[0m         \u001b[1;32mreturn\u001b[0m \u001b[0mself\u001b[0m\u001b[1;33m\u001b[0m\u001b[1;33m\u001b[0m\u001b[0m\n",
      "\u001b[1;32m<__array_function__ internals>\u001b[0m in \u001b[0;36mdot\u001b[1;34m(*args, **kwargs)\u001b[0m\n",
      "\u001b[1;31mKeyboardInterrupt\u001b[0m: "
     ]
    }
   ],
   "source": [
    "%matplotlib inline\n",
    "sns.histplot(data.cost)"
   ]
  },
  {
   "cell_type": "markdown",
   "id": "04eed128",
   "metadata": {},
   "source": [
    "# "
   ]
  },
  {
   "cell_type": "code",
   "execution_count": 87,
   "id": "6877dbb9",
   "metadata": {
    "ExecuteTime": {
     "end_time": "2022-09-16T20:46:20.623275Z",
     "start_time": "2022-09-16T20:46:20.617352Z"
    },
    "scrolled": true
   },
   "outputs": [],
   "source": [
    "#data.drop(['name','country_origin_club','country_new_club'], axis=1, inplace =True)"
   ]
  },
  {
   "cell_type": "code",
   "execution_count": 60,
   "id": "c8f3f32a",
   "metadata": {
    "ExecuteTime": {
     "end_time": "2022-09-17T01:06:45.861980Z",
     "start_time": "2022-09-17T01:06:45.740271Z"
    }
   },
   "outputs": [],
   "source": [
    "data.to_csv('Cleaned Data')"
   ]
  }
 ],
 "metadata": {
  "kernelspec": {
   "display_name": "Python 3 (ipykernel)",
   "language": "python",
   "name": "python3"
  },
  "language_info": {
   "codemirror_mode": {
    "name": "ipython",
    "version": 3
   },
   "file_extension": ".py",
   "mimetype": "text/x-python",
   "name": "python",
   "nbconvert_exporter": "python",
   "pygments_lexer": "ipython3",
   "version": "3.9.7"
  }
 },
 "nbformat": 4,
 "nbformat_minor": 5
}
