{
 "cells": [
  {
   "cell_type": "markdown",
   "id": "aa3f46bb",
   "metadata": {},
   "source": [
    "# <center><font size=10, color=\"#8B0A50\t\"><u> Footbal Transfer </u> </font>"
   ]
  },
  {
   "cell_type": "markdown",
   "id": "4c638141",
   "metadata": {},
   "source": [
    "# Tables of contents"
   ]
  },
  {
   "cell_type": "markdown",
   "id": "3acb36f0",
   "metadata": {},
   "source": [
    "1. Business question\n",
    "2. Importing\n",
    "3. Wrangle\n",
    "4. Cleaning\n",
    "5. Visualization\n",
    "6. Preprocessing\n",
    "7. Modeling\n",
    "8. conclusions"
   ]
  },
  {
   "cell_type": "markdown",
   "id": "04093af0",
   "metadata": {},
   "source": [
    "# 1. Business Question"
   ]
  },
  {
   "cell_type": "markdown",
   "id": "b96eb615",
   "metadata": {},
   "source": [
    "This dataset includes all the operations in the summer window, whether transfers. It is an optimal dataset to perform EDA or analysis of transfer market data by club, country or league.\n",
    "we want to predict the cost of players by using ML algorithms."
   ]
  },
  {
   "cell_type": "markdown",
   "id": "495ce0ff",
   "metadata": {},
   "source": [
    "# 2. Importing"
   ]
  },
  {
   "cell_type": "code",
   "execution_count": 1,
   "id": "3c8b9e95",
   "metadata": {},
   "outputs": [],
   "source": [
    "import pandas as pd\n",
    "import numpy as np\n",
    "import matplotlib.pyplot as plt\n",
    "import seaborn as sns\n",
    "from sklearn.preprocessing import StandardScaler\n",
    "from sklearn.preprocessing import LabelEncoder\n",
    "from sklearn.model_selection import train_test_split\n",
    "from sklearn.linear_model import LinearRegression\n",
    "from sklearn.tree import DecisionTreeRegressor\n",
    "from sklearn.cluster import KMeans"
   ]
  },
  {
   "cell_type": "markdown",
   "id": "2c694ec2",
   "metadata": {},
   "source": [
    "# 3. Wrangle"
   ]
  },
  {
   "cell_type": "code",
   "execution_count": 2,
   "id": "58f9a886",
   "metadata": {},
   "outputs": [],
   "source": [
    "df=pd.read_csv(\"Summer22_FootballTransfers.csv\")"
   ]
  },
  {
   "cell_type": "code",
   "execution_count": 3,
   "id": "79759b8d",
   "metadata": {},
   "outputs": [
    {
     "data": {
      "text/html": [
       "<div>\n",
       "<style scoped>\n",
       "    .dataframe tbody tr th:only-of-type {\n",
       "        vertical-align: middle;\n",
       "    }\n",
       "\n",
       "    .dataframe tbody tr th {\n",
       "        vertical-align: top;\n",
       "    }\n",
       "\n",
       "    .dataframe thead th {\n",
       "        text-align: right;\n",
       "    }\n",
       "</style>\n",
       "<table border=\"1\" class=\"dataframe\">\n",
       "  <thead>\n",
       "    <tr style=\"text-align: right;\">\n",
       "      <th></th>\n",
       "      <th>name</th>\n",
       "      <th>position</th>\n",
       "      <th>age</th>\n",
       "      <th>origin_club</th>\n",
       "      <th>league_origin_club</th>\n",
       "      <th>country_origin_club</th>\n",
       "      <th>new_club</th>\n",
       "      <th>league_new_club</th>\n",
       "      <th>country_new_club</th>\n",
       "      <th>cost</th>\n",
       "      <th>date_of_transfer</th>\n",
       "    </tr>\n",
       "  </thead>\n",
       "  <tbody>\n",
       "    <tr>\n",
       "      <th>0</th>\n",
       "      <td>Amine Gouiri</td>\n",
       "      <td>Centre-Forward</td>\n",
       "      <td>22.0</td>\n",
       "      <td>OGC Nice</td>\n",
       "      <td>Ligue 1</td>\n",
       "      <td>France</td>\n",
       "      <td>Stade Rennais FC</td>\n",
       "      <td>Ligue 1</td>\n",
       "      <td>France</td>\n",
       "      <td>€42.00m</td>\n",
       "      <td>9/1/2022</td>\n",
       "    </tr>\n",
       "    <tr>\n",
       "      <th>1</th>\n",
       "      <td>Umar Sadiq</td>\n",
       "      <td>Centre-Forward</td>\n",
       "      <td>25.0</td>\n",
       "      <td>UD Almería</td>\n",
       "      <td>LaLiga</td>\n",
       "      <td>Spain</td>\n",
       "      <td>Real Sociedad</td>\n",
       "      <td>LaLiga</td>\n",
       "      <td>Spain</td>\n",
       "      <td>€18.00m</td>\n",
       "      <td>9/1/2022</td>\n",
       "    </tr>\n",
       "    <tr>\n",
       "      <th>2</th>\n",
       "      <td>Carlos Soler</td>\n",
       "      <td>Central Midfield</td>\n",
       "      <td>25.0</td>\n",
       "      <td>Valencia CF</td>\n",
       "      <td>LaLiga</td>\n",
       "      <td>Spain</td>\n",
       "      <td>Paris Saint-Germain</td>\n",
       "      <td>Ligue 1</td>\n",
       "      <td>France</td>\n",
       "      <td>€50.00m</td>\n",
       "      <td>9/1/2022</td>\n",
       "    </tr>\n",
       "    <tr>\n",
       "      <th>3</th>\n",
       "      <td>Manuel Akanji</td>\n",
       "      <td>Centre-Back</td>\n",
       "      <td>27.0</td>\n",
       "      <td>Borussia Dortmund</td>\n",
       "      <td>Bundesliga</td>\n",
       "      <td>Germany</td>\n",
       "      <td>Manchester City</td>\n",
       "      <td>Premier League</td>\n",
       "      <td>England</td>\n",
       "      <td>€30.00m</td>\n",
       "      <td>9/1/2022</td>\n",
       "    </tr>\n",
       "    <tr>\n",
       "      <th>4</th>\n",
       "      <td>Wout Faes</td>\n",
       "      <td>Centre-Back</td>\n",
       "      <td>24.0</td>\n",
       "      <td>Stade Reims</td>\n",
       "      <td>Ligue 1</td>\n",
       "      <td>France</td>\n",
       "      <td>Leicester City</td>\n",
       "      <td>Premier League</td>\n",
       "      <td>England</td>\n",
       "      <td>€10.00m</td>\n",
       "      <td>9/1/2022</td>\n",
       "    </tr>\n",
       "  </tbody>\n",
       "</table>\n",
       "</div>"
      ],
      "text/plain": [
       "            name          position   age        origin_club  \\\n",
       "0   Amine Gouiri    Centre-Forward  22.0           OGC Nice   \n",
       "1     Umar Sadiq    Centre-Forward  25.0         UD Almería   \n",
       "2   Carlos Soler  Central Midfield  25.0        Valencia CF   \n",
       "3  Manuel Akanji       Centre-Back  27.0  Borussia Dortmund   \n",
       "4      Wout Faes       Centre-Back  24.0        Stade Reims   \n",
       "\n",
       "  league_origin_club country_origin_club             new_club league_new_club  \\\n",
       "0            Ligue 1              France     Stade Rennais FC         Ligue 1   \n",
       "1             LaLiga               Spain        Real Sociedad          LaLiga   \n",
       "2             LaLiga               Spain  Paris Saint-Germain         Ligue 1   \n",
       "3         Bundesliga             Germany      Manchester City  Premier League   \n",
       "4            Ligue 1              France       Leicester City  Premier League   \n",
       "\n",
       "  country_new_club     cost date_of_transfer  \n",
       "0           France  €42.00m         9/1/2022  \n",
       "1            Spain  €18.00m         9/1/2022  \n",
       "2           France  €50.00m         9/1/2022  \n",
       "3          England  €30.00m         9/1/2022  \n",
       "4          England  €10.00m         9/1/2022  "
      ]
     },
     "execution_count": 3,
     "metadata": {},
     "output_type": "execute_result"
    }
   ],
   "source": [
    "df.head()"
   ]
  },
  {
   "cell_type": "code",
   "execution_count": 4,
   "id": "3515010a",
   "metadata": {},
   "outputs": [
    {
     "name": "stdout",
     "output_type": "stream",
     "text": [
      "<class 'pandas.core.frame.DataFrame'>\n",
      "RangeIndex: 33625 entries, 0 to 33624\n",
      "Data columns (total 11 columns):\n",
      " #   Column               Non-Null Count  Dtype  \n",
      "---  ------               --------------  -----  \n",
      " 0   name                 33620 non-null  object \n",
      " 1   position             33615 non-null  object \n",
      " 2   age                  33477 non-null  float64\n",
      " 3   origin_club          33620 non-null  object \n",
      " 4   league_origin_club   32685 non-null  object \n",
      " 5   country_origin_club  32690 non-null  object \n",
      " 6   new_club             33615 non-null  object \n",
      " 7   league_new_club      28047 non-null  object \n",
      " 8   country_new_club     28051 non-null  object \n",
      " 9   cost                 33621 non-null  object \n",
      " 10  date_of_transfer     33625 non-null  object \n",
      "dtypes: float64(1), object(10)\n",
      "memory usage: 2.8+ MB\n"
     ]
    }
   ],
   "source": [
    "df.info()"
   ]
  },
  {
   "attachments": {},
   "cell_type": "markdown",
   "id": "69915a70",
   "metadata": {},
   "source": [
    ">data contains on 10 features ( categorical data) and one column is numerical data"
   ]
  },
  {
   "cell_type": "code",
   "execution_count": 5,
   "id": "ef8fc051",
   "metadata": {},
   "outputs": [
    {
     "data": {
      "text/plain": [
       "Index(['name', 'position', 'age', 'origin_club', 'league_origin_club',\n",
       "       'country_origin_club', 'new_club', 'league_new_club',\n",
       "       'country_new_club', 'cost', 'date_of_transfer'],\n",
       "      dtype='object')"
      ]
     },
     "execution_count": 5,
     "metadata": {},
     "output_type": "execute_result"
    }
   ],
   "source": [
    "df.columns"
   ]
  },
  {
   "cell_type": "code",
   "execution_count": 6,
   "id": "b0eeb524",
   "metadata": {},
   "outputs": [
    {
     "data": {
      "text/plain": [
       "(33625, 11)"
      ]
     },
     "execution_count": 6,
     "metadata": {},
     "output_type": "execute_result"
    }
   ],
   "source": [
    "df.shape"
   ]
  },
  {
   "cell_type": "markdown",
   "id": "7236e1ff",
   "metadata": {},
   "source": [
    "> data has 33625 instances and 11 features"
   ]
  },
  {
   "cell_type": "markdown",
   "id": "21a26d3f",
   "metadata": {},
   "source": [
    "# Run Summary Descriptive Statistics "
   ]
  },
  {
   "cell_type": "code",
   "execution_count": 7,
   "id": "c11b2ba5",
   "metadata": {},
   "outputs": [
    {
     "data": {
      "text/html": [
       "<div>\n",
       "<style scoped>\n",
       "    .dataframe tbody tr th:only-of-type {\n",
       "        vertical-align: middle;\n",
       "    }\n",
       "\n",
       "    .dataframe tbody tr th {\n",
       "        vertical-align: top;\n",
       "    }\n",
       "\n",
       "    .dataframe thead th {\n",
       "        text-align: right;\n",
       "    }\n",
       "</style>\n",
       "<table border=\"1\" class=\"dataframe\">\n",
       "  <thead>\n",
       "    <tr style=\"text-align: right;\">\n",
       "      <th></th>\n",
       "      <th>age</th>\n",
       "    </tr>\n",
       "  </thead>\n",
       "  <tbody>\n",
       "    <tr>\n",
       "      <th>count</th>\n",
       "      <td>33477.000000</td>\n",
       "    </tr>\n",
       "    <tr>\n",
       "      <th>mean</th>\n",
       "      <td>25.020432</td>\n",
       "    </tr>\n",
       "    <tr>\n",
       "      <th>std</th>\n",
       "      <td>4.784488</td>\n",
       "    </tr>\n",
       "    <tr>\n",
       "      <th>min</th>\n",
       "      <td>15.000000</td>\n",
       "    </tr>\n",
       "    <tr>\n",
       "      <th>25%</th>\n",
       "      <td>21.000000</td>\n",
       "    </tr>\n",
       "    <tr>\n",
       "      <th>50%</th>\n",
       "      <td>24.000000</td>\n",
       "    </tr>\n",
       "    <tr>\n",
       "      <th>75%</th>\n",
       "      <td>28.000000</td>\n",
       "    </tr>\n",
       "    <tr>\n",
       "      <th>max</th>\n",
       "      <td>46.000000</td>\n",
       "    </tr>\n",
       "  </tbody>\n",
       "</table>\n",
       "</div>"
      ],
      "text/plain": [
       "                age\n",
       "count  33477.000000\n",
       "mean      25.020432\n",
       "std        4.784488\n",
       "min       15.000000\n",
       "25%       21.000000\n",
       "50%       24.000000\n",
       "75%       28.000000\n",
       "max       46.000000"
      ]
     },
     "execution_count": 7,
     "metadata": {},
     "output_type": "execute_result"
    }
   ],
   "source": [
    "df.describe()"
   ]
  },
  {
   "cell_type": "code",
   "execution_count": 8,
   "id": "94048108",
   "metadata": {},
   "outputs": [
    {
     "name": "stdout",
     "output_type": "stream",
     "text": [
      "==========================================================\n",
      "\t\tDescription of Categorical Data:\n",
      "==========================================================\n",
      "                     count unique           top   freq\n",
      "name                 33620  32577       Rafinha      7\n",
      "position             33615     16   Centre-Back   5338\n",
      "origin_club          33620   5819  Without Club    853\n",
      "league_origin_club   32685    462         Italy    930\n",
      "country_origin_club  32690    153         Italy   4760\n",
      "new_club             33615   6317  Without Club   4950\n",
      "league_new_club      28047    463         Italy    816\n",
      "country_new_club     28051    139         Italy   4003\n",
      "cost                 33621    118        €50Th.   5125\n",
      "date_of_transfer     33625     63      7/1/2022  14375\n",
      "==========================================================\n",
      "\n",
      "\n",
      "columns names of categorical(non-numerical) features: \n",
      " ['name' 'position' 'origin_club' 'league_origin_club'\n",
      " 'country_origin_club' 'new_club' 'league_new_club' 'country_new_club'\n",
      " 'cost' 'date_of_transfer']\n"
     ]
    }
   ],
   "source": [
    "# descripe Categorical Data \n",
    "data_descripe = df.describe(include=['O'])\n",
    "print('=' * 58)\n",
    "print('\\t\\tDescription of Categorical Data:')\n",
    "print('=' * 58)\n",
    "print(data_descripe.T)\n",
    "print('=' * 58)\n",
    "\n",
    "\n",
    "# store 'categorical' or 'non-numerical' features \n",
    "non_numeric_fets = data_descripe.columns\n",
    "\n",
    "print('\\n\\ncolumns names of categorical(non-numerical) features: \\n', non_numeric_fets.values)"
   ]
  },
  {
   "attachments": {},
   "cell_type": "markdown",
   "id": "fedcb2c8",
   "metadata": {},
   "source": [
    "### Dataset problems\n",
    "1. Some columns has vales that doesn’t have meaning such as Unknown , without club , Retired and career break.\n",
    "\n",
    "2. Column cost is object and contains symbols as € , th , . and  m . It needs to filtering and converts it into numerical.\n",
    "\n",
    "3. Column Date of transfer is an object not date.\n",
    "\n",
    "4. There are NaN values in almost null columns . \n",
    "\n",
    "5. Renaming columns , becomes it easy to use . \n",
    "\n",
    "6. Range Constrains and remove outliter in Cost feature."
   ]
  },
  {
   "attachments": {},
   "cell_type": "markdown",
   "id": "8e1974a9",
   "metadata": {},
   "source": [
    "# Handling dataset problems column by column"
   ]
  },
  {
   "cell_type": "markdown",
   "id": "373b0947",
   "metadata": {},
   "source": [
    "# 4. cleaning"
   ]
  },
  {
   "cell_type": "markdown",
   "id": "143d2f50",
   "metadata": {},
   "source": [
    "### Renaming the columns"
   ]
  },
  {
   "cell_type": "code",
   "execution_count": 9,
   "id": "dd5d42f2",
   "metadata": {},
   "outputs": [
    {
     "data": {
      "text/plain": [
       "Index(['name', 'position', 'age', 'origin_club', 'league_origin_club',\n",
       "       'country_origin_club', 'new_club', 'league_new_club',\n",
       "       'country_new_club', 'cost', 'date_of_transfer'],\n",
       "      dtype='object')"
      ]
     },
     "execution_count": 9,
     "metadata": {},
     "output_type": "execute_result"
    }
   ],
   "source": [
    "df.columns"
   ]
  },
  {
   "cell_type": "code",
   "execution_count": 10,
   "id": "82acf6e7",
   "metadata": {},
   "outputs": [],
   "source": [
    "df.rename({'origin_club':'OriginClub','league_origin_club':'LeagueOriginClub','country_origin_club':'CountryOriginClub',\n",
    "           'new_club':'NewClub','league_new_club':'LeagueNewClub','country_new_club':'CountryNewClub',\n",
    "           'date_of_transfer':'DateOfTransfer','name':'Name','position':'Position','cost':'Cost','age':'Age'}\n",
    "          ,axis=1,inplace=True)"
   ]
  },
  {
   "cell_type": "code",
   "execution_count": 11,
   "id": "ebfc374b",
   "metadata": {},
   "outputs": [
    {
     "data": {
      "text/plain": [
       "Index(['Name', 'Position', 'Age', 'OriginClub', 'LeagueOriginClub',\n",
       "       'CountryOriginClub', 'NewClub', 'LeagueNewClub', 'CountryNewClub',\n",
       "       'Cost', 'DateOfTransfer'],\n",
       "      dtype='object')"
      ]
     },
     "execution_count": 11,
     "metadata": {},
     "output_type": "execute_result"
    }
   ],
   "source": [
    "df.columns"
   ]
  },
  {
   "cell_type": "markdown",
   "id": "6b836681",
   "metadata": {},
   "source": [
    "### converting DateOfTransfer into date"
   ]
  },
  {
   "cell_type": "code",
   "execution_count": 12,
   "id": "4a275526",
   "metadata": {},
   "outputs": [],
   "source": [
    "df['DateOfTransfer']=pd.to_datetime(df['DateOfTransfer'])"
   ]
  },
  {
   "cell_type": "code",
   "execution_count": 13,
   "id": "ce47a389",
   "metadata": {},
   "outputs": [
    {
     "data": {
      "text/plain": [
       "dtype('<M8[ns]')"
      ]
     },
     "execution_count": 13,
     "metadata": {},
     "output_type": "execute_result"
    }
   ],
   "source": [
    "df[\"DateOfTransfer\"].dtype"
   ]
  },
  {
   "cell_type": "markdown",
   "id": "b50f7333",
   "metadata": {},
   "source": [
    "### what's monthes of transfers players ?"
   ]
  },
  {
   "cell_type": "code",
   "execution_count": 14,
   "id": "a78cb96d",
   "metadata": {},
   "outputs": [],
   "source": [
    "df['MonthOfTransfer']=df[\"DateOfTransfer\"].dt.month"
   ]
  },
  {
   "cell_type": "code",
   "execution_count": 15,
   "id": "ab9c66cf",
   "metadata": {},
   "outputs": [
    {
     "data": {
      "text/plain": [
       "array([9, 8, 7], dtype=int64)"
      ]
     },
     "execution_count": 15,
     "metadata": {},
     "output_type": "execute_result"
    }
   ],
   "source": [
    "df['MonthOfTransfer'].unique()"
   ]
  },
  {
   "cell_type": "markdown",
   "id": "93c9af6c",
   "metadata": {},
   "source": [
    "### Filtering cost and converting it into numerical"
   ]
  },
  {
   "cell_type": "code",
   "execution_count": 16,
   "id": "cf8b2954",
   "metadata": {},
   "outputs": [
    {
     "data": {
      "text/plain": [
       "dtype('O')"
      ]
     },
     "execution_count": 16,
     "metadata": {},
     "output_type": "execute_result"
    }
   ],
   "source": [
    "df['Cost'].dtype"
   ]
  },
  {
   "cell_type": "code",
   "execution_count": 17,
   "id": "0a33b0bc",
   "metadata": {},
   "outputs": [
    {
     "name": "stderr",
     "output_type": "stream",
     "text": [
      "C:\\Users\\Admin\\AppData\\Local\\Temp\\ipykernel_8528\\1832840756.py:2: FutureWarning: The default value of regex will change from True to False in a future version.\n",
      "  df['Cost'] = df.Cost.str.replace('Th.','000')\n",
      "C:\\Users\\Admin\\AppData\\Local\\Temp\\ipykernel_8528\\1832840756.py:4: FutureWarning: The default value of regex will change from True to False in a future version. In addition, single character regular expressions will *not* be treated as literal strings when regex=True.\n",
      "  df['Cost'] = df.Cost.str.replace('.','')\n"
     ]
    }
   ],
   "source": [
    "df['Cost']=df['Cost'].str.strip('€')\n",
    "df['Cost'] = df.Cost.str.replace('Th.','000')\n",
    "df['Cost'] = df.Cost.str.replace('m','0.000')\n",
    "df['Cost'] = df.Cost.str.replace('.','')"
   ]
  },
  {
   "cell_type": "code",
   "execution_count": 18,
   "id": "ba754e55",
   "metadata": {},
   "outputs": [
    {
     "data": {
      "text/plain": [
       "<bound method NDFrame.astype of 0        42000000\n",
       "1        18000000\n",
       "2        50000000\n",
       "3        30000000\n",
       "4        10000000\n",
       "           ...   \n",
       "33620       10000\n",
       "33621       10000\n",
       "33622       10000\n",
       "33623       10000\n",
       "33624       25000\n",
       "Name: Cost, Length: 33625, dtype: object>"
      ]
     },
     "execution_count": 18,
     "metadata": {},
     "output_type": "execute_result"
    }
   ],
   "source": [
    "df['Cost'].astype"
   ]
  },
  {
   "cell_type": "markdown",
   "id": "7f23ba30",
   "metadata": {},
   "source": [
    "### Filtering null values"
   ]
  },
  {
   "cell_type": "code",
   "execution_count": 19,
   "id": "e66f5e09",
   "metadata": {},
   "outputs": [
    {
     "data": {
      "text/plain": [
       "Name                    5\n",
       "Position               10\n",
       "Age                   148\n",
       "OriginClub              5\n",
       "LeagueOriginClub      940\n",
       "CountryOriginClub     935\n",
       "NewClub                10\n",
       "LeagueNewClub        5578\n",
       "CountryNewClub       5574\n",
       "Cost                    4\n",
       "DateOfTransfer          0\n",
       "MonthOfTransfer         0\n",
       "dtype: int64"
      ]
     },
     "execution_count": 19,
     "metadata": {},
     "output_type": "execute_result"
    }
   ],
   "source": [
    "df.isnull().sum()"
   ]
  },
  {
   "cell_type": "code",
   "execution_count": 20,
   "id": "a707056d",
   "metadata": {},
   "outputs": [
    {
     "data": {
      "text/plain": [
       "(33625, 12)"
      ]
     },
     "execution_count": 20,
     "metadata": {},
     "output_type": "execute_result"
    }
   ],
   "source": [
    "df.shape"
   ]
  },
  {
   "cell_type": "code",
   "execution_count": 21,
   "id": "87998e87",
   "metadata": {},
   "outputs": [],
   "source": [
    "##=================================================================================\n",
    "#interpolation is a technique in python used to estimate unknown data points between known data points\n",
    "#interpolation is mostly used to impute missing values in dataframe\n",
    "##=================================================================================\n",
    "df['Age'].interpolate(inplace=True)\n",
    "df['Cost'].interpolate(inplace=True)"
   ]
  },
  {
   "cell_type": "code",
   "execution_count": 22,
   "id": "52761065",
   "metadata": {},
   "outputs": [],
   "source": [
    "df['Position'].fillna(df['Position'].mode().iloc[0],inplace=True)\n",
    "df.dropna(subset=['Name','OriginClub','LeagueOriginClub','CountryOriginClub','NewClub','LeagueNewClub','CountryNewClub'],inplace=True)"
   ]
  },
  {
   "cell_type": "code",
   "execution_count": 23,
   "id": "bfdefe43",
   "metadata": {},
   "outputs": [
    {
     "data": {
      "text/plain": [
       "Name                 0\n",
       "Position             0\n",
       "Age                  0\n",
       "OriginClub           0\n",
       "LeagueOriginClub     0\n",
       "CountryOriginClub    0\n",
       "NewClub              0\n",
       "LeagueNewClub        0\n",
       "CountryNewClub       0\n",
       "Cost                 0\n",
       "DateOfTransfer       0\n",
       "MonthOfTransfer      0\n",
       "dtype: int64"
      ]
     },
     "execution_count": 23,
     "metadata": {},
     "output_type": "execute_result"
    }
   ],
   "source": [
    "df.isnull().sum()"
   ]
  },
  {
   "cell_type": "code",
   "execution_count": 24,
   "id": "f5d50390",
   "metadata": {},
   "outputs": [
    {
     "data": {
      "text/plain": [
       "(27126, 12)"
      ]
     },
     "execution_count": 24,
     "metadata": {},
     "output_type": "execute_result"
    }
   ],
   "source": [
    "df.shape"
   ]
  },
  {
   "cell_type": "markdown",
   "id": "025e28c6",
   "metadata": {},
   "source": [
    "### convert to integers"
   ]
  },
  {
   "cell_type": "code",
   "execution_count": 25,
   "id": "b3ec1cc0",
   "metadata": {},
   "outputs": [
    {
     "data": {
      "text/plain": [
       "dtype('float64')"
      ]
     },
     "execution_count": 25,
     "metadata": {},
     "output_type": "execute_result"
    }
   ],
   "source": [
    "df['Age'].dtype"
   ]
  },
  {
   "cell_type": "code",
   "execution_count": 26,
   "id": "7520ee77",
   "metadata": {},
   "outputs": [],
   "source": [
    "df['Age']=df['Age'].astype('int')"
   ]
  },
  {
   "cell_type": "code",
   "execution_count": 27,
   "id": "18a3debf",
   "metadata": {},
   "outputs": [],
   "source": [
    "df['Cost']=pd.to_numeric(df['Cost']).astype('int')"
   ]
  },
  {
   "cell_type": "code",
   "execution_count": 28,
   "id": "dc0aff52",
   "metadata": {},
   "outputs": [
    {
     "data": {
      "text/plain": [
       "dtype('int32')"
      ]
     },
     "execution_count": 28,
     "metadata": {},
     "output_type": "execute_result"
    }
   ],
   "source": [
    "df['Cost'].dtype"
   ]
  },
  {
   "cell_type": "code",
   "execution_count": 29,
   "id": "08068bed",
   "metadata": {
    "scrolled": true
   },
   "outputs": [
    {
     "data": {
      "text/html": [
       "<div>\n",
       "<style scoped>\n",
       "    .dataframe tbody tr th:only-of-type {\n",
       "        vertical-align: middle;\n",
       "    }\n",
       "\n",
       "    .dataframe tbody tr th {\n",
       "        vertical-align: top;\n",
       "    }\n",
       "\n",
       "    .dataframe thead th {\n",
       "        text-align: right;\n",
       "    }\n",
       "</style>\n",
       "<table border=\"1\" class=\"dataframe\">\n",
       "  <thead>\n",
       "    <tr style=\"text-align: right;\">\n",
       "      <th></th>\n",
       "      <th>Name</th>\n",
       "      <th>Position</th>\n",
       "      <th>Age</th>\n",
       "      <th>OriginClub</th>\n",
       "      <th>LeagueOriginClub</th>\n",
       "      <th>CountryOriginClub</th>\n",
       "      <th>NewClub</th>\n",
       "      <th>LeagueNewClub</th>\n",
       "      <th>CountryNewClub</th>\n",
       "      <th>Cost</th>\n",
       "      <th>DateOfTransfer</th>\n",
       "      <th>MonthOfTransfer</th>\n",
       "    </tr>\n",
       "  </thead>\n",
       "  <tbody>\n",
       "    <tr>\n",
       "      <th>0</th>\n",
       "      <td>Amine Gouiri</td>\n",
       "      <td>Centre-Forward</td>\n",
       "      <td>22</td>\n",
       "      <td>OGC Nice</td>\n",
       "      <td>Ligue 1</td>\n",
       "      <td>France</td>\n",
       "      <td>Stade Rennais FC</td>\n",
       "      <td>Ligue 1</td>\n",
       "      <td>France</td>\n",
       "      <td>42000000</td>\n",
       "      <td>2022-09-01</td>\n",
       "      <td>9</td>\n",
       "    </tr>\n",
       "    <tr>\n",
       "      <th>1</th>\n",
       "      <td>Umar Sadiq</td>\n",
       "      <td>Centre-Forward</td>\n",
       "      <td>25</td>\n",
       "      <td>UD Almería</td>\n",
       "      <td>LaLiga</td>\n",
       "      <td>Spain</td>\n",
       "      <td>Real Sociedad</td>\n",
       "      <td>LaLiga</td>\n",
       "      <td>Spain</td>\n",
       "      <td>18000000</td>\n",
       "      <td>2022-09-01</td>\n",
       "      <td>9</td>\n",
       "    </tr>\n",
       "    <tr>\n",
       "      <th>2</th>\n",
       "      <td>Carlos Soler</td>\n",
       "      <td>Central Midfield</td>\n",
       "      <td>25</td>\n",
       "      <td>Valencia CF</td>\n",
       "      <td>LaLiga</td>\n",
       "      <td>Spain</td>\n",
       "      <td>Paris Saint-Germain</td>\n",
       "      <td>Ligue 1</td>\n",
       "      <td>France</td>\n",
       "      <td>50000000</td>\n",
       "      <td>2022-09-01</td>\n",
       "      <td>9</td>\n",
       "    </tr>\n",
       "    <tr>\n",
       "      <th>3</th>\n",
       "      <td>Manuel Akanji</td>\n",
       "      <td>Centre-Back</td>\n",
       "      <td>27</td>\n",
       "      <td>Borussia Dortmund</td>\n",
       "      <td>Bundesliga</td>\n",
       "      <td>Germany</td>\n",
       "      <td>Manchester City</td>\n",
       "      <td>Premier League</td>\n",
       "      <td>England</td>\n",
       "      <td>30000000</td>\n",
       "      <td>2022-09-01</td>\n",
       "      <td>9</td>\n",
       "    </tr>\n",
       "    <tr>\n",
       "      <th>4</th>\n",
       "      <td>Wout Faes</td>\n",
       "      <td>Centre-Back</td>\n",
       "      <td>24</td>\n",
       "      <td>Stade Reims</td>\n",
       "      <td>Ligue 1</td>\n",
       "      <td>France</td>\n",
       "      <td>Leicester City</td>\n",
       "      <td>Premier League</td>\n",
       "      <td>England</td>\n",
       "      <td>10000000</td>\n",
       "      <td>2022-09-01</td>\n",
       "      <td>9</td>\n",
       "    </tr>\n",
       "  </tbody>\n",
       "</table>\n",
       "</div>"
      ],
      "text/plain": [
       "            Name          Position  Age         OriginClub LeagueOriginClub  \\\n",
       "0   Amine Gouiri    Centre-Forward   22           OGC Nice          Ligue 1   \n",
       "1     Umar Sadiq    Centre-Forward   25         UD Almería           LaLiga   \n",
       "2   Carlos Soler  Central Midfield   25        Valencia CF           LaLiga   \n",
       "3  Manuel Akanji       Centre-Back   27  Borussia Dortmund       Bundesliga   \n",
       "4      Wout Faes       Centre-Back   24        Stade Reims          Ligue 1   \n",
       "\n",
       "  CountryOriginClub              NewClub   LeagueNewClub CountryNewClub  \\\n",
       "0            France     Stade Rennais FC         Ligue 1         France   \n",
       "1             Spain        Real Sociedad          LaLiga          Spain   \n",
       "2             Spain  Paris Saint-Germain         Ligue 1         France   \n",
       "3           Germany      Manchester City  Premier League        England   \n",
       "4            France       Leicester City  Premier League        England   \n",
       "\n",
       "       Cost DateOfTransfer  MonthOfTransfer  \n",
       "0  42000000     2022-09-01                9  \n",
       "1  18000000     2022-09-01                9  \n",
       "2  50000000     2022-09-01                9  \n",
       "3  30000000     2022-09-01                9  \n",
       "4  10000000     2022-09-01                9  "
      ]
     },
     "execution_count": 29,
     "metadata": {},
     "output_type": "execute_result"
    }
   ],
   "source": [
    "df.head()"
   ]
  },
  {
   "cell_type": "markdown",
   "id": "14fbd72b",
   "metadata": {},
   "source": [
    "### Filtering categorical data"
   ]
  },
  {
   "cell_type": "code",
   "execution_count": 30,
   "id": "b6d81692",
   "metadata": {},
   "outputs": [],
   "source": [
    "##=================================================================================\n",
    "##      The fillna() method replaces the NULL values with a specified value.\n",
    "##      Syntax:\n",
    "##      dataframe.fillna(value, method, axis, inplace, limit, downcast)\n",
    "##=================================================================================\n",
    "\n",
    "df.LeagueOriginClub.fillna('No club',inplace=True)\n",
    "df.CountryOriginClub.fillna('No club',inplace=True)\n",
    "##=================================================================================\n",
    "##      If the value is 'Unknown' or 'Without Club' it will be changed to 'No Club'.\n",
    "##=================================================================================\n",
    "df.loc[df['OriginClub']=='Unknown','OriginClub'] = 'No club'\n",
    "df.loc[df['OriginClub']=='Without Club','OriginClub'] = 'No club'\n",
    "df.loc[df['NewClub']=='Without Club','NewClub'] = 'No club'\n",
    "df.loc[df['NewClub']=='Retired','NewClub'] = 'No club'\n",
    "df.loc[df['NewClub']=='Unknown','NewClub'] = 'No club'\n",
    "df.loc[df['NewClub']=='Career break','NewClub'] = 'No club'\n",
    "df.NewClub.fillna('No club',inplace=True)"
   ]
  },
  {
   "cell_type": "markdown",
   "id": "0316aab4",
   "metadata": {},
   "source": [
    "## check duplicate data"
   ]
  },
  {
   "cell_type": "code",
   "execution_count": 31,
   "id": "c71cf13f",
   "metadata": {},
   "outputs": [
    {
     "data": {
      "text/plain": [
       "0"
      ]
     },
     "execution_count": 31,
     "metadata": {},
     "output_type": "execute_result"
    }
   ],
   "source": [
    "df.duplicated().sum()"
   ]
  },
  {
   "cell_type": "markdown",
   "id": "a99cf5f8",
   "metadata": {},
   "source": [
    "## 5. Visualization"
   ]
  },
  {
   "cell_type": "markdown",
   "id": "5e76298d",
   "metadata": {},
   "source": [
    "### Is Age of player affect on its cost ?"
   ]
  },
  {
   "cell_type": "code",
   "execution_count": 32,
   "id": "aff85e16",
   "metadata": {},
   "outputs": [
    {
     "data": {
      "image/png": "[encoded data removed]",
      "text/plain": [
       "<Figure size 360x360 with 1 Axes>"
      ]
     },
     "metadata": {
      "needs_background": "light"
     },
     "output_type": "display_data"
    }
   ],
   "source": [
    "sns.relplot(x='Age',y='Cost',data=df,kind='line');"
   ]
  },
  {
   "cell_type": "markdown",
   "id": "4028c672",
   "metadata": {},
   "source": [
    "1. in the age between 20 and 35 the price of player is very high\n",
    "2. the most cost in age almost 30\n",
    "3. the less cost is a budding player"
   ]
  },
  {
   "cell_type": "markdown",
   "id": "f910d7a0",
   "metadata": {},
   "source": [
    "### Is month of transfer affect on player cost?"
   ]
  },
  {
   "cell_type": "code",
   "execution_count": 33,
   "id": "1363f25d",
   "metadata": {},
   "outputs": [
    {
     "data": {
      "image/png": "[encoded data removed]",
      "text/plain": [
       "<Figure size 360x360 with 1 Axes>"
      ]
     },
     "metadata": {
      "needs_background": "light"
     },
     "output_type": "display_data"
    }
   ],
   "source": [
    "sns.relplot(x='MonthOfTransfer',y='Cost',data=df,kind='line');"
   ]
  },
  {
   "cell_type": "markdown",
   "id": "6927a2eb",
   "metadata": {},
   "source": [
    "1. if player transfers in month 9 , his cost will be very high\n",
    "2. if player transfers in month 8 , his cost will be low"
   ]
  },
  {
   "cell_type": "markdown",
   "id": "3dff2b0c",
   "metadata": {},
   "source": [
    "### Player position"
   ]
  },
  {
   "cell_type": "code",
   "execution_count": 34,
   "id": "23712577",
   "metadata": {},
   "outputs": [
    {
     "data": {
      "image/png": "[encoded data removed]",
      "text/plain": [
       "<Figure size 432x288 with 1 Axes>"
      ]
     },
     "metadata": {
      "needs_background": "light"
     },
     "output_type": "display_data"
    }
   ],
   "source": [
    "sns.countplot(y=df['Position']);"
   ]
  },
  {
   "cell_type": "markdown",
   "id": "e656aaa6",
   "metadata": {},
   "source": [
    "> The most common position in thus dataset is Center-Back and Centre-Forward but the lowest is attack"
   ]
  },
  {
   "cell_type": "markdown",
   "id": "739cca69",
   "metadata": {},
   "source": [
    "### Which position of player has the most expensive price ?"
   ]
  },
  {
   "cell_type": "code",
   "execution_count": 35,
   "id": "06eaaa94",
   "metadata": {},
   "outputs": [
    {
     "data": {
      "text/plain": [
       "116"
      ]
     },
     "execution_count": 35,
     "metadata": {},
     "output_type": "execute_result"
    }
   ],
   "source": [
    "df.Cost.nunique()"
   ]
  },
  {
   "cell_type": "code",
   "execution_count": 36,
   "id": "91552e38",
   "metadata": {},
   "outputs": [
    {
     "data": {
      "text/plain": [
       "<AxesSubplot:xlabel='Cost', ylabel='Position'>"
      ]
     },
     "execution_count": 36,
     "metadata": {},
     "output_type": "execute_result"
    },
    {
     "data": {
      "image/png": "[encoded data removed]",
      "text/plain": [
       "<Figure size 1080x432 with 1 Axes>"
      ]
     },
     "metadata": {
      "needs_background": "light"
     },
     "output_type": "display_data"
    }
   ],
   "source": [
    "plt.figure(figsize=(15,6))\n",
    "sns.boxplot(y=df['Position'],x=df['Cost'].nlargest(120))"
   ]
  },
  {
   "cell_type": "markdown",
   "id": "e9579c45",
   "metadata": {},
   "source": [
    "> when position of player is center-back is most expensive one"
   ]
  },
  {
   "cell_type": "markdown",
   "id": "827969d3",
   "metadata": {},
   "source": [
    "### Data Range constrains"
   ]
  },
  {
   "cell_type": "code",
   "execution_count": 37,
   "id": "19c63c60",
   "metadata": {},
   "outputs": [
    {
     "data": {
      "text/html": [
       "<div>\n",
       "<style scoped>\n",
       "    .dataframe tbody tr th:only-of-type {\n",
       "        vertical-align: middle;\n",
       "    }\n",
       "\n",
       "    .dataframe tbody tr th {\n",
       "        vertical-align: top;\n",
       "    }\n",
       "\n",
       "    .dataframe thead th {\n",
       "        text-align: right;\n",
       "    }\n",
       "</style>\n",
       "<table border=\"1\" class=\"dataframe\">\n",
       "  <thead>\n",
       "    <tr style=\"text-align: right;\">\n",
       "      <th></th>\n",
       "      <th>Name</th>\n",
       "      <th>Position</th>\n",
       "      <th>Age</th>\n",
       "      <th>OriginClub</th>\n",
       "      <th>LeagueOriginClub</th>\n",
       "      <th>CountryOriginClub</th>\n",
       "      <th>NewClub</th>\n",
       "      <th>LeagueNewClub</th>\n",
       "      <th>CountryNewClub</th>\n",
       "      <th>Cost</th>\n",
       "      <th>DateOfTransfer</th>\n",
       "      <th>MonthOfTransfer</th>\n",
       "    </tr>\n",
       "  </thead>\n",
       "  <tbody>\n",
       "    <tr>\n",
       "      <th>19252</th>\n",
       "      <td>Erling Haaland</td>\n",
       "      <td>Centre-Forward</td>\n",
       "      <td>21</td>\n",
       "      <td>Borussia Dortmund</td>\n",
       "      <td>Bundesliga</td>\n",
       "      <td>Germany</td>\n",
       "      <td>Manchester City</td>\n",
       "      <td>Premier League</td>\n",
       "      <td>England</td>\n",
       "      <td>150000000</td>\n",
       "      <td>2022-07-01</td>\n",
       "      <td>7</td>\n",
       "    </tr>\n",
       "  </tbody>\n",
       "</table>\n",
       "</div>"
      ],
      "text/plain": [
       "                 Name        Position  Age         OriginClub  \\\n",
       "19252  Erling Haaland  Centre-Forward   21  Borussia Dortmund   \n",
       "\n",
       "      LeagueOriginClub CountryOriginClub          NewClub   LeagueNewClub  \\\n",
       "19252       Bundesliga           Germany  Manchester City  Premier League   \n",
       "\n",
       "      CountryNewClub       Cost DateOfTransfer  MonthOfTransfer  \n",
       "19252        England  150000000     2022-07-01                7  "
      ]
     },
     "execution_count": 37,
     "metadata": {},
     "output_type": "execute_result"
    }
   ],
   "source": [
    "df[df['Cost'] > 130000000]"
   ]
  },
  {
   "cell_type": "code",
   "execution_count": 38,
   "id": "e6c634ce",
   "metadata": {},
   "outputs": [],
   "source": [
    "##=================================================================================\n",
    "# Drop outlier value using .drop()\n",
    "##=================================================================================\n",
    "df.drop(df[df['Cost'] > 140000000].index, inplace = True)"
   ]
  },
  {
   "cell_type": "markdown",
   "id": "b0925a2b",
   "metadata": {},
   "source": [
    "### which country have spent more money?"
   ]
  },
  {
   "cell_type": "code",
   "execution_count": 39,
   "id": "a5d01245",
   "metadata": {},
   "outputs": [
    {
     "data": {
      "image/png": "[encoded data removed]",
      "text/plain": [
       "<Figure size 576x576 with 1 Axes>"
      ]
     },
     "metadata": {
      "needs_background": "light"
     },
     "output_type": "display_data"
    }
   ],
   "source": [
    "plt.figure(figsize=(8,8))\n",
    "cost_country = df.groupby('CountryNewClub')['Cost'].mean().sort_values(ascending=False)\n",
    "cost_country.nlargest(6).plot(kind='bar',xlabel='Country',ylabel='Money',title='Money spent per country');"
   ]
  },
  {
   "cell_type": "markdown",
   "id": "de8a0495",
   "metadata": {},
   "source": [
    "> Monaco is the country which spent more money for transferring player to it"
   ]
  },
  {
   "cell_type": "markdown",
   "id": "5e5ebc3f",
   "metadata": {},
   "source": [
    "### Average of cost in every Clubs"
   ]
  },
  {
   "cell_type": "code",
   "execution_count": 40,
   "id": "768343c2",
   "metadata": {},
   "outputs": [
    {
     "data": {
      "image/png": "[encoded data removed]",
      "text/plain": [
       "<Figure size 576x576 with 1 Axes>"
      ]
     },
     "metadata": {
      "needs_background": "light"
     },
     "output_type": "display_data"
    }
   ],
   "source": [
    "plt.figure(figsize=(8,8))\n",
    "cost_country = df.groupby('NewClub')['Cost'].mean().sort_values(ascending=False)\n",
    "cost_country.nlargest(10).plot(kind='bar',xlabel='New club',ylabel='cost',title='Money spent per club');"
   ]
  },
  {
   "cell_type": "markdown",
   "id": "1064cef6",
   "metadata": {},
   "source": [
    "> Paris Sanit-Germain is the highst club spent money for data transfers"
   ]
  },
  {
   "cell_type": "markdown",
   "id": "ac94cab1",
   "metadata": {},
   "source": [
    "### which leagueNewClub spent more cost for players?"
   ]
  },
  {
   "cell_type": "code",
   "execution_count": 41,
   "id": "7ed9ea3f",
   "metadata": {},
   "outputs": [
    {
     "data": {
      "image/png": "[encoded data removed]",
      "text/plain": [
       "<Figure size 576x576 with 1 Axes>"
      ]
     },
     "metadata": {
      "needs_background": "light"
     },
     "output_type": "display_data"
    }
   ],
   "source": [
    "plt.figure(figsize=(8,8))\n",
    "cost_country = df.groupby('LeagueNewClub')['Cost'].mean().sort_values(ascending=False)\n",
    "cost_country.nlargest(10).plot(kind='bar',xlabel='LeagueNewClub',ylabel='cost',title='Money spent per LeagueNewClub');"
   ]
  },
  {
   "cell_type": "markdown",
   "id": "58cb2d3e",
   "metadata": {},
   "source": [
    "> LaLiga is the most league club spent more money for players"
   ]
  },
  {
   "cell_type": "markdown",
   "id": "67c6b23d",
   "metadata": {},
   "source": [
    "### Top 10 Players in football transfer market"
   ]
  },
  {
   "cell_type": "code",
   "execution_count": 42,
   "id": "0ad8ae14",
   "metadata": {},
   "outputs": [
    {
     "data": {
      "image/png": "[encoded data removed]",
      "text/plain": [
       "<Figure size 576x576 with 1 Axes>"
      ]
     },
     "metadata": {
      "needs_background": "light"
     },
     "output_type": "display_data"
    }
   ],
   "source": [
    "plt.figure(figsize=(8,8))\n",
    "cost_country = df.groupby('Name')['Cost'].mean().sort_values(ascending=False)\n",
    "cost_country.nlargest(10).plot(kind='bar',xlabel='Name',ylabel='Cost',title='cost spent per player');"
   ]
  },
  {
   "cell_type": "markdown",
   "id": "351cb3df",
   "metadata": {},
   "source": [
    "> sadio mane, romelu lukaku , matthijs de light, raheem sterling are the most expensive players in footaball transfer"
   ]
  },
  {
   "cell_type": "markdown",
   "id": "8b26813f",
   "metadata": {},
   "source": [
    "# 6. Preprocessing"
   ]
  },
  {
   "cell_type": "code",
   "execution_count": 43,
   "id": "54db3e4a",
   "metadata": {},
   "outputs": [],
   "source": [
    "# Converting categorical data into numerical by using label encoder\n",
    "le=LabelEncoder()\n",
    "column=['Name','Position','OriginClub','LeagueOriginClub','CountryOriginClub','NewClub','LeagueNewClub','CountryNewClub']\n",
    "for i in column:\n",
    "    df[i]=le.fit_transform(df[i])"
   ]
  },
  {
   "cell_type": "code",
   "execution_count": 44,
   "id": "31115885",
   "metadata": {},
   "outputs": [
    {
     "data": {
      "text/html": [
       "<div>\n",
       "<style scoped>\n",
       "    .dataframe tbody tr th:only-of-type {\n",
       "        vertical-align: middle;\n",
       "    }\n",
       "\n",
       "    .dataframe tbody tr th {\n",
       "        vertical-align: top;\n",
       "    }\n",
       "\n",
       "    .dataframe thead th {\n",
       "        text-align: right;\n",
       "    }\n",
       "</style>\n",
       "<table border=\"1\" class=\"dataframe\">\n",
       "  <thead>\n",
       "    <tr style=\"text-align: right;\">\n",
       "      <th></th>\n",
       "      <th>Name</th>\n",
       "      <th>Position</th>\n",
       "      <th>Age</th>\n",
       "      <th>OriginClub</th>\n",
       "      <th>LeagueOriginClub</th>\n",
       "      <th>CountryOriginClub</th>\n",
       "      <th>NewClub</th>\n",
       "      <th>LeagueNewClub</th>\n",
       "      <th>CountryNewClub</th>\n",
       "      <th>Cost</th>\n",
       "      <th>DateOfTransfer</th>\n",
       "      <th>MonthOfTransfer</th>\n",
       "    </tr>\n",
       "  </thead>\n",
       "  <tbody>\n",
       "    <tr>\n",
       "      <th>0</th>\n",
       "      <td>1796</td>\n",
       "      <td>3</td>\n",
       "      <td>22</td>\n",
       "      <td>3884</td>\n",
       "      <td>206</td>\n",
       "      <td>46</td>\n",
       "      <td>5326</td>\n",
       "      <td>221</td>\n",
       "      <td>45</td>\n",
       "      <td>42000000</td>\n",
       "      <td>2022-09-01</td>\n",
       "      <td>9</td>\n",
       "    </tr>\n",
       "    <tr>\n",
       "      <th>1</th>\n",
       "      <td>24538</td>\n",
       "      <td>3</td>\n",
       "      <td>25</td>\n",
       "      <td>5138</td>\n",
       "      <td>177</td>\n",
       "      <td>128</td>\n",
       "      <td>4593</td>\n",
       "      <td>191</td>\n",
       "      <td>117</td>\n",
       "      <td>18000000</td>\n",
       "      <td>2022-09-01</td>\n",
       "      <td>9</td>\n",
       "    </tr>\n",
       "    <tr>\n",
       "      <th>2</th>\n",
       "      <td>4293</td>\n",
       "      <td>1</td>\n",
       "      <td>25</td>\n",
       "      <td>5346</td>\n",
       "      <td>177</td>\n",
       "      <td>128</td>\n",
       "      <td>4268</td>\n",
       "      <td>221</td>\n",
       "      <td>45</td>\n",
       "      <td>50000000</td>\n",
       "      <td>2022-09-01</td>\n",
       "      <td>9</td>\n",
       "    </tr>\n",
       "    <tr>\n",
       "      <th>3</th>\n",
       "      <td>15455</td>\n",
       "      <td>2</td>\n",
       "      <td>27</td>\n",
       "      <td>891</td>\n",
       "      <td>66</td>\n",
       "      <td>49</td>\n",
       "      <td>3663</td>\n",
       "      <td>303</td>\n",
       "      <td>39</td>\n",
       "      <td>30000000</td>\n",
       "      <td>2022-09-01</td>\n",
       "      <td>9</td>\n",
       "    </tr>\n",
       "    <tr>\n",
       "      <th>4</th>\n",
       "      <td>25456</td>\n",
       "      <td>2</td>\n",
       "      <td>24</td>\n",
       "      <td>4934</td>\n",
       "      <td>206</td>\n",
       "      <td>46</td>\n",
       "      <td>3479</td>\n",
       "      <td>303</td>\n",
       "      <td>39</td>\n",
       "      <td>10000000</td>\n",
       "      <td>2022-09-01</td>\n",
       "      <td>9</td>\n",
       "    </tr>\n",
       "  </tbody>\n",
       "</table>\n",
       "</div>"
      ],
      "text/plain": [
       "    Name  Position  Age  OriginClub  LeagueOriginClub  CountryOriginClub  \\\n",
       "0   1796         3   22        3884               206                 46   \n",
       "1  24538         3   25        5138               177                128   \n",
       "2   4293         1   25        5346               177                128   \n",
       "3  15455         2   27         891                66                 49   \n",
       "4  25456         2   24        4934               206                 46   \n",
       "\n",
       "   NewClub  LeagueNewClub  CountryNewClub      Cost DateOfTransfer  \\\n",
       "0     5326            221              45  42000000     2022-09-01   \n",
       "1     4593            191             117  18000000     2022-09-01   \n",
       "2     4268            221              45  50000000     2022-09-01   \n",
       "3     3663            303              39  30000000     2022-09-01   \n",
       "4     3479            303              39  10000000     2022-09-01   \n",
       "\n",
       "   MonthOfTransfer  \n",
       "0                9  \n",
       "1                9  \n",
       "2                9  \n",
       "3                9  \n",
       "4                9  "
      ]
     },
     "execution_count": 44,
     "metadata": {},
     "output_type": "execute_result"
    }
   ],
   "source": [
    "df.head()"
   ]
  },
  {
   "cell_type": "code",
   "execution_count": 45,
   "id": "5f95c9d6",
   "metadata": {},
   "outputs": [],
   "source": [
    "# determine inputs and target\n",
    "x=df.drop(['Cost','DateOfTransfer'],axis=1)\n",
    "y=df['Cost']"
   ]
  },
  {
   "cell_type": "code",
   "execution_count": 46,
   "id": "d2104d61",
   "metadata": {},
   "outputs": [],
   "source": [
    "##=================================================================================\n",
    "# splitting data into training and testing data\n",
    "##=================================================================================\n",
    "x_train,x_test,y_train,y_test=train_test_split(x,y,test_size=0.3,shuffle=True,random_state=42)"
   ]
  },
  {
   "cell_type": "code",
   "execution_count": 47,
   "id": "76e783dc",
   "metadata": {},
   "outputs": [],
   "source": [
    "##=================================================================================\n",
    "#scaling all features in specific range based on equation z=(x-u)/s\n",
    "##=================================================================================\n",
    "sc=StandardScaler()\n",
    "x_train=sc.fit_transform(x_train)\n",
    "x_test=sc.fit_transform(x_test)"
   ]
  },
  {
   "cell_type": "code",
   "execution_count": 48,
   "id": "7027c874",
   "metadata": {},
   "outputs": [
    {
     "data": {
      "text/plain": [
       "array([[-0.87500903, -1.30468301, -0.78939472, ...,  0.11042298,\n",
       "        -0.4675722 , -0.61454256],\n",
       "       [ 0.98144476,  0.82940984, -1.00762447, ...,  0.11042298,\n",
       "        -0.4675722 , -0.61454256],\n",
       "       [ 1.41124274, -1.0379214 ,  1.17467304, ..., -0.46420029,\n",
       "         0.39217143,  1.36046075],\n",
       "       ...,\n",
       "       [ 0.81170809,  0.02912502,  0.51998379, ..., -0.93156056,\n",
       "         0.39217143,  1.36046075],\n",
       "       [-0.12532776, -0.50439819, -0.57116497, ..., -0.85494412,\n",
       "        -0.30637027, -0.61454256],\n",
       "       [ 0.07885586, -0.50439819, -0.35293522, ..., -1.51384547,\n",
       "        -1.78405462, -0.61454256]])"
      ]
     },
     "execution_count": 48,
     "metadata": {},
     "output_type": "execute_result"
    }
   ],
   "source": [
    "x_train"
   ]
  },
  {
   "cell_type": "markdown",
   "id": "a4649f2a",
   "metadata": {},
   "source": [
    "## Correlation between different features"
   ]
  },
  {
   "cell_type": "code",
   "execution_count": 49,
   "id": "7081f6f4",
   "metadata": {},
   "outputs": [
    {
     "data": {
      "image/png": "[encoded data removed]",
      "text/plain": [
       "<Figure size 864x432 with 2 Axes>"
      ]
     },
     "metadata": {
      "needs_background": "light"
     },
     "output_type": "display_data"
    }
   ],
   "source": [
    "f,ax = plt.subplots(figsize=(12,6))\n",
    "sns.heatmap(df.corr(),annot=True,linewidth=1,fmt=\".1f\",ax=ax)\n",
    "plt.show()"
   ]
  },
  {
   "cell_type": "markdown",
   "id": "d5664de2",
   "metadata": {},
   "source": [
    "> its almost no relations between features"
   ]
  },
  {
   "cell_type": "markdown",
   "id": "442b10eb",
   "metadata": {},
   "source": [
    "# 7.Modeling"
   ]
  },
  {
   "cell_type": "markdown",
   "id": "cd8edff3",
   "metadata": {},
   "source": [
    "## Regression"
   ]
  },
  {
   "cell_type": "code",
   "execution_count": 50,
   "id": "7a7e5761",
   "metadata": {},
   "outputs": [],
   "source": [
    "model=LinearRegression()\n",
    "model.fit(x_train,y_train)\n",
    "y_pred=model.predict(x_test)"
   ]
  },
  {
   "cell_type": "code",
   "execution_count": 51,
   "id": "2f951633",
   "metadata": {},
   "outputs": [
    {
     "data": {
      "text/plain": [
       "0.40067733513888815"
      ]
     },
     "execution_count": 51,
     "metadata": {},
     "output_type": "execute_result"
    }
   ],
   "source": [
    "model.score(x_test,y_test)*100"
   ]
  },
  {
   "cell_type": "markdown",
   "id": "d3ea97fb",
   "metadata": {},
   "source": [
    "## Decision Tree"
   ]
  },
  {
   "cell_type": "code",
   "execution_count": 52,
   "id": "ece40907",
   "metadata": {},
   "outputs": [
    {
     "data": {
      "text/plain": [
       "1.076040741720874"
      ]
     },
     "execution_count": 52,
     "metadata": {},
     "output_type": "execute_result"
    }
   ],
   "source": [
    "model2=DecisionTreeRegressor(max_depth=2)\n",
    "model2.fit(x_train,y_train)\n",
    "model2.score(x_test,y_test)*100"
   ]
  },
  {
   "cell_type": "code",
   "execution_count": 53,
   "id": "a3e8499e",
   "metadata": {},
   "outputs": [
    {
     "data": {
      "text/plain": [
       "0.01407431702829276"
      ]
     },
     "execution_count": 53,
     "metadata": {},
     "output_type": "execute_result"
    }
   ],
   "source": [
    "model2.score(x_train,y_train)"
   ]
  },
  {
   "cell_type": "markdown",
   "id": "9277d0ff",
   "metadata": {},
   "source": [
    "## KNN Algorithm"
   ]
  },
  {
   "cell_type": "code",
   "execution_count": 54,
   "id": "762dd8c8",
   "metadata": {},
   "outputs": [],
   "source": [
    "    \n",
    "def train_model_and_show_scroe(ml_model, train_data=x_train, test_data=x_test):\n",
    "    model = ml_model.fit(train_data, y_train)\n",
    "    y_prediction=model.predict(test_data)\n",
    "    \n",
    "    print(f'Training score : {model.score(train_data, y_train)}')\n",
    "    print(f'Testing score :  {model.score(test_data, y_test)}')\n",
    "    print('=' * 60)"
   ]
  },
  {
   "cell_type": "code",
   "execution_count": 55,
   "id": "20516814",
   "metadata": {},
   "outputs": [
    {
     "name": "stdout",
     "output_type": "stream",
     "text": [
      "Training score : 0.36775435913286414\n",
      "Testing score :  -0.1592843560962498\n",
      "============================================================\n",
      "\n",
      "\n",
      "\n"
     ]
    }
   ],
   "source": [
    "# 1. KNN\n",
    "from sklearn.neighbors import KNeighborsRegressor\n",
    "KNN_Model = KNeighborsRegressor(n_neighbors=3, weights=\"uniform\", algorithm=\"auto\")\n",
    "train_model_and_show_scroe(KNN_Model)\n",
    "print('\\n\\n')"
   ]
  },
  {
   "cell_type": "markdown",
   "id": "4e56921f",
   "metadata": {},
   "source": [
    "> The best machine learning alggorithm and give high accuracy is decision trrr algorithm"
   ]
  },
  {
   "cell_type": "markdown",
   "id": "90a717be",
   "metadata": {},
   "source": [
    "## clustering"
   ]
  },
  {
   "cell_type": "markdown",
   "id": "6c871ed3",
   "metadata": {},
   "source": [
    "Divide dataset into groups of age based on cost of each group"
   ]
  },
  {
   "cell_type": "code",
   "execution_count": 56,
   "id": "1db2479e",
   "metadata": {},
   "outputs": [
    {
     "data": {
      "text/plain": [
       "array([[      22, 42000000],\n",
       "       [      25, 18000000],\n",
       "       [      25, 50000000],\n",
       "       ...,\n",
       "       [      16,    10000],\n",
       "       [      18,    10000],\n",
       "       [      19,    25000]])"
      ]
     },
     "execution_count": 56,
     "metadata": {},
     "output_type": "execute_result"
    }
   ],
   "source": [
    "X = df.loc[:, ['Age', 'Cost']].values\n",
    "X.view()"
   ]
  },
  {
   "cell_type": "code",
   "execution_count": 57,
   "id": "3eeecabb",
   "metadata": {},
   "outputs": [
    {
     "data": {
      "image/png": "[encoded data removed]",
      "text/plain": [
       "<Figure size 1440x432 with 1 Axes>"
      ]
     },
     "metadata": {
      "needs_background": "light"
     },
     "output_type": "display_data"
    }
   ],
   "source": [
    "## Using the elbow method to find the optimal number of clusters(k-numbers):\n",
    "wcss = []\n",
    "for i in range(1, 20):\n",
    "    kmeans = KMeans(n_clusters = i, init = 'k-means++', random_state = 42)\n",
    "    kmeans.fit(X)\n",
    "    wcss.append(kmeans.inertia_)\n",
    "plt.subplots(figsize=(20, 6))   \n",
    "plt.plot(range(1, 20), wcss)\n",
    "plt.title('The Elbow Method')\n",
    "plt.xlabel('Number of clusters')\n",
    "plt.ylabel('WCSS')\n",
    "plt.show()"
   ]
  },
  {
   "cell_type": "code",
   "execution_count": 58,
   "id": "8935b42f",
   "metadata": {},
   "outputs": [
    {
     "data": {
      "image/png": "[encoded data removed]",
      "text/plain": [
       "<Figure size 432x288 with 1 Axes>"
      ]
     },
     "metadata": {
      "needs_background": "light"
     },
     "output_type": "display_data"
    }
   ],
   "source": [
    "##=================================================================================\n",
    "# build the model by using k-means algorithm\n",
    "##=================================================================================\n",
    "kmeans = KMeans(n_clusters = 3, init = 'k-means++',max_iter = 300, n_init = 10, random_state = 0)\n",
    "y_kmeans = kmeans.fit_predict(X)\n",
    "##=================================================================================\n",
    "# Visualising the clusters\n",
    "##=================================================================================\n",
    "plt.scatter(X[y_kmeans == 0, 0], X[y_kmeans == 0, 1], \n",
    "            s = 100, c = 'red', label = 'above 35')\n",
    "\n",
    "plt.scatter(X[y_kmeans == 2, 0], X[y_kmeans == 2, 1],\n",
    "            s = 100, c = 'green', label = 'under 20')\n",
    "\n",
    "plt.scatter(X[y_kmeans == 1, 0], X[y_kmeans == 1, 1], \n",
    "            s = 100, c = 'blue', label = '20-35 Age')\n",
    "plt.legend()\n",
    "plt.show()"
   ]
  },
  {
   "cell_type": "markdown",
   "id": "7be72b9c",
   "metadata": {},
   "source": [
    "> Dataset is divided into three clusters based on cost of each group , first cluster is above 35 has a less cost and between 20-35 has high cost ever "
   ]
  },
  {
   "cell_type": "markdown",
   "id": "05c4f28b",
   "metadata": {},
   "source": [
    "# 8. Conclusion"
   ]
  },
  {
   "cell_type": "markdown",
   "id": "bb7e99ce",
   "metadata": {},
   "source": [
    "Here we reached at the end of the report which have involved :\n",
    "1. the descripthion of our data\n",
    "2. the information about its features\n",
    "3. visualization them\n",
    "4. cleaning undesrible data\n",
    "5. finding relations between parameters\n",
    "6. modeling by using ML algorithms as linear regression , Decision tree and clustering"
   ]
  }
 ],
 "metadata": {
  "kernelspec": {
   "display_name": "Python 3 (ipykernel)",
   "language": "python",
   "name": "python3"
  },
  "language_info": {
   "codemirror_mode": {
    "name": "ipython",
    "version": 3
   },
   "file_extension": ".py",
   "mimetype": "text/x-python",
   "name": "python",
   "nbconvert_exporter": "python",
   "pygments_lexer": "ipython3",
   "version": "3.9.12"
  }
 },
 "nbformat": 4,
 "nbformat_minor": 5
}
