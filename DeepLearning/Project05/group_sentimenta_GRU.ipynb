{
  "cells": [
    {
      "cell_type": "code",
      "execution_count": null,
      "metadata": {
        "id": "w4umpyhp7mZQ"
      },
      "outputs": [],
      "source": [
        "import re\n",
        "import string\n",
        "import nltk\n",
        "from nltk.corpus import stopwords\n",
        "from nltk.tokenize import word_tokenize\n",
        "import numpy as np\n",
        "import pandas as pd\n",
        "import matplotlib.pyplot as plt\n",
        "\n"
      ],
      "id": "w4umpyhp7mZQ"
    },
    {
      "cell_type": "markdown",
      "metadata": {
        "id": "2cLkJtk7OcuG"
      },
      "source": [
        "# Read Data\n",
        "\n"
      ],
      "id": "2cLkJtk7OcuG"
    },
    {
      "cell_type": "code",
      "execution_count": null,
      "metadata": {
        "colab": {
          "base_uri": "https://localhost:8080/"
        },
        "id": "d624cd4b",
        "outputId": "4ce60dc9-3b61-4fa2-93cd-2bd02ef302d5"
      },
      "outputs": [
        {
          "output_type": "stream",
          "name": "stdout",
          "text": [
            "Mounted at /content/drive\n"
          ]
        }
      ],
      "source": [
        "from google.colab import drive\n",
        "\n",
        "# Connect to google drive\n",
        "drive.mount('/content/drive')\n",
        "\n"
      ],
      "id": "d624cd4b"
    },
    {
      "cell_type": "code",
      "execution_count": null,
      "metadata": {
        "colab": {
          "base_uri": "https://localhost:8080/",
          "height": 206
        },
        "id": "4b9d3f6a",
        "outputId": "5be6b52f-3105-496f-df2f-ccf3b087550f"
      },
      "outputs": [
        {
          "output_type": "execute_result",
          "data": {
            "text/plain": [
              "   index                                                  0\n",
              "0      0  bromwell high is a cartoon comedy . it ran at ...\n",
              "1      1  story of a man who has unnatural feelings for ...\n",
              "2      2  homelessness  or houselessness as george carli...\n",
              "3      3  airport    starts as a brand new luxury    pla...\n",
              "4      4  brilliant over  acting by lesley ann warren . ..."
            ],
            "text/html": [
              "\n",
              "  <div id=\"df-e9f14220-9645-45d0-b20e-a8e3a00c78dd\">\n",
              "    <div class=\"colab-df-container\">\n",
              "      <div>\n",
              "<style scoped>\n",
              "    .dataframe tbody tr th:only-of-type {\n",
              "        vertical-align: middle;\n",
              "    }\n",
              "\n",
              "    .dataframe tbody tr th {\n",
              "        vertical-align: top;\n",
              "    }\n",
              "\n",
              "    .dataframe thead th {\n",
              "        text-align: right;\n",
              "    }\n",
              "</style>\n",
              "<table border=\"1\" class=\"dataframe\">\n",
              "  <thead>\n",
              "    <tr style=\"text-align: right;\">\n",
              "      <th></th>\n",
              "      <th>index</th>\n",
              "      <th>0</th>\n",
              "    </tr>\n",
              "  </thead>\n",
              "  <tbody>\n",
              "    <tr>\n",
              "      <th>0</th>\n",
              "      <td>0</td>\n",
              "      <td>bromwell high is a cartoon comedy . it ran at ...</td>\n",
              "    </tr>\n",
              "    <tr>\n",
              "      <th>1</th>\n",
              "      <td>1</td>\n",
              "      <td>story of a man who has unnatural feelings for ...</td>\n",
              "    </tr>\n",
              "    <tr>\n",
              "      <th>2</th>\n",
              "      <td>2</td>\n",
              "      <td>homelessness  or houselessness as george carli...</td>\n",
              "    </tr>\n",
              "    <tr>\n",
              "      <th>3</th>\n",
              "      <td>3</td>\n",
              "      <td>airport    starts as a brand new luxury    pla...</td>\n",
              "    </tr>\n",
              "    <tr>\n",
              "      <th>4</th>\n",
              "      <td>4</td>\n",
              "      <td>brilliant over  acting by lesley ann warren . ...</td>\n",
              "    </tr>\n",
              "  </tbody>\n",
              "</table>\n",
              "</div>\n",
              "      <button class=\"colab-df-convert\" onclick=\"convertToInteractive('df-e9f14220-9645-45d0-b20e-a8e3a00c78dd')\"\n",
              "              title=\"Convert this dataframe to an interactive table.\"\n",
              "              style=\"display:none;\">\n",
              "        \n",
              "  <svg xmlns=\"http://www.w3.org/2000/svg\" height=\"24px\"viewBox=\"0 0 24 24\"\n",
              "       width=\"24px\">\n",
              "    <path d=\"M0 0h24v24H0V0z\" fill=\"none\"/>\n",
              "    <path d=\"M18.56 5.44l.94 2.06.94-2.06 2.06-.94-2.06-.94-.94-2.06-.94 2.06-2.06.94zm-11 1L8.5 8.5l.94-2.06 2.06-.94-2.06-.94L8.5 2.5l-.94 2.06-2.06.94zm10 10l.94 2.06.94-2.06 2.06-.94-2.06-.94-.94-2.06-.94 2.06-2.06.94z\"/><path d=\"M17.41 7.96l-1.37-1.37c-.4-.4-.92-.59-1.43-.59-.52 0-1.04.2-1.43.59L10.3 9.45l-7.72 7.72c-.78.78-.78 2.05 0 2.83L4 21.41c.39.39.9.59 1.41.59.51 0 1.02-.2 1.41-.59l7.78-7.78 2.81-2.81c.8-.78.8-2.07 0-2.86zM5.41 20L4 18.59l7.72-7.72 1.47 1.35L5.41 20z\"/>\n",
              "  </svg>\n",
              "      </button>\n",
              "      \n",
              "  <style>\n",
              "    .colab-df-container {\n",
              "      display:flex;\n",
              "      flex-wrap:wrap;\n",
              "      gap: 12px;\n",
              "    }\n",
              "\n",
              "    .colab-df-convert {\n",
              "      background-color: #E8F0FE;\n",
              "      border: none;\n",
              "      border-radius: 50%;\n",
              "      cursor: pointer;\n",
              "      display: none;\n",
              "      fill: #1967D2;\n",
              "      height: 32px;\n",
              "      padding: 0 0 0 0;\n",
              "      width: 32px;\n",
              "    }\n",
              "\n",
              "    .colab-df-convert:hover {\n",
              "      background-color: #E2EBFA;\n",
              "      box-shadow: 0px 1px 2px rgba(60, 64, 67, 0.3), 0px 1px 3px 1px rgba(60, 64, 67, 0.15);\n",
              "      fill: #174EA6;\n",
              "    }\n",
              "\n",
              "    [theme=dark] .colab-df-convert {\n",
              "      background-color: #3B4455;\n",
              "      fill: #D2E3FC;\n",
              "    }\n",
              "\n",
              "    [theme=dark] .colab-df-convert:hover {\n",
              "      background-color: #434B5C;\n",
              "      box-shadow: 0px 1px 3px 1px rgba(0, 0, 0, 0.15);\n",
              "      filter: drop-shadow(0px 1px 2px rgba(0, 0, 0, 0.3));\n",
              "      fill: #FFFFFF;\n",
              "    }\n",
              "  </style>\n",
              "\n",
              "      <script>\n",
              "        const buttonEl =\n",
              "          document.querySelector('#df-e9f14220-9645-45d0-b20e-a8e3a00c78dd button.colab-df-convert');\n",
              "        buttonEl.style.display =\n",
              "          google.colab.kernel.accessAllowed ? 'block' : 'none';\n",
              "\n",
              "        async function convertToInteractive(key) {\n",
              "          const element = document.querySelector('#df-e9f14220-9645-45d0-b20e-a8e3a00c78dd');\n",
              "          const dataTable =\n",
              "            await google.colab.kernel.invokeFunction('convertToInteractive',\n",
              "                                                     [key], {});\n",
              "          if (!dataTable) return;\n",
              "\n",
              "          const docLinkHtml = 'Like what you see? Visit the ' +\n",
              "            '<a target=\"_blank\" href=https://colab.research.google.com/notebooks/data_table.ipynb>data table notebook</a>'\n",
              "            + ' to learn more about interactive tables.';\n",
              "          element.innerHTML = '';\n",
              "          dataTable['output_type'] = 'display_data';\n",
              "          await google.colab.output.renderOutput(dataTable, element);\n",
              "          const docLink = document.createElement('div');\n",
              "          docLink.innerHTML = docLinkHtml;\n",
              "          element.appendChild(docLink);\n",
              "        }\n",
              "      </script>\n",
              "    </div>\n",
              "  </div>\n",
              "  "
            ]
          },
          "metadata": {},
          "execution_count": 4
        }
      ],
      "source": [
        "# Read data from google drive\n",
        "reviews=pd.read_csv(\"/content/drive/My Drive/reviews.txt\",header=None)\n",
        "reviews.reset_index(inplace=True)\n",
        "reviews.head()"
      ],
      "id": "4b9d3f6a"
    },
    {
      "cell_type": "code",
      "execution_count": null,
      "metadata": {
        "id": "b6e65a35"
      },
      "outputs": [],
      "source": [
        "labels=pd.read_csv(\"/content/drive/My Drive/labels.txt\",header=None)\n",
        "labels.reset_index(inplace=True)"
      ],
      "id": "b6e65a35"
    },
    {
      "cell_type": "code",
      "execution_count": null,
      "metadata": {
        "id": "452c563a",
        "colab": {
          "base_uri": "https://localhost:8080/",
          "height": 424
        },
        "outputId": "4e72fd35-b1cc-436e-b605-4c03537d9473"
      },
      "outputs": [
        {
          "output_type": "execute_result",
          "data": {
            "text/plain": [
              "                                                 reviews    labels\n",
              "0      bromwell high is a cartoon comedy . it ran at ...  positive\n",
              "1      story of a man who has unnatural feelings for ...  negative\n",
              "2      homelessness  or houselessness as george carli...  positive\n",
              "3      airport    starts as a brand new luxury    pla...  negative\n",
              "4      brilliant over  acting by lesley ann warren . ...  positive\n",
              "...                                                  ...       ...\n",
              "24995  i saw  descent  last night at the stockholm fi...  negative\n",
              "24996  a christmas together actually came before my t...  positive\n",
              "24997  some films that you pick up for a pound turn o...  negative\n",
              "24998  working  class romantic drama from director ma...  positive\n",
              "24999  this is one of the dumbest films  i  ve ever s...  negative\n",
              "\n",
              "[25000 rows x 2 columns]"
            ],
            "text/html": [
              "\n",
              "  <div id=\"df-405a1fc0-bf4b-4288-a8fc-cb4f91b6bc7e\">\n",
              "    <div class=\"colab-df-container\">\n",
              "      <div>\n",
              "<style scoped>\n",
              "    .dataframe tbody tr th:only-of-type {\n",
              "        vertical-align: middle;\n",
              "    }\n",
              "\n",
              "    .dataframe tbody tr th {\n",
              "        vertical-align: top;\n",
              "    }\n",
              "\n",
              "    .dataframe thead th {\n",
              "        text-align: right;\n",
              "    }\n",
              "</style>\n",
              "<table border=\"1\" class=\"dataframe\">\n",
              "  <thead>\n",
              "    <tr style=\"text-align: right;\">\n",
              "      <th></th>\n",
              "      <th>reviews</th>\n",
              "      <th>labels</th>\n",
              "    </tr>\n",
              "  </thead>\n",
              "  <tbody>\n",
              "    <tr>\n",
              "      <th>0</th>\n",
              "      <td>bromwell high is a cartoon comedy . it ran at ...</td>\n",
              "      <td>positive</td>\n",
              "    </tr>\n",
              "    <tr>\n",
              "      <th>1</th>\n",
              "      <td>story of a man who has unnatural feelings for ...</td>\n",
              "      <td>negative</td>\n",
              "    </tr>\n",
              "    <tr>\n",
              "      <th>2</th>\n",
              "      <td>homelessness  or houselessness as george carli...</td>\n",
              "      <td>positive</td>\n",
              "    </tr>\n",
              "    <tr>\n",
              "      <th>3</th>\n",
              "      <td>airport    starts as a brand new luxury    pla...</td>\n",
              "      <td>negative</td>\n",
              "    </tr>\n",
              "    <tr>\n",
              "      <th>4</th>\n",
              "      <td>brilliant over  acting by lesley ann warren . ...</td>\n",
              "      <td>positive</td>\n",
              "    </tr>\n",
              "    <tr>\n",
              "      <th>...</th>\n",
              "      <td>...</td>\n",
              "      <td>...</td>\n",
              "    </tr>\n",
              "    <tr>\n",
              "      <th>24995</th>\n",
              "      <td>i saw  descent  last night at the stockholm fi...</td>\n",
              "      <td>negative</td>\n",
              "    </tr>\n",
              "    <tr>\n",
              "      <th>24996</th>\n",
              "      <td>a christmas together actually came before my t...</td>\n",
              "      <td>positive</td>\n",
              "    </tr>\n",
              "    <tr>\n",
              "      <th>24997</th>\n",
              "      <td>some films that you pick up for a pound turn o...</td>\n",
              "      <td>negative</td>\n",
              "    </tr>\n",
              "    <tr>\n",
              "      <th>24998</th>\n",
              "      <td>working  class romantic drama from director ma...</td>\n",
              "      <td>positive</td>\n",
              "    </tr>\n",
              "    <tr>\n",
              "      <th>24999</th>\n",
              "      <td>this is one of the dumbest films  i  ve ever s...</td>\n",
              "      <td>negative</td>\n",
              "    </tr>\n",
              "  </tbody>\n",
              "</table>\n",
              "<p>25000 rows × 2 columns</p>\n",
              "</div>\n",
              "      <button class=\"colab-df-convert\" onclick=\"convertToInteractive('df-405a1fc0-bf4b-4288-a8fc-cb4f91b6bc7e')\"\n",
              "              title=\"Convert this dataframe to an interactive table.\"\n",
              "              style=\"display:none;\">\n",
              "        \n",
              "  <svg xmlns=\"http://www.w3.org/2000/svg\" height=\"24px\"viewBox=\"0 0 24 24\"\n",
              "       width=\"24px\">\n",
              "    <path d=\"M0 0h24v24H0V0z\" fill=\"none\"/>\n",
              "    <path d=\"M18.56 5.44l.94 2.06.94-2.06 2.06-.94-2.06-.94-.94-2.06-.94 2.06-2.06.94zm-11 1L8.5 8.5l.94-2.06 2.06-.94-2.06-.94L8.5 2.5l-.94 2.06-2.06.94zm10 10l.94 2.06.94-2.06 2.06-.94-2.06-.94-.94-2.06-.94 2.06-2.06.94z\"/><path d=\"M17.41 7.96l-1.37-1.37c-.4-.4-.92-.59-1.43-.59-.52 0-1.04.2-1.43.59L10.3 9.45l-7.72 7.72c-.78.78-.78 2.05 0 2.83L4 21.41c.39.39.9.59 1.41.59.51 0 1.02-.2 1.41-.59l7.78-7.78 2.81-2.81c.8-.78.8-2.07 0-2.86zM5.41 20L4 18.59l7.72-7.72 1.47 1.35L5.41 20z\"/>\n",
              "  </svg>\n",
              "      </button>\n",
              "      \n",
              "  <style>\n",
              "    .colab-df-container {\n",
              "      display:flex;\n",
              "      flex-wrap:wrap;\n",
              "      gap: 12px;\n",
              "    }\n",
              "\n",
              "    .colab-df-convert {\n",
              "      background-color: #E8F0FE;\n",
              "      border: none;\n",
              "      border-radius: 50%;\n",
              "      cursor: pointer;\n",
              "      display: none;\n",
              "      fill: #1967D2;\n",
              "      height: 32px;\n",
              "      padding: 0 0 0 0;\n",
              "      width: 32px;\n",
              "    }\n",
              "\n",
              "    .colab-df-convert:hover {\n",
              "      background-color: #E2EBFA;\n",
              "      box-shadow: 0px 1px 2px rgba(60, 64, 67, 0.3), 0px 1px 3px 1px rgba(60, 64, 67, 0.15);\n",
              "      fill: #174EA6;\n",
              "    }\n",
              "\n",
              "    [theme=dark] .colab-df-convert {\n",
              "      background-color: #3B4455;\n",
              "      fill: #D2E3FC;\n",
              "    }\n",
              "\n",
              "    [theme=dark] .colab-df-convert:hover {\n",
              "      background-color: #434B5C;\n",
              "      box-shadow: 0px 1px 3px 1px rgba(0, 0, 0, 0.15);\n",
              "      filter: drop-shadow(0px 1px 2px rgba(0, 0, 0, 0.3));\n",
              "      fill: #FFFFFF;\n",
              "    }\n",
              "  </style>\n",
              "\n",
              "      <script>\n",
              "        const buttonEl =\n",
              "          document.querySelector('#df-405a1fc0-bf4b-4288-a8fc-cb4f91b6bc7e button.colab-df-convert');\n",
              "        buttonEl.style.display =\n",
              "          google.colab.kernel.accessAllowed ? 'block' : 'none';\n",
              "\n",
              "        async function convertToInteractive(key) {\n",
              "          const element = document.querySelector('#df-405a1fc0-bf4b-4288-a8fc-cb4f91b6bc7e');\n",
              "          const dataTable =\n",
              "            await google.colab.kernel.invokeFunction('convertToInteractive',\n",
              "                                                     [key], {});\n",
              "          if (!dataTable) return;\n",
              "\n",
              "          const docLinkHtml = 'Like what you see? Visit the ' +\n",
              "            '<a target=\"_blank\" href=https://colab.research.google.com/notebooks/data_table.ipynb>data table notebook</a>'\n",
              "            + ' to learn more about interactive tables.';\n",
              "          element.innerHTML = '';\n",
              "          dataTable['output_type'] = 'display_data';\n",
              "          await google.colab.output.renderOutput(dataTable, element);\n",
              "          const docLink = document.createElement('div');\n",
              "          docLink.innerHTML = docLinkHtml;\n",
              "          element.appendChild(docLink);\n",
              "        }\n",
              "      </script>\n",
              "    </div>\n",
              "  </div>\n",
              "  "
            ]
          },
          "metadata": {},
          "execution_count": 6
        }
      ],
      "source": [
        "data=reviews.merge(labels,on=\"index\")\n",
        "data.drop(\"index\",axis=1,inplace=True)\n",
        "data.rename(columns={\"0_x\":\"reviews\",\"0_y\":\"labels\"},inplace=True)\n",
        "\n",
        "# Show the data\n",
        "data"
      ],
      "id": "452c563a"
    },
    {
      "cell_type": "markdown",
      "metadata": {
        "id": "3faOBw2ZO0qK"
      },
      "source": [
        "##Data Analysis"
      ],
      "id": "3faOBw2ZO0qK"
    },
    {
      "cell_type": "code",
      "execution_count": null,
      "metadata": {
        "colab": {
          "base_uri": "https://localhost:8080/"
        },
        "id": "dab92051",
        "outputId": "7505f579-145f-41e7-f9d4-fc894a75ee09"
      },
      "outputs": [
        {
          "output_type": "execute_result",
          "data": {
            "text/plain": [
              "positive    12500\n",
              "negative    12500\n",
              "Name: labels, dtype: int64"
            ]
          },
          "metadata": {},
          "execution_count": 7
        }
      ],
      "source": [
        "data[\"labels\"].value_counts()"
      ],
      "id": "dab92051"
    },
    {
      "cell_type": "code",
      "execution_count": null,
      "metadata": {
        "colab": {
          "base_uri": "https://localhost:8080/",
          "height": 303
        },
        "id": "rwgH_H3cC63e",
        "outputId": "23161d1a-8124-4b5a-f9e2-60c3135322c5"
      },
      "outputs": [
        {
          "output_type": "display_data",
          "data": {
            "text/plain": [
              "<Figure size 360x360 with 1 Axes>"
            ],
            "image/png": "[encoded data removed]"
          },
          "metadata": {}
        }
      ],
      "source": [
        "# Declare a figure with a custom size\n",
        "fig = plt.figure(figsize=(5, 5))\n",
        "\n",
        "# labels for the two classes\n",
        "labels = 'Positives', 'Negative'\n",
        "\n",
        "# Sizes for each slide\n",
        "sizes = [data[data[\"labels\"]==\"positive\"].shape[0], data[data[\"labels\"]==\"negative\"].shape[0]] \n",
        "\n",
        "# Declare pie chart, where the slices will be ordered and plotted counter-clockwise:\n",
        "plt.pie(sizes, labels=labels, autopct='%1.1f%%',\n",
        "        shadow=True, startangle=90)\n",
        "# Equal aspect ratio ensures that pie is drawn as a circle.\n",
        "plt.axis('equal')  \n",
        "# Display the chart\n",
        "plt.show()"
      ],
      "id": "rwgH_H3cC63e"
    },
    {
      "cell_type": "markdown",
      "metadata": {
        "id": "5BZ9k_ouPGdz"
      },
      "source": [
        "**Note:**\n",
        "The data is balance so we can use Accurecy measure "
      ],
      "id": "5BZ9k_ouPGdz"
    },
    {
      "cell_type": "markdown",
      "metadata": {
        "id": "WP7c6EWrPt6y"
      },
      "source": [
        "#Data Pre-processing"
      ],
      "id": "WP7c6EWrPt6y"
    },
    {
      "cell_type": "markdown",
      "metadata": {
        "id": "nO6tBDY-P-ob"
      },
      "source": [
        "### Lowercase "
      ],
      "id": "nO6tBDY-P-ob"
    },
    {
      "cell_type": "code",
      "execution_count": null,
      "metadata": {
        "id": "WBGK_GMZA_IY",
        "colab": {
          "base_uri": "https://localhost:8080/"
        },
        "outputId": "483dbd93-8afd-4b40-86ca-e6337ac1e714"
      },
      "outputs": [
        {
          "output_type": "execute_result",
          "data": {
            "text/plain": [
              "0    bromwell high is a cartoon comedy . it ran at ...\n",
              "1    story of a man who has unnatural feelings for ...\n",
              "2    homelessness  or houselessness as george carli...\n",
              "3    airport    starts as a brand new luxury    pla...\n",
              "4    brilliant over  acting by lesley ann warren . ...\n",
              "Name: reviews, dtype: object"
            ]
          },
          "metadata": {},
          "execution_count": 9
        }
      ],
      "source": [
        "data['reviews'] = data.apply(lambda row: row['reviews'].lower(), axis=1) \n",
        "data['reviews'].head()"
      ],
      "id": "WBGK_GMZA_IY"
    },
    {
      "cell_type": "markdown",
      "metadata": {
        "id": "1CfOyK-p5CPA"
      },
      "source": [
        "### Tokenize"
      ],
      "id": "1CfOyK-p5CPA"
    },
    {
      "cell_type": "code",
      "execution_count": null,
      "metadata": {
        "colab": {
          "base_uri": "https://localhost:8080/"
        },
        "id": "UA7jKWQJArCf",
        "outputId": "7052c62b-ac85-48a6-c091-3b11a77ba51e"
      },
      "outputs": [
        {
          "output_type": "stream",
          "name": "stderr",
          "text": [
            "[nltk_data] Downloading package punkt to /root/nltk_data...\n",
            "[nltk_data]   Unzipping tokenizers/punkt.zip.\n"
          ]
        },
        {
          "output_type": "execute_result",
          "data": {
            "text/plain": [
              "0    [bromwell, high, is, a, cartoon, comedy, ., it...\n",
              "1    [story, of, a, man, who, has, unnatural, feeli...\n",
              "2    [homelessness, or, houselessness, as, george, ...\n",
              "3    [airport, starts, as, a, brand, new, luxury, p...\n",
              "4    [brilliant, over, acting, by, lesley, ann, war...\n",
              "Name: reviews, dtype: object"
            ]
          },
          "metadata": {},
          "execution_count": 10
        }
      ],
      "source": [
        "nltk.download('punkt')\n",
        "\n",
        "data['reviews'] = data.apply(lambda row: nltk.word_tokenize(row['reviews']), axis=1)\n",
        "data['reviews'].head()"
      ],
      "id": "UA7jKWQJArCf"
    },
    {
      "cell_type": "markdown",
      "metadata": {
        "id": "_IC02HTlQFt8"
      },
      "source": [
        "## Remove Stopwords"
      ],
      "id": "_IC02HTlQFt8"
    },
    {
      "cell_type": "code",
      "execution_count": null,
      "metadata": {
        "colab": {
          "base_uri": "https://localhost:8080/"
        },
        "id": "mG8J5hCjArHe",
        "outputId": "5030e678-67e1-434f-882c-833baac9f8a3"
      },
      "outputs": [
        {
          "output_type": "stream",
          "name": "stderr",
          "text": [
            "[nltk_data] Downloading package stopwords to /root/nltk_data...\n",
            "[nltk_data]   Unzipping corpora/stopwords.zip.\n"
          ]
        },
        {
          "output_type": "execute_result",
          "data": {
            "text/plain": [
              "0    [bromwell, high, cartoon, comedy, ., ran, time...\n",
              "1    [story, man, unnatural, feelings, pig, ., star...\n",
              "2    [homelessness, houselessness, george, carlin, ...\n",
              "3    [airport, starts, brand, new, luxury, plane, l...\n",
              "4    [brilliant, acting, lesley, ann, warren, ., be...\n",
              "Name: reviews, dtype: object"
            ]
          },
          "metadata": {},
          "execution_count": 11
        }
      ],
      "source": [
        "# get the list of stopwords from nltk library\n",
        "nltk.download('stopwords')\n",
        "stopwords_english = stopwords.words('english')\n",
        "\n",
        "# Some stopwords has an effect in this conext (Sentiment Analysis)\n",
        "# So we need to remove them from the stopwords list so that they wont be removed from the text\n",
        "stopwords_english.remove('not')\n",
        "stopwords_english.remove('but')\n",
        "stopwords_english.remove('no')\n",
        "stopwords_english.remove('nor')\n",
        "\n",
        "# loop through every row in the input data and keep the words that are not in the stop_words list\n",
        "data['reviews'] = data.apply(lambda row:[word for word in row[\"reviews\"] if word not in stopwords_english ], axis=1)\n",
        "data['reviews'].head()"
      ],
      "id": "mG8J5hCjArHe"
    },
    {
      "cell_type": "markdown",
      "metadata": {
        "id": "WGBpOHO9QLqC"
      },
      "source": [
        "## Remove punctuation"
      ],
      "id": "WGBpOHO9QLqC"
    },
    {
      "cell_type": "code",
      "execution_count": null,
      "metadata": {
        "colab": {
          "base_uri": "https://localhost:8080/"
        },
        "id": "qYoo3IWqCPt4",
        "outputId": "5f377b45-ee7a-46a0-841c-89d417ba4f8f"
      },
      "outputs": [
        {
          "output_type": "execute_result",
          "data": {
            "text/plain": [
              "0    [bromwell, high, cartoon, comedy, ran, time, p...\n",
              "1    [story, man, unnatural, feelings, pig, starts,...\n",
              "2    [homelessness, houselessness, george, carlin, ...\n",
              "3    [airport, starts, brand, new, luxury, plane, l...\n",
              "4    [brilliant, acting, lesley, ann, warren, best,...\n",
              "Name: reviews, dtype: object"
            ]
          },
          "metadata": {},
          "execution_count": 12
        }
      ],
      "source": [
        "data['reviews'] = data.apply(lambda row:[word for word in row[\"reviews\"] if word not in string.punctuation ], axis=1)\n",
        "data['reviews'].head()"
      ],
      "id": "qYoo3IWqCPt4"
    },
    {
      "cell_type": "markdown",
      "metadata": {
        "id": "XoNAmmHQQXYD"
      },
      "source": [
        "## Stemming"
      ],
      "id": "XoNAmmHQQXYD"
    },
    {
      "cell_type": "code",
      "execution_count": null,
      "metadata": {
        "colab": {
          "base_uri": "https://localhost:8080/"
        },
        "id": "uQRC4TUQJBa2",
        "outputId": "365b6c46-8183-4303-ac0f-50b37a4a7a68"
      },
      "outputs": [
        {
          "output_type": "execute_result",
          "data": {
            "text/plain": [
              "0    [bromwel, high, cartoon, comedi, ran, time, pr...\n",
              "1    [stori, man, unnatur, feel, pig, start, open, ...\n",
              "2    [homeless, houseless, georg, carlin, state, is...\n",
              "3    [airport, start, brand, new, luxuri, plane, lo...\n",
              "4    [brilliant, act, lesley, ann, warren, best, dr...\n",
              "Name: reviews, dtype: object"
            ]
          },
          "metadata": {},
          "execution_count": 13
        }
      ],
      "source": [
        "from nltk.stem import PorterStemmer\n",
        "stemmer = PorterStemmer()\n",
        "data['reviews'] = data.apply(lambda row:[stemmer.stem(word) for word in row[\"reviews\"]  ], axis=1)\n",
        "data['reviews'].head()"
      ],
      "id": "uQRC4TUQJBa2"
    },
    {
      "cell_type": "code",
      "execution_count": null,
      "metadata": {
        "id": "GY9pZQG9IMvJ"
      },
      "outputs": [],
      "source": [
        "# from nltk.stem import WordNetLemmatizer\n",
        "# lemmatizer = WordNetLemmatizer()\n",
        "# data1['reviews'] = data1.apply(lambda row:[lemmatizer.lemmatize(word) for word in row[\"reviews\"]  ], axis=1)\n",
        "# data1['reviews'].head()"
      ],
      "id": "GY9pZQG9IMvJ"
    },
    {
      "cell_type": "markdown",
      "metadata": {
        "id": "XNthBDtcRCj7"
      },
      "source": [
        "#Data Statisctics"
      ],
      "id": "XNthBDtcRCj7"
    },
    {
      "cell_type": "markdown",
      "metadata": {
        "id": "tnpiRjnERG_6"
      },
      "source": [
        "## Extarct Featuers\n",
        "\n"
      ],
      "id": "tnpiRjnERG_6"
    },
    {
      "cell_type": "code",
      "execution_count": null,
      "metadata": {
        "colab": {
          "base_uri": "https://localhost:8080/",
          "height": 604
        },
        "id": "9K2kNFrBerks",
        "outputId": "bed57dbe-d556-4534-d9fd-79f52b472015"
      },
      "outputs": [
        {
          "output_type": "stream",
          "name": "stdout",
          "text": [
            "Word Count analysis:\n",
            "\t* Mean  :  127.06088\n",
            "\t* Median:  94.0\n",
            "\t* Mode  :  65\n",
            "\t* Max.  :  1486\n",
            "\t* Min.  :  5\n",
            "\t* Std.  :  95.97834488744371\n"
          ]
        },
        {
          "output_type": "display_data",
          "data": {
            "text/plain": [
              "<Figure size 864x576 with 1 Axes>"
            ],
            "image/png": "[encoded data removed]"
          },
          "metadata": {
            "needs_background": "light"
          }
        }
      ],
      "source": [
        "import seaborn as sns\n",
        "\n",
        "# A function that appends a column called word_count the input dataframe\n",
        "def num_of_words(df):\n",
        "    df['word_count'] = df['reviews'].apply(lambda x : len(str(x).split(\" \")))\n",
        "\n",
        "# Call the method to calculate word_count in every review\n",
        "num_of_words(data)\n",
        "\n",
        "# Show statistics about words count \n",
        "wc_mean = data['word_count'].mean()\n",
        "wc_std = data['word_count'].std()\n",
        "\n",
        "print('Word Count analysis:')\n",
        "print('\\t* Mean  : ', wc_mean)\n",
        "print('\\t* Median: ', data['word_count'].median())\n",
        "print('\\t* Mode  : ', data['word_count'].mode().iat[0])\n",
        "print('\\t* Max.  : ', data['word_count'].max())\n",
        "print('\\t* Min.  : ', data['word_count'].min())\n",
        "print('\\t* Std.  : ', wc_std)\n",
        "\n",
        "# plot the distribution of the word_count\n",
        "hist = data['word_count'].hist(bins=200, figsize=(12,8), color='#86bf91')"
      ],
      "id": "9K2kNFrBerks"
    },
    {
      "cell_type": "markdown",
      "source": [
        "### Set Sequence length (max_len)"
      ],
      "metadata": {
        "id": "W-S4om5u7RyG"
      },
      "id": "W-S4om5u7RyG"
    },
    {
      "cell_type": "code",
      "source": [
        "# Set max_len to mean+3*std\n",
        "max_len = int(round(wc_mean + 3*wc_std))\n",
        " \n",
        "print('\\nWill use max_len=', max_len)"
      ],
      "metadata": {
        "colab": {
          "base_uri": "https://localhost:8080/"
        },
        "id": "WcziJ94H7O77",
        "outputId": "46cdc1bf-661c-4fd6-bcef-2f17b3a6a652"
      },
      "id": "WcziJ94H7O77",
      "execution_count": null,
      "outputs": [
        {
          "output_type": "stream",
          "name": "stdout",
          "text": [
            "\n",
            "Will use max_len= 415\n"
          ]
        }
      ]
    },
    {
      "cell_type": "markdown",
      "source": [
        "### Tokenize the input"
      ],
      "metadata": {
        "id": "hilR4bKI7cou"
      },
      "id": "hilR4bKI7cou"
    },
    {
      "cell_type": "code",
      "execution_count": null,
      "metadata": {
        "colab": {
          "base_uri": "https://localhost:8080/"
        },
        "id": "f6EQd3R2LAat",
        "outputId": "41aff84e-64db-4bec-8cd6-c2e954935cfb"
      },
      "outputs": [
        {
          "output_type": "stream",
          "name": "stdout",
          "text": [
            "---------------\n",
            "[[3848, 6, 543, 5, 10, 1]]\n",
            "[[   0    0    0 ...  154 2861 1492]\n",
            " [   0    0    0 ...    1   51 2874]\n",
            " [   0    0    0 ...  687  166  348]\n",
            " ...\n",
            " [   0    0    0 ...    1 1082  561]\n",
            " [   0    0    0 ...   20 1237   35]\n",
            " [   0    0    0 ...  228    9  480]]\n",
            "Tokenizer Saved!\n"
          ]
        }
      ],
      "source": [
        "import pickle\n",
        "from keras.preprocessing.text import Tokenizer\n",
        "from keras.preprocessing.sequence import pad_sequences\n",
        "\n",
        "# words that we need to be presented in the output of the tokenizer\n",
        "stop_words_to_preserve = \"not but no nor\"\n",
        "\n",
        "# append the above string 500 times to an empty list\n",
        "stop_words_list = []\n",
        "for i in range(500):\n",
        "    stop_words_list.append(stop_words_to_preserve)\n",
        "\n",
        "# join\n",
        "stop_words_to_preserve = ' '.join(stop_words_list)\n",
        "\n",
        "# make a copy of imput dataframe\n",
        "df = data.copy();\n",
        "\n",
        "# add a line that contains the dummy data\n",
        "df.loc[len(df.index)] = [stop_words_to_preserve, 'positive',1] \n",
        "\n",
        "\n",
        "max_features = 5000\n",
        "tokenizer = Tokenizer(num_words=max_features, split=' ', oov_token='1')\n",
        "\n",
        "tokenizer.fit_on_texts(df['reviews'].values)\n",
        "\n",
        "#print(tokenizer.texts_to_sequences([stop_words_to_preserve]))\n",
        "\n",
        "\n",
        "print('---------------')\n",
        "print(tokenizer.texts_to_sequences([\"hello not ok but good kk\"]))\n",
        "\n",
        "X = tokenizer.texts_to_sequences(data['reviews'].values)\n",
        "X = pad_sequences(X, maxlen=max_len)\n",
        "\n",
        "print(X)\n",
        "\n",
        "with open('tokenizer.pickle', 'wb') as handle:\n",
        "    pickle.dump(tokenizer, handle, protocol=pickle.HIGHEST_PROTOCOL)\n",
        "    print('Tokenizer Saved!')"
      ],
      "id": "f6EQd3R2LAat"
    },
    {
      "cell_type": "markdown",
      "source": [
        "### Prepare the Labels"
      ],
      "metadata": {
        "id": "m6RTm9Oe7rl2"
      },
      "id": "m6RTm9Oe7rl2"
    },
    {
      "cell_type": "code",
      "execution_count": null,
      "metadata": {
        "colab": {
          "base_uri": "https://localhost:8080/"
        },
        "id": "l64Unl-uMuwY",
        "outputId": "66b17805-3cb9-4022-ea04-b217804fc51e"
      },
      "outputs": [
        {
          "output_type": "stream",
          "name": "stdout",
          "text": [
            "       negative  positive\n",
            "0             0         1\n",
            "1             1         0\n",
            "2             0         1\n",
            "3             1         0\n",
            "4             0         1\n",
            "...         ...       ...\n",
            "24995         1         0\n",
            "24996         0         1\n",
            "24997         1         0\n",
            "24998         0         1\n",
            "24999         1         0\n",
            "\n",
            "[25000 rows x 2 columns]\n",
            "[[0 1]\n",
            " [1 0]\n",
            " [0 1]\n",
            " ...\n",
            " [1 0]\n",
            " [0 1]\n",
            " [1 0]]\n"
          ]
        }
      ],
      "source": [
        "#Conver the labels from Words(Positive & Negative) into numbers (0 & 1)\n",
        "dummy = pd.get_dummies(data['labels'])\n",
        "print(dummy)\n",
        "\n",
        "Y = pd.get_dummies(data['labels']).values\n",
        "\n",
        "#Y = dummy['positive']\n",
        "print(Y)\n"
      ],
      "id": "l64Unl-uMuwY"
    },
    {
      "cell_type": "markdown",
      "metadata": {
        "id": "oHIYWX_VvRir"
      },
      "source": [
        "#Build the Model "
      ],
      "id": "oHIYWX_VvRir"
    },
    {
      "cell_type": "code",
      "execution_count": null,
      "metadata": {
        "id": "DWFuTKdn66kt"
      },
      "outputs": [],
      "source": [
        "import numpy as np # linear algebra\n",
        "import pandas as pd # data processing, CSV file I/O (e.g. pd.read_csv)\n",
        "\n",
        "from keras.models import Sequential\n",
        "from tensorflow.keras.optimizers import Adam\n",
        "from tensorflow.keras.losses import BinaryCrossentropy\n",
        "from keras.layers import Dense, Embedding, GRU, Dropout, Bidirectional\n",
        "from sklearn.model_selection import train_test_split\n",
        "import re"
      ],
      "id": "DWFuTKdn66kt"
    },
    {
      "cell_type": "code",
      "execution_count": null,
      "metadata": {
        "id": "AmP1GzsqMLed"
      },
      "outputs": [],
      "source": [
        "# embed_dim = 32\n",
        "# lstm_out = 100\n",
        "\n",
        "# model = Sequential()\n",
        "# model.add(Embedding(max_features, embed_dim,input_length = X.shape[1]))\n",
        "# model.add(SpatialDropout1D(0.4))\n",
        "# model.add(Bidirectional(GRU(lstm_out, dropout=0.2, recurrent_dropout=0.2)))\n",
        "# model.add(Dense(2,activation='softmax'))\n",
        "# model.compile(loss = 'binary_crossentropy', optimizer='adam',metrics = ['binary_accuracy'])\n",
        "# print(model.summary())"
      ],
      "id": "AmP1GzsqMLed"
    },
    {
      "cell_type": "code",
      "execution_count": null,
      "metadata": {
        "id": "ytP7_VCOiSfP"
      },
      "outputs": [],
      "source": [
        "# embed_dim = 64\n",
        "# lstm_out = 100\n",
        "\n",
        "# model = Sequential()\n",
        "# model.add(Embedding(max_features, embed_dim, input_length=X.shape[1]))\n",
        "# model.add(SpatialDropout1D(0.4))\n",
        "# model.add(Bidirectional(GRU(lstm_out, dropout=0.2, recurrent_dropout=0.2, return_sequences=False)))\n",
        "# #model.add(Bidirectional(GRU(128, dropout=0.2, recurrent_dropout=0.2, return_sequences=False)))\n",
        "# model.add(Flatten())\n",
        "# model.add(Dense(64, activation='relu'))\n",
        "# model.add(Dense(8, activation='relu'))\n",
        "# model.add(Dense(2, activation='softmax'))\n",
        "# model.compile(loss = 'binary_crossentropy', optimizer='adam',metrics = ['binary_accuracy'])\n",
        "\n",
        "# print(model.summary())\n"
      ],
      "id": "ytP7_VCOiSfP"
    },
    {
      "cell_type": "code",
      "execution_count": null,
      "metadata": {
        "colab": {
          "base_uri": "https://localhost:8080/"
        },
        "id": "n5pfAF1gBGVP",
        "outputId": "05ac9dfd-6773-491f-b597-fc5956bbd4f0"
      },
      "outputs": [
        {
          "output_type": "stream",
          "name": "stdout",
          "text": [
            "Model: \"sequential\"\n",
            "_________________________________________________________________\n",
            " Layer (type)                Output Shape              Param #   \n",
            "=================================================================\n",
            " embedding (Embedding)       (None, 415, 90)           450000    \n",
            "                                                                 \n",
            " bidirectional (Bidirectiona  (None, 415, 64)          23808     \n",
            " l)                                                              \n",
            "                                                                 \n",
            " bidirectional_1 (Bidirectio  (None, 8)                1680      \n",
            " nal)                                                            \n",
            "                                                                 \n",
            " dropout (Dropout)           (None, 8)                 0         \n",
            "                                                                 \n",
            " dense (Dense)               (None, 2)                 18        \n",
            "                                                                 \n",
            "=================================================================\n",
            "Total params: 475,506\n",
            "Trainable params: 475,506\n",
            "Non-trainable params: 0\n",
            "_________________________________________________________________\n"
          ]
        }
      ],
      "source": [
        "model = Sequential()\n",
        "model.add(Embedding(max_features, 90, input_length=X.shape[1]))\n",
        "\n",
        "model.add(\n",
        "    Bidirectional(\n",
        "    GRU(32, dropout=0.5, recurrent_dropout=0, return_sequences=True,activation='tanh',  recurrent_activation='sigmoid', reset_after=True, use_bias=True, unroll=False )\n",
        "    )\n",
        ")\n",
        "model.add(Bidirectional(GRU(4, dropout=0.5, recurrent_dropout=0, return_sequences=False, activation='tanh',  recurrent_activation='sigmoid', reset_after=True, use_bias=True, unroll=False)))\n",
        "model.add(Dropout(0.5))\n",
        "model.add(Dense(2, activation='softmax'))\n",
        "adam = Adam(learning_rate=0.01)\n",
        "model.compile(\n",
        "    loss=BinaryCrossentropy(from_logits=True), \n",
        "    optimizer=adam, \n",
        "    metrics=['accuracy']\n",
        ")\n",
        "model.summary()"
      ],
      "id": "n5pfAF1gBGVP"
    },
    {
      "cell_type": "markdown",
      "metadata": {
        "id": "qr826pH8RRoy"
      },
      "source": [
        "##splite train ,test"
      ],
      "id": "qr826pH8RRoy"
    },
    {
      "cell_type": "code",
      "execution_count": null,
      "metadata": {
        "colab": {
          "base_uri": "https://localhost:8080/"
        },
        "id": "edtSTtp2MGs4",
        "outputId": "0c2b7fc1-bd32-4f83-8af3-9a82acd6a060"
      },
      "outputs": [
        {
          "output_type": "stream",
          "name": "stdout",
          "text": [
            "(19125, 415) (19125, 2)\n",
            "(2500, 415) (2500, 2)\n",
            "(3375, 415) (3375, 2)\n"
          ]
        }
      ],
      "source": [
        "#Split the data into Training & Testing Data\n",
        "X_train, X_test, Y_train, Y_test = train_test_split(X, Y, test_size=0.1, random_state = 28)\n",
        "\n",
        "X_train, X_val, Y_train, Y_val = train_test_split(X_train, Y_train, test_size=0.15, random_state = 92)\n",
        "\n",
        "print(X_train.shape,Y_train.shape)\n",
        "print(X_test.shape,Y_test.shape)\n",
        "print(X_val.shape,Y_val.shape)"
      ],
      "id": "edtSTtp2MGs4"
    },
    {
      "cell_type": "markdown",
      "source": [
        "##Fit (Train) the model"
      ],
      "metadata": {
        "id": "XpJpWCJmtFmq"
      },
      "id": "XpJpWCJmtFmq"
    },
    {
      "cell_type": "code",
      "execution_count": null,
      "metadata": {
        "colab": {
          "base_uri": "https://localhost:8080/"
        },
        "id": "LMPFFV4qM-Sf",
        "outputId": "a06dfd2a-07e0-4d17-d365-379632f94a37"
      },
      "outputs": [
        {
          "output_type": "stream",
          "name": "stdout",
          "text": [
            "Epoch 1/4\n"
          ]
        },
        {
          "output_type": "stream",
          "name": "stderr",
          "text": [
            "/usr/local/lib/python3.7/dist-packages/tensorflow/python/util/dispatch.py:1082: UserWarning: \"`binary_crossentropy` received `from_logits=True`, but the `output` argument was produced by a sigmoid or softmax activation and thus does not represent logits. Was this intended?\"\n",
            "  return dispatch_target(*args, **kwargs)\n"
          ]
        },
        {
          "output_type": "stream",
          "name": "stdout",
          "text": [
            "38/38 [==============================] - 157s 4s/step - loss: 0.5888 - accuracy: 0.6836 - val_loss: 0.4663 - val_accuracy: 0.8104\n",
            "Epoch 2/4\n",
            "38/38 [==============================] - 144s 4s/step - loss: 0.4442 - accuracy: 0.8211 - val_loss: 0.3738 - val_accuracy: 0.8483\n",
            "Epoch 3/4\n",
            "38/38 [==============================] - 140s 4s/step - loss: 0.3543 - accuracy: 0.8627 - val_loss: 0.3303 - val_accuracy: 0.8637\n",
            "Epoch 4/4\n",
            "38/38 [==============================] - 141s 4s/step - loss: 0.2882 - accuracy: 0.8927 - val_loss: 0.3281 - val_accuracy: 0.8711\n"
          ]
        }
      ],
      "source": [
        "batch_size = 512\n",
        "\n",
        "fit_result = model.fit(X_train, Y_train, epochs = 4, batch_size=batch_size, verbose = 1 , validation_data=(X_val, Y_val)) "
      ],
      "id": "LMPFFV4qM-Sf"
    },
    {
      "cell_type": "markdown",
      "source": [
        "##Training Results"
      ],
      "metadata": {
        "id": "U8Zqs5h1z_-X"
      },
      "id": "U8Zqs5h1z_-X"
    },
    {
      "cell_type": "code",
      "source": [
        "#make a new figure and setting its dimensions\n",
        "fig = plt.figure()\n",
        "fig.set_size_inches(16, 5)\n",
        "\n",
        "#read required data from model fit history\n",
        "loss_per_epoch = fit_result.history['loss']\n",
        "val_loss_per_epoch = fit_result.history['val_loss']\n",
        "accuracy = fit_result.history['accuracy']\n",
        "val_accuracy = fit_result.history['val_accuracy']\n",
        "\n",
        "# plot loss and validation loss\n",
        "ax = fig.add_subplot(1, 2, 1)\n",
        "ax.plot(range(len(loss_per_epoch)),loss_per_epoch,label='Loss')\n",
        "ax.plot(range(len(loss_per_epoch)),val_loss_per_epoch, label='val_Loss')\n",
        "ax.set_title('Loss Per Epoch')\n",
        "ax.legend()\n",
        "\n",
        "# plot accuracy and validation accuracy\n",
        "ax = fig.add_subplot(1, 2, 2)\n",
        "ax.plot(range(len(loss_per_epoch)),accuracy, label='accuracy')\n",
        "ax.plot(range(len(loss_per_epoch)),val_accuracy, label='val_accuracy')\n",
        "ax.set_title('Accuracy')\n",
        "ax.legend()\n",
        "\n",
        "# display the plot\n",
        "plt.show()"
      ],
      "metadata": {
        "colab": {
          "base_uri": "https://localhost:8080/",
          "height": 336
        },
        "id": "PPWfdFc6x4jS",
        "outputId": "7520b320-3a66-4819-bbce-842aa85637bc"
      },
      "id": "PPWfdFc6x4jS",
      "execution_count": null,
      "outputs": [
        {
          "output_type": "display_data",
          "data": {
            "text/plain": [
              "<Figure size 1152x360 with 2 Axes>"
            ],
            "image/png": "[encoded data removed]"
          },
          "metadata": {
            "needs_background": "light"
          }
        }
      ]
    },
    {
      "cell_type": "markdown",
      "metadata": {
        "id": "oM0sIIftRcG7"
      },
      "source": [
        "##validation & test"
      ],
      "id": "oM0sIIftRcG7"
    },
    {
      "cell_type": "code",
      "execution_count": null,
      "metadata": {
        "id": "DhipqZpqpgP4",
        "colab": {
          "base_uri": "https://localhost:8080/"
        },
        "outputId": "1f4106a5-1d92-4f02-986b-a9583d36e85a"
      },
      "outputs": [
        {
          "output_type": "stream",
          "name": "stdout",
          "text": [
            "5/5 - 4s - loss: 0.3585 - accuracy: 0.8604 - 4s/epoch - 856ms/step\n",
            "score: 0.36\n",
            "acc: 0.86\n"
          ]
        }
      ],
      "source": [
        "# Evaluate Model performance by supplying the validation data\n",
        "score,acc = model.evaluate(X_test, Y_test, verbose = 2, batch_size = batch_size)\n",
        "print(\"score: %.2f\" % (score))\n",
        "print(\"acc: %.2f\" % (acc))\n"
      ],
      "id": "DhipqZpqpgP4"
    },
    {
      "cell_type": "markdown",
      "metadata": {
        "id": "ngkyvsQJRZgq"
      },
      "source": [
        "## save the model"
      ],
      "id": "ngkyvsQJRZgq"
    },
    {
      "cell_type": "code",
      "execution_count": null,
      "metadata": {
        "id": "E6bT87j9Rak8",
        "colab": {
          "base_uri": "https://localhost:8080/"
        },
        "outputId": "3feb04eb-0878-4761-e108-e516c0fac255"
      },
      "outputs": [
        {
          "output_type": "stream",
          "name": "stdout",
          "text": [
            "Saved model to disk\n"
          ]
        }
      ],
      "source": [
        "# Saving the Model\n",
        "\n",
        "# serialize model to JSON\n",
        "model_json = model.to_json()\n",
        "with open(\"sentiment_model.json\", \"w\") as json_file:\n",
        "    json_file.write(model_json)\n",
        "\n",
        "# serialize weights to HDF5\n",
        "model.save_weights(\"model.h5\")\n",
        "print(\"Saved model to disk\")\n"
      ],
      "id": "E6bT87j9Rak8"
    },
    {
      "cell_type": "markdown",
      "metadata": {
        "id": "e-TInsPb7ZNy"
      },
      "source": [
        "#Model In Action"
      ],
      "id": "e-TInsPb7ZNy"
    },
    {
      "cell_type": "markdown",
      "metadata": {
        "id": "KMiHbeXc7f5d"
      },
      "source": [
        "##Load the Model"
      ],
      "id": "KMiHbeXc7f5d"
    },
    {
      "cell_type": "code",
      "execution_count": null,
      "metadata": {
        "id": "l27b2fQK2Vwu",
        "colab": {
          "base_uri": "https://localhost:8080/"
        },
        "outputId": "c6eb2002-09d6-4b43-8055-a2c06ff2807b"
      },
      "outputs": [
        {
          "output_type": "stream",
          "name": "stdout",
          "text": [
            "Loaded model from disk\n"
          ]
        }
      ],
      "source": [
        "from keras.models import model_from_json\n",
        "\n",
        "# load json data from the file and create model\n",
        "json_file = open('sentiment_model.json', 'r')\n",
        "loaded_model_json = json_file.read()\n",
        "json_file.close()\n",
        "loaded_model = model_from_json(loaded_model_json)\n",
        "\n",
        "# load weights into the just created model\n",
        "loaded_model.load_weights(\"model.h5\")\n",
        "print(\"Loaded model from disk\")\n"
      ],
      "id": "l27b2fQK2Vwu"
    },
    {
      "cell_type": "markdown",
      "metadata": {
        "id": "4Nkts6517qPK"
      },
      "source": [
        "##Load the tokenizer"
      ],
      "id": "4Nkts6517qPK"
    },
    {
      "cell_type": "code",
      "execution_count": null,
      "metadata": {
        "id": "RGDxyYbx2ubI",
        "colab": {
          "base_uri": "https://localhost:8080/"
        },
        "outputId": "553c7e4a-95f6-4ab3-f0cb-581dce9ddbc3"
      },
      "outputs": [
        {
          "output_type": "stream",
          "name": "stdout",
          "text": [
            "Loaded Tokenizer from disk\n"
          ]
        }
      ],
      "source": [
        "import pickle\n",
        "\n",
        "# open the file that was used to save the tokenizer\n",
        "with open('tokenizer.pickle', 'rb') as handle:\n",
        "    #load the tokenizer from the file\n",
        "    tokenizer = pickle.load(handle)\n",
        "    print(\"Loaded Tokenizer from disk\")\n"
      ],
      "id": "RGDxyYbx2ubI"
    },
    {
      "cell_type": "code",
      "execution_count": null,
      "metadata": {
        "id": "NrOVV3NJ3Pik"
      },
      "outputs": [],
      "source": [
        "from nltk.stem.porter import PorterStemmer\n",
        "from nltk.stem import WordNetLemmatizer\n",
        "\n",
        "\n",
        "# methos that uses the trained model in order to analysis a review\n",
        "def check_sentiment(model, tokenizer, verbose, text):\n",
        "\n",
        "    # print input text\n",
        "    print('\\r\\n------------- Checking a review --------------')\n",
        "    print('INPUT  :', text)\n",
        "\n",
        "    # pre-processising\n",
        "    text = text.lower()\n",
        "    text = re.sub('[^a-zA-z0-9\\s]', '', text)\n",
        "\n",
        "    #break input string into words (tokens)\n",
        "    text = word_tokenize(text)\n",
        "\n",
        "    # get stemmer instance\n",
        "    stemmer = PorterStemmer()\n",
        "\n",
        "    #convert every word into its stem\n",
        "    text = [stemmer.stem(word) for word in text if word not in stopwords_english]\n",
        "    #print(text)\n",
        "\n",
        "    # vectorizing the input by the pre-fitted tokenizer instance\n",
        "    text = tokenizer.texts_to_sequences([text])\n",
        "    #print(text)\n",
        "\n",
        "    # padding the input to have exactly the same shape as the input of the model (Set in Training)\n",
        "    text = pad_sequences(text, maxlen=max_len)\n",
        "\n",
        "    # Use the model to predict the output\n",
        "    prediction = model.predict(text)\n",
        "    #print(prediction)\n",
        "    prediction = np.argmax(prediction, axis=1)[0]\n",
        "\n",
        "    if prediction == 0:\n",
        "        print(\"RESULT : negative\")\n",
        "\n",
        "    elif prediction == 1:\n",
        "        print(\"RESULT : positive\")"
      ],
      "id": "NrOVV3NJ3Pik"
    },
    {
      "cell_type": "code",
      "execution_count": null,
      "metadata": {
        "id": "4TVwDO0a3mbf",
        "colab": {
          "base_uri": "https://localhost:8080/"
        },
        "outputId": "7705724b-958c-420d-98fc-e7eeaacd4b65"
      },
      "outputs": [
        {
          "output_type": "stream",
          "name": "stdout",
          "text": [
            "\r\n",
            "------------- Checking a review --------------\n",
            "INPUT  : very good people however, very bad service the place is bad\n",
            "RESULT : negative\n",
            "\n",
            "------------- Checking a review --------------\n",
            "INPUT  : fast but bad and horrible\n",
            "RESULT : negative\n",
            "\n",
            "------------- Checking a review --------------\n",
            "INPUT  : bad\n",
            "RESULT : negative\n",
            "\n",
            "------------- Checking a review --------------\n",
            "INPUT  : not bad\n",
            "RESULT : negative\n",
            "\n",
            "------------- Checking a review --------------\n",
            "INPUT  : good\n",
            "RESULT : positive\n",
            "\n",
            "------------- Checking a review --------------\n",
            "INPUT  : not good\n",
            "RESULT : positive\n",
            "\n",
            "------------- Checking a review --------------\n",
            "INPUT  : I loved it, it is amazing woooooo\n",
            "RESULT : positive\n",
            "\n",
            "------------- Checking a review --------------\n",
            "INPUT  : Great place with great coffee. My oat milk latte was delightful, and I appreciated seeing cold brew ice cubes in their cold brew drink!\n",
            "RESULT : positive\n",
            "\n",
            "------------- Checking a review --------------\n",
            "INPUT  : Some new guy just tried to charge me 75 cents for a splash of oat milk in my small drip coffee... i was like \"wait you guys charge for splashes of oat milk now? He said yeah, for just a little bit ????? I come here literally every morning. Someone train this guy\n",
            "RESULT : negative\n"
          ]
        }
      ],
      "source": [
        "\n",
        "verbose = False\n",
        "check_sentiment(loaded_model, tokenizer, verbose, 'very good people however, very bad service the place is bad')\n",
        "check_sentiment(loaded_model, tokenizer, verbose, 'fast but bad and horrible')\n",
        "check_sentiment(loaded_model, tokenizer, verbose, 'bad')\n",
        "check_sentiment(loaded_model, tokenizer, verbose, 'not bad')\n",
        "check_sentiment(loaded_model, tokenizer, verbose, 'good')\n",
        "check_sentiment(loaded_model, tokenizer, verbose, 'not good')\n",
        "check_sentiment(loaded_model, tokenizer, verbose, 'I loved it, it is amazing woooooo')\n",
        "check_sentiment(loaded_model, tokenizer, verbose, 'Great place with great coffee. My oat milk latte was delightful, and I appreciated seeing cold brew ice cubes in their cold brew drink!')\n",
        "check_sentiment(loaded_model, tokenizer, verbose, 'Some new guy just tried to charge me 75 cents for a splash of oat milk in my small drip coffee... i was like \"wait you guys charge for splashes of oat milk now? He said yeah, for just a little bit ????? I come here literally every morning. Someone train this guy')\n"
      ],
      "id": "4TVwDO0a3mbf"
    }
  ],
  "metadata": {
    "accelerator": "GPU",
    "colab": {
      "collapsed_sections": [],
      "provenance": []
    },
    "gpuClass": "standard",
    "kernelspec": {
      "display_name": "Python 3 (ipykernel)",
      "language": "python",
      "name": "python3"
    },
    "language_info": {
      "codemirror_mode": {
        "name": "ipython",
        "version": 3
      },
      "file_extension": ".py",
      "mimetype": "text/x-python",
      "name": "python",
      "nbconvert_exporter": "python",
      "pygments_lexer": "ipython3",
      "version": "3.9.7"
    }
  },
  "nbformat": 4,
  "nbformat_minor": 5
}