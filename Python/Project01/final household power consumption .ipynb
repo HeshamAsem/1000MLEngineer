{
 "cells": [
  {
   "cell_type": "code",
   "execution_count": 1,
   "metadata": {},
   "outputs": [],
   "source": [
    "# read the Data \n",
    "######################## Explain #####################\n",
    "# Specify the separate between columns as a semicolon (sep=’;’)\n",
    "# Specify that line 0 has the names for the columns (header=0)\n",
    "# Specify that we have lots of RAM to avoid a warning that we are loading the data as an array of objects instead of an array of numbers, because of the ‘?’ values for missing data (low_memory=False).\n",
    "# Specify that it is okay for Pandas to try to infer the date-time format when parsing dates, which is way faster (infer_datetime_format=True)\n",
    "# Specify that we would like to parse the date and time columns together as a new column called ‘datetime’ (parse_dates={‘datetime’:[0,1]})\n",
    "# Specify that we would like our new ‘datetime’ column to be the index for the DataFrame (index_col=[‘datetime’]).\n",
    "import pandas as pd\n",
    "import numpy as np \n",
    "from matplotlib import pyplot as plt\n",
    "\n",
    "df = pd.read_csv('F:\\\\projects\\\\python\\\\02 Household Power Consumption.txt',  sep=';', header = 0, low_memory=False,\n",
    "                infer_datetime_format=True, parse_dates={'datetime':[0,1]}, index_col=['datetime'])\n"
   ]
  },
  {
   "cell_type": "code",
   "execution_count": 2,
   "metadata": {},
   "outputs": [
    {
     "data": {
      "text/html": [
       "<div>\n",
       "<style scoped>\n",
       "    .dataframe tbody tr th:only-of-type {\n",
       "        vertical-align: middle;\n",
       "    }\n",
       "\n",
       "    .dataframe tbody tr th {\n",
       "        vertical-align: top;\n",
       "    }\n",
       "\n",
       "    .dataframe thead th {\n",
       "        text-align: right;\n",
       "    }\n",
       "</style>\n",
       "<table border=\"1\" class=\"dataframe\">\n",
       "  <thead>\n",
       "    <tr style=\"text-align: right;\">\n",
       "      <th></th>\n",
       "      <th>Global_active_power</th>\n",
       "      <th>Global_reactive_power</th>\n",
       "      <th>Voltage</th>\n",
       "      <th>Global_intensity</th>\n",
       "      <th>Sub_metering_1</th>\n",
       "      <th>Sub_metering_2</th>\n",
       "      <th>Sub_metering_3</th>\n",
       "    </tr>\n",
       "    <tr>\n",
       "      <th>datetime</th>\n",
       "      <th></th>\n",
       "      <th></th>\n",
       "      <th></th>\n",
       "      <th></th>\n",
       "      <th></th>\n",
       "      <th></th>\n",
       "      <th></th>\n",
       "    </tr>\n",
       "  </thead>\n",
       "  <tbody>\n",
       "    <tr>\n",
       "      <th>16/12/2006 17:24:00</th>\n",
       "      <td>4.216</td>\n",
       "      <td>0.418</td>\n",
       "      <td>234.840</td>\n",
       "      <td>18.400</td>\n",
       "      <td>0.000</td>\n",
       "      <td>1.000</td>\n",
       "      <td>17.0</td>\n",
       "    </tr>\n",
       "    <tr>\n",
       "      <th>16/12/2006 17:25:00</th>\n",
       "      <td>5.360</td>\n",
       "      <td>0.436</td>\n",
       "      <td>233.630</td>\n",
       "      <td>23.000</td>\n",
       "      <td>0.000</td>\n",
       "      <td>1.000</td>\n",
       "      <td>16.0</td>\n",
       "    </tr>\n",
       "    <tr>\n",
       "      <th>16/12/2006 17:26:00</th>\n",
       "      <td>5.374</td>\n",
       "      <td>0.498</td>\n",
       "      <td>233.290</td>\n",
       "      <td>23.000</td>\n",
       "      <td>0.000</td>\n",
       "      <td>2.000</td>\n",
       "      <td>17.0</td>\n",
       "    </tr>\n",
       "    <tr>\n",
       "      <th>16/12/2006 17:27:00</th>\n",
       "      <td>5.388</td>\n",
       "      <td>0.502</td>\n",
       "      <td>233.740</td>\n",
       "      <td>23.000</td>\n",
       "      <td>0.000</td>\n",
       "      <td>1.000</td>\n",
       "      <td>17.0</td>\n",
       "    </tr>\n",
       "    <tr>\n",
       "      <th>16/12/2006 17:28:00</th>\n",
       "      <td>3.666</td>\n",
       "      <td>0.528</td>\n",
       "      <td>235.680</td>\n",
       "      <td>15.800</td>\n",
       "      <td>0.000</td>\n",
       "      <td>1.000</td>\n",
       "      <td>17.0</td>\n",
       "    </tr>\n",
       "  </tbody>\n",
       "</table>\n",
       "</div>"
      ],
      "text/plain": [
       "                    Global_active_power Global_reactive_power  Voltage  \\\n",
       "datetime                                                                 \n",
       "16/12/2006 17:24:00               4.216                 0.418  234.840   \n",
       "16/12/2006 17:25:00               5.360                 0.436  233.630   \n",
       "16/12/2006 17:26:00               5.374                 0.498  233.290   \n",
       "16/12/2006 17:27:00               5.388                 0.502  233.740   \n",
       "16/12/2006 17:28:00               3.666                 0.528  235.680   \n",
       "\n",
       "                    Global_intensity Sub_metering_1 Sub_metering_2  \\\n",
       "datetime                                                             \n",
       "16/12/2006 17:24:00           18.400          0.000          1.000   \n",
       "16/12/2006 17:25:00           23.000          0.000          1.000   \n",
       "16/12/2006 17:26:00           23.000          0.000          2.000   \n",
       "16/12/2006 17:27:00           23.000          0.000          1.000   \n",
       "16/12/2006 17:28:00           15.800          0.000          1.000   \n",
       "\n",
       "                     Sub_metering_3  \n",
       "datetime                             \n",
       "16/12/2006 17:24:00            17.0  \n",
       "16/12/2006 17:25:00            16.0  \n",
       "16/12/2006 17:26:00            17.0  \n",
       "16/12/2006 17:27:00            17.0  \n",
       "16/12/2006 17:28:00            17.0  "
      ]
     },
     "execution_count": 2,
     "metadata": {},
     "output_type": "execute_result"
    }
   ],
   "source": [
    "df.head()"
   ]
  },
  {
   "cell_type": "code",
   "execution_count": 3,
   "metadata": {},
   "outputs": [
    {
     "data": {
      "text/html": [
       "<div>\n",
       "<style scoped>\n",
       "    .dataframe tbody tr th:only-of-type {\n",
       "        vertical-align: middle;\n",
       "    }\n",
       "\n",
       "    .dataframe tbody tr th {\n",
       "        vertical-align: top;\n",
       "    }\n",
       "\n",
       "    .dataframe thead th {\n",
       "        text-align: right;\n",
       "    }\n",
       "</style>\n",
       "<table border=\"1\" class=\"dataframe\">\n",
       "  <thead>\n",
       "    <tr style=\"text-align: right;\">\n",
       "      <th></th>\n",
       "      <th>Global_active_power</th>\n",
       "      <th>Global_reactive_power</th>\n",
       "      <th>Voltage</th>\n",
       "      <th>Global_intensity</th>\n",
       "      <th>Sub_metering_1</th>\n",
       "      <th>Sub_metering_2</th>\n",
       "      <th>Sub_metering_3</th>\n",
       "    </tr>\n",
       "    <tr>\n",
       "      <th>datetime</th>\n",
       "      <th></th>\n",
       "      <th></th>\n",
       "      <th></th>\n",
       "      <th></th>\n",
       "      <th></th>\n",
       "      <th></th>\n",
       "      <th></th>\n",
       "    </tr>\n",
       "  </thead>\n",
       "  <tbody>\n",
       "    <tr>\n",
       "      <th>24/4/2007 16:30:00</th>\n",
       "      <td>0.320</td>\n",
       "      <td>0.082</td>\n",
       "      <td>235.190</td>\n",
       "      <td>1.600</td>\n",
       "      <td>0.000</td>\n",
       "      <td>2.000</td>\n",
       "      <td>0.0</td>\n",
       "    </tr>\n",
       "    <tr>\n",
       "      <th>24/4/2007 16:31:00</th>\n",
       "      <td>0.328</td>\n",
       "      <td>0.078</td>\n",
       "      <td>234.530</td>\n",
       "      <td>1.600</td>\n",
       "      <td>0.000</td>\n",
       "      <td>1.000</td>\n",
       "      <td>0.0</td>\n",
       "    </tr>\n",
       "    <tr>\n",
       "      <th>24/4/2007 16:32:00</th>\n",
       "      <td>0.344</td>\n",
       "      <td>0.088</td>\n",
       "      <td>234.900</td>\n",
       "      <td>1.800</td>\n",
       "      <td>0.000</td>\n",
       "      <td>1.000</td>\n",
       "      <td>0.0</td>\n",
       "    </tr>\n",
       "    <tr>\n",
       "      <th>24/4/2007 16:33:00</th>\n",
       "      <td>0.416</td>\n",
       "      <td>0.174</td>\n",
       "      <td>235.290</td>\n",
       "      <td>2.000</td>\n",
       "      <td>0.000</td>\n",
       "      <td>1.000</td>\n",
       "      <td>0.0</td>\n",
       "    </tr>\n",
       "    <tr>\n",
       "      <th>24/4/2007 16:34:00</th>\n",
       "      <td>0.408</td>\n",
       "      <td>0.174</td>\n",
       "      <td>234.820</td>\n",
       "      <td>2.000</td>\n",
       "      <td>0.000</td>\n",
       "      <td>1.000</td>\n",
       "      <td>0.0</td>\n",
       "    </tr>\n",
       "  </tbody>\n",
       "</table>\n",
       "</div>"
      ],
      "text/plain": [
       "                   Global_active_power Global_reactive_power  Voltage  \\\n",
       "datetime                                                                \n",
       "24/4/2007 16:30:00               0.320                 0.082  235.190   \n",
       "24/4/2007 16:31:00               0.328                 0.078  234.530   \n",
       "24/4/2007 16:32:00               0.344                 0.088  234.900   \n",
       "24/4/2007 16:33:00               0.416                 0.174  235.290   \n",
       "24/4/2007 16:34:00               0.408                 0.174  234.820   \n",
       "\n",
       "                   Global_intensity Sub_metering_1 Sub_metering_2  \\\n",
       "datetime                                                            \n",
       "24/4/2007 16:30:00            1.600          0.000          2.000   \n",
       "24/4/2007 16:31:00            1.600          0.000          1.000   \n",
       "24/4/2007 16:32:00            1.800          0.000          1.000   \n",
       "24/4/2007 16:33:00            2.000          0.000          1.000   \n",
       "24/4/2007 16:34:00            2.000          0.000          1.000   \n",
       "\n",
       "                    Sub_metering_3  \n",
       "datetime                            \n",
       "24/4/2007 16:30:00             0.0  \n",
       "24/4/2007 16:31:00             0.0  \n",
       "24/4/2007 16:32:00             0.0  \n",
       "24/4/2007 16:33:00             0.0  \n",
       "24/4/2007 16:34:00             0.0  "
      ]
     },
     "execution_count": 3,
     "metadata": {},
     "output_type": "execute_result"
    }
   ],
   "source": [
    "df.tail() # To show the last 5 rows"
   ]
  },
  {
   "cell_type": "code",
   "execution_count": 4,
   "metadata": {},
   "outputs": [
    {
     "data": {
      "text/plain": [
       "(185711, 7)"
      ]
     },
     "execution_count": 4,
     "metadata": {},
     "output_type": "execute_result"
    }
   ],
   "source": [
    "df.shape # To know how many rows & columns"
   ]
  },
  {
   "cell_type": "code",
   "execution_count": 5,
   "metadata": {},
   "outputs": [
    {
     "data": {
      "text/plain": [
       "Index(['Global_active_power', 'Global_reactive_power', 'Voltage',\n",
       "       'Global_intensity', 'Sub_metering_1', 'Sub_metering_2',\n",
       "       'Sub_metering_3'],\n",
       "      dtype='object')"
      ]
     },
     "execution_count": 5,
     "metadata": {},
     "output_type": "execute_result"
    }
   ],
   "source": [
    "df.columns # Name of the columns"
   ]
  },
  {
   "cell_type": "code",
   "execution_count": 6,
   "metadata": {},
   "outputs": [
    {
     "data": {
      "text/plain": [
       "Global_active_power       object\n",
       "Global_reactive_power     object\n",
       "Voltage                   object\n",
       "Global_intensity          object\n",
       "Sub_metering_1            object\n",
       "Sub_metering_2            object\n",
       "Sub_metering_3           float64\n",
       "dtype: object"
      ]
     },
     "execution_count": 6,
     "metadata": {},
     "output_type": "execute_result"
    }
   ],
   "source": [
    "df.dtypes # type of Data including in the dataset "
   ]
  },
  {
   "cell_type": "code",
   "execution_count": 7,
   "metadata": {},
   "outputs": [],
   "source": [
    "# convert the object into float64\n",
    "df['Global_active_power'] = pd.to_numeric(df['Global_active_power'], errors='coerce')\n",
    "df['Global_reactive_power'] = pd.to_numeric(df['Global_reactive_power'], errors='coerce')\n",
    "df['Voltage'] = pd.to_numeric(df['Voltage'], errors='coerce')\n",
    "df['Global_intensity'] = pd.to_numeric(df['Global_intensity'], errors='coerce')\n",
    "df['Sub_metering_1'] = pd.to_numeric(df['Sub_metering_1'], errors='coerce')\n",
    "df['Sub_metering_2'] = pd.to_numeric(df['Sub_metering_2'], errors='coerce')\n"
   ]
  },
  {
   "cell_type": "code",
   "execution_count": 8,
   "metadata": {},
   "outputs": [
    {
     "data": {
      "text/plain": [
       "Global_active_power      float64\n",
       "Global_reactive_power    float64\n",
       "Voltage                  float64\n",
       "Global_intensity         float64\n",
       "Sub_metering_1           float64\n",
       "Sub_metering_2           float64\n",
       "Sub_metering_3           float64\n",
       "dtype: object"
      ]
     },
     "execution_count": 8,
     "metadata": {},
     "output_type": "execute_result"
    }
   ],
   "source": [
    "df.dtypes # type of Data including in the dataset "
   ]
  },
  {
   "cell_type": "code",
   "execution_count": 9,
   "metadata": {},
   "outputs": [
    {
     "data": {
      "text/plain": [
       "Global_active_power      10\n",
       "Global_reactive_power     9\n",
       "Voltage                  10\n",
       "Global_intensity         11\n",
       "Sub_metering_1            9\n",
       "Sub_metering_2            9\n",
       "Sub_metering_3            9\n",
       "dtype: int64"
      ]
     },
     "execution_count": 9,
     "metadata": {},
     "output_type": "execute_result"
    }
   ],
   "source": [
    "#####################################\n",
    "# check for missing value in dataset\n",
    "####################################\n",
    "#check  that if there are any nan\n",
    "df.isnull().sum()"
   ]
  },
  {
   "cell_type": "code",
   "execution_count": 10,
   "metadata": {},
   "outputs": [
    {
     "data": {
      "text/plain": [
       "[0, 1, 2, 3, 4, 5, 6]"
      ]
     },
     "execution_count": 10,
     "metadata": {},
     "output_type": "execute_result"
    }
   ],
   "source": [
    "## finding all columns that have nan:\n",
    "\n",
    "droping_list_all=[]\n",
    "for j in range(0,7):\n",
    "    if not df.iloc[:, j].notnull().all():\n",
    "        droping_list_all.append(j)        \n",
    "        #print(df.iloc[:,j].unique())\n",
    "droping_list_all "
   ]
  },
  {
   "cell_type": "code",
   "execution_count": 11,
   "metadata": {},
   "outputs": [],
   "source": [
    "# filling nan with mean in any columns\n",
    "\n",
    "for j in range(0,7):        \n",
    "        df.iloc[:,j]=df.iloc[:,j].fillna(df.iloc[:,j].mean())"
   ]
  },
  {
   "cell_type": "code",
   "execution_count": 12,
   "metadata": {},
   "outputs": [
    {
     "data": {
      "text/plain": [
       "Global_active_power      0\n",
       "Global_reactive_power    0\n",
       "Voltage                  0\n",
       "Global_intensity         0\n",
       "Sub_metering_1           0\n",
       "Sub_metering_2           0\n",
       "Sub_metering_3           0\n",
       "dtype: int64"
      ]
     },
     "execution_count": 12,
     "metadata": {},
     "output_type": "execute_result"
    }
   ],
   "source": [
    "# another check to make sure that there are not any nan\n",
    "df.isnull().sum()"
   ]
  },
  {
   "cell_type": "code",
   "execution_count": 13,
   "metadata": {},
   "outputs": [
    {
     "name": "stdout",
     "output_type": "stream",
     "text": [
      "Number of rows with 0 values for each variable\n",
      "Global_active_power: 0\n",
      "Global_reactive_power: 52043\n",
      "Voltage: 0\n",
      "Global_intensity: 0\n",
      "Sub_metering_1: 170580\n",
      "Sub_metering_2: 131407\n",
      "Sub_metering_3: 115780\n"
     ]
    }
   ],
   "source": [
    "# To know how many rows=0 for each columns\n",
    "\n",
    "def zerow_row(df):\n",
    "    print(\"Number of rows with 0 values for each variable\")\n",
    "    for col in df.columns:\n",
    "        missing_rows = df.loc[df[col]==0].shape[0]\n",
    "        print(col + \": \" + str(missing_rows))\n",
    "    return \n",
    "zerow_row(df)"
   ]
  },
  {
   "cell_type": "code",
   "execution_count": 14,
   "metadata": {},
   "outputs": [
    {
     "data": {
      "text/html": [
       "<div>\n",
       "<style scoped>\n",
       "    .dataframe tbody tr th:only-of-type {\n",
       "        vertical-align: middle;\n",
       "    }\n",
       "\n",
       "    .dataframe tbody tr th {\n",
       "        vertical-align: top;\n",
       "    }\n",
       "\n",
       "    .dataframe thead th {\n",
       "        text-align: right;\n",
       "    }\n",
       "</style>\n",
       "<table border=\"1\" class=\"dataframe\">\n",
       "  <thead>\n",
       "    <tr style=\"text-align: right;\">\n",
       "      <th></th>\n",
       "      <th>Global_active_power</th>\n",
       "      <th>Global_reactive_power</th>\n",
       "      <th>Voltage</th>\n",
       "      <th>Global_intensity</th>\n",
       "      <th>Sub_metering_1</th>\n",
       "      <th>Sub_metering_2</th>\n",
       "      <th>Sub_metering_3</th>\n",
       "    </tr>\n",
       "  </thead>\n",
       "  <tbody>\n",
       "    <tr>\n",
       "      <th>count</th>\n",
       "      <td>185711.000000</td>\n",
       "      <td>185711.000000</td>\n",
       "      <td>185711.000000</td>\n",
       "      <td>185711.000000</td>\n",
       "      <td>185711.000000</td>\n",
       "      <td>185711.000000</td>\n",
       "      <td>185711.000000</td>\n",
       "    </tr>\n",
       "    <tr>\n",
       "      <th>mean</th>\n",
       "      <td>1.382547</td>\n",
       "      <td>0.121663</td>\n",
       "      <td>240.641969</td>\n",
       "      <td>5.852523</td>\n",
       "      <td>1.232561</td>\n",
       "      <td>1.783675</td>\n",
       "      <td>6.553521</td>\n",
       "    </tr>\n",
       "    <tr>\n",
       "      <th>std</th>\n",
       "      <td>1.293234</td>\n",
       "      <td>0.112603</td>\n",
       "      <td>3.168414</td>\n",
       "      <td>5.455890</td>\n",
       "      <td>6.498592</td>\n",
       "      <td>7.162831</td>\n",
       "      <td>8.468804</td>\n",
       "    </tr>\n",
       "    <tr>\n",
       "      <th>min</th>\n",
       "      <td>0.104000</td>\n",
       "      <td>0.000000</td>\n",
       "      <td>223.490000</td>\n",
       "      <td>0.600000</td>\n",
       "      <td>0.000000</td>\n",
       "      <td>0.000000</td>\n",
       "      <td>0.000000</td>\n",
       "    </tr>\n",
       "    <tr>\n",
       "      <th>25%</th>\n",
       "      <td>0.318000</td>\n",
       "      <td>0.000000</td>\n",
       "      <td>238.700000</td>\n",
       "      <td>1.400000</td>\n",
       "      <td>0.000000</td>\n",
       "      <td>0.000000</td>\n",
       "      <td>0.000000</td>\n",
       "    </tr>\n",
       "    <tr>\n",
       "      <th>50%</th>\n",
       "      <td>1.218000</td>\n",
       "      <td>0.106000</td>\n",
       "      <td>240.820000</td>\n",
       "      <td>5.200000</td>\n",
       "      <td>0.000000</td>\n",
       "      <td>0.000000</td>\n",
       "      <td>0.000000</td>\n",
       "    </tr>\n",
       "    <tr>\n",
       "      <th>75%</th>\n",
       "      <td>2.062000</td>\n",
       "      <td>0.190000</td>\n",
       "      <td>242.770000</td>\n",
       "      <td>8.600000</td>\n",
       "      <td>0.000000</td>\n",
       "      <td>1.000000</td>\n",
       "      <td>17.000000</td>\n",
       "    </tr>\n",
       "    <tr>\n",
       "      <th>max</th>\n",
       "      <td>10.670000</td>\n",
       "      <td>0.874000</td>\n",
       "      <td>251.700000</td>\n",
       "      <td>46.400000</td>\n",
       "      <td>77.000000</td>\n",
       "      <td>78.000000</td>\n",
       "      <td>20.000000</td>\n",
       "    </tr>\n",
       "  </tbody>\n",
       "</table>\n",
       "</div>"
      ],
      "text/plain": [
       "       Global_active_power  Global_reactive_power        Voltage  \\\n",
       "count        185711.000000          185711.000000  185711.000000   \n",
       "mean              1.382547               0.121663     240.641969   \n",
       "std               1.293234               0.112603       3.168414   \n",
       "min               0.104000               0.000000     223.490000   \n",
       "25%               0.318000               0.000000     238.700000   \n",
       "50%               1.218000               0.106000     240.820000   \n",
       "75%               2.062000               0.190000     242.770000   \n",
       "max              10.670000               0.874000     251.700000   \n",
       "\n",
       "       Global_intensity  Sub_metering_1  Sub_metering_2  Sub_metering_3  \n",
       "count     185711.000000   185711.000000   185711.000000   185711.000000  \n",
       "mean           5.852523        1.232561        1.783675        6.553521  \n",
       "std            5.455890        6.498592        7.162831        8.468804  \n",
       "min            0.600000        0.000000        0.000000        0.000000  \n",
       "25%            1.400000        0.000000        0.000000        0.000000  \n",
       "50%            5.200000        0.000000        0.000000        0.000000  \n",
       "75%            8.600000        0.000000        1.000000       17.000000  \n",
       "max           46.400000       77.000000       78.000000       20.000000  "
      ]
     },
     "execution_count": 14,
     "metadata": {},
     "output_type": "execute_result"
    }
   ],
   "source": [
    "############ calculate statistics ############\n",
    "df.describe()"
   ]
  },
  {
   "cell_type": "code",
   "execution_count": 19,
   "metadata": {},
   "outputs": [
    {
     "data": {
      "text/html": [
       "<div>\n",
       "<style scoped>\n",
       "    .dataframe tbody tr th:only-of-type {\n",
       "        vertical-align: middle;\n",
       "    }\n",
       "\n",
       "    .dataframe tbody tr th {\n",
       "        vertical-align: top;\n",
       "    }\n",
       "\n",
       "    .dataframe thead th {\n",
       "        text-align: right;\n",
       "    }\n",
       "</style>\n",
       "<table border=\"1\" class=\"dataframe\">\n",
       "  <thead>\n",
       "    <tr style=\"text-align: right;\">\n",
       "      <th></th>\n",
       "      <th>Date</th>\n",
       "      <th>Time</th>\n",
       "      <th>Global_active_power</th>\n",
       "      <th>Global_reactive_power</th>\n",
       "      <th>Global_intensity</th>\n",
       "      <th>Sub_metering_1</th>\n",
       "      <th>Sub_metering_2</th>\n",
       "      <th>Sub_metering_3</th>\n",
       "    </tr>\n",
       "  </thead>\n",
       "  <tbody>\n",
       "    <tr>\n",
       "      <th>0</th>\n",
       "      <td>16/12/2006</td>\n",
       "      <td>17:24:00</td>\n",
       "      <td>4.216</td>\n",
       "      <td>0.418</td>\n",
       "      <td>18.400</td>\n",
       "      <td>0.000</td>\n",
       "      <td>1.000</td>\n",
       "      <td>17.0</td>\n",
       "    </tr>\n",
       "    <tr>\n",
       "      <th>1</th>\n",
       "      <td>16/12/2006</td>\n",
       "      <td>17:25:00</td>\n",
       "      <td>5.360</td>\n",
       "      <td>0.436</td>\n",
       "      <td>23.000</td>\n",
       "      <td>0.000</td>\n",
       "      <td>1.000</td>\n",
       "      <td>16.0</td>\n",
       "    </tr>\n",
       "    <tr>\n",
       "      <th>2</th>\n",
       "      <td>16/12/2006</td>\n",
       "      <td>17:26:00</td>\n",
       "      <td>5.374</td>\n",
       "      <td>0.498</td>\n",
       "      <td>23.000</td>\n",
       "      <td>0.000</td>\n",
       "      <td>2.000</td>\n",
       "      <td>17.0</td>\n",
       "    </tr>\n",
       "    <tr>\n",
       "      <th>3</th>\n",
       "      <td>16/12/2006</td>\n",
       "      <td>17:27:00</td>\n",
       "      <td>5.388</td>\n",
       "      <td>0.502</td>\n",
       "      <td>23.000</td>\n",
       "      <td>0.000</td>\n",
       "      <td>1.000</td>\n",
       "      <td>17.0</td>\n",
       "    </tr>\n",
       "    <tr>\n",
       "      <th>4</th>\n",
       "      <td>16/12/2006</td>\n",
       "      <td>17:28:00</td>\n",
       "      <td>3.666</td>\n",
       "      <td>0.528</td>\n",
       "      <td>15.800</td>\n",
       "      <td>0.000</td>\n",
       "      <td>1.000</td>\n",
       "      <td>17.0</td>\n",
       "    </tr>\n",
       "  </tbody>\n",
       "</table>\n",
       "</div>"
      ],
      "text/plain": [
       "         Date      Time Global_active_power Global_reactive_power  \\\n",
       "0  16/12/2006  17:24:00               4.216                 0.418   \n",
       "1  16/12/2006  17:25:00               5.360                 0.436   \n",
       "2  16/12/2006  17:26:00               5.374                 0.498   \n",
       "3  16/12/2006  17:27:00               5.388                 0.502   \n",
       "4  16/12/2006  17:28:00               3.666                 0.528   \n",
       "\n",
       "  Global_intensity Sub_metering_1 Sub_metering_2  Sub_metering_3  \n",
       "0           18.400          0.000          1.000            17.0  \n",
       "1           23.000          0.000          1.000            16.0  \n",
       "2           23.000          0.000          2.000            17.0  \n",
       "3           23.000          0.000          1.000            17.0  \n",
       "4           15.800          0.000          1.000            17.0  "
      ]
     },
     "execution_count": 19,
     "metadata": {},
     "output_type": "execute_result"
    }
   ],
   "source": [
    "New_df = pd.read_csv('F:\\\\projects\\\\python\\\\02 Household Power Consumption.txt',  sep=';', header = 0, low_memory=False,\n",
    "                infer_datetime_format=True)\n",
    "\n",
    "\n",
    "New_df = New_df[[\"Date\", \"Time\", \"Global_active_power\",\"Global_reactive_power\",\"Global_intensity\",\"Sub_metering_1\",\"Sub_metering_2\",\"Sub_metering_3\"]]\n",
    "New_df.head()"
   ]
  },
  {
   "cell_type": "code",
   "execution_count": 20,
   "metadata": {},
   "outputs": [
    {
     "data": {
      "text/html": [
       "<div>\n",
       "<style scoped>\n",
       "    .dataframe tbody tr th:only-of-type {\n",
       "        vertical-align: middle;\n",
       "    }\n",
       "\n",
       "    .dataframe tbody tr th {\n",
       "        vertical-align: top;\n",
       "    }\n",
       "\n",
       "    .dataframe thead th {\n",
       "        text-align: right;\n",
       "    }\n",
       "</style>\n",
       "<table border=\"1\" class=\"dataframe\">\n",
       "  <thead>\n",
       "    <tr style=\"text-align: right;\">\n",
       "      <th></th>\n",
       "      <th>Global_active_power</th>\n",
       "      <th>Global_reactive_power</th>\n",
       "      <th>Global_intensity</th>\n",
       "      <th>Sub_metering_1</th>\n",
       "      <th>Sub_metering_2</th>\n",
       "      <th>Sub_metering_3</th>\n",
       "    </tr>\n",
       "    <tr>\n",
       "      <th>Date</th>\n",
       "      <th></th>\n",
       "      <th></th>\n",
       "      <th></th>\n",
       "      <th></th>\n",
       "      <th></th>\n",
       "      <th></th>\n",
       "    </tr>\n",
       "  </thead>\n",
       "  <tbody>\n",
       "    <tr>\n",
       "      <th>16/12/2006</th>\n",
       "      <td>4.216</td>\n",
       "      <td>0.418</td>\n",
       "      <td>18.400</td>\n",
       "      <td>0.000</td>\n",
       "      <td>1.000</td>\n",
       "      <td>17.0</td>\n",
       "    </tr>\n",
       "    <tr>\n",
       "      <th>16/12/2006</th>\n",
       "      <td>5.360</td>\n",
       "      <td>0.436</td>\n",
       "      <td>23.000</td>\n",
       "      <td>0.000</td>\n",
       "      <td>1.000</td>\n",
       "      <td>16.0</td>\n",
       "    </tr>\n",
       "    <tr>\n",
       "      <th>16/12/2006</th>\n",
       "      <td>5.374</td>\n",
       "      <td>0.498</td>\n",
       "      <td>23.000</td>\n",
       "      <td>0.000</td>\n",
       "      <td>2.000</td>\n",
       "      <td>17.0</td>\n",
       "    </tr>\n",
       "    <tr>\n",
       "      <th>16/12/2006</th>\n",
       "      <td>5.388</td>\n",
       "      <td>0.502</td>\n",
       "      <td>23.000</td>\n",
       "      <td>0.000</td>\n",
       "      <td>1.000</td>\n",
       "      <td>17.0</td>\n",
       "    </tr>\n",
       "    <tr>\n",
       "      <th>16/12/2006</th>\n",
       "      <td>3.666</td>\n",
       "      <td>0.528</td>\n",
       "      <td>15.800</td>\n",
       "      <td>0.000</td>\n",
       "      <td>1.000</td>\n",
       "      <td>17.0</td>\n",
       "    </tr>\n",
       "  </tbody>\n",
       "</table>\n",
       "</div>"
      ],
      "text/plain": [
       "           Global_active_power Global_reactive_power Global_intensity  \\\n",
       "Date                                                                    \n",
       "16/12/2006               4.216                 0.418           18.400   \n",
       "16/12/2006               5.360                 0.436           23.000   \n",
       "16/12/2006               5.374                 0.498           23.000   \n",
       "16/12/2006               5.388                 0.502           23.000   \n",
       "16/12/2006               3.666                 0.528           15.800   \n",
       "\n",
       "           Sub_metering_1 Sub_metering_2  Sub_metering_3  \n",
       "Date                                                      \n",
       "16/12/2006          0.000          1.000            17.0  \n",
       "16/12/2006          0.000          1.000            16.0  \n",
       "16/12/2006          0.000          2.000            17.0  \n",
       "16/12/2006          0.000          1.000            17.0  \n",
       "16/12/2006          0.000          1.000            17.0  "
      ]
     },
     "execution_count": 20,
     "metadata": {},
     "output_type": "execute_result"
    }
   ],
   "source": [
    "############# plot active_power ############\n",
    "New_df1 = New_df[[\"Date\", \"Global_active_power\",\"Global_reactive_power\",\"Global_intensity\",\"Sub_metering_1\",\"Sub_metering_2\",\"Sub_metering_3\"]]\n",
    "New_df1.set_index(\"Date\", inplace=True)\n",
    "New_df1.head()"
   ]
  },
  {
   "cell_type": "code",
   "execution_count": 21,
   "metadata": {},
   "outputs": [
    {
     "data": {
      "text/plain": [
       "<matplotlib.axes._subplots.AxesSubplot at 0x227f0892ac8>"
      ]
     },
     "execution_count": 21,
     "metadata": {},
     "output_type": "execute_result"
    },
    {
     "data": {
      "image/png": "[encoded data removed]",
      "text/plain": [
       "<Figure size 432x288 with 1 Axes>"
      ]
     },
     "metadata": {
      "needs_background": "light"
     },
     "output_type": "display_data"
    },
    {
     "data": {
      "image/png": "[encoded data removed]",
      "text/plain": [
       "<Figure size 432x288 with 1 Axes>"
      ]
     },
     "metadata": {
      "needs_background": "light"
     },
     "output_type": "display_data"
    }
   ],
   "source": [
    "New_df1.index = pd.to_datetime(New_df1.index, errors='coerce')\n",
    "\n",
    "# convert objectto float\n",
    "New_df1 = New_df1.apply( pd.to_numeric, errors='coerce') \n",
    "New_df1.isnull().sum()\n",
    "New_df1.resample('M').mean().plot(kind = 'bar')\n",
    "#New_df1.resample('M').mean().plot.box()\n",
    "New_df1.resample('M').mean().plot(kind = 'area')\n"
   ]
  },
  {
   "cell_type": "code",
   "execution_count": 22,
   "metadata": {},
   "outputs": [
    {
     "data": {
      "image/png": "[encoded data removed]",
      "text/plain": [
       "<Figure size 432x288 with 1 Axes>"
      ]
     },
     "metadata": {
      "needs_background": "light"
     },
     "output_type": "display_data"
    },
    {
     "data": {
      "image/png": "[encoded data removed]",
      "text/plain": [
       "<Figure size 432x288 with 1 Axes>"
      ]
     },
     "metadata": {
      "needs_background": "light"
     },
     "output_type": "display_data"
    }
   ],
   "source": [
    "New_df1['Global_active_power'].resample('Q').mean().plot(kind='bar')\n",
    "plt.title(\"Mean of Global_active_power\")\n",
    "plt.ylabel(\"Global_active-power\")\n",
    "plt.show()\n",
    "New_df1['Global_active_power'].resample('Q').mean().plot(kind='line')\n",
    "plt.title(\"Mean of Global_active_power\")\n",
    "plt.ylabel(\"Global_active-power\")\n",
    "plt.show()"
   ]
  },
  {
   "cell_type": "code",
   "execution_count": 23,
   "metadata": {},
   "outputs": [
    {
     "data": {
      "image/png": "[encoded data removed]",
      "text/plain": [
       "<Figure size 432x288 with 1 Axes>"
      ]
     },
     "metadata": {
      "needs_background": "light"
     },
     "output_type": "display_data"
    }
   ],
   "source": [
    "New_df1['Global_reactive_power'].resample('Q').mean().plot(kind='bar')\n",
    "\n",
    "plt.title(\"Mean of Global_reactive_power\")\n",
    "plt.ylabel(\"Global_reactive-power\")\n",
    "plt.show()"
   ]
  },
  {
   "cell_type": "code",
   "execution_count": 24,
   "metadata": {},
   "outputs": [
    {
     "data": {
      "image/png": "[encoded data removed]",
      "text/plain": [
       "<Figure size 432x288 with 1 Axes>"
      ]
     },
     "metadata": {
      "needs_background": "light"
     },
     "output_type": "display_data"
    }
   ],
   "source": [
    "New_df1['Global_intensity'].resample('Q').mean().plot(kind='bar')\n",
    "plt.title(\"Global_intensity\")\n",
    "plt.ylabel(\"Global_intensity\")\n",
    "plt.show()"
   ]
  },
  {
   "cell_type": "code",
   "execution_count": 25,
   "metadata": {},
   "outputs": [
    {
     "data": {
      "image/png": "[encoded data removed]",
      "text/plain": [
       "<Figure size 432x288 with 1 Axes>"
      ]
     },
     "metadata": {
      "needs_background": "light"
     },
     "output_type": "display_data"
    }
   ],
   "source": [
    "New_df1['Sub_metering_1'].resample('Q').mean().plot(kind='bar')\n",
    "plt.title(\"Sub_metering_1\")\n",
    "plt.ylabel(\"Sub_metering_1\")\n",
    "plt.show()"
   ]
  },
  {
   "cell_type": "code",
   "execution_count": 26,
   "metadata": {},
   "outputs": [
    {
     "data": {
      "image/png": "[encoded data removed]",
      "text/plain": [
       "<Figure size 432x288 with 1 Axes>"
      ]
     },
     "metadata": {
      "needs_background": "light"
     },
     "output_type": "display_data"
    }
   ],
   "source": [
    "New_df1['Sub_metering_2'].resample('Q').mean().plot(kind='bar')\n",
    "plt.title(\"Sub_metering_2\")\n",
    "plt.ylabel(\"Sub_metering_2\")\n",
    "plt.show()"
   ]
  },
  {
   "cell_type": "code",
   "execution_count": 27,
   "metadata": {},
   "outputs": [
    {
     "data": {
      "image/png": "[encoded data removed]",
      "text/plain": [
       "<Figure size 432x288 with 1 Axes>"
      ]
     },
     "metadata": {
      "needs_background": "light"
     },
     "output_type": "display_data"
    }
   ],
   "source": [
    "New_df1['Sub_metering_3'].resample('Q').mean().plot(kind='bar')\n",
    "plt.title(\"Sub_metering_3\")\n",
    "plt.ylabel(\"Sub_metering_3\")\n",
    "plt.show()"
   ]
  },
  {
   "cell_type": "code",
   "execution_count": 41,
   "metadata": {},
   "outputs": [
    {
     "name": "stdout",
     "output_type": "stream",
     "text": [
      "        Date                             newGlobal_active_power\n",
      "0 2006-12-16  [4.216, 5.36, 5.374, 5.388, 3.6660000000000004...\n",
      "1 2006-12-17  [1.044, 1.52, 3.0380000000000003, 2.9739999999...\n",
      "2 2006-12-18  [0.278, 0.23800000000000002, 0.208000000000000...\n",
      "3 2006-12-19  [0.414, 0.504, 0.408, 0.41600000000000004, 0.3...\n",
      "4 2006-12-20  [0.8240000000000001, 0.958, 0.9740000000000001...\n",
      "5 2006-12-21  [1.814, 1.474, 1.4780000000000002, 1.754, 1.46...\n",
      "6 2006-12-22  [0.20600000000000002, 0.20600000000000002, 0.3...\n",
      "7 2006-12-23  [2.3280000000000003, 2.316, 2.342, 0.564, 1.00...\n",
      "8 2006-12-24  [5.376, 5.34, 3.6839999999999997, 3.5660000000...\n",
      "9 2006-12-25  [0.586, 0.584, 0.648, 0.654, 0.655999999999999...\n"
     ]
    }
   ],
   "source": [
    "# groupby\n",
    "New_df2 = New_df1.groupby('Date')['Global_active_power'].apply(list).reset_index(name='newGlobal_active_power')\n",
    "\n",
    "print(New_df2.head(10))\n"
   ]
  },
  {
   "cell_type": "code",
   "execution_count": 36,
   "metadata": {},
   "outputs": [
    {
     "data": {
      "text/plain": [
       "(130, 2)"
      ]
     },
     "execution_count": 36,
     "metadata": {},
     "output_type": "execute_result"
    }
   ],
   "source": [
    "#a=int(New_df2[\"newGlobal_active_power\"].shape[0])\n",
    "#print(\"a=\",a)\n",
    "New_df2.shape"
   ]
  },
  {
   "cell_type": "code",
   "execution_count": 42,
   "metadata": {},
   "outputs": [
    {
     "name": "stdout",
     "output_type": "stream",
     "text": [
      "<class 'pandas.core.frame.DataFrame'>\n",
      "RangeIndex: 130 entries, 0 to 129\n",
      "Data columns (total 2 columns):\n",
      " #   Column                  Non-Null Count  Dtype         \n",
      "---  ------                  --------------  -----         \n",
      " 0   Date                    130 non-null    datetime64[ns]\n",
      " 1   newGlobal_active_power  130 non-null    object        \n",
      "dtypes: datetime64[ns](1), object(1)\n",
      "memory usage: 2.2+ KB\n"
     ]
    }
   ],
   "source": [
    "New_df2.info()"
   ]
  },
  {
   "cell_type": "code",
   "execution_count": 51,
   "metadata": {},
   "outputs": [
    {
     "data": {
      "text/html": [
       "<div>\n",
       "<style scoped>\n",
       "    .dataframe tbody tr th:only-of-type {\n",
       "        vertical-align: middle;\n",
       "    }\n",
       "\n",
       "    .dataframe tbody tr th {\n",
       "        vertical-align: top;\n",
       "    }\n",
       "\n",
       "    .dataframe thead th {\n",
       "        text-align: right;\n",
       "    }\n",
       "</style>\n",
       "<table border=\"1\" class=\"dataframe\">\n",
       "  <thead>\n",
       "    <tr style=\"text-align: right;\">\n",
       "      <th></th>\n",
       "      <th>power_consumption</th>\n",
       "    </tr>\n",
       "    <tr>\n",
       "      <th>datetime</th>\n",
       "      <th></th>\n",
       "    </tr>\n",
       "  </thead>\n",
       "  <tbody>\n",
       "    <tr>\n",
       "      <th>16/12/2006 17:24:00</th>\n",
       "      <td>4.216</td>\n",
       "    </tr>\n",
       "    <tr>\n",
       "      <th>16/12/2006 17:25:00</th>\n",
       "      <td>5.360</td>\n",
       "    </tr>\n",
       "    <tr>\n",
       "      <th>16/12/2006 17:26:00</th>\n",
       "      <td>5.374</td>\n",
       "    </tr>\n",
       "    <tr>\n",
       "      <th>16/12/2006 17:27:00</th>\n",
       "      <td>5.388</td>\n",
       "    </tr>\n",
       "    <tr>\n",
       "      <th>16/12/2006 17:28:00</th>\n",
       "      <td>3.666</td>\n",
       "    </tr>\n",
       "  </tbody>\n",
       "</table>\n",
       "</div>"
      ],
      "text/plain": [
       "                     power_consumption\n",
       "datetime                              \n",
       "16/12/2006 17:24:00              4.216\n",
       "16/12/2006 17:25:00              5.360\n",
       "16/12/2006 17:26:00              5.374\n",
       "16/12/2006 17:27:00              5.388\n",
       "16/12/2006 17:28:00              3.666"
      ]
     },
     "execution_count": 51,
     "metadata": {},
     "output_type": "execute_result"
    }
   ],
   "source": [
    "New_df3 = pd.DataFrame({'power_consumption':df['Global_active_power']})\n",
    "New_df3.head()"
   ]
  }
 ],
 "metadata": {
  "kernelspec": {
   "display_name": "Python 3",
   "language": "python",
   "name": "python3"
  },
  "language_info": {
   "codemirror_mode": {
    "name": "ipython",
    "version": 3
   },
   "file_extension": ".py",
   "mimetype": "text/x-python",
   "name": "python",
   "nbconvert_exporter": "python",
   "pygments_lexer": "ipython3",
   "version": "3.7.6"
  }
 },
 "nbformat": 4,
 "nbformat_minor": 4
}
