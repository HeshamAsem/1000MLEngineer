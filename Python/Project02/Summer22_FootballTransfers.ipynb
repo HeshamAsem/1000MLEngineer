{
  "cells": [
    {
      "cell_type": "code",
      "execution_count": null,
      "metadata": {
        "colab": {
          "background_save": true
        },
        "id": "gfZUQ_ccg3nv"
      },
      "outputs": [],
      "source": [
        "\n",
        "#? قم بتطبيق الخطوات التالية في قاعدة البيانات\n",
        "#* - قراءتها\n",
        "#* - تنظيفها  و إزالة اي قيم nulls\n",
        "#! - استخراج كل الاحصائيات الممكنة\n",
        "#! - عمل اي رسوم بيانية تراها مناسبة \n",
        "#! - استخراج معلومات و قرارات منها بكل ما تراه مناسبا"
      ]
    },
    {
      "cell_type": "code",
      "execution_count": null,
      "metadata": {
        "colab": {
          "background_save": true
        },
        "id": "kUGIq5cMhnG3"
      },
      "outputs": [],
      "source": [
        "\n",
        "#? علي أن يحتوي الكود علي : \n",
        "#! - عدد 3 فنكشن علي الاقل\n",
        "#! - تستخدم قاعدة إف و فور مرة واحدة لكل منهما علي الأقل\n",
        "#! - تستخدم ال dictionary  مرتين علي الاقل\n",
        "#! - تستخدم ال set  مرة علي الاقل\n",
        "#! - تستخدم ميثود groupby  مرة علي الاقل من مكتبة بانداس\n",
        "#! - يجب أن يتم كتابة تعليقات توضيحية لكل جزء من الكود لتفسير ما يحدث او التعليق علي النتائج"
      ]
    },
    {
      "cell_type": "markdown",
      "metadata": {
        "id": "YOQUMtKuXsdn"
      },
      "source": [
        "#Importing Libraries"
      ]
    },
    {
      "cell_type": "code",
      "execution_count": null,
      "metadata": {
        "colab": {
          "background_save": true
        },
        "id": "Yt8E2dfuhncy"
      },
      "outputs": [],
      "source": [
        "import numpy as np\n",
        "import pandas as pd\n",
        "import matplotlib.pyplot as plt\n",
        "import seaborn as sns"
      ]
    },
    {
      "cell_type": "markdown",
      "metadata": {
        "id": "WORq3OTLYKm3"
      },
      "source": [
        "#Importing Data And Exploration"
      ]
    },
    {
      "cell_type": "code",
      "execution_count": null,
      "metadata": {
        "id": "uBkP9-2bhrGC"
      },
      "outputs": [],
      "source": [
        "from google.colab import drive\n",
        "drive.mount('/content/drive')\n",
        "\n",
        "# Read the data\n",
        "#path = '/content/drive/MyDrive/Python Colab/01 Summer22_FootballTransfers.csv'\n",
        "#path = '/content/01 Summer22_FootballTransfers.csv'\n",
        "#df_train = pd.read_csv(path)\n",
        "df_train = pd.read_csv('/content/Summer22_FootballTransfers.csv')"
      ]
    },
    {
      "cell_type": "code",
      "execution_count": null,
      "metadata": {
        "id": "W-ubI2KhCbSM"
      },
      "outputs": [],
      "source": [
        "from google.colab import drive\n",
        "drive.mount('/content/drive')"
      ]
    },
    {
      "cell_type": "code",
      "execution_count": null,
      "metadata": {
        "id": "JMTNl8xuRwn3"
      },
      "outputs": [],
      "source": [
        "# Show Data Details\n",
        "df_train.head(10)"
      ]
    },
    {
      "cell_type": "code",
      "execution_count": null,
      "metadata": {
        "id": "THTjBQVJQnAV"
      },
      "outputs": [],
      "source": [
        "#check the decoration\n",
        "df_train.columns"
      ]
    },
    {
      "cell_type": "code",
      "execution_count": null,
      "metadata": {
        "id": "x2vl6h5XhtH0"
      },
      "outputs": [],
      "source": [
        "#  Show Data Info\n",
        "df_train.info()"
      ]
    },
    {
      "cell_type": "code",
      "execution_count": null,
      "metadata": {
        "id": "OkdlvpbAicyQ"
      },
      "outputs": [],
      "source": [
        "# Show Data Description\n",
        "df_train.describe(include='all').round(2)"
      ]
    },
    {
      "cell_type": "code",
      "execution_count": null,
      "metadata": {
        "id": "W5rm1kcxid_i"
      },
      "outputs": [],
      "source": [
        "# Data Cleaning\n",
        "df_train.isna().sum()"
      ]
    },
    {
      "cell_type": "code",
      "execution_count": null,
      "metadata": {
        "id": "Z3tQ9LHcifR5"
      },
      "outputs": [],
      "source": [
        "df_train.dropna(inplace=True)\n",
        "df_train.isna().sum()"
      ]
    },
    {
      "cell_type": "code",
      "execution_count": null,
      "metadata": {
        "id": "1bLE51fnYbPt"
      },
      "outputs": [],
      "source": [
        "#converting 'age' from float to int\n",
        "df_train['age'] = df_train['age'].apply(np.int64)"
      ]
    },
    {
      "cell_type": "code",
      "execution_count": null,
      "metadata": {
        "id": "uROP5osvigFh"
      },
      "outputs": [],
      "source": [
        "# Data After Cleaning\n",
        "df_train.head(10)"
      ]
    },
    {
      "cell_type": "markdown",
      "metadata": {
        "id": "D1AR6XMzM-e7"
      },
      "source": [
        "# Cost Coverter"
      ]
    },
    {
      "cell_type": "code",
      "execution_count": null,
      "metadata": {
        "id": "CNLaHTJNM9_f"
      },
      "outputs": [],
      "source": [
        "df_train['cost'].replace({'€': '', '\\.': ' '}, regex=True, inplace=True)\n",
        "df_train['cost'].replace({' ': '', 'm': '0000', 'Th': '000'},\n",
        "                      regex=True, inplace=True)"
      ]
    },
    {
      "cell_type": "markdown",
      "metadata": {
        "id": "rR8Rqo_hy-wc"
      },
      "source": [
        "#Groupby"
      ]
    },
    {
      "cell_type": "code",
      "execution_count": null,
      "metadata": {
        "id": "T5UMSw4Kr4-p"
      },
      "outputs": [],
      "source": [
        "# applying groupby() function to\n",
        "# group the data on position value.\n",
        "df_train.groupby(['position'])['name'].count()"
      ]
    },
    {
      "cell_type": "code",
      "execution_count": null,
      "metadata": {
        "id": "tv0BHeRHr5Be"
      },
      "outputs": [],
      "source": [
        "df_train.groupby(['position'])['cost'].mean()"
      ]
    },
    {
      "cell_type": "code",
      "execution_count": null,
      "metadata": {
        "id": "-LOAm_2zLEws"
      },
      "outputs": [],
      "source": [
        "df_train.std()"
      ]
    },
    {
      "cell_type": "markdown",
      "metadata": {
        "id": "gIYnagWOzCow"
      },
      "source": [
        "#Analysis And Visualization"
      ]
    },
    {
      "cell_type": "code",
      "execution_count": null,
      "metadata": {
        "id": "bzeoE1qCroVa"
      },
      "outputs": [],
      "source": [
        "#histogram\n",
        "sns.distplot(df_train['age']);"
      ]
    },
    {
      "cell_type": "code",
      "execution_count": null,
      "metadata": {
        "id": "GNq80rgZ8ymh"
      },
      "outputs": [],
      "source": [
        "#histogram\n",
        "#IBRAHIM\n",
        "sns.distplot(df_train['cost']);"
      ]
    },
    {
      "cell_type": "code",
      "execution_count": null,
      "metadata": {
        "id": "qu2zDdEGxOdU"
      },
      "outputs": [],
      "source": [
        "# Plotting Data Using Groupby Method Postion \n",
        "df_train.groupby('position').size().plot(kind='bar')\n",
        "plt.show()"
      ]
    },
    {
      "cell_type": "markdown",
      "metadata": {
        "id": "cTueY4YAsbjR"
      },
      "source": [
        "#Players with Highest Age"
      ]
    },
    {
      "cell_type": "code",
      "execution_count": null,
      "metadata": {
        "id": "hSgbA1Fgxo7U"
      },
      "outputs": [],
      "source": [
        "# Plotting Age With Circle Size\n",
        "\n",
        "label = 'Less Than 20 Years', 'Between 20 and 25 Years', 'Between 25 and 30 Years', 'Between 30 and 35 Years', 'Larger Than 35 Years'\n",
        "\n",
        "size = [df_train[df_train['age'] < 20]['age'].count(), df_train[(df_train['age'] >= 20) & (df_train['age'] <= 25)]['age'].count(),  df_train[(df_train['age'] >= 25) & (\n",
        "    df_train['age'] <= 30)]['age'].count(), df_train[(df_train['age'] >= 30) & (df_train['age'] <= 35)]['age'].count(), df_train[df_train['age'] > 35]['age'].count()]\n",
        "plt.legend( label, loc=\"best\")\n",
        "explode = (0, 0.1, 0.1, 0.2, 0)\n",
        "colours = ['orange', 'green', 'blue', 'yellow', 'red']\n",
        "\n",
        "patches, texts = plt.pie(size, colors=colours, shadow=True, startangle=90)\n",
        "plt.legend(patches, label, loc=\"best\")\n",
        "plt.axis('equal')\n",
        "plt.show()"
      ]
    },
    {
      "cell_type": "code",
      "execution_count": null,
      "metadata": {
        "id": "hBO0-yPEiGQM"
      },
      "outputs": [],
      "source": [
        "#Putting the players with the high age in a data frame\n",
        "#IBRAHIM\n",
        "Players_high_age = df_train[df_train['age']>=38].loc[:,['name','position','age'\t,'origin_club','new_club','cost',\t'date_of_transfer']]"
      ]
    },
    {
      "cell_type": "code",
      "execution_count": null,
      "metadata": {
        "id": "V6BNy8p8lnJ6"
      },
      "outputs": [],
      "source": [
        "Players_high_age"
      ]
    },
    {
      "cell_type": "code",
      "execution_count": null,
      "metadata": {
        "id": "05WfudpLmlrP"
      },
      "outputs": [],
      "source": [
        "#showing the describtion of the high age data frame\n",
        "#Ibrahim\n",
        "Players_high_age.describe().T"
      ]
    },
    {
      "cell_type": "code",
      "execution_count": null,
      "metadata": {
        "id": "74a_lnpJn6FS"
      },
      "outputs": [],
      "source": [
        "Players_high_age.info"
      ]
    },
    {
      "cell_type": "code",
      "execution_count": null,
      "metadata": {
        "id": "PRnfs2shoHwr"
      },
      "outputs": [],
      "source": [
        "Players_high_age.info()"
      ]
    },
    {
      "cell_type": "code",
      "execution_count": null,
      "metadata": {
        "id": "q-PmPTeBovHv"
      },
      "outputs": [],
      "source": [
        "#changing cost datatype to int\n",
        "#Ibrahim\n",
        "Players_high_age[\"cost\"] = Players_high_age[\"cost\"].astype(int)    "
      ]
    },
    {
      "cell_type": "code",
      "execution_count": null,
      "metadata": {
        "id": "LuEJ13DTtF7s"
      },
      "outputs": [],
      "source": [
        "#Check if there is any outliers in players age\n",
        "#Ibrahim\n",
        "sns.boxplot(y= 'age' ,data=Players_high_age);"
      ]
    },
    {
      "cell_type": "code",
      "execution_count": null,
      "metadata": {
        "id": "GTl1JIesnLTp"
      },
      "outputs": [],
      "source": [
        "#Check if there is any outliers in players cost\n",
        "#Ibrahim\n",
        "sns.boxplot(y= 'cost' ,data=Players_high_age);"
      ]
    },
    {
      "cell_type": "code",
      "execution_count": null,
      "metadata": {
        "id": "SbgoneGxtcfS"
      },
      "outputs": [],
      "source": [
        "#Ibrahim\n",
        "highest_age =Players_high_age.sort_values('age',ascending=False)[:10]\n",
        "highest_age"
      ]
    },
    {
      "cell_type": "code",
      "execution_count": null,
      "metadata": {
        "id": "ZRl3rqQltUFj"
      },
      "outputs": [],
      "source": [
        "#Ibrahim\n",
        "print('the following figure will descripe the data of the top 10 players age \\n')\n",
        "sns.barplot(y='name',x='age',data=highest_age);"
      ]
    },
    {
      "cell_type": "code",
      "execution_count": null,
      "metadata": {
        "id": "xrqgVNopt98W"
      },
      "outputs": [],
      "source": [
        "#Ibrahim\n",
        "sns.scatterplot(y='name',x='origin_club', size ='cost',data=highest_age);"
      ]
    },
    {
      "cell_type": "code",
      "execution_count": null,
      "metadata": {
        "id": "rEouBQUCrKPG"
      },
      "outputs": [],
      "source": [
        "#Ibrahim\n",
        "high_cost_high_age =Players_high_age.sort_values('cost',ascending=False)[:10]\n",
        "high_cost_high_age"
      ]
    },
    {
      "cell_type": "code",
      "execution_count": null,
      "metadata": {
        "id": "Wexbu5MiqsND"
      },
      "outputs": [],
      "source": [
        "#Ibrahim\n",
        "print('the following figure will descripe the data of the top 10 players cost \\n')\n",
        "sns.barplot(y='name',x='cost',data=high_cost_high_age);"
      ]
    },
    {
      "cell_type": "code",
      "execution_count": null,
      "metadata": {
        "id": "s0mVijUwr8SZ"
      },
      "outputs": [],
      "source": [
        "#Ibrahim\n",
        "sns.scatterplot(y='name',x='origin_club', size ='cost',data=high_cost_high_age);"
      ]
    },
    {
      "cell_type": "markdown",
      "metadata": {
        "id": "8VcP9XTosmt1"
      },
      "source": [
        "#Players with Highest Cost"
      ]
    },
    {
      "cell_type": "code",
      "execution_count": null,
      "metadata": {
        "id": "DtA-LpSTs1Uk"
      },
      "outputs": [],
      "source": [
        "#changing cost datatype to int\n",
        "#Ibrahim\n",
        "df_train[\"cost\"] = df_train[\"cost\"].astype(int)  "
      ]
    },
    {
      "cell_type": "code",
      "execution_count": null,
      "metadata": {
        "id": "Ve-U2Qc3ulxL"
      },
      "outputs": [],
      "source": [
        "#Check if there is any outliers in players cost\n",
        "#Ibrahim\n",
        "sns.boxplot(y= 'cost' ,data=df_train);"
      ]
    },
    {
      "cell_type": "code",
      "execution_count": null,
      "metadata": {
        "id": "vI3gOzjVu3E0"
      },
      "outputs": [],
      "source": [
        "#Ibrahim\n",
        "df_train.sort_values('cost',ascending=False)[:30]\n"
      ]
    },
    {
      "cell_type": "code",
      "execution_count": null,
      "metadata": {
        "id": "Qho6vhmvsqv8"
      },
      "outputs": [],
      "source": [
        "#Putting the players with the high cost in a data frame\n",
        "#Ibrahim\n",
        "Players_high_cost = df_train[df_train['cost']>=40000000].loc[:,['name','position','age','cost'\t,'origin_club','new_club',\t'date_of_transfer']]\n",
        "Players_high_cost"
      ]
    },
    {
      "cell_type": "code",
      "execution_count": null,
      "metadata": {
        "id": "x_WGI34n2h3l"
      },
      "outputs": [],
      "source": [
        "#Ibrahim\n",
        "highest_cost = Players_high_cost.sort_values('cost',ascending=False)[:30]\n",
        "highest_cost"
      ]
    },
    {
      "cell_type": "code",
      "execution_count": null,
      "metadata": {
        "id": "LC54K6Ho2zoZ"
      },
      "outputs": [],
      "source": [
        "#Ibrahim\n",
        "highest_cost.describe().T"
      ]
    },
    {
      "cell_type": "code",
      "execution_count": null,
      "metadata": {
        "id": "aTjmO0E229V4"
      },
      "outputs": [],
      "source": [
        "#Ibrahim\n",
        "highest_cost.info"
      ]
    },
    {
      "cell_type": "code",
      "execution_count": null,
      "metadata": {
        "id": "YB0Pj2tc3BcZ"
      },
      "outputs": [],
      "source": [
        "highest_cost.info()"
      ]
    },
    {
      "cell_type": "code",
      "execution_count": null,
      "metadata": {
        "id": "AbkyvE7O3J6u"
      },
      "outputs": [],
      "source": [
        "#Ibrahim\n",
        "print('the following figure will descripe the data of the top 10 players cost \\n')\n",
        "sns.barplot(y='name',x='cost',data=highest_cost);"
      ]
    },
    {
      "cell_type": "code",
      "execution_count": null,
      "metadata": {
        "id": "odI1s9Bx3k4d"
      },
      "outputs": [],
      "source": [
        "#Ibrahim\n",
        "sns.scatterplot(y='name',x='new_club', size ='cost',data=highest_cost);"
      ]
    },
    {
      "cell_type": "markdown",
      "metadata": {
        "id": "R5EejBCZ4iKR"
      },
      "source": [
        "#list and set"
      ]
    },
    {
      "cell_type": "code",
      "execution_count": null,
      "metadata": {
        "id": "z8TbfdUD4lSO"
      },
      "outputs": [],
      "source": [
        "#Ibrahim\n",
        "\n",
        "Players_high_cost_list = df_train[df_train['cost']>=40000000].loc[:,['name']]\n",
        "Players_high_cost_list"
      ]
    },
    {
      "cell_type": "code",
      "execution_count": null,
      "metadata": {
        "id": "p20WEhoM6I00"
      },
      "outputs": [],
      "source": [
        "#Ibrahim\n",
        "\n",
        "high_cost_names = list(Players_high_cost_list['name'])\n",
        "high_cost_names"
      ]
    },
    {
      "cell_type": "code",
      "execution_count": null,
      "metadata": {
        "id": "f8otEOgQ6fOl"
      },
      "outputs": [],
      "source": [
        "#Ibrahim\n",
        "\n",
        "Players_high_cost_set1 = df_train[df_train['cost']>=40000000].loc[:,['name','cost']]\n",
        "Players_high_cost_set1"
      ]
    },
    {
      "cell_type": "code",
      "execution_count": null,
      "metadata": {
        "id": "HqIFi4BA60YW"
      },
      "outputs": [],
      "source": [
        "#Ibrahim\n",
        "\n",
        "high_cost_set = (Players_high_cost_set1['name'],Players_high_cost_set1['cost']);\n",
        "high_cost_set"
      ]
    },
    {
      "cell_type": "code",
      "execution_count": null,
      "metadata": {
        "id": "AU2k8sc47jFm"
      },
      "outputs": [],
      "source": [
        "#Ibrahim\n",
        "\n",
        "Players_high_cost_set2 = df_train[df_train['cost']>=40000000].loc[:,['name','new_club']]\n",
        "Players_high_cost_set2"
      ]
    },
    {
      "cell_type": "code",
      "execution_count": null,
      "metadata": {
        "id": "VjRo0QMY7umt"
      },
      "outputs": [],
      "source": [
        "high_cost_nclubs = (Players_high_cost_set2['name'],Players_high_cost_set2['new_club'])\n",
        "high_cost_nclubs"
      ]
    },
    {
      "cell_type": "markdown",
      "metadata": {
        "id": "VR6qDw2DPb9K"
      },
      "source": [
        "# First Function : calculate the max cost of players using the dictionary.\n",
        "\n"
      ]
    },
    {
      "cell_type": "code",
      "execution_count": null,
      "metadata": {
        "id": "61SrYNlOL4wx"
      },
      "outputs": [],
      "source": [
        "# Ahmed \n",
        "def maxCostPayment():\n",
        "  # select items from pandas dataframe\n",
        "  newdf = df_train.head(35000)\n",
        "  # convert newdf to dictionary by to_dict function\n",
        "  dic = newdf.to_dict(orient=\"index\")\n",
        "  maxcost = 0\n",
        "  player = 0\n",
        "  # loop on dictionary to search the max cost of players\n",
        "  for i in dic:\n",
        "    # check if the maxcost less than the current cost and assign the current cost to maxcost\n",
        "    if(int(dic[i]['cost']) > maxcost):\n",
        "      player = dic[i]\n",
        "      maxcost = int(dic[i]['cost'])\n",
        "  #  print the max cost of players\n",
        "  print(player)\n",
        "# call maxCostPayment function\n",
        "maxCostPayment()"
      ]
    },
    {
      "cell_type": "markdown",
      "metadata": {
        "id": "whO8kq1sTc_i"
      },
      "source": [
        "# Second Function: get countries that players moved to it Using 'Sets'"
      ]
    },
    {
      "cell_type": "code",
      "execution_count": null,
      "metadata": {
        "id": "s7yND91hTctB"
      },
      "outputs": [],
      "source": [
        "# Ahmed\n",
        "def getCountries():\n",
        "  s = set(df_train['country_new_club'])\n",
        "  print(len(s))\n",
        "  for i in s:\n",
        "    print(i)\n",
        "  # print(len(s))\n",
        "  return\n",
        "\n",
        "getCountries()"
      ]
    },
    {
      "cell_type": "markdown",
      "metadata": {
        "id": "7MRHxkTFZtFe"
      },
      "source": [
        "# Third Function : get players thier age between two numbers using dictionary.\n"
      ]
    },
    {
      "cell_type": "code",
      "execution_count": null,
      "metadata": {
        "id": "Mi8auh11YD5U"
      },
      "outputs": [],
      "source": [
        "# Ahmed\n",
        "def agesBetween(_from, _to):\n",
        "  # select items from pandas dataframe\n",
        "  newdf = df_train.head(35000)\n",
        "  # convert newdf to dictionary by to_dict function\n",
        "  dic = newdf.to_dict(orient=\"index\")\n",
        "  # loop on dictionary to search the players their age between _from and _to\n",
        "  for i in dic:\n",
        "    # check if the age is greater than _from argument and  less than _to argument.\n",
        "    if int(dic[i]['age']) >= _from and int(dic[i]['age']) <= _to :\n",
        "      print(dic[i]['name'])\n",
        "# call agesBetween function\n",
        "agesBetween(40,45)"
      ]
    },
    {
      "cell_type": "code",
      "execution_count": null,
      "metadata": {
        "id": "OJuc70aCzdLV"
      },
      "outputs": [],
      "source": [
        "# function to get New Club / Country / League and Total Cost Of Players\n",
        "# param : club or country or league , cost\n",
        "# return : dictionary of club or country or league and total cost of players\n",
        "\n",
        "def get_club_country_league_cost(club_country_league, club_country_league_cost):\n",
        "    club_country_league_cost_dict = {}\n",
        "    for i in df_train[club_country_league].value_counts().index:\n",
        "        club_country_league_cost_dict.update(\n",
        "            {i: df_train[df_train[club_country_league] == i][club_country_league_cost].astype(int).sum()})\n",
        "    # print('Done')\n",
        "    return club_country_league_cost_dict\n",
        "\n",
        "# function to sort dictionary by value\n",
        "# param : dictionary\n",
        "# return : sorted dictionary\n",
        "def sort_dict_by_value(dict, isReverse=False):\n",
        "    return sorted(dict.items(), key=lambda x: x[1], reverse=isReverse)\n",
        "\n",
        "\n",
        "\n",
        "club_cost = get_club_country_league_cost('league_new_club','cost')\n",
        "# club_cost_sorted = sort_dict_by_value(club_cost,True)"
      ]
    },
    {
      "cell_type": "markdown",
      "metadata": {
        "id": "dwbu0UKZXFuA"
      },
      "source": [
        "# Information from and about the dataset."
      ]
    },
    {
      "cell_type": "markdown",
      "metadata": {
        "id": "WVzepjKxleO6"
      },
      "source": [
        "### Dataset size before clening is 33625\n",
        "### Dataset size after clening is 27027\n",
        "### Players moved to 139 countries\n",
        "### Players moved to 461 leagues\n",
        "### Players moved to 6141 clubs\n",
        "### Italy is the country to which players move the most\n",
        "### 4950 players without club\n",
        "### Centre-Back is the most popular position\n",
        "### defence is the least available position\n",
        "### max age in the dataset is 45\n",
        "### min age in the dataset is 15\n",
        "### the mean age in the dataset is 24.6\n",
        "### The start date of the transfer of players is 1/7/2022\n",
        "### The end date of the transfer of players is 1/9/2022\n",
        "### Erling Haaland is the most expensive player among the players, with a price of 150 million euros\n",
        "\n"
      ]
    }
  ],
  "metadata": {
    "colab": {
      "collapsed_sections": [
        "YOQUMtKuXsdn",
        "WORq3OTLYKm3",
        "D1AR6XMzM-e7",
        "rR8Rqo_hy-wc",
        "gIYnagWOzCow",
        "cTueY4YAsbjR",
        "8VcP9XTosmt1",
        "R5EejBCZ4iKR",
        "VR6qDw2DPb9K",
        "whO8kq1sTc_i",
        "7MRHxkTFZtFe",
        "dwbu0UKZXFuA"
      ],
      "provenance": []
    },
    "kernelspec": {
      "display_name": "Python 3",
      "name": "python3"
    },
    "language_info": {
      "name": "python"
    }
  },
  "nbformat": 4,
  "nbformat_minor": 0
}